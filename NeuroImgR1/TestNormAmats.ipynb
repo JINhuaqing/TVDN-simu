{
 "cells": [
  {
   "cell_type": "code",
   "execution_count": 1,
   "metadata": {},
   "outputs": [],
   "source": [
    "library(\"reticulate\")\n",
    "library(\"npcp\")"
   ]
  },
  {
   "cell_type": "markdown",
   "metadata": {},
   "source": [
    "### MEG-eye-02"
   ]
  },
  {
   "cell_type": "code",
   "execution_count": 2,
   "metadata": {},
   "outputs": [],
   "source": [
    "# load Amats from pkl fil\n",
    "pd <- import(\"pandas\")\n",
    "Amats <- pd$read_pickle(\"../NeuroImgR1/Eye02_Amats.pkl\")"
   ]
  },
  {
   "cell_type": "code",
   "execution_count": 3,
   "metadata": {},
   "outputs": [],
   "source": [
    "sigums <- list()\n",
    "\n",
    "for (i in 1:length(Amats)) {\n",
    "    s = svd(Amats[[i]])$d\n",
    "    sigums[[i]] <- s\n",
    "}\n",
    "sigMat = do.call(rbind, sigums)"
   ]
  },
  {
   "cell_type": "code",
   "execution_count": 4,
   "metadata": {},
   "outputs": [
    {
     "name": "stderr",
     "output_type": "stream",
     "text": [
      "Warning message in cpDist(sigMat[, 1], b = NULL, statistic = \"cvmmax\", method = \"nonseq\"):\n",
      "“coercing 'x' to a matrix.”\n"
     ]
    }
   ],
   "source": [
    "res <- cpDist(sigMat[, 1], b = NULL, statistic = 'cvmmax', method = 'nonseq')"
   ]
  },
  {
   "cell_type": "code",
   "execution_count": 5,
   "metadata": {},
   "outputs": [
    {
     "data": {
      "text/html": [
       "<strong>cvmmax:</strong> 0.0334665334665335"
      ],
      "text/latex": [
       "\\textbf{cvmmax:} 0.0334665334665335"
      ],
      "text/markdown": [
       "**cvmmax:** 0.0334665334665335"
      ],
      "text/plain": [
       "    cvmmax \n",
       "0.03346653 "
      ]
     },
     "metadata": {},
     "output_type": "display_data"
    }
   ],
   "source": [
    "res$p.value"
   ]
  },
  {
   "cell_type": "markdown",
   "metadata": {},
   "source": [
    "### MEG-eye-03"
   ]
  },
  {
   "cell_type": "code",
   "execution_count": 6,
   "metadata": {},
   "outputs": [],
   "source": [
    "# load Amats from pkl fil\n",
    "pd <- import(\"pandas\")\n",
    "Amats <- pd$read_pickle(\"../NeuroImgR1/Eye03_Amats.pkl\")"
   ]
  },
  {
   "cell_type": "code",
   "execution_count": 7,
   "metadata": {},
   "outputs": [],
   "source": [
    "sigums <- list()\n",
    "\n",
    "for (i in 1:length(Amats)) {\n",
    "    s = svd(Amats[[i]])$d\n",
    "    sigums[[i]] <- s\n",
    "}\n",
    "sigMat = do.call(rbind, sigums)"
   ]
  },
  {
   "cell_type": "code",
   "execution_count": 8,
   "metadata": {},
   "outputs": [
    {
     "name": "stderr",
     "output_type": "stream",
     "text": [
      "Warning message in cpDist(sigMat[, 1], b = NULL, statistic = \"cvmmax\", method = \"nonseq\"):\n",
      "“coercing 'x' to a matrix.”\n"
     ]
    }
   ],
   "source": [
    "res <- cpDist(sigMat[, 1], b = NULL, statistic = 'cvmmax', method = 'nonseq')"
   ]
  },
  {
   "cell_type": "code",
   "execution_count": 9,
   "metadata": {},
   "outputs": [
    {
     "data": {
      "text/html": [
       "<strong>cvmmax:</strong> 0.497002997002997"
      ],
      "text/latex": [
       "\\textbf{cvmmax:} 0.497002997002997"
      ],
      "text/markdown": [
       "**cvmmax:** 0.497002997002997"
      ],
      "text/plain": [
       "  cvmmax \n",
       "0.497003 "
      ]
     },
     "metadata": {},
     "output_type": "display_data"
    }
   ],
   "source": [
    "res$p.value"
   ]
  },
  {
   "cell_type": "markdown",
   "metadata": {},
   "source": [
    "### RS8002"
   ]
  },
  {
   "cell_type": "code",
   "execution_count": 10,
   "metadata": {},
   "outputs": [],
   "source": [
    "# load Amats from pkl fil\n",
    "pd <- import(\"pandas\")\n",
    "Amats <- pd$read_pickle(\"../NeuroImgR1/RS8002_Amats.pkl\")"
   ]
  },
  {
   "cell_type": "code",
   "execution_count": 11,
   "metadata": {},
   "outputs": [],
   "source": [
    "sigums <- list()\n",
    "\n",
    "for (i in 1:length(Amats)) {\n",
    "    s = svd(Amats[[i]])$d\n",
    "    sigums[[i]] <- s\n",
    "}\n",
    "sigMat = do.call(rbind, sigums)"
   ]
  },
  {
   "cell_type": "code",
   "execution_count": 12,
   "metadata": {},
   "outputs": [
    {
     "name": "stderr",
     "output_type": "stream",
     "text": [
      "Warning message in cpDist(sigMat[, 1], b = NULL, statistic = \"cvmmax\", method = \"nonseq\"):\n",
      "“coercing 'x' to a matrix.”\n"
     ]
    }
   ],
   "source": [
    "res <- cpDist(sigMat[, 1], b = NULL, statistic = 'cvmmax', method = 'nonseq')"
   ]
  },
  {
   "cell_type": "code",
   "execution_count": 13,
   "metadata": {},
   "outputs": [
    {
     "data": {
      "text/html": [
       "<strong>cvmmax:</strong> 0.0174825174825175"
      ],
      "text/latex": [
       "\\textbf{cvmmax:} 0.0174825174825175"
      ],
      "text/markdown": [
       "**cvmmax:** 0.0174825174825175"
      ],
      "text/plain": [
       "    cvmmax \n",
       "0.01748252 "
      ]
     },
     "metadata": {},
     "output_type": "display_data"
    }
   ],
   "source": [
    "res$p.value"
   ]
  },
  {
   "cell_type": "markdown",
   "metadata": {},
   "source": [
    "### RS8008"
   ]
  },
  {
   "cell_type": "code",
   "execution_count": 14,
   "metadata": {},
   "outputs": [],
   "source": [
    "# load Amats from pkl fil\n",
    "pd <- import(\"pandas\")\n",
    "Amats <- pd$read_pickle(\"../NeuroImgR1/RS8008_Amats.pkl\")"
   ]
  },
  {
   "cell_type": "code",
   "execution_count": 15,
   "metadata": {},
   "outputs": [],
   "source": [
    "sigums <- list()\n",
    "\n",
    "for (i in 1:length(Amats)) {\n",
    "    s = svd(Amats[[i]])$d\n",
    "    sigums[[i]] <- s\n",
    "}\n",
    "sigMat = do.call(rbind, sigums)"
   ]
  },
  {
   "cell_type": "code",
   "execution_count": 16,
   "metadata": {},
   "outputs": [
    {
     "name": "stderr",
     "output_type": "stream",
     "text": [
      "Warning message in cpDist(sigMat[, 1], b = NULL, statistic = \"cvmmax\", method = \"nonseq\"):\n",
      "“coercing 'x' to a matrix.”\n"
     ]
    }
   ],
   "source": [
    "res <- cpDist(sigMat[, 1], b = NULL, statistic = 'cvmmax', method = 'nonseq')"
   ]
  },
  {
   "cell_type": "code",
   "execution_count": 17,
   "metadata": {},
   "outputs": [
    {
     "data": {
      "text/html": [
       "<strong>cvmmax:</strong> 0.0394605394605395"
      ],
      "text/latex": [
       "\\textbf{cvmmax:} 0.0394605394605395"
      ],
      "text/markdown": [
       "**cvmmax:** 0.0394605394605395"
      ],
      "text/plain": [
       "    cvmmax \n",
       "0.03946054 "
      ]
     },
     "metadata": {},
     "output_type": "display_data"
    }
   ],
   "source": [
    "res$p.value"
   ]
  },
  {
   "cell_type": "code",
   "execution_count": null,
   "metadata": {},
   "outputs": [],
   "source": []
  }
 ],
 "metadata": {
  "kernelspec": {
   "display_name": "R",
   "language": "R",
   "name": "ir"
  },
  "language_info": {
   "codemirror_mode": "r",
   "file_extension": ".r",
   "mimetype": "text/x-r-source",
   "name": "R",
   "pygments_lexer": "r",
   "version": "3.6.0"
  }
 },
 "nbformat": 4,
 "nbformat_minor": 2
}
