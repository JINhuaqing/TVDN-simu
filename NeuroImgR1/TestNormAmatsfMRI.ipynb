{
 "cells": [
  {
   "cell_type": "code",
   "execution_count": 1,
   "metadata": {},
   "outputs": [],
   "source": [
    "library(\"reticulate\")\n",
    "library(\"npcp\")"
   ]
  },
  {
   "cell_type": "code",
   "execution_count": 2,
   "metadata": {},
   "outputs": [],
   "source": [
    "pd <- import(\"pandas\")"
   ]
  },
  {
   "cell_type": "markdown",
   "metadata": {},
   "source": [
    "### When `method = \"nonseq\"`"
   ]
  },
  {
   "cell_type": "code",
   "execution_count": 3,
   "metadata": {},
   "outputs": [
    {
     "name": "stdout",
     "output_type": "stream",
     "text": [
      "[1] 0\n"
     ]
    },
    {
     "name": "stderr",
     "output_type": "stream",
     "text": [
      "Warning message in cpDist(sigMat[, 1], b = NULL, statistic = \"cvmmax\", method = \"nonseq\"):\n",
      "“coercing 'x' to a matrix.”\n"
     ]
    },
    {
     "name": "stdout",
     "output_type": "stream",
     "text": [
      "[1] 1\n"
     ]
    },
    {
     "name": "stderr",
     "output_type": "stream",
     "text": [
      "Warning message in cpDist(sigMat[, 1], b = NULL, statistic = \"cvmmax\", method = \"nonseq\"):\n",
      "“coercing 'x' to a matrix.”\n"
     ]
    },
    {
     "name": "stdout",
     "output_type": "stream",
     "text": [
      "[1] 2\n"
     ]
    },
    {
     "name": "stderr",
     "output_type": "stream",
     "text": [
      "Warning message in cpDist(sigMat[, 1], b = NULL, statistic = \"cvmmax\", method = \"nonseq\"):\n",
      "“coercing 'x' to a matrix.”\n"
     ]
    },
    {
     "name": "stdout",
     "output_type": "stream",
     "text": [
      "[1] 3\n"
     ]
    },
    {
     "name": "stderr",
     "output_type": "stream",
     "text": [
      "Warning message in cpDist(sigMat[, 1], b = NULL, statistic = \"cvmmax\", method = \"nonseq\"):\n",
      "“coercing 'x' to a matrix.”\n"
     ]
    },
    {
     "name": "stdout",
     "output_type": "stream",
     "text": [
      "[1] 4\n"
     ]
    },
    {
     "name": "stderr",
     "output_type": "stream",
     "text": [
      "Warning message in cpDist(sigMat[, 1], b = NULL, statistic = \"cvmmax\", method = \"nonseq\"):\n",
      "“coercing 'x' to a matrix.”\n"
     ]
    },
    {
     "name": "stdout",
     "output_type": "stream",
     "text": [
      "[1] 5\n"
     ]
    },
    {
     "name": "stderr",
     "output_type": "stream",
     "text": [
      "Warning message in cpDist(sigMat[, 1], b = NULL, statistic = \"cvmmax\", method = \"nonseq\"):\n",
      "“coercing 'x' to a matrix.”\n"
     ]
    },
    {
     "name": "stdout",
     "output_type": "stream",
     "text": [
      "[1] 6\n"
     ]
    },
    {
     "name": "stderr",
     "output_type": "stream",
     "text": [
      "Warning message in cpDist(sigMat[, 1], b = NULL, statistic = \"cvmmax\", method = \"nonseq\"):\n",
      "“coercing 'x' to a matrix.”\n"
     ]
    },
    {
     "name": "stdout",
     "output_type": "stream",
     "text": [
      "[1] 7\n"
     ]
    },
    {
     "name": "stderr",
     "output_type": "stream",
     "text": [
      "Warning message in cpDist(sigMat[, 1], b = NULL, statistic = \"cvmmax\", method = \"nonseq\"):\n",
      "“coercing 'x' to a matrix.”\n"
     ]
    },
    {
     "name": "stdout",
     "output_type": "stream",
     "text": [
      "[1] 8\n"
     ]
    },
    {
     "name": "stderr",
     "output_type": "stream",
     "text": [
      "Warning message in cpDist(sigMat[, 1], b = NULL, statistic = \"cvmmax\", method = \"nonseq\"):\n",
      "“coercing 'x' to a matrix.”\n"
     ]
    },
    {
     "name": "stdout",
     "output_type": "stream",
     "text": [
      "[1] 9\n"
     ]
    },
    {
     "name": "stderr",
     "output_type": "stream",
     "text": [
      "Warning message in cpDist(sigMat[, 1], b = NULL, statistic = \"cvmmax\", method = \"nonseq\"):\n",
      "“coercing 'x' to a matrix.”\n"
     ]
    },
    {
     "name": "stdout",
     "output_type": "stream",
     "text": [
      "[1] 10\n"
     ]
    },
    {
     "name": "stderr",
     "output_type": "stream",
     "text": [
      "Warning message in cpDist(sigMat[, 1], b = NULL, statistic = \"cvmmax\", method = \"nonseq\"):\n",
      "“coercing 'x' to a matrix.”\n"
     ]
    },
    {
     "name": "stdout",
     "output_type": "stream",
     "text": [
      "[1] 11\n"
     ]
    },
    {
     "name": "stderr",
     "output_type": "stream",
     "text": [
      "Warning message in cpDist(sigMat[, 1], b = NULL, statistic = \"cvmmax\", method = \"nonseq\"):\n",
      "“coercing 'x' to a matrix.”\n"
     ]
    },
    {
     "name": "stdout",
     "output_type": "stream",
     "text": [
      "[1] 12\n"
     ]
    },
    {
     "name": "stderr",
     "output_type": "stream",
     "text": [
      "Warning message in cpDist(sigMat[, 1], b = NULL, statistic = \"cvmmax\", method = \"nonseq\"):\n",
      "“coercing 'x' to a matrix.”\n"
     ]
    },
    {
     "name": "stdout",
     "output_type": "stream",
     "text": [
      "[1] 13\n"
     ]
    },
    {
     "name": "stderr",
     "output_type": "stream",
     "text": [
      "Warning message in cpDist(sigMat[, 1], b = NULL, statistic = \"cvmmax\", method = \"nonseq\"):\n",
      "“coercing 'x' to a matrix.”\n"
     ]
    },
    {
     "name": "stdout",
     "output_type": "stream",
     "text": [
      "[1] 14\n"
     ]
    },
    {
     "name": "stderr",
     "output_type": "stream",
     "text": [
      "Warning message in cpDist(sigMat[, 1], b = NULL, statistic = \"cvmmax\", method = \"nonseq\"):\n",
      "“coercing 'x' to a matrix.”\n"
     ]
    },
    {
     "name": "stdout",
     "output_type": "stream",
     "text": [
      "[1] 15\n"
     ]
    },
    {
     "name": "stderr",
     "output_type": "stream",
     "text": [
      "Warning message in cpDist(sigMat[, 1], b = NULL, statistic = \"cvmmax\", method = \"nonseq\"):\n",
      "“coercing 'x' to a matrix.”\n"
     ]
    },
    {
     "name": "stdout",
     "output_type": "stream",
     "text": [
      "[1] 16\n"
     ]
    },
    {
     "name": "stderr",
     "output_type": "stream",
     "text": [
      "Warning message in cpDist(sigMat[, 1], b = NULL, statistic = \"cvmmax\", method = \"nonseq\"):\n",
      "“coercing 'x' to a matrix.”\n"
     ]
    },
    {
     "name": "stdout",
     "output_type": "stream",
     "text": [
      "[1] 17\n"
     ]
    },
    {
     "name": "stderr",
     "output_type": "stream",
     "text": [
      "Warning message in cpDist(sigMat[, 1], b = NULL, statistic = \"cvmmax\", method = \"nonseq\"):\n",
      "“coercing 'x' to a matrix.”\n"
     ]
    },
    {
     "name": "stdout",
     "output_type": "stream",
     "text": [
      "[1] 18\n"
     ]
    },
    {
     "name": "stderr",
     "output_type": "stream",
     "text": [
      "Warning message in cpDist(sigMat[, 1], b = NULL, statistic = \"cvmmax\", method = \"nonseq\"):\n",
      "“coercing 'x' to a matrix.”\n"
     ]
    },
    {
     "name": "stdout",
     "output_type": "stream",
     "text": [
      "[1] 19\n"
     ]
    },
    {
     "name": "stderr",
     "output_type": "stream",
     "text": [
      "Warning message in cpDist(sigMat[, 1], b = NULL, statistic = \"cvmmax\", method = \"nonseq\"):\n",
      "“coercing 'x' to a matrix.”\n"
     ]
    },
    {
     "name": "stdout",
     "output_type": "stream",
     "text": [
      "[1] 20\n"
     ]
    },
    {
     "name": "stderr",
     "output_type": "stream",
     "text": [
      "Warning message in cpDist(sigMat[, 1], b = NULL, statistic = \"cvmmax\", method = \"nonseq\"):\n",
      "“coercing 'x' to a matrix.”\n"
     ]
    },
    {
     "name": "stdout",
     "output_type": "stream",
     "text": [
      "[1] 21\n"
     ]
    },
    {
     "name": "stderr",
     "output_type": "stream",
     "text": [
      "Warning message in cpDist(sigMat[, 1], b = NULL, statistic = \"cvmmax\", method = \"nonseq\"):\n",
      "“coercing 'x' to a matrix.”\n"
     ]
    },
    {
     "name": "stdout",
     "output_type": "stream",
     "text": [
      "[1] 22\n"
     ]
    },
    {
     "name": "stderr",
     "output_type": "stream",
     "text": [
      "Warning message in cpDist(sigMat[, 1], b = NULL, statistic = \"cvmmax\", method = \"nonseq\"):\n",
      "“coercing 'x' to a matrix.”\n"
     ]
    },
    {
     "name": "stdout",
     "output_type": "stream",
     "text": [
      "[1] 23\n"
     ]
    },
    {
     "name": "stderr",
     "output_type": "stream",
     "text": [
      "Warning message in cpDist(sigMat[, 1], b = NULL, statistic = \"cvmmax\", method = \"nonseq\"):\n",
      "“coercing 'x' to a matrix.”\n"
     ]
    },
    {
     "name": "stdout",
     "output_type": "stream",
     "text": [
      "[1] 24\n"
     ]
    },
    {
     "name": "stderr",
     "output_type": "stream",
     "text": [
      "Warning message in cpDist(sigMat[, 1], b = NULL, statistic = \"cvmmax\", method = \"nonseq\"):\n",
      "“coercing 'x' to a matrix.”\n"
     ]
    },
    {
     "name": "stdout",
     "output_type": "stream",
     "text": [
      "[1] 25\n"
     ]
    },
    {
     "name": "stderr",
     "output_type": "stream",
     "text": [
      "Warning message in cpDist(sigMat[, 1], b = NULL, statistic = \"cvmmax\", method = \"nonseq\"):\n",
      "“coercing 'x' to a matrix.”\n"
     ]
    },
    {
     "name": "stdout",
     "output_type": "stream",
     "text": [
      "[1] 26\n"
     ]
    },
    {
     "name": "stderr",
     "output_type": "stream",
     "text": [
      "Warning message in cpDist(sigMat[, 1], b = NULL, statistic = \"cvmmax\", method = \"nonseq\"):\n",
      "“coercing 'x' to a matrix.”\n"
     ]
    },
    {
     "name": "stdout",
     "output_type": "stream",
     "text": [
      "[1] 27\n"
     ]
    },
    {
     "name": "stderr",
     "output_type": "stream",
     "text": [
      "Warning message in cpDist(sigMat[, 1], b = NULL, statistic = \"cvmmax\", method = \"nonseq\"):\n",
      "“coercing 'x' to a matrix.”\n"
     ]
    },
    {
     "name": "stdout",
     "output_type": "stream",
     "text": [
      "[1] 28\n"
     ]
    },
    {
     "name": "stderr",
     "output_type": "stream",
     "text": [
      "Warning message in cpDist(sigMat[, 1], b = NULL, statistic = \"cvmmax\", method = \"nonseq\"):\n",
      "“coercing 'x' to a matrix.”\n"
     ]
    },
    {
     "name": "stdout",
     "output_type": "stream",
     "text": [
      "[1] 29\n"
     ]
    },
    {
     "name": "stderr",
     "output_type": "stream",
     "text": [
      "Warning message in cpDist(sigMat[, 1], b = NULL, statistic = \"cvmmax\", method = \"nonseq\"):\n",
      "“coercing 'x' to a matrix.”\n"
     ]
    },
    {
     "name": "stdout",
     "output_type": "stream",
     "text": [
      "[1] 30\n"
     ]
    },
    {
     "name": "stderr",
     "output_type": "stream",
     "text": [
      "Warning message in cpDist(sigMat[, 1], b = NULL, statistic = \"cvmmax\", method = \"nonseq\"):\n",
      "“coercing 'x' to a matrix.”\n"
     ]
    },
    {
     "name": "stdout",
     "output_type": "stream",
     "text": [
      "[1] 31\n"
     ]
    },
    {
     "name": "stderr",
     "output_type": "stream",
     "text": [
      "Warning message in cpDist(sigMat[, 1], b = NULL, statistic = \"cvmmax\", method = \"nonseq\"):\n",
      "“coercing 'x' to a matrix.”\n"
     ]
    },
    {
     "name": "stdout",
     "output_type": "stream",
     "text": [
      "[1] 32\n"
     ]
    },
    {
     "name": "stderr",
     "output_type": "stream",
     "text": [
      "Warning message in cpDist(sigMat[, 1], b = NULL, statistic = \"cvmmax\", method = \"nonseq\"):\n",
      "“coercing 'x' to a matrix.”\n"
     ]
    },
    {
     "name": "stdout",
     "output_type": "stream",
     "text": [
      "[1] 33\n"
     ]
    },
    {
     "name": "stderr",
     "output_type": "stream",
     "text": [
      "Warning message in cpDist(sigMat[, 1], b = NULL, statistic = \"cvmmax\", method = \"nonseq\"):\n",
      "“coercing 'x' to a matrix.”\n"
     ]
    },
    {
     "name": "stdout",
     "output_type": "stream",
     "text": [
      "[1] 34\n"
     ]
    },
    {
     "name": "stderr",
     "output_type": "stream",
     "text": [
      "Warning message in cpDist(sigMat[, 1], b = NULL, statistic = \"cvmmax\", method = \"nonseq\"):\n",
      "“coercing 'x' to a matrix.”\n"
     ]
    },
    {
     "name": "stdout",
     "output_type": "stream",
     "text": [
      "[1] 35\n"
     ]
    },
    {
     "name": "stderr",
     "output_type": "stream",
     "text": [
      "Warning message in cpDist(sigMat[, 1], b = NULL, statistic = \"cvmmax\", method = \"nonseq\"):\n",
      "“coercing 'x' to a matrix.”\n"
     ]
    },
    {
     "name": "stdout",
     "output_type": "stream",
     "text": [
      "[1] 36\n"
     ]
    },
    {
     "name": "stderr",
     "output_type": "stream",
     "text": [
      "Warning message in cpDist(sigMat[, 1], b = NULL, statistic = \"cvmmax\", method = \"nonseq\"):\n",
      "“coercing 'x' to a matrix.”\n"
     ]
    },
    {
     "name": "stdout",
     "output_type": "stream",
     "text": [
      "[1] 37\n"
     ]
    },
    {
     "name": "stderr",
     "output_type": "stream",
     "text": [
      "Warning message in cpDist(sigMat[, 1], b = NULL, statistic = \"cvmmax\", method = \"nonseq\"):\n",
      "“coercing 'x' to a matrix.”\n"
     ]
    },
    {
     "name": "stdout",
     "output_type": "stream",
     "text": [
      "[1] 38\n"
     ]
    },
    {
     "name": "stderr",
     "output_type": "stream",
     "text": [
      "Warning message in cpDist(sigMat[, 1], b = NULL, statistic = \"cvmmax\", method = \"nonseq\"):\n",
      "“coercing 'x' to a matrix.”\n"
     ]
    },
    {
     "name": "stdout",
     "output_type": "stream",
     "text": [
      "[1] 39\n"
     ]
    },
    {
     "name": "stderr",
     "output_type": "stream",
     "text": [
      "Warning message in cpDist(sigMat[, 1], b = NULL, statistic = \"cvmmax\", method = \"nonseq\"):\n",
      "“coercing 'x' to a matrix.”\n"
     ]
    },
    {
     "name": "stdout",
     "output_type": "stream",
     "text": [
      "[1] 40\n"
     ]
    },
    {
     "name": "stderr",
     "output_type": "stream",
     "text": [
      "Warning message in cpDist(sigMat[, 1], b = NULL, statistic = \"cvmmax\", method = \"nonseq\"):\n",
      "“coercing 'x' to a matrix.”\n"
     ]
    },
    {
     "name": "stdout",
     "output_type": "stream",
     "text": [
      "[1] 41\n"
     ]
    },
    {
     "name": "stderr",
     "output_type": "stream",
     "text": [
      "Warning message in cpDist(sigMat[, 1], b = NULL, statistic = \"cvmmax\", method = \"nonseq\"):\n",
      "“coercing 'x' to a matrix.”\n"
     ]
    },
    {
     "name": "stdout",
     "output_type": "stream",
     "text": [
      "[1] 42\n"
     ]
    },
    {
     "name": "stderr",
     "output_type": "stream",
     "text": [
      "Warning message in cpDist(sigMat[, 1], b = NULL, statistic = \"cvmmax\", method = \"nonseq\"):\n",
      "“coercing 'x' to a matrix.”\n"
     ]
    },
    {
     "name": "stdout",
     "output_type": "stream",
     "text": [
      "[1] 43\n"
     ]
    },
    {
     "name": "stderr",
     "output_type": "stream",
     "text": [
      "Warning message in cpDist(sigMat[, 1], b = NULL, statistic = \"cvmmax\", method = \"nonseq\"):\n",
      "“coercing 'x' to a matrix.”\n"
     ]
    },
    {
     "name": "stdout",
     "output_type": "stream",
     "text": [
      "[1] 44\n"
     ]
    },
    {
     "name": "stderr",
     "output_type": "stream",
     "text": [
      "Warning message in cpDist(sigMat[, 1], b = NULL, statistic = \"cvmmax\", method = \"nonseq\"):\n",
      "“coercing 'x' to a matrix.”\n"
     ]
    },
    {
     "name": "stdout",
     "output_type": "stream",
     "text": [
      "[1] 45\n"
     ]
    },
    {
     "name": "stderr",
     "output_type": "stream",
     "text": [
      "Warning message in cpDist(sigMat[, 1], b = NULL, statistic = \"cvmmax\", method = \"nonseq\"):\n",
      "“coercing 'x' to a matrix.”\n"
     ]
    },
    {
     "name": "stdout",
     "output_type": "stream",
     "text": [
      "[1] 46\n"
     ]
    },
    {
     "name": "stderr",
     "output_type": "stream",
     "text": [
      "Warning message in cpDist(sigMat[, 1], b = NULL, statistic = \"cvmmax\", method = \"nonseq\"):\n",
      "“coercing 'x' to a matrix.”\n"
     ]
    },
    {
     "name": "stdout",
     "output_type": "stream",
     "text": [
      "[1] 47\n"
     ]
    },
    {
     "name": "stderr",
     "output_type": "stream",
     "text": [
      "Warning message in cpDist(sigMat[, 1], b = NULL, statistic = \"cvmmax\", method = \"nonseq\"):\n",
      "“coercing 'x' to a matrix.”\n"
     ]
    },
    {
     "name": "stdout",
     "output_type": "stream",
     "text": [
      "[1] 48\n"
     ]
    },
    {
     "name": "stderr",
     "output_type": "stream",
     "text": [
      "Warning message in cpDist(sigMat[, 1], b = NULL, statistic = \"cvmmax\", method = \"nonseq\"):\n",
      "“coercing 'x' to a matrix.”\n"
     ]
    },
    {
     "name": "stdout",
     "output_type": "stream",
     "text": [
      "[1] 49\n"
     ]
    },
    {
     "name": "stderr",
     "output_type": "stream",
     "text": [
      "Warning message in cpDist(sigMat[, 1], b = NULL, statistic = \"cvmmax\", method = \"nonseq\"):\n",
      "“coercing 'x' to a matrix.”\n"
     ]
    },
    {
     "name": "stdout",
     "output_type": "stream",
     "text": [
      "[1] 50\n"
     ]
    },
    {
     "name": "stderr",
     "output_type": "stream",
     "text": [
      "Warning message in cpDist(sigMat[, 1], b = NULL, statistic = \"cvmmax\", method = \"nonseq\"):\n",
      "“coercing 'x' to a matrix.”\n"
     ]
    },
    {
     "name": "stdout",
     "output_type": "stream",
     "text": [
      "[1] 51\n"
     ]
    },
    {
     "name": "stderr",
     "output_type": "stream",
     "text": [
      "Warning message in cpDist(sigMat[, 1], b = NULL, statistic = \"cvmmax\", method = \"nonseq\"):\n",
      "“coercing 'x' to a matrix.”\n"
     ]
    },
    {
     "name": "stdout",
     "output_type": "stream",
     "text": [
      "[1] 52\n"
     ]
    },
    {
     "name": "stderr",
     "output_type": "stream",
     "text": [
      "Warning message in cpDist(sigMat[, 1], b = NULL, statistic = \"cvmmax\", method = \"nonseq\"):\n",
      "“coercing 'x' to a matrix.”\n"
     ]
    },
    {
     "name": "stdout",
     "output_type": "stream",
     "text": [
      "[1] 53\n"
     ]
    },
    {
     "name": "stderr",
     "output_type": "stream",
     "text": [
      "Warning message in cpDist(sigMat[, 1], b = NULL, statistic = \"cvmmax\", method = \"nonseq\"):\n",
      "“coercing 'x' to a matrix.”\n"
     ]
    },
    {
     "name": "stdout",
     "output_type": "stream",
     "text": [
      "[1] 54\n"
     ]
    },
    {
     "name": "stderr",
     "output_type": "stream",
     "text": [
      "Warning message in cpDist(sigMat[, 1], b = NULL, statistic = \"cvmmax\", method = \"nonseq\"):\n",
      "“coercing 'x' to a matrix.”\n"
     ]
    },
    {
     "name": "stdout",
     "output_type": "stream",
     "text": [
      "[1] 55\n"
     ]
    },
    {
     "name": "stderr",
     "output_type": "stream",
     "text": [
      "Warning message in cpDist(sigMat[, 1], b = NULL, statistic = \"cvmmax\", method = \"nonseq\"):\n",
      "“coercing 'x' to a matrix.”\n"
     ]
    },
    {
     "name": "stdout",
     "output_type": "stream",
     "text": [
      "[1] 56\n"
     ]
    },
    {
     "name": "stderr",
     "output_type": "stream",
     "text": [
      "Warning message in cpDist(sigMat[, 1], b = NULL, statistic = \"cvmmax\", method = \"nonseq\"):\n",
      "“coercing 'x' to a matrix.”\n"
     ]
    },
    {
     "name": "stdout",
     "output_type": "stream",
     "text": [
      "[1] 57\n"
     ]
    },
    {
     "name": "stderr",
     "output_type": "stream",
     "text": [
      "Warning message in cpDist(sigMat[, 1], b = NULL, statistic = \"cvmmax\", method = \"nonseq\"):\n",
      "“coercing 'x' to a matrix.”\n"
     ]
    },
    {
     "name": "stdout",
     "output_type": "stream",
     "text": [
      "[1] 58\n"
     ]
    },
    {
     "name": "stderr",
     "output_type": "stream",
     "text": [
      "Warning message in cpDist(sigMat[, 1], b = NULL, statistic = \"cvmmax\", method = \"nonseq\"):\n",
      "“coercing 'x' to a matrix.”\n"
     ]
    },
    {
     "name": "stdout",
     "output_type": "stream",
     "text": [
      "[1] 59\n"
     ]
    },
    {
     "name": "stderr",
     "output_type": "stream",
     "text": [
      "Warning message in cpDist(sigMat[, 1], b = NULL, statistic = \"cvmmax\", method = \"nonseq\"):\n",
      "“coercing 'x' to a matrix.”\n"
     ]
    },
    {
     "name": "stdout",
     "output_type": "stream",
     "text": [
      "[1] 60\n"
     ]
    },
    {
     "name": "stderr",
     "output_type": "stream",
     "text": [
      "Warning message in cpDist(sigMat[, 1], b = NULL, statistic = \"cvmmax\", method = \"nonseq\"):\n",
      "“coercing 'x' to a matrix.”\n"
     ]
    },
    {
     "name": "stdout",
     "output_type": "stream",
     "text": [
      "[1] 61\n"
     ]
    },
    {
     "name": "stderr",
     "output_type": "stream",
     "text": [
      "Warning message in cpDist(sigMat[, 1], b = NULL, statistic = \"cvmmax\", method = \"nonseq\"):\n",
      "“coercing 'x' to a matrix.”\n"
     ]
    },
    {
     "name": "stdout",
     "output_type": "stream",
     "text": [
      "[1] 62\n"
     ]
    },
    {
     "name": "stderr",
     "output_type": "stream",
     "text": [
      "Warning message in cpDist(sigMat[, 1], b = NULL, statistic = \"cvmmax\", method = \"nonseq\"):\n",
      "“coercing 'x' to a matrix.”\n"
     ]
    },
    {
     "name": "stdout",
     "output_type": "stream",
     "text": [
      "[1] 63\n"
     ]
    },
    {
     "name": "stderr",
     "output_type": "stream",
     "text": [
      "Warning message in cpDist(sigMat[, 1], b = NULL, statistic = \"cvmmax\", method = \"nonseq\"):\n",
      "“coercing 'x' to a matrix.”\n"
     ]
    },
    {
     "name": "stdout",
     "output_type": "stream",
     "text": [
      "[1] 64\n"
     ]
    },
    {
     "name": "stderr",
     "output_type": "stream",
     "text": [
      "Warning message in cpDist(sigMat[, 1], b = NULL, statistic = \"cvmmax\", method = \"nonseq\"):\n",
      "“coercing 'x' to a matrix.”\n"
     ]
    },
    {
     "name": "stdout",
     "output_type": "stream",
     "text": [
      "[1] 65\n"
     ]
    },
    {
     "name": "stderr",
     "output_type": "stream",
     "text": [
      "Warning message in cpDist(sigMat[, 1], b = NULL, statistic = \"cvmmax\", method = \"nonseq\"):\n",
      "“coercing 'x' to a matrix.”\n"
     ]
    },
    {
     "name": "stdout",
     "output_type": "stream",
     "text": [
      "[1] 66\n"
     ]
    },
    {
     "name": "stderr",
     "output_type": "stream",
     "text": [
      "Warning message in cpDist(sigMat[, 1], b = NULL, statistic = \"cvmmax\", method = \"nonseq\"):\n",
      "“coercing 'x' to a matrix.”\n"
     ]
    },
    {
     "name": "stdout",
     "output_type": "stream",
     "text": [
      "[1] 67\n"
     ]
    },
    {
     "name": "stderr",
     "output_type": "stream",
     "text": [
      "Warning message in cpDist(sigMat[, 1], b = NULL, statistic = \"cvmmax\", method = \"nonseq\"):\n",
      "“coercing 'x' to a matrix.”\n"
     ]
    },
    {
     "name": "stdout",
     "output_type": "stream",
     "text": [
      "[1] 68\n"
     ]
    },
    {
     "name": "stderr",
     "output_type": "stream",
     "text": [
      "Warning message in cpDist(sigMat[, 1], b = NULL, statistic = \"cvmmax\", method = \"nonseq\"):\n",
      "“coercing 'x' to a matrix.”\n"
     ]
    },
    {
     "name": "stdout",
     "output_type": "stream",
     "text": [
      "[1] 69\n"
     ]
    },
    {
     "name": "stderr",
     "output_type": "stream",
     "text": [
      "Warning message in cpDist(sigMat[, 1], b = NULL, statistic = \"cvmmax\", method = \"nonseq\"):\n",
      "“coercing 'x' to a matrix.”\n"
     ]
    },
    {
     "name": "stdout",
     "output_type": "stream",
     "text": [
      "[1] 70\n"
     ]
    },
    {
     "name": "stderr",
     "output_type": "stream",
     "text": [
      "Warning message in cpDist(sigMat[, 1], b = NULL, statistic = \"cvmmax\", method = \"nonseq\"):\n",
      "“coercing 'x' to a matrix.”\n"
     ]
    },
    {
     "name": "stdout",
     "output_type": "stream",
     "text": [
      "[1] 71\n"
     ]
    },
    {
     "name": "stderr",
     "output_type": "stream",
     "text": [
      "Warning message in cpDist(sigMat[, 1], b = NULL, statistic = \"cvmmax\", method = \"nonseq\"):\n",
      "“coercing 'x' to a matrix.”\n"
     ]
    },
    {
     "name": "stdout",
     "output_type": "stream",
     "text": [
      "[1] 72\n"
     ]
    },
    {
     "name": "stderr",
     "output_type": "stream",
     "text": [
      "Warning message in cpDist(sigMat[, 1], b = NULL, statistic = \"cvmmax\", method = \"nonseq\"):\n",
      "“coercing 'x' to a matrix.”\n"
     ]
    },
    {
     "name": "stdout",
     "output_type": "stream",
     "text": [
      "[1] 73\n"
     ]
    },
    {
     "name": "stderr",
     "output_type": "stream",
     "text": [
      "Warning message in cpDist(sigMat[, 1], b = NULL, statistic = \"cvmmax\", method = \"nonseq\"):\n",
      "“coercing 'x' to a matrix.”\n"
     ]
    },
    {
     "name": "stdout",
     "output_type": "stream",
     "text": [
      "[1] 74\n"
     ]
    },
    {
     "name": "stderr",
     "output_type": "stream",
     "text": [
      "Warning message in cpDist(sigMat[, 1], b = NULL, statistic = \"cvmmax\", method = \"nonseq\"):\n",
      "“coercing 'x' to a matrix.”\n"
     ]
    },
    {
     "name": "stdout",
     "output_type": "stream",
     "text": [
      "[1] 75\n"
     ]
    },
    {
     "name": "stderr",
     "output_type": "stream",
     "text": [
      "Warning message in cpDist(sigMat[, 1], b = NULL, statistic = \"cvmmax\", method = \"nonseq\"):\n",
      "“coercing 'x' to a matrix.”\n"
     ]
    },
    {
     "name": "stdout",
     "output_type": "stream",
     "text": [
      "[1] 76\n"
     ]
    },
    {
     "name": "stderr",
     "output_type": "stream",
     "text": [
      "Warning message in cpDist(sigMat[, 1], b = NULL, statistic = \"cvmmax\", method = \"nonseq\"):\n",
      "“coercing 'x' to a matrix.”\n"
     ]
    },
    {
     "name": "stdout",
     "output_type": "stream",
     "text": [
      "[1] 77\n"
     ]
    },
    {
     "name": "stderr",
     "output_type": "stream",
     "text": [
      "Warning message in cpDist(sigMat[, 1], b = NULL, statistic = \"cvmmax\", method = \"nonseq\"):\n",
      "“coercing 'x' to a matrix.”\n"
     ]
    },
    {
     "name": "stdout",
     "output_type": "stream",
     "text": [
      "[1] 78\n"
     ]
    },
    {
     "name": "stderr",
     "output_type": "stream",
     "text": [
      "Warning message in cpDist(sigMat[, 1], b = NULL, statistic = \"cvmmax\", method = \"nonseq\"):\n",
      "“coercing 'x' to a matrix.”\n"
     ]
    },
    {
     "name": "stdout",
     "output_type": "stream",
     "text": [
      "[1] 79\n"
     ]
    },
    {
     "name": "stderr",
     "output_type": "stream",
     "text": [
      "Warning message in cpDist(sigMat[, 1], b = NULL, statistic = \"cvmmax\", method = \"nonseq\"):\n",
      "“coercing 'x' to a matrix.”\n"
     ]
    },
    {
     "name": "stdout",
     "output_type": "stream",
     "text": [
      "[1] 80\n"
     ]
    },
    {
     "name": "stderr",
     "output_type": "stream",
     "text": [
      "Warning message in cpDist(sigMat[, 1], b = NULL, statistic = \"cvmmax\", method = \"nonseq\"):\n",
      "“coercing 'x' to a matrix.”\n"
     ]
    },
    {
     "name": "stdout",
     "output_type": "stream",
     "text": [
      "[1] 81\n"
     ]
    },
    {
     "name": "stderr",
     "output_type": "stream",
     "text": [
      "Warning message in cpDist(sigMat[, 1], b = NULL, statistic = \"cvmmax\", method = \"nonseq\"):\n",
      "“coercing 'x' to a matrix.”\n"
     ]
    },
    {
     "name": "stdout",
     "output_type": "stream",
     "text": [
      "[1] 82\n"
     ]
    },
    {
     "name": "stderr",
     "output_type": "stream",
     "text": [
      "Warning message in cpDist(sigMat[, 1], b = NULL, statistic = \"cvmmax\", method = \"nonseq\"):\n",
      "“coercing 'x' to a matrix.”\n"
     ]
    },
    {
     "name": "stdout",
     "output_type": "stream",
     "text": [
      "[1] 83\n"
     ]
    },
    {
     "name": "stderr",
     "output_type": "stream",
     "text": [
      "Warning message in cpDist(sigMat[, 1], b = NULL, statistic = \"cvmmax\", method = \"nonseq\"):\n",
      "“coercing 'x' to a matrix.”\n"
     ]
    },
    {
     "name": "stdout",
     "output_type": "stream",
     "text": [
      "[1] 84\n"
     ]
    },
    {
     "name": "stderr",
     "output_type": "stream",
     "text": [
      "Warning message in cpDist(sigMat[, 1], b = NULL, statistic = \"cvmmax\", method = \"nonseq\"):\n",
      "“coercing 'x' to a matrix.”\n"
     ]
    },
    {
     "name": "stdout",
     "output_type": "stream",
     "text": [
      "[1] 85\n"
     ]
    },
    {
     "name": "stderr",
     "output_type": "stream",
     "text": [
      "Warning message in cpDist(sigMat[, 1], b = NULL, statistic = \"cvmmax\", method = \"nonseq\"):\n",
      "“coercing 'x' to a matrix.”\n"
     ]
    },
    {
     "name": "stdout",
     "output_type": "stream",
     "text": [
      "[1] 86\n"
     ]
    },
    {
     "name": "stderr",
     "output_type": "stream",
     "text": [
      "Warning message in cpDist(sigMat[, 1], b = NULL, statistic = \"cvmmax\", method = \"nonseq\"):\n",
      "“coercing 'x' to a matrix.”\n"
     ]
    },
    {
     "name": "stdout",
     "output_type": "stream",
     "text": [
      "[1] 87\n"
     ]
    },
    {
     "name": "stderr",
     "output_type": "stream",
     "text": [
      "Warning message in cpDist(sigMat[, 1], b = NULL, statistic = \"cvmmax\", method = \"nonseq\"):\n",
      "“coercing 'x' to a matrix.”\n"
     ]
    },
    {
     "name": "stdout",
     "output_type": "stream",
     "text": [
      "[1] 88\n"
     ]
    },
    {
     "name": "stderr",
     "output_type": "stream",
     "text": [
      "Warning message in cpDist(sigMat[, 1], b = NULL, statistic = \"cvmmax\", method = \"nonseq\"):\n",
      "“coercing 'x' to a matrix.”\n"
     ]
    },
    {
     "name": "stdout",
     "output_type": "stream",
     "text": [
      "[1] 89\n"
     ]
    },
    {
     "name": "stderr",
     "output_type": "stream",
     "text": [
      "Warning message in cpDist(sigMat[, 1], b = NULL, statistic = \"cvmmax\", method = \"nonseq\"):\n",
      "“coercing 'x' to a matrix.”\n"
     ]
    },
    {
     "name": "stdout",
     "output_type": "stream",
     "text": [
      "[1] 90\n"
     ]
    },
    {
     "name": "stderr",
     "output_type": "stream",
     "text": [
      "Warning message in cpDist(sigMat[, 1], b = NULL, statistic = \"cvmmax\", method = \"nonseq\"):\n",
      "“coercing 'x' to a matrix.”\n"
     ]
    },
    {
     "name": "stdout",
     "output_type": "stream",
     "text": [
      "[1] 91\n"
     ]
    },
    {
     "name": "stderr",
     "output_type": "stream",
     "text": [
      "Warning message in cpDist(sigMat[, 1], b = NULL, statistic = \"cvmmax\", method = \"nonseq\"):\n",
      "“coercing 'x' to a matrix.”\n"
     ]
    },
    {
     "name": "stdout",
     "output_type": "stream",
     "text": [
      "[1] 92\n"
     ]
    },
    {
     "name": "stderr",
     "output_type": "stream",
     "text": [
      "Warning message in cpDist(sigMat[, 1], b = NULL, statistic = \"cvmmax\", method = \"nonseq\"):\n",
      "“coercing 'x' to a matrix.”\n"
     ]
    },
    {
     "name": "stdout",
     "output_type": "stream",
     "text": [
      "[1] 93\n"
     ]
    },
    {
     "name": "stderr",
     "output_type": "stream",
     "text": [
      "Warning message in cpDist(sigMat[, 1], b = NULL, statistic = \"cvmmax\", method = \"nonseq\"):\n",
      "“coercing 'x' to a matrix.”\n"
     ]
    },
    {
     "name": "stdout",
     "output_type": "stream",
     "text": [
      "[1] 94\n"
     ]
    },
    {
     "name": "stderr",
     "output_type": "stream",
     "text": [
      "Warning message in cpDist(sigMat[, 1], b = NULL, statistic = \"cvmmax\", method = \"nonseq\"):\n",
      "“coercing 'x' to a matrix.”\n"
     ]
    },
    {
     "name": "stdout",
     "output_type": "stream",
     "text": [
      "[1] 95\n"
     ]
    },
    {
     "name": "stderr",
     "output_type": "stream",
     "text": [
      "Warning message in cpDist(sigMat[, 1], b = NULL, statistic = \"cvmmax\", method = \"nonseq\"):\n",
      "“coercing 'x' to a matrix.”\n"
     ]
    },
    {
     "name": "stdout",
     "output_type": "stream",
     "text": [
      "[1] 96\n"
     ]
    },
    {
     "name": "stderr",
     "output_type": "stream",
     "text": [
      "Warning message in cpDist(sigMat[, 1], b = NULL, statistic = \"cvmmax\", method = \"nonseq\"):\n",
      "“coercing 'x' to a matrix.”\n"
     ]
    },
    {
     "name": "stdout",
     "output_type": "stream",
     "text": [
      "[1] 97\n"
     ]
    },
    {
     "name": "stderr",
     "output_type": "stream",
     "text": [
      "Warning message in cpDist(sigMat[, 1], b = NULL, statistic = \"cvmmax\", method = \"nonseq\"):\n",
      "“coercing 'x' to a matrix.”\n"
     ]
    },
    {
     "name": "stdout",
     "output_type": "stream",
     "text": [
      "[1] 98\n"
     ]
    },
    {
     "name": "stderr",
     "output_type": "stream",
     "text": [
      "Warning message in cpDist(sigMat[, 1], b = NULL, statistic = \"cvmmax\", method = \"nonseq\"):\n",
      "“coercing 'x' to a matrix.”\n"
     ]
    },
    {
     "name": "stdout",
     "output_type": "stream",
     "text": [
      "[1] 99\n"
     ]
    },
    {
     "name": "stderr",
     "output_type": "stream",
     "text": [
      "Warning message in cpDist(sigMat[, 1], b = NULL, statistic = \"cvmmax\", method = \"nonseq\"):\n",
      "“coercing 'x' to a matrix.”\n"
     ]
    },
    {
     "name": "stdout",
     "output_type": "stream",
     "text": [
      "[1] 100\n"
     ]
    },
    {
     "name": "stderr",
     "output_type": "stream",
     "text": [
      "Warning message in cpDist(sigMat[, 1], b = NULL, statistic = \"cvmmax\", method = \"nonseq\"):\n",
      "“coercing 'x' to a matrix.”\n"
     ]
    },
    {
     "name": "stdout",
     "output_type": "stream",
     "text": [
      "[1] 101\n"
     ]
    },
    {
     "name": "stderr",
     "output_type": "stream",
     "text": [
      "Warning message in cpDist(sigMat[, 1], b = NULL, statistic = \"cvmmax\", method = \"nonseq\"):\n",
      "“coercing 'x' to a matrix.”\n"
     ]
    },
    {
     "name": "stdout",
     "output_type": "stream",
     "text": [
      "[1] 102\n"
     ]
    },
    {
     "name": "stderr",
     "output_type": "stream",
     "text": [
      "Warning message in cpDist(sigMat[, 1], b = NULL, statistic = \"cvmmax\", method = \"nonseq\"):\n",
      "“coercing 'x' to a matrix.”\n"
     ]
    }
   ],
   "source": [
    "pvalues <- c()\n",
    "for (idx in 0:102){\n",
    "    print(idx)\n",
    "    fs <- paste0(\"../NeuroImgR1/fMRI_Amatss/fMRI_Amats_idx\", idx, \".pkl\")\n",
    "    Amats <- pd$read_pickle(fs)\n",
    "    sigums <- list()\n",
    "    \n",
    "    for (i in 1:length(Amats)) {\n",
    "        s = svd(Amats[[i]])$d\n",
    "        sigums[[i]] <- s\n",
    "    }\n",
    "    sigMat = do.call(rbind, sigums)\n",
    "    res <- cpDist(sigMat[, 1], b = NULL, statistic = 'cvmmax', method = 'nonseq')\n",
    "    pvalues <- c(pvalues, res$p.value)\n",
    "}"
   ]
  },
  {
   "cell_type": "code",
   "execution_count": 4,
   "metadata": {},
   "outputs": [
    {
     "data": {
      "image/png": "[encoded data removed]",
      "text/plain": [
       "plot without title"
      ]
     },
     "metadata": {
      "image/png": {
       "height": 420,
       "width": 420
      }
     },
     "output_type": "display_data"
    }
   ],
   "source": [
    "plot(pvalues, ylab=\"P-value\", xlab=\"fMRI index\")\n",
    "abline(h=0.1, col=2)"
   ]
  },
  {
   "cell_type": "markdown",
   "metadata": {},
   "source": [
    "### When `method = \"seq\"`"
   ]
  },
  {
   "cell_type": "code",
   "execution_count": 5,
   "metadata": {},
   "outputs": [
    {
     "name": "stdout",
     "output_type": "stream",
     "text": [
      "[1] 0\n"
     ]
    },
    {
     "name": "stderr",
     "output_type": "stream",
     "text": [
      "Warning message in cpDist(sigMat[, 1], b = NULL, statistic = \"cvmmax\", method = \"seq\"):\n",
      "“coercing 'x' to a matrix.”\n"
     ]
    },
    {
     "name": "stdout",
     "output_type": "stream",
     "text": [
      "[1] 1\n"
     ]
    },
    {
     "name": "stderr",
     "output_type": "stream",
     "text": [
      "Warning message in cpDist(sigMat[, 1], b = NULL, statistic = \"cvmmax\", method = \"seq\"):\n",
      "“coercing 'x' to a matrix.”\n"
     ]
    },
    {
     "name": "stdout",
     "output_type": "stream",
     "text": [
      "[1] 2\n"
     ]
    },
    {
     "name": "stderr",
     "output_type": "stream",
     "text": [
      "Warning message in cpDist(sigMat[, 1], b = NULL, statistic = \"cvmmax\", method = \"seq\"):\n",
      "“coercing 'x' to a matrix.”\n"
     ]
    },
    {
     "name": "stdout",
     "output_type": "stream",
     "text": [
      "[1] 3\n"
     ]
    },
    {
     "name": "stderr",
     "output_type": "stream",
     "text": [
      "Warning message in cpDist(sigMat[, 1], b = NULL, statistic = \"cvmmax\", method = \"seq\"):\n",
      "“coercing 'x' to a matrix.”\n"
     ]
    },
    {
     "name": "stdout",
     "output_type": "stream",
     "text": [
      "[1] 4\n"
     ]
    },
    {
     "name": "stderr",
     "output_type": "stream",
     "text": [
      "Warning message in cpDist(sigMat[, 1], b = NULL, statistic = \"cvmmax\", method = \"seq\"):\n",
      "“coercing 'x' to a matrix.”\n"
     ]
    },
    {
     "name": "stdout",
     "output_type": "stream",
     "text": [
      "[1] 5\n"
     ]
    },
    {
     "name": "stderr",
     "output_type": "stream",
     "text": [
      "Warning message in cpDist(sigMat[, 1], b = NULL, statistic = \"cvmmax\", method = \"seq\"):\n",
      "“coercing 'x' to a matrix.”\n"
     ]
    },
    {
     "name": "stdout",
     "output_type": "stream",
     "text": [
      "[1] 6\n"
     ]
    },
    {
     "name": "stderr",
     "output_type": "stream",
     "text": [
      "Warning message in cpDist(sigMat[, 1], b = NULL, statistic = \"cvmmax\", method = \"seq\"):\n",
      "“coercing 'x' to a matrix.”\n"
     ]
    },
    {
     "name": "stdout",
     "output_type": "stream",
     "text": [
      "[1] 7\n"
     ]
    },
    {
     "name": "stderr",
     "output_type": "stream",
     "text": [
      "Warning message in cpDist(sigMat[, 1], b = NULL, statistic = \"cvmmax\", method = \"seq\"):\n",
      "“coercing 'x' to a matrix.”\n"
     ]
    },
    {
     "name": "stdout",
     "output_type": "stream",
     "text": [
      "[1] 8\n"
     ]
    },
    {
     "name": "stderr",
     "output_type": "stream",
     "text": [
      "Warning message in cpDist(sigMat[, 1], b = NULL, statistic = \"cvmmax\", method = \"seq\"):\n",
      "“coercing 'x' to a matrix.”\n"
     ]
    },
    {
     "name": "stdout",
     "output_type": "stream",
     "text": [
      "[1] 9\n"
     ]
    },
    {
     "name": "stderr",
     "output_type": "stream",
     "text": [
      "Warning message in cpDist(sigMat[, 1], b = NULL, statistic = \"cvmmax\", method = \"seq\"):\n",
      "“coercing 'x' to a matrix.”\n"
     ]
    },
    {
     "name": "stdout",
     "output_type": "stream",
     "text": [
      "[1] 10\n"
     ]
    },
    {
     "name": "stderr",
     "output_type": "stream",
     "text": [
      "Warning message in cpDist(sigMat[, 1], b = NULL, statistic = \"cvmmax\", method = \"seq\"):\n",
      "“coercing 'x' to a matrix.”\n"
     ]
    },
    {
     "name": "stdout",
     "output_type": "stream",
     "text": [
      "[1] 11\n"
     ]
    },
    {
     "name": "stderr",
     "output_type": "stream",
     "text": [
      "Warning message in cpDist(sigMat[, 1], b = NULL, statistic = \"cvmmax\", method = \"seq\"):\n",
      "“coercing 'x' to a matrix.”\n"
     ]
    },
    {
     "name": "stdout",
     "output_type": "stream",
     "text": [
      "[1] 12\n"
     ]
    },
    {
     "name": "stderr",
     "output_type": "stream",
     "text": [
      "Warning message in cpDist(sigMat[, 1], b = NULL, statistic = \"cvmmax\", method = \"seq\"):\n",
      "“coercing 'x' to a matrix.”\n"
     ]
    },
    {
     "name": "stdout",
     "output_type": "stream",
     "text": [
      "[1] 13\n"
     ]
    },
    {
     "name": "stderr",
     "output_type": "stream",
     "text": [
      "Warning message in cpDist(sigMat[, 1], b = NULL, statistic = \"cvmmax\", method = \"seq\"):\n",
      "“coercing 'x' to a matrix.”\n"
     ]
    },
    {
     "name": "stdout",
     "output_type": "stream",
     "text": [
      "[1] 14\n"
     ]
    },
    {
     "name": "stderr",
     "output_type": "stream",
     "text": [
      "Warning message in cpDist(sigMat[, 1], b = NULL, statistic = \"cvmmax\", method = \"seq\"):\n",
      "“coercing 'x' to a matrix.”\n"
     ]
    },
    {
     "name": "stdout",
     "output_type": "stream",
     "text": [
      "[1] 15\n"
     ]
    },
    {
     "name": "stderr",
     "output_type": "stream",
     "text": [
      "Warning message in cpDist(sigMat[, 1], b = NULL, statistic = \"cvmmax\", method = \"seq\"):\n",
      "“coercing 'x' to a matrix.”\n"
     ]
    },
    {
     "name": "stdout",
     "output_type": "stream",
     "text": [
      "[1] 16\n"
     ]
    },
    {
     "name": "stderr",
     "output_type": "stream",
     "text": [
      "Warning message in cpDist(sigMat[, 1], b = NULL, statistic = \"cvmmax\", method = \"seq\"):\n",
      "“coercing 'x' to a matrix.”\n"
     ]
    },
    {
     "name": "stdout",
     "output_type": "stream",
     "text": [
      "[1] 17\n"
     ]
    },
    {
     "name": "stderr",
     "output_type": "stream",
     "text": [
      "Warning message in cpDist(sigMat[, 1], b = NULL, statistic = \"cvmmax\", method = \"seq\"):\n",
      "“coercing 'x' to a matrix.”\n"
     ]
    },
    {
     "name": "stdout",
     "output_type": "stream",
     "text": [
      "[1] 18\n"
     ]
    },
    {
     "name": "stderr",
     "output_type": "stream",
     "text": [
      "Warning message in cpDist(sigMat[, 1], b = NULL, statistic = \"cvmmax\", method = \"seq\"):\n",
      "“coercing 'x' to a matrix.”\n"
     ]
    },
    {
     "name": "stdout",
     "output_type": "stream",
     "text": [
      "[1] 19\n"
     ]
    },
    {
     "name": "stderr",
     "output_type": "stream",
     "text": [
      "Warning message in cpDist(sigMat[, 1], b = NULL, statistic = \"cvmmax\", method = \"seq\"):\n",
      "“coercing 'x' to a matrix.”\n"
     ]
    },
    {
     "name": "stdout",
     "output_type": "stream",
     "text": [
      "[1] 20\n"
     ]
    },
    {
     "name": "stderr",
     "output_type": "stream",
     "text": [
      "Warning message in cpDist(sigMat[, 1], b = NULL, statistic = \"cvmmax\", method = \"seq\"):\n",
      "“coercing 'x' to a matrix.”\n"
     ]
    },
    {
     "name": "stdout",
     "output_type": "stream",
     "text": [
      "[1] 21\n"
     ]
    },
    {
     "name": "stderr",
     "output_type": "stream",
     "text": [
      "Warning message in cpDist(sigMat[, 1], b = NULL, statistic = \"cvmmax\", method = \"seq\"):\n",
      "“coercing 'x' to a matrix.”\n"
     ]
    },
    {
     "name": "stdout",
     "output_type": "stream",
     "text": [
      "[1] 22\n"
     ]
    },
    {
     "name": "stderr",
     "output_type": "stream",
     "text": [
      "Warning message in cpDist(sigMat[, 1], b = NULL, statistic = \"cvmmax\", method = \"seq\"):\n",
      "“coercing 'x' to a matrix.”\n"
     ]
    },
    {
     "name": "stdout",
     "output_type": "stream",
     "text": [
      "[1] 23\n"
     ]
    },
    {
     "name": "stderr",
     "output_type": "stream",
     "text": [
      "Warning message in cpDist(sigMat[, 1], b = NULL, statistic = \"cvmmax\", method = \"seq\"):\n",
      "“coercing 'x' to a matrix.”\n"
     ]
    },
    {
     "name": "stdout",
     "output_type": "stream",
     "text": [
      "[1] 24\n"
     ]
    },
    {
     "name": "stderr",
     "output_type": "stream",
     "text": [
      "Warning message in cpDist(sigMat[, 1], b = NULL, statistic = \"cvmmax\", method = \"seq\"):\n",
      "“coercing 'x' to a matrix.”\n"
     ]
    },
    {
     "name": "stdout",
     "output_type": "stream",
     "text": [
      "[1] 25\n"
     ]
    },
    {
     "name": "stderr",
     "output_type": "stream",
     "text": [
      "Warning message in cpDist(sigMat[, 1], b = NULL, statistic = \"cvmmax\", method = \"seq\"):\n",
      "“coercing 'x' to a matrix.”\n"
     ]
    },
    {
     "name": "stdout",
     "output_type": "stream",
     "text": [
      "[1] 26\n"
     ]
    },
    {
     "name": "stderr",
     "output_type": "stream",
     "text": [
      "Warning message in cpDist(sigMat[, 1], b = NULL, statistic = \"cvmmax\", method = \"seq\"):\n",
      "“coercing 'x' to a matrix.”\n"
     ]
    },
    {
     "name": "stdout",
     "output_type": "stream",
     "text": [
      "[1] 27\n"
     ]
    },
    {
     "name": "stderr",
     "output_type": "stream",
     "text": [
      "Warning message in cpDist(sigMat[, 1], b = NULL, statistic = \"cvmmax\", method = \"seq\"):\n",
      "“coercing 'x' to a matrix.”\n"
     ]
    },
    {
     "name": "stdout",
     "output_type": "stream",
     "text": [
      "[1] 28\n"
     ]
    },
    {
     "name": "stderr",
     "output_type": "stream",
     "text": [
      "Warning message in cpDist(sigMat[, 1], b = NULL, statistic = \"cvmmax\", method = \"seq\"):\n",
      "“coercing 'x' to a matrix.”\n"
     ]
    },
    {
     "name": "stdout",
     "output_type": "stream",
     "text": [
      "[1] 29\n"
     ]
    },
    {
     "name": "stderr",
     "output_type": "stream",
     "text": [
      "Warning message in cpDist(sigMat[, 1], b = NULL, statistic = \"cvmmax\", method = \"seq\"):\n",
      "“coercing 'x' to a matrix.”\n"
     ]
    },
    {
     "name": "stdout",
     "output_type": "stream",
     "text": [
      "[1] 30\n"
     ]
    },
    {
     "name": "stderr",
     "output_type": "stream",
     "text": [
      "Warning message in cpDist(sigMat[, 1], b = NULL, statistic = \"cvmmax\", method = \"seq\"):\n",
      "“coercing 'x' to a matrix.”\n"
     ]
    },
    {
     "name": "stdout",
     "output_type": "stream",
     "text": [
      "[1] 31\n"
     ]
    },
    {
     "name": "stderr",
     "output_type": "stream",
     "text": [
      "Warning message in cpDist(sigMat[, 1], b = NULL, statistic = \"cvmmax\", method = \"seq\"):\n",
      "“coercing 'x' to a matrix.”\n"
     ]
    },
    {
     "name": "stdout",
     "output_type": "stream",
     "text": [
      "[1] 32\n"
     ]
    },
    {
     "name": "stderr",
     "output_type": "stream",
     "text": [
      "Warning message in cpDist(sigMat[, 1], b = NULL, statistic = \"cvmmax\", method = \"seq\"):\n",
      "“coercing 'x' to a matrix.”\n"
     ]
    },
    {
     "name": "stdout",
     "output_type": "stream",
     "text": [
      "[1] 33\n"
     ]
    },
    {
     "name": "stderr",
     "output_type": "stream",
     "text": [
      "Warning message in cpDist(sigMat[, 1], b = NULL, statistic = \"cvmmax\", method = \"seq\"):\n",
      "“coercing 'x' to a matrix.”\n"
     ]
    },
    {
     "name": "stdout",
     "output_type": "stream",
     "text": [
      "[1] 34\n"
     ]
    },
    {
     "name": "stderr",
     "output_type": "stream",
     "text": [
      "Warning message in cpDist(sigMat[, 1], b = NULL, statistic = \"cvmmax\", method = \"seq\"):\n",
      "“coercing 'x' to a matrix.”\n"
     ]
    },
    {
     "name": "stdout",
     "output_type": "stream",
     "text": [
      "[1] 35\n"
     ]
    },
    {
     "name": "stderr",
     "output_type": "stream",
     "text": [
      "Warning message in cpDist(sigMat[, 1], b = NULL, statistic = \"cvmmax\", method = \"seq\"):\n",
      "“coercing 'x' to a matrix.”\n"
     ]
    },
    {
     "name": "stdout",
     "output_type": "stream",
     "text": [
      "[1] 36\n"
     ]
    },
    {
     "name": "stderr",
     "output_type": "stream",
     "text": [
      "Warning message in cpDist(sigMat[, 1], b = NULL, statistic = \"cvmmax\", method = \"seq\"):\n",
      "“coercing 'x' to a matrix.”\n"
     ]
    },
    {
     "name": "stdout",
     "output_type": "stream",
     "text": [
      "[1] 37\n"
     ]
    },
    {
     "name": "stderr",
     "output_type": "stream",
     "text": [
      "Warning message in cpDist(sigMat[, 1], b = NULL, statistic = \"cvmmax\", method = \"seq\"):\n",
      "“coercing 'x' to a matrix.”\n"
     ]
    },
    {
     "name": "stdout",
     "output_type": "stream",
     "text": [
      "[1] 38\n"
     ]
    },
    {
     "name": "stderr",
     "output_type": "stream",
     "text": [
      "Warning message in cpDist(sigMat[, 1], b = NULL, statistic = \"cvmmax\", method = \"seq\"):\n",
      "“coercing 'x' to a matrix.”\n"
     ]
    },
    {
     "name": "stdout",
     "output_type": "stream",
     "text": [
      "[1] 39\n"
     ]
    },
    {
     "name": "stderr",
     "output_type": "stream",
     "text": [
      "Warning message in cpDist(sigMat[, 1], b = NULL, statistic = \"cvmmax\", method = \"seq\"):\n",
      "“coercing 'x' to a matrix.”\n"
     ]
    },
    {
     "name": "stdout",
     "output_type": "stream",
     "text": [
      "[1] 40\n"
     ]
    },
    {
     "name": "stderr",
     "output_type": "stream",
     "text": [
      "Warning message in cpDist(sigMat[, 1], b = NULL, statistic = \"cvmmax\", method = \"seq\"):\n",
      "“coercing 'x' to a matrix.”\n"
     ]
    },
    {
     "name": "stdout",
     "output_type": "stream",
     "text": [
      "[1] 41\n"
     ]
    },
    {
     "name": "stderr",
     "output_type": "stream",
     "text": [
      "Warning message in cpDist(sigMat[, 1], b = NULL, statistic = \"cvmmax\", method = \"seq\"):\n",
      "“coercing 'x' to a matrix.”\n"
     ]
    },
    {
     "name": "stdout",
     "output_type": "stream",
     "text": [
      "[1] 42\n"
     ]
    },
    {
     "name": "stderr",
     "output_type": "stream",
     "text": [
      "Warning message in cpDist(sigMat[, 1], b = NULL, statistic = \"cvmmax\", method = \"seq\"):\n",
      "“coercing 'x' to a matrix.”\n"
     ]
    },
    {
     "name": "stdout",
     "output_type": "stream",
     "text": [
      "[1] 43\n"
     ]
    },
    {
     "name": "stderr",
     "output_type": "stream",
     "text": [
      "Warning message in cpDist(sigMat[, 1], b = NULL, statistic = \"cvmmax\", method = \"seq\"):\n",
      "“coercing 'x' to a matrix.”\n"
     ]
    },
    {
     "name": "stdout",
     "output_type": "stream",
     "text": [
      "[1] 44\n"
     ]
    },
    {
     "name": "stderr",
     "output_type": "stream",
     "text": [
      "Warning message in cpDist(sigMat[, 1], b = NULL, statistic = \"cvmmax\", method = \"seq\"):\n",
      "“coercing 'x' to a matrix.”\n"
     ]
    },
    {
     "name": "stdout",
     "output_type": "stream",
     "text": [
      "[1] 45\n"
     ]
    },
    {
     "name": "stderr",
     "output_type": "stream",
     "text": [
      "Warning message in cpDist(sigMat[, 1], b = NULL, statistic = \"cvmmax\", method = \"seq\"):\n",
      "“coercing 'x' to a matrix.”\n"
     ]
    },
    {
     "name": "stdout",
     "output_type": "stream",
     "text": [
      "[1] 46\n"
     ]
    },
    {
     "name": "stderr",
     "output_type": "stream",
     "text": [
      "Warning message in cpDist(sigMat[, 1], b = NULL, statistic = \"cvmmax\", method = \"seq\"):\n",
      "“coercing 'x' to a matrix.”\n"
     ]
    },
    {
     "name": "stdout",
     "output_type": "stream",
     "text": [
      "[1] 47\n"
     ]
    },
    {
     "name": "stderr",
     "output_type": "stream",
     "text": [
      "Warning message in cpDist(sigMat[, 1], b = NULL, statistic = \"cvmmax\", method = \"seq\"):\n",
      "“coercing 'x' to a matrix.”\n"
     ]
    },
    {
     "name": "stdout",
     "output_type": "stream",
     "text": [
      "[1] 48\n"
     ]
    },
    {
     "name": "stderr",
     "output_type": "stream",
     "text": [
      "Warning message in cpDist(sigMat[, 1], b = NULL, statistic = \"cvmmax\", method = \"seq\"):\n",
      "“coercing 'x' to a matrix.”\n"
     ]
    },
    {
     "name": "stdout",
     "output_type": "stream",
     "text": [
      "[1] 49\n"
     ]
    },
    {
     "name": "stderr",
     "output_type": "stream",
     "text": [
      "Warning message in cpDist(sigMat[, 1], b = NULL, statistic = \"cvmmax\", method = \"seq\"):\n",
      "“coercing 'x' to a matrix.”\n"
     ]
    },
    {
     "name": "stdout",
     "output_type": "stream",
     "text": [
      "[1] 50\n"
     ]
    },
    {
     "name": "stderr",
     "output_type": "stream",
     "text": [
      "Warning message in cpDist(sigMat[, 1], b = NULL, statistic = \"cvmmax\", method = \"seq\"):\n",
      "“coercing 'x' to a matrix.”\n"
     ]
    },
    {
     "name": "stdout",
     "output_type": "stream",
     "text": [
      "[1] 51\n"
     ]
    },
    {
     "name": "stderr",
     "output_type": "stream",
     "text": [
      "Warning message in cpDist(sigMat[, 1], b = NULL, statistic = \"cvmmax\", method = \"seq\"):\n",
      "“coercing 'x' to a matrix.”\n"
     ]
    },
    {
     "name": "stdout",
     "output_type": "stream",
     "text": [
      "[1] 52\n"
     ]
    },
    {
     "name": "stderr",
     "output_type": "stream",
     "text": [
      "Warning message in cpDist(sigMat[, 1], b = NULL, statistic = \"cvmmax\", method = \"seq\"):\n",
      "“coercing 'x' to a matrix.”\n"
     ]
    },
    {
     "name": "stdout",
     "output_type": "stream",
     "text": [
      "[1] 53\n"
     ]
    },
    {
     "name": "stderr",
     "output_type": "stream",
     "text": [
      "Warning message in cpDist(sigMat[, 1], b = NULL, statistic = \"cvmmax\", method = \"seq\"):\n",
      "“coercing 'x' to a matrix.”\n"
     ]
    },
    {
     "name": "stdout",
     "output_type": "stream",
     "text": [
      "[1] 54\n"
     ]
    },
    {
     "name": "stderr",
     "output_type": "stream",
     "text": [
      "Warning message in cpDist(sigMat[, 1], b = NULL, statistic = \"cvmmax\", method = \"seq\"):\n",
      "“coercing 'x' to a matrix.”\n"
     ]
    },
    {
     "name": "stdout",
     "output_type": "stream",
     "text": [
      "[1] 55\n"
     ]
    },
    {
     "name": "stderr",
     "output_type": "stream",
     "text": [
      "Warning message in cpDist(sigMat[, 1], b = NULL, statistic = \"cvmmax\", method = \"seq\"):\n",
      "“coercing 'x' to a matrix.”\n"
     ]
    },
    {
     "name": "stdout",
     "output_type": "stream",
     "text": [
      "[1] 56\n"
     ]
    },
    {
     "name": "stderr",
     "output_type": "stream",
     "text": [
      "Warning message in cpDist(sigMat[, 1], b = NULL, statistic = \"cvmmax\", method = \"seq\"):\n",
      "“coercing 'x' to a matrix.”\n"
     ]
    },
    {
     "name": "stdout",
     "output_type": "stream",
     "text": [
      "[1] 57\n"
     ]
    },
    {
     "name": "stderr",
     "output_type": "stream",
     "text": [
      "Warning message in cpDist(sigMat[, 1], b = NULL, statistic = \"cvmmax\", method = \"seq\"):\n",
      "“coercing 'x' to a matrix.”\n"
     ]
    },
    {
     "name": "stdout",
     "output_type": "stream",
     "text": [
      "[1] 58\n"
     ]
    },
    {
     "name": "stderr",
     "output_type": "stream",
     "text": [
      "Warning message in cpDist(sigMat[, 1], b = NULL, statistic = \"cvmmax\", method = \"seq\"):\n",
      "“coercing 'x' to a matrix.”\n"
     ]
    },
    {
     "name": "stdout",
     "output_type": "stream",
     "text": [
      "[1] 59\n"
     ]
    },
    {
     "name": "stderr",
     "output_type": "stream",
     "text": [
      "Warning message in cpDist(sigMat[, 1], b = NULL, statistic = \"cvmmax\", method = \"seq\"):\n",
      "“coercing 'x' to a matrix.”\n"
     ]
    },
    {
     "name": "stdout",
     "output_type": "stream",
     "text": [
      "[1] 60\n"
     ]
    },
    {
     "name": "stderr",
     "output_type": "stream",
     "text": [
      "Warning message in cpDist(sigMat[, 1], b = NULL, statistic = \"cvmmax\", method = \"seq\"):\n",
      "“coercing 'x' to a matrix.”\n"
     ]
    },
    {
     "name": "stdout",
     "output_type": "stream",
     "text": [
      "[1] 61\n"
     ]
    },
    {
     "name": "stderr",
     "output_type": "stream",
     "text": [
      "Warning message in cpDist(sigMat[, 1], b = NULL, statistic = \"cvmmax\", method = \"seq\"):\n",
      "“coercing 'x' to a matrix.”\n"
     ]
    },
    {
     "name": "stdout",
     "output_type": "stream",
     "text": [
      "[1] 62\n"
     ]
    },
    {
     "name": "stderr",
     "output_type": "stream",
     "text": [
      "Warning message in cpDist(sigMat[, 1], b = NULL, statistic = \"cvmmax\", method = \"seq\"):\n",
      "“coercing 'x' to a matrix.”\n"
     ]
    },
    {
     "name": "stdout",
     "output_type": "stream",
     "text": [
      "[1] 63\n"
     ]
    },
    {
     "name": "stderr",
     "output_type": "stream",
     "text": [
      "Warning message in cpDist(sigMat[, 1], b = NULL, statistic = \"cvmmax\", method = \"seq\"):\n",
      "“coercing 'x' to a matrix.”\n"
     ]
    },
    {
     "name": "stdout",
     "output_type": "stream",
     "text": [
      "[1] 64\n"
     ]
    },
    {
     "name": "stderr",
     "output_type": "stream",
     "text": [
      "Warning message in cpDist(sigMat[, 1], b = NULL, statistic = \"cvmmax\", method = \"seq\"):\n",
      "“coercing 'x' to a matrix.”\n"
     ]
    },
    {
     "name": "stdout",
     "output_type": "stream",
     "text": [
      "[1] 65\n"
     ]
    },
    {
     "name": "stderr",
     "output_type": "stream",
     "text": [
      "Warning message in cpDist(sigMat[, 1], b = NULL, statistic = \"cvmmax\", method = \"seq\"):\n",
      "“coercing 'x' to a matrix.”\n"
     ]
    },
    {
     "name": "stdout",
     "output_type": "stream",
     "text": [
      "[1] 66\n"
     ]
    },
    {
     "name": "stderr",
     "output_type": "stream",
     "text": [
      "Warning message in cpDist(sigMat[, 1], b = NULL, statistic = \"cvmmax\", method = \"seq\"):\n",
      "“coercing 'x' to a matrix.”\n"
     ]
    },
    {
     "name": "stdout",
     "output_type": "stream",
     "text": [
      "[1] 67\n"
     ]
    },
    {
     "name": "stderr",
     "output_type": "stream",
     "text": [
      "Warning message in cpDist(sigMat[, 1], b = NULL, statistic = \"cvmmax\", method = \"seq\"):\n",
      "“coercing 'x' to a matrix.”\n"
     ]
    },
    {
     "name": "stdout",
     "output_type": "stream",
     "text": [
      "[1] 68\n"
     ]
    },
    {
     "name": "stderr",
     "output_type": "stream",
     "text": [
      "Warning message in cpDist(sigMat[, 1], b = NULL, statistic = \"cvmmax\", method = \"seq\"):\n",
      "“coercing 'x' to a matrix.”\n"
     ]
    },
    {
     "name": "stdout",
     "output_type": "stream",
     "text": [
      "[1] 69\n"
     ]
    },
    {
     "name": "stderr",
     "output_type": "stream",
     "text": [
      "Warning message in cpDist(sigMat[, 1], b = NULL, statistic = \"cvmmax\", method = \"seq\"):\n",
      "“coercing 'x' to a matrix.”\n"
     ]
    },
    {
     "name": "stdout",
     "output_type": "stream",
     "text": [
      "[1] 70\n"
     ]
    },
    {
     "name": "stderr",
     "output_type": "stream",
     "text": [
      "Warning message in cpDist(sigMat[, 1], b = NULL, statistic = \"cvmmax\", method = \"seq\"):\n",
      "“coercing 'x' to a matrix.”\n"
     ]
    },
    {
     "name": "stdout",
     "output_type": "stream",
     "text": [
      "[1] 71\n"
     ]
    },
    {
     "name": "stderr",
     "output_type": "stream",
     "text": [
      "Warning message in cpDist(sigMat[, 1], b = NULL, statistic = \"cvmmax\", method = \"seq\"):\n",
      "“coercing 'x' to a matrix.”\n"
     ]
    },
    {
     "name": "stdout",
     "output_type": "stream",
     "text": [
      "[1] 72\n"
     ]
    },
    {
     "name": "stderr",
     "output_type": "stream",
     "text": [
      "Warning message in cpDist(sigMat[, 1], b = NULL, statistic = \"cvmmax\", method = \"seq\"):\n",
      "“coercing 'x' to a matrix.”\n"
     ]
    },
    {
     "name": "stdout",
     "output_type": "stream",
     "text": [
      "[1] 73\n"
     ]
    },
    {
     "name": "stderr",
     "output_type": "stream",
     "text": [
      "Warning message in cpDist(sigMat[, 1], b = NULL, statistic = \"cvmmax\", method = \"seq\"):\n",
      "“coercing 'x' to a matrix.”\n"
     ]
    },
    {
     "name": "stdout",
     "output_type": "stream",
     "text": [
      "[1] 74\n"
     ]
    },
    {
     "name": "stderr",
     "output_type": "stream",
     "text": [
      "Warning message in cpDist(sigMat[, 1], b = NULL, statistic = \"cvmmax\", method = \"seq\"):\n",
      "“coercing 'x' to a matrix.”\n"
     ]
    },
    {
     "name": "stdout",
     "output_type": "stream",
     "text": [
      "[1] 75\n"
     ]
    },
    {
     "name": "stderr",
     "output_type": "stream",
     "text": [
      "Warning message in cpDist(sigMat[, 1], b = NULL, statistic = \"cvmmax\", method = \"seq\"):\n",
      "“coercing 'x' to a matrix.”\n"
     ]
    },
    {
     "name": "stdout",
     "output_type": "stream",
     "text": [
      "[1] 76\n"
     ]
    },
    {
     "name": "stderr",
     "output_type": "stream",
     "text": [
      "Warning message in cpDist(sigMat[, 1], b = NULL, statistic = \"cvmmax\", method = \"seq\"):\n",
      "“coercing 'x' to a matrix.”\n"
     ]
    },
    {
     "name": "stdout",
     "output_type": "stream",
     "text": [
      "[1] 77\n"
     ]
    },
    {
     "name": "stderr",
     "output_type": "stream",
     "text": [
      "Warning message in cpDist(sigMat[, 1], b = NULL, statistic = \"cvmmax\", method = \"seq\"):\n",
      "“coercing 'x' to a matrix.”\n"
     ]
    },
    {
     "name": "stdout",
     "output_type": "stream",
     "text": [
      "[1] 78\n"
     ]
    },
    {
     "name": "stderr",
     "output_type": "stream",
     "text": [
      "Warning message in cpDist(sigMat[, 1], b = NULL, statistic = \"cvmmax\", method = \"seq\"):\n",
      "“coercing 'x' to a matrix.”\n"
     ]
    },
    {
     "name": "stdout",
     "output_type": "stream",
     "text": [
      "[1] 79\n"
     ]
    },
    {
     "name": "stderr",
     "output_type": "stream",
     "text": [
      "Warning message in cpDist(sigMat[, 1], b = NULL, statistic = \"cvmmax\", method = \"seq\"):\n",
      "“coercing 'x' to a matrix.”\n"
     ]
    },
    {
     "name": "stdout",
     "output_type": "stream",
     "text": [
      "[1] 80\n"
     ]
    },
    {
     "name": "stderr",
     "output_type": "stream",
     "text": [
      "Warning message in cpDist(sigMat[, 1], b = NULL, statistic = \"cvmmax\", method = \"seq\"):\n",
      "“coercing 'x' to a matrix.”\n"
     ]
    },
    {
     "name": "stdout",
     "output_type": "stream",
     "text": [
      "[1] 81\n"
     ]
    },
    {
     "name": "stderr",
     "output_type": "stream",
     "text": [
      "Warning message in cpDist(sigMat[, 1], b = NULL, statistic = \"cvmmax\", method = \"seq\"):\n",
      "“coercing 'x' to a matrix.”\n"
     ]
    },
    {
     "name": "stdout",
     "output_type": "stream",
     "text": [
      "[1] 82\n"
     ]
    },
    {
     "name": "stderr",
     "output_type": "stream",
     "text": [
      "Warning message in cpDist(sigMat[, 1], b = NULL, statistic = \"cvmmax\", method = \"seq\"):\n",
      "“coercing 'x' to a matrix.”\n"
     ]
    },
    {
     "name": "stdout",
     "output_type": "stream",
     "text": [
      "[1] 83\n"
     ]
    },
    {
     "name": "stderr",
     "output_type": "stream",
     "text": [
      "Warning message in cpDist(sigMat[, 1], b = NULL, statistic = \"cvmmax\", method = \"seq\"):\n",
      "“coercing 'x' to a matrix.”\n"
     ]
    },
    {
     "name": "stdout",
     "output_type": "stream",
     "text": [
      "[1] 84\n"
     ]
    },
    {
     "name": "stderr",
     "output_type": "stream",
     "text": [
      "Warning message in cpDist(sigMat[, 1], b = NULL, statistic = \"cvmmax\", method = \"seq\"):\n",
      "“coercing 'x' to a matrix.”\n"
     ]
    },
    {
     "name": "stdout",
     "output_type": "stream",
     "text": [
      "[1] 85\n"
     ]
    },
    {
     "name": "stderr",
     "output_type": "stream",
     "text": [
      "Warning message in cpDist(sigMat[, 1], b = NULL, statistic = \"cvmmax\", method = \"seq\"):\n",
      "“coercing 'x' to a matrix.”\n"
     ]
    },
    {
     "name": "stdout",
     "output_type": "stream",
     "text": [
      "[1] 86\n"
     ]
    },
    {
     "name": "stderr",
     "output_type": "stream",
     "text": [
      "Warning message in cpDist(sigMat[, 1], b = NULL, statistic = \"cvmmax\", method = \"seq\"):\n",
      "“coercing 'x' to a matrix.”\n"
     ]
    },
    {
     "name": "stdout",
     "output_type": "stream",
     "text": [
      "[1] 87\n"
     ]
    },
    {
     "name": "stderr",
     "output_type": "stream",
     "text": [
      "Warning message in cpDist(sigMat[, 1], b = NULL, statistic = \"cvmmax\", method = \"seq\"):\n",
      "“coercing 'x' to a matrix.”\n"
     ]
    },
    {
     "name": "stdout",
     "output_type": "stream",
     "text": [
      "[1] 88\n"
     ]
    },
    {
     "name": "stderr",
     "output_type": "stream",
     "text": [
      "Warning message in cpDist(sigMat[, 1], b = NULL, statistic = \"cvmmax\", method = \"seq\"):\n",
      "“coercing 'x' to a matrix.”\n"
     ]
    },
    {
     "name": "stdout",
     "output_type": "stream",
     "text": [
      "[1] 89\n"
     ]
    },
    {
     "name": "stderr",
     "output_type": "stream",
     "text": [
      "Warning message in cpDist(sigMat[, 1], b = NULL, statistic = \"cvmmax\", method = \"seq\"):\n",
      "“coercing 'x' to a matrix.”\n"
     ]
    },
    {
     "name": "stdout",
     "output_type": "stream",
     "text": [
      "[1] 90\n"
     ]
    },
    {
     "name": "stderr",
     "output_type": "stream",
     "text": [
      "Warning message in cpDist(sigMat[, 1], b = NULL, statistic = \"cvmmax\", method = \"seq\"):\n",
      "“coercing 'x' to a matrix.”\n"
     ]
    },
    {
     "name": "stdout",
     "output_type": "stream",
     "text": [
      "[1] 91\n"
     ]
    },
    {
     "name": "stderr",
     "output_type": "stream",
     "text": [
      "Warning message in cpDist(sigMat[, 1], b = NULL, statistic = \"cvmmax\", method = \"seq\"):\n",
      "“coercing 'x' to a matrix.”\n"
     ]
    },
    {
     "name": "stdout",
     "output_type": "stream",
     "text": [
      "[1] 92\n"
     ]
    },
    {
     "name": "stderr",
     "output_type": "stream",
     "text": [
      "Warning message in cpDist(sigMat[, 1], b = NULL, statistic = \"cvmmax\", method = \"seq\"):\n",
      "“coercing 'x' to a matrix.”\n"
     ]
    },
    {
     "name": "stdout",
     "output_type": "stream",
     "text": [
      "[1] 93\n"
     ]
    },
    {
     "name": "stderr",
     "output_type": "stream",
     "text": [
      "Warning message in cpDist(sigMat[, 1], b = NULL, statistic = \"cvmmax\", method = \"seq\"):\n",
      "“coercing 'x' to a matrix.”\n"
     ]
    },
    {
     "name": "stdout",
     "output_type": "stream",
     "text": [
      "[1] 94\n"
     ]
    },
    {
     "name": "stderr",
     "output_type": "stream",
     "text": [
      "Warning message in cpDist(sigMat[, 1], b = NULL, statistic = \"cvmmax\", method = \"seq\"):\n",
      "“coercing 'x' to a matrix.”\n"
     ]
    },
    {
     "name": "stdout",
     "output_type": "stream",
     "text": [
      "[1] 95\n"
     ]
    },
    {
     "name": "stderr",
     "output_type": "stream",
     "text": [
      "Warning message in cpDist(sigMat[, 1], b = NULL, statistic = \"cvmmax\", method = \"seq\"):\n",
      "“coercing 'x' to a matrix.”\n"
     ]
    },
    {
     "name": "stdout",
     "output_type": "stream",
     "text": [
      "[1] 96\n"
     ]
    },
    {
     "name": "stderr",
     "output_type": "stream",
     "text": [
      "Warning message in cpDist(sigMat[, 1], b = NULL, statistic = \"cvmmax\", method = \"seq\"):\n",
      "“coercing 'x' to a matrix.”\n"
     ]
    },
    {
     "name": "stdout",
     "output_type": "stream",
     "text": [
      "[1] 97\n"
     ]
    },
    {
     "name": "stderr",
     "output_type": "stream",
     "text": [
      "Warning message in cpDist(sigMat[, 1], b = NULL, statistic = \"cvmmax\", method = \"seq\"):\n",
      "“coercing 'x' to a matrix.”\n"
     ]
    },
    {
     "name": "stdout",
     "output_type": "stream",
     "text": [
      "[1] 98\n"
     ]
    },
    {
     "name": "stderr",
     "output_type": "stream",
     "text": [
      "Warning message in cpDist(sigMat[, 1], b = NULL, statistic = \"cvmmax\", method = \"seq\"):\n",
      "“coercing 'x' to a matrix.”\n"
     ]
    },
    {
     "name": "stdout",
     "output_type": "stream",
     "text": [
      "[1] 99\n"
     ]
    },
    {
     "name": "stderr",
     "output_type": "stream",
     "text": [
      "Warning message in cpDist(sigMat[, 1], b = NULL, statistic = \"cvmmax\", method = \"seq\"):\n",
      "“coercing 'x' to a matrix.”\n"
     ]
    },
    {
     "name": "stdout",
     "output_type": "stream",
     "text": [
      "[1] 100\n"
     ]
    },
    {
     "name": "stderr",
     "output_type": "stream",
     "text": [
      "Warning message in cpDist(sigMat[, 1], b = NULL, statistic = \"cvmmax\", method = \"seq\"):\n",
      "“coercing 'x' to a matrix.”\n"
     ]
    },
    {
     "name": "stdout",
     "output_type": "stream",
     "text": [
      "[1] 101\n"
     ]
    },
    {
     "name": "stderr",
     "output_type": "stream",
     "text": [
      "Warning message in cpDist(sigMat[, 1], b = NULL, statistic = \"cvmmax\", method = \"seq\"):\n",
      "“coercing 'x' to a matrix.”\n"
     ]
    },
    {
     "name": "stdout",
     "output_type": "stream",
     "text": [
      "[1] 102\n"
     ]
    },
    {
     "name": "stderr",
     "output_type": "stream",
     "text": [
      "Warning message in cpDist(sigMat[, 1], b = NULL, statistic = \"cvmmax\", method = \"seq\"):\n",
      "“coercing 'x' to a matrix.”\n"
     ]
    }
   ],
   "source": [
    "pvalues <- c()\n",
    "for (idx in 0:102){\n",
    "    print(idx)\n",
    "    fs <- paste0(\"../NeuroImgR1/fMRI_Amatss/fMRI_Amats_idx\", idx, \".pkl\")\n",
    "    Amats <- pd$read_pickle(fs)\n",
    "    sigums <- list()\n",
    "    \n",
    "    for (i in 1:length(Amats)) {\n",
    "        s = svd(Amats[[i]])$d\n",
    "        sigums[[i]] <- s\n",
    "    }\n",
    "    sigMat = do.call(rbind, sigums)\n",
    "    res <- cpDist(sigMat[, 1], b = NULL, statistic = 'cvmmax', method = 'seq')\n",
    "    pvalues <- c(pvalues, res$p.value)\n",
    "}"
   ]
  },
  {
   "cell_type": "code",
   "execution_count": 6,
   "metadata": {},
   "outputs": [
    {
     "data": {
      "image/png": "[encoded data removed]",
      "text/plain": [
       "plot without title"
      ]
     },
     "metadata": {
      "image/png": {
       "height": 420,
       "width": 420
      }
     },
     "output_type": "display_data"
    }
   ],
   "source": [
    "plot(pvalues, ylab=\"P-value\", xlab=\"fMRI index\")\n",
    "abline(h=0.1, col=2)"
   ]
  },
  {
   "cell_type": "code",
   "execution_count": null,
   "metadata": {},
   "outputs": [],
   "source": []
  }
 ],
 "metadata": {
  "kernelspec": {
   "display_name": "R",
   "language": "R",
   "name": "ir"
  },
  "language_info": {
   "codemirror_mode": "r",
   "file_extension": ".r",
   "mimetype": "text/x-r-source",
   "name": "R",
   "pygments_lexer": "r",
   "version": "3.6.0"
  }
 },
 "nbformat": 4,
 "nbformat_minor": 2
}
