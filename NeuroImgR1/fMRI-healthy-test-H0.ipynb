{
 "cells": [
  {
   "cell_type": "code",
   "execution_count": 1,
   "metadata": {},
   "outputs": [],
   "source": [
    "import sys\n",
    "sys.path.append(\"/home/huaqingj/MyResearch/TVDN\")"
   ]
  },
  {
   "cell_type": "code",
   "execution_count": 15,
   "metadata": {},
   "outputs": [],
   "source": [
    "from pyTVDN.TVDNutils import *\n",
    "from pyTVDN import TVDNDetect\n",
    "from pyTVDN.tmpUtils import *\n",
    "from pathlib import Path\n",
    "from scipy.io import loadmat\n",
    "from scipy.signal import detrend\n",
    "import numpy as np\n",
    "import matplotlib.pyplot as plt\n",
    "import seaborn as sns\n",
    "from collections import Counter\n",
    "from collections import defaultdict as ddict\n",
    "from tqdm import tqdm\n",
    "import pickle\n",
    "from scipy.signal import lfilter, firls, decimate\n",
    "from numpy.linalg import inv, svd\n",
    "%matplotlib inline\n",
    "plt.style.use('ggplot')\n",
    "plt.rcParams[\"axes.grid\"] = False\n",
    "plt.rcParams[\"axes.edgecolor\"] = \"0.3\"\n",
    "#plt.rcParams[\"figure.facecolor\"] = \"white\"\n",
    "plt.rcParams[\"axes.facecolor\"] = \"white\"\n",
    "plt.rcParams['axes.labelcolor']='black'"
   ]
  },
  {
   "cell_type": "code",
   "execution_count": 3,
   "metadata": {},
   "outputs": [
    {
     "name": "stdout",
     "output_type": "stream",
     "text": [
      "../results/fMRIHPFs_sep/fMRIResultAdap_healthy.pkl\n"
     ]
    }
   ],
   "source": [
    "saveDir = Path(\"../results/fMRIHPFs_sep\")\n",
    "fil = list(saveDir.glob(\"*healthy.pkl\"))[0]\n",
    "print(fil)\n",
    "\n",
    "with open(fil, \"rb\") as f:\n",
    "    TVDNres = pickle.load(f)"
   ]
  },
  {
   "cell_type": "code",
   "execution_count": 4,
   "metadata": {},
   "outputs": [],
   "source": [
    "import rpy2.robjects as robj\n",
    "robj.r.source(\"../Rcode/utils.R\")\n",
    "\n",
    "RsegCorr = robj.r[\"segCorr\"]\n",
    "RsegPCA = robj.r[\"segPCA\"]\n",
    "RsegDMD = robj.r[\"DMD\"]\n",
    "RchgF = robj.r[\"chgF\"]"
   ]
  },
  {
   "cell_type": "code",
   "execution_count": 6,
   "metadata": {},
   "outputs": [],
   "source": [
    "DetObj = TVDNres.DetObjs[1]"
   ]
  },
  {
   "cell_type": "code",
   "execution_count": 9,
   "metadata": {},
   "outputs": [
    {
     "data": {
      "text/plain": [
       "8"
      ]
     },
     "execution_count": 9,
     "metadata": {},
     "output_type": "execute_result"
    }
   ],
   "source": [
    "DetObj.paras.r"
   ]
  },
  {
   "cell_type": "code",
   "execution_count": 17,
   "metadata": {},
   "outputs": [
    {
     "name": "stderr",
     "output_type": "stream",
     "text": [
      "100%|██████████| 103/103 [00:46<00:00,  2.22it/s]\n"
     ]
    }
   ],
   "source": [
    "flag = 0\n",
    "for DetObj in tqdm(TVDNres.DetObjs):\n",
    "    time = DetObj.time\n",
    "    Xmat = DetObj.Xmat\n",
    "    dXmat = DetObj.dXmat\n",
    "    downrate = 1\n",
    "    fct = DetObj.paras.fct\n",
    "    h = bw_nrd0_R(time, fct=fct)\n",
    "    d, n = Xmat.shape\n",
    "    Amats = []\n",
    "    for s in time[::downrate]:\n",
    "        t_diff = time - s\n",
    "        kernels = 1/np.sqrt(2*np.pi) * np.exp(-t_diff**2/2/h**2) # normal_pdf(x/h)\n",
    "        kernelroot = kernels ** (1/2)\n",
    "        kerdXmat = kernelroot[:, np.newaxis] * (dXmat.T) # n x d\n",
    "        kerXmat = kernelroot[:, np.newaxis] * (Xmat.T) # n x d\n",
    "        M = kerXmat.T.dot(kerXmat)/n\n",
    "        XY = kerdXmat.T.dot(kerXmat)/n\n",
    "        U, S, VT = svd(M)\n",
    "        r = np.argmax(np.cumsum(S)/np.sum(S) >= 0.999) + 1 # For real data\n",
    "        invM = U[:, :r].dot(np.diag(1/S[:r])).dot(VT[:r, :])\n",
    "        Amat =  XY.dot(invM)\n",
    "        Amats.append(Amat)\n",
    "    \n",
    "\n",
    "    with open(f\"../NeuroImgR1/fMRI_Amatss/fMRI_Amats_idx{flag}.pkl\", \"wb\") as f:\n",
    "        pickle.dump(Amats, f)\n",
    "    flag += 1"
   ]
  },
  {
   "cell_type": "code",
   "execution_count": 48,
   "metadata": {},
   "outputs": [
    {
     "name": "stderr",
     "output_type": "stream",
     "text": [
      "\n",
      "  0%|          | 0/103 [00:00<?, ?it/s]\u001b[A\n",
      "  1%|          | 1/103 [00:01<03:06,  1.83s/it]\u001b[A\n",
      "  2%|▏         | 2/103 [00:03<03:03,  1.82s/it]\u001b[A\n",
      "  3%|▎         | 3/103 [00:05<03:01,  1.81s/it]\u001b[A\n",
      "  4%|▍         | 4/103 [00:07<03:02,  1.84s/it]\u001b[A\n",
      "  5%|▍         | 5/103 [00:08<02:48,  1.72s/it]\u001b[A\n",
      "  6%|▌         | 6/103 [00:10<02:46,  1.72s/it]\u001b[A\n",
      "  7%|▋         | 7/103 [00:12<02:47,  1.74s/it]\u001b[A\n",
      "  8%|▊         | 8/103 [00:13<02:44,  1.73s/it]\u001b[A\n",
      "  9%|▊         | 9/103 [00:15<02:45,  1.76s/it]\u001b[A\n",
      " 10%|▉         | 10/103 [00:17<02:47,  1.80s/it]\u001b[A\n",
      " 11%|█         | 11/103 [00:19<02:49,  1.84s/it]\u001b[A\n",
      " 12%|█▏        | 12/103 [00:21<02:54,  1.92s/it]\u001b[A\n",
      " 13%|█▎        | 13/103 [00:23<02:50,  1.90s/it]\u001b[A\n",
      " 14%|█▎        | 14/103 [00:25<02:52,  1.94s/it]\u001b[A\n",
      " 15%|█▍        | 15/103 [00:26<02:35,  1.76s/it]\u001b[A\n",
      " 16%|█▌        | 16/103 [00:28<02:28,  1.71s/it]\u001b[A\n",
      " 17%|█▋        | 17/103 [00:30<02:20,  1.64s/it]\u001b[A\n",
      " 17%|█▋        | 18/103 [00:31<02:23,  1.68s/it]\u001b[A\n",
      " 18%|█▊        | 19/103 [00:33<02:24,  1.72s/it]\u001b[A\n",
      " 19%|█▉        | 20/103 [00:35<02:25,  1.76s/it]\u001b[A\n",
      " 20%|██        | 21/103 [00:37<02:20,  1.71s/it]\u001b[A\n",
      " 21%|██▏       | 22/103 [00:38<02:11,  1.62s/it]\u001b[A\n",
      " 22%|██▏       | 23/103 [00:40<02:12,  1.65s/it]\u001b[A\n",
      " 23%|██▎       | 24/103 [00:42<02:13,  1.70s/it]\u001b[A\n",
      " 24%|██▍       | 25/103 [00:43<02:15,  1.73s/it]\u001b[A\n",
      " 25%|██▌       | 26/103 [00:45<02:17,  1.78s/it]\u001b[A\n",
      " 26%|██▌       | 27/103 [00:47<02:16,  1.79s/it]\u001b[A\n",
      " 27%|██▋       | 28/103 [00:49<02:15,  1.81s/it]\u001b[A\n",
      " 28%|██▊       | 29/103 [00:51<02:14,  1.82s/it]\u001b[A\n",
      " 29%|██▉       | 30/103 [00:53<02:13,  1.82s/it]\u001b[A\n",
      " 30%|███       | 31/103 [00:54<02:11,  1.83s/it]\u001b[A\n",
      " 31%|███       | 32/103 [00:56<02:10,  1.84s/it]\u001b[A\n",
      " 32%|███▏      | 33/103 [00:58<02:08,  1.83s/it]\u001b[A\n",
      " 33%|███▎      | 34/103 [01:00<02:06,  1.83s/it]\u001b[A\n",
      " 34%|███▍      | 35/103 [01:02<02:05,  1.85s/it]\u001b[A\n",
      " 35%|███▍      | 36/103 [01:04<02:03,  1.84s/it]\u001b[A\n",
      " 36%|███▌      | 37/103 [01:05<02:01,  1.84s/it]\u001b[A\n",
      " 37%|███▋      | 38/103 [01:07<01:58,  1.83s/it]\u001b[A\n",
      " 38%|███▊      | 39/103 [01:09<01:57,  1.84s/it]\u001b[A\n",
      " 39%|███▉      | 40/103 [01:11<01:54,  1.82s/it]\u001b[A\n",
      " 40%|███▉      | 41/103 [01:13<01:52,  1.82s/it]\u001b[A\n",
      " 41%|████      | 42/103 [01:15<01:52,  1.84s/it]\u001b[A\n",
      " 42%|████▏     | 43/103 [01:16<01:49,  1.83s/it]\u001b[A\n",
      " 43%|████▎     | 44/103 [01:18<01:47,  1.83s/it]\u001b[A\n",
      " 44%|████▎     | 45/103 [01:20<01:46,  1.83s/it]\u001b[A\n",
      " 45%|████▍     | 46/103 [01:22<01:44,  1.83s/it]\u001b[A\n",
      " 46%|████▌     | 47/103 [01:24<01:42,  1.83s/it]\u001b[A\n",
      " 47%|████▋     | 48/103 [01:26<01:40,  1.83s/it]\u001b[A\n",
      " 48%|████▊     | 49/103 [01:27<01:38,  1.83s/it]\u001b[A\n",
      " 49%|████▊     | 50/103 [01:29<01:37,  1.83s/it]\u001b[A\n",
      " 50%|████▉     | 51/103 [01:31<01:35,  1.83s/it]\u001b[A\n",
      " 50%|█████     | 52/103 [01:33<01:33,  1.83s/it]\u001b[A\n",
      " 51%|█████▏    | 53/103 [01:35<01:31,  1.83s/it]\u001b[A\n",
      " 52%|█████▏    | 54/103 [01:36<01:28,  1.81s/it]\u001b[A\n",
      " 53%|█████▎    | 55/103 [01:38<01:27,  1.83s/it]\u001b[A\n",
      " 54%|█████▍    | 56/103 [01:40<01:25,  1.82s/it]\u001b[A\n",
      " 55%|█████▌    | 57/103 [01:42<01:23,  1.82s/it]\u001b[A\n",
      " 56%|█████▋    | 58/103 [01:44<01:22,  1.83s/it]\u001b[A\n",
      " 57%|█████▋    | 59/103 [01:46<01:20,  1.83s/it]\u001b[A\n",
      " 58%|█████▊    | 60/103 [01:47<01:17,  1.79s/it]\u001b[A\n",
      " 59%|█████▉    | 61/103 [01:49<01:15,  1.81s/it]\u001b[A\n",
      " 60%|██████    | 62/103 [01:51<01:14,  1.82s/it]\u001b[A\n",
      " 61%|██████    | 63/103 [01:53<01:12,  1.82s/it]\u001b[A\n",
      " 62%|██████▏   | 64/103 [01:55<01:11,  1.84s/it]\u001b[A\n",
      " 63%|██████▎   | 65/103 [01:57<01:08,  1.81s/it]\u001b[A\n",
      " 64%|██████▍   | 66/103 [01:58<01:07,  1.83s/it]\u001b[A\n",
      " 65%|██████▌   | 67/103 [02:00<01:06,  1.84s/it]\u001b[A\n",
      " 66%|██████▌   | 68/103 [02:02<01:04,  1.84s/it]\u001b[A\n",
      " 67%|██████▋   | 69/103 [02:04<01:02,  1.85s/it]\u001b[A\n",
      " 68%|██████▊   | 70/103 [02:06<01:02,  1.90s/it]\u001b[A\n",
      " 69%|██████▉   | 71/103 [02:07<00:56,  1.75s/it]\u001b[A\n",
      " 70%|██████▉   | 72/103 [02:09<00:52,  1.71s/it]\u001b[A\n",
      " 71%|███████   | 73/103 [02:11<00:52,  1.75s/it]\u001b[A\n",
      " 72%|███████▏  | 74/103 [02:13<00:51,  1.78s/it]\u001b[A\n",
      " 73%|███████▎  | 75/103 [02:14<00:50,  1.79s/it]\u001b[A\n",
      " 74%|███████▍  | 76/103 [02:17<00:51,  1.90s/it]\u001b[A\n",
      " 75%|███████▍  | 77/103 [02:18<00:48,  1.88s/it]\u001b[A\n",
      " 76%|███████▌  | 78/103 [02:20<00:42,  1.71s/it]\u001b[A\n",
      " 77%|███████▋  | 79/103 [02:21<00:39,  1.65s/it]\u001b[A\n",
      " 78%|███████▊  | 80/103 [02:23<00:39,  1.71s/it]\u001b[A\n",
      " 79%|███████▊  | 81/103 [02:25<00:38,  1.77s/it]\u001b[A\n",
      " 80%|███████▉  | 82/103 [02:27<00:37,  1.77s/it]\u001b[A\n",
      " 81%|████████  | 83/103 [02:29<00:35,  1.79s/it]\u001b[A\n",
      " 82%|████████▏ | 84/103 [02:30<00:34,  1.79s/it]\u001b[A\n",
      " 83%|████████▎ | 85/103 [02:32<00:32,  1.80s/it]\u001b[A\n",
      " 83%|████████▎ | 86/103 [02:34<00:30,  1.80s/it]\u001b[A\n",
      " 84%|████████▍ | 87/103 [02:36<00:28,  1.81s/it]\u001b[A\n",
      " 85%|████████▌ | 88/103 [02:38<00:27,  1.82s/it]\u001b[A\n",
      " 86%|████████▋ | 89/103 [02:40<00:25,  1.85s/it]\u001b[A\n",
      " 87%|████████▋ | 90/103 [02:42<00:24,  1.89s/it]\u001b[A\n",
      " 88%|████████▊ | 91/103 [02:44<00:22,  1.88s/it]\u001b[A\n",
      " 89%|████████▉ | 92/103 [02:46<00:21,  1.91s/it]\u001b[A\n",
      " 90%|█████████ | 93/103 [02:47<00:18,  1.88s/it]\u001b[A\n",
      " 91%|█████████▏| 94/103 [02:49<00:16,  1.87s/it]\u001b[A\n",
      " 92%|█████████▏| 95/103 [02:51<00:14,  1.80s/it]\u001b[A\n",
      " 93%|█████████▎| 96/103 [02:53<00:12,  1.80s/it]\u001b[A\n",
      " 94%|█████████▍| 97/103 [02:54<00:10,  1.70s/it]\u001b[A\n",
      " 95%|█████████▌| 98/103 [02:56<00:08,  1.72s/it]\u001b[A\n",
      " 96%|█████████▌| 99/103 [02:58<00:06,  1.75s/it]\u001b[A\n",
      " 97%|█████████▋| 100/103 [03:00<00:05,  1.78s/it]\u001b[A\n",
      " 98%|█████████▊| 101/103 [03:01<00:03,  1.83s/it]\u001b[A\n",
      " 99%|█████████▉| 102/103 [03:03<00:01,  1.82s/it]\u001b[A\n",
      "100%|██████████| 103/103 [03:05<00:00,  1.81s/it]\u001b[A"
     ]
    }
   ],
   "source": [
    "Nrep = 100\n",
    "errsH0s = []\n",
    "errH11s = []\n",
    "errH12s = []\n",
    "for DetObj in tqdm(TVDNres.DetObjs):\n",
    "    dXmat = DetObj.dXmat\n",
    "    Xmat = DetObj.Xmat\n",
    "    Ymat = DetObj.nYmat\n",
    "    d, n = Ymat.shape\n",
    "    ecpts = DetObj.ecpts\n",
    "    ndXmat = DetObj.midRes.ndXmat\n",
    "    nXmat = DetObj.midRes.nXmat\n",
    "    eigVecs = DetObj.midRes.eigVecs\n",
    "    r = DetObj.paras.r\n",
    "    tStep = np.diff(DetObj.time)[0]\n",
    "    paras = DetObj.paras\n",
    "    time = DetObj.time\n",
    "    predIdxs = np.delete(np.arange(n), trainIdxFn(ecpts, n))\n",
    "    \n",
    "    errsH0 = []\n",
    "    for jj in range(Nrep):\n",
    "        YmatPred = ReconXmatSWHalfH0(ecpts, dXmat, Xmat, Ymat, time, is_full=True)\n",
    "        YmatPred = YmatPred.EstXmatRealOrg\n",
    "        diffPred = Ymat - YmatPred\n",
    "                \n",
    "        YPart = Ymat[:, predIdxs]\n",
    "        YpredPart = YmatPred[:, predIdxs]\n",
    "        pdiff = YPart - YpredPart\n",
    "        # error under non random \n",
    "        err = np.sqrt((pdiff**2).sum(axis=0)/(YPart**2).sum(axis=0)).mean()\n",
    "        errsH0.append(err)\n",
    "        \n",
    "    errsH0s.append(errsH0)\n",
    "    \n",
    "    YmatPred = ReconXmatSWHalf(ecpts, dXmat, Xmat, Ymat, DetObj.time, paras, is_full=True)\n",
    "    YmatPred = YmatPred.EstXmatRealOrg\n",
    "    diffPred = Ymat - YmatPred\n",
    "            \n",
    "    YPart = Ymat[:, predIdxs]\n",
    "    YpredPart = YmatPred[:, predIdxs]\n",
    "    pdiff = YPart - YpredPart\n",
    "    errH11 = np.sqrt((pdiff**2).sum(axis=0)/(YPart**2).sum(axis=0)).mean()\n",
    "    errH11s.append(errH11)\n",
    "    \n",
    "    \n",
    "    YmatPred = ReconXmatSWHalf2(ecpts, dXmat, Xmat, Ymat, DetObj.time, is_full=True)\n",
    "    YmatPred = YmatPred.EstXmatRealOrg\n",
    "    diffPred = Ymat - YmatPred\n",
    "            \n",
    "    YPart = Ymat[:, predIdxs]\n",
    "    YpredPart = YmatPred[:, predIdxs]\n",
    "    pdiff = YPart - YpredPart\n",
    "    errH12 = np.sqrt((pdiff**2).sum(axis=0)/(YPart**2).sum(axis=0)).mean()\n",
    "    errH12s.append(errH12)"
   ]
  },
  {
   "cell_type": "code",
   "execution_count": 51,
   "metadata": {},
   "outputs": [],
   "source": [
    "pVal1s = []\n",
    "pVal2s = []\n",
    "for errH11, errH12, errsH0 in zip(errH11s, errH12s, errsH0s):\n",
    "    pVal1 = np.mean(np.array(errsH0) <= errH11)\n",
    "    pVal2 = np.mean(np.array(errsH0) <= errH12)\n",
    "    pVal1s.append(pVal1)\n",
    "    pVal2s.append(pVal2)"
   ]
  },
  {
   "cell_type": "code",
   "execution_count": 52,
   "metadata": {},
   "outputs": [
    {
     "data": {
      "text/plain": [
       "Text(0.5, 1.0, 'Method 2 (Amat)')"
      ]
     },
     "execution_count": 52,
     "metadata": {},
     "output_type": "execute_result"
    },
    {
     "data": {
      "image/png": "[encoded data removed]",
      "text/plain": [
       "<Figure size 720x360 with 2 Axes>"
      ]
     },
     "metadata": {},
     "output_type": "display_data"
    }
   ],
   "source": [
    "plt.figure(figsize=[10, 5])\n",
    "plt.subplot(121)\n",
    "plt.plot(pVal1s, \"o\")\n",
    "plt.xlabel(\"fMRI index\")\n",
    "plt.ylabel(\"pValue \")\n",
    "plt.title(\"Method 1 (U)\")\n",
    "\n",
    "plt.subplot(122)\n",
    "plt.plot(pVal1s, \"o\")\n",
    "plt.xlabel(\"fMRI index\")\n",
    "plt.ylabel(\"pValue \")\n",
    "plt.title(\"Method 2 (Amat)\")"
   ]
  },
  {
   "cell_type": "code",
   "execution_count": 47,
   "metadata": {},
   "outputs": [],
   "source": [
    "def ReconXmatSWHalf2(ecpts, dXmat, Xmat, Ymat, time, is_full=False):\n",
    "    \"\"\"\n",
    "    Input: \n",
    "        ecpts: Estimated change points, \n",
    "        dXmat: a d x n matrix\n",
    "        Xmat: a d x n matrix\n",
    "        Ymat: The matrix to construct, d x n \n",
    "        time: The time seq\n",
    "        r: The rank setted beforehand, in most cases, r=rAct. If we have non-complex singular values, r < rAct\n",
    "        if_full: Where outputing full info or not\n",
    "\n",
    "    Return:\n",
    "        Estimated Xmat, d x n\n",
    "    \"\"\"\n",
    "    \n",
    "    d, n = Ymat.shape\n",
    "    tStep = np.diff(time)[0]\n",
    "    trainIdxs = trainIdxFn(ecpts, n)\n",
    "    \n",
    "    ecptsfull = np.concatenate(([0], ecpts, [n])) - 1\n",
    "    ecptsfull = ecptsfull.astype(np.int)\n",
    "    numchgfull = len(ecptsfull)\n",
    "\n",
    "    Amats = []\n",
    "    for itr in range(numchgfull-1):\n",
    "        lower = ecptsfull[itr] + 1\n",
    "        upper = ecptsfull[itr+1] + 1\n",
    "        hncol = int(upper-lower/2)\n",
    "        Ycur = dXmat[:, lower:(lower+hncol)]\n",
    "        Xcur = Xmat[:, lower:(lower+hncol)]\n",
    "        Amat = GetAmatNoKernel(Ycur, Xcur) \n",
    "        Amats.append(Amat)\n",
    "        \n",
    "    \n",
    "    EstXmat = np.zeros((d, n), dtype=np.complex)\n",
    "    EstXmat[:, 0] = Ymat[:, 0]\n",
    "    for i in range(1, n):\n",
    "        if i in trainIdxs:\n",
    "            EstXmat[:, i] = Ymat[:, i]\n",
    "        else:\n",
    "            matIdx = np.sum(i>=numchgfull) - 1\n",
    "            Amat = Amats[matIdx]\n",
    "            EstXmat[:, i] = Amat.dot(EstXmat[:, i-1]) * tStep + EstXmat[:,i-1]\n",
    "        \n",
    "    if is_full:\n",
    "        ReDict = edict()\n",
    "        ReDict.EstXmatReal = detrend(EstXmat.real)\n",
    "        ReDict.EstXmatRealOrg = EstXmat.real\n",
    "        ReDict.EstXmatImag = EstXmat.imag\n",
    "        ReDict.Amats = Amats\n",
    "        return ReDict\n",
    "    else:\n",
    "        return detrend(EstXmat.real)"
   ]
  },
  {
   "cell_type": "code",
   "execution_count": null,
   "metadata": {},
   "outputs": [],
   "source": []
  }
 ],
 "metadata": {
  "kernelspec": {
   "display_name": "test",
   "language": "python",
   "name": "test"
  },
  "language_info": {
   "codemirror_mode": {
    "name": "ipython",
    "version": 3
   },
   "file_extension": ".py",
   "mimetype": "text/x-python",
   "name": "python",
   "nbconvert_exporter": "python",
   "pygments_lexer": "ipython3",
   "version": "3.6.13"
  }
 },
 "nbformat": 4,
 "nbformat_minor": 2
}
