{
 "cells": [
  {
   "cell_type": "code",
   "execution_count": 1,
   "metadata": {},
   "outputs": [],
   "source": [
    "import sys\n",
    "sys.path.append(\"/home/huaqingj/MyResearch/TVDN\")"
   ]
  },
  {
   "cell_type": "code",
   "execution_count": 2,
   "metadata": {},
   "outputs": [],
   "source": [
    "from pyTVDN.TVDNutils import *\n",
    "from pyTVDN import TVDNDetect\n",
    "from pyTVDN.tmpUtils import *\n",
    "from pathlib import Path\n",
    "from scipy.io import loadmat\n",
    "from scipy.signal import detrend\n",
    "import numpy as np\n",
    "import matplotlib.pyplot as plt\n",
    "import seaborn as sns\n",
    "from collections import Counter\n",
    "from collections import defaultdict as ddict\n",
    "from tqdm import tqdm\n",
    "import pickle\n",
    "from scipy.signal import lfilter, firls, decimate\n",
    "from numpy.linalg import inv, svd\n",
    "%matplotlib inline\n",
    "plt.style.use('ggplot')\n",
    "plt.rcParams[\"axes.grid\"] = False\n",
    "plt.rcParams[\"axes.edgecolor\"] = \"0.3\"\n",
    "#plt.rcParams[\"figure.facecolor\"] = \"white\"\n",
    "plt.rcParams[\"axes.facecolor\"] = \"white\"\n",
    "plt.rcParams['axes.labelcolor']='black'"
   ]
  },
  {
   "cell_type": "code",
   "execution_count": 3,
   "metadata": {},
   "outputs": [
    {
     "name": "stdout",
     "output_type": "stream",
     "text": [
      "../results/fMRIHPFs_sep/fMRIResultAdap_healthy.pkl\n"
     ]
    }
   ],
   "source": [
    "saveDir = Path(\"../results/fMRIHPFs_sep\")\n",
    "fil = list(saveDir.glob(\"*healthy.pkl\"))[0]\n",
    "print(fil)\n",
    "\n",
    "with open(fil, \"rb\") as f:\n",
    "    TVDNres = pickle.load(f)"
   ]
  },
  {
   "cell_type": "code",
   "execution_count": 4,
   "metadata": {},
   "outputs": [],
   "source": [
    "import rpy2.robjects as robj\n",
    "robj.r.source(\"../Rcode/utils.R\")\n",
    "\n",
    "RsegCorr = robj.r[\"segCorr\"]\n",
    "RsegPCA = robj.r[\"segPCA\"]\n",
    "RsegDMD = robj.r[\"DMD\"]\n",
    "RchgF = robj.r[\"chgF\"]"
   ]
  },
  {
   "cell_type": "code",
   "execution_count": 5,
   "metadata": {},
   "outputs": [
    {
     "name": "stderr",
     "output_type": "stream",
     "text": [
      "100%|██████████| 103/103 [00:47<00:00,  2.19it/s]\n"
     ]
    }
   ],
   "source": [
    "flag = 0\n",
    "for DetObj in tqdm(TVDNres.DetObjs):\n",
    "    time = DetObj.time\n",
    "    Xmat = DetObj.Xmat\n",
    "    dXmat = DetObj.dXmat\n",
    "    downrate = 1\n",
    "    fct = DetObj.paras.fct\n",
    "    h = bw_nrd0_R(time, fct=fct)\n",
    "    d, n = Xmat.shape\n",
    "    Amats = []\n",
    "    for s in time[::downrate]:\n",
    "        t_diff = time - s\n",
    "        kernels = 1/np.sqrt(2*np.pi) * np.exp(-t_diff**2/2/h**2) # normal_pdf(x/h)\n",
    "        kernelroot = kernels ** (1/2)\n",
    "        kerdXmat = kernelroot[:, np.newaxis] * (dXmat.T) # n x d\n",
    "        kerXmat = kernelroot[:, np.newaxis] * (Xmat.T) # n x d\n",
    "        M = kerXmat.T.dot(kerXmat)/n\n",
    "        XY = kerdXmat.T.dot(kerXmat)/n\n",
    "        U, S, VT = svd(M)\n",
    "        r = np.argmax(np.cumsum(S)/np.sum(S) >= 0.999) + 1 # For real data\n",
    "        invM = U[:, :r].dot(np.diag(1/S[:r])).dot(VT[:r, :])\n",
    "        Amat =  XY.dot(invM)\n",
    "        Amats.append(Amat)\n",
    "    \n",
    "\n",
    "    with open(f\"../NeuroImgR1/fMRI_Amatss/fMRI_Amats_idx{flag}.pkl\", \"wb\") as f:\n",
    "        pickle.dump(Amats, f)\n",
    "    flag += 1"
   ]
  },
  {
   "cell_type": "code",
   "execution_count": 5,
   "metadata": {},
   "outputs": [
    {
     "name": "stderr",
     "output_type": "stream",
     "text": [
      "100%|██████████| 103/103 [02:43<00:00,  1.64s/it]\n"
     ]
    }
   ],
   "source": [
    "Nrep = 100\n",
    "errsH0s = []\n",
    "errH11s = []\n",
    "errH12s = []\n",
    "for DetObj in tqdm(TVDNres.DetObjs):\n",
    "    dXmat = DetObj.dXmat\n",
    "    Xmat = DetObj.Xmat\n",
    "    Ymat = DetObj.nYmat\n",
    "    d, n = Ymat.shape\n",
    "    ecpts = DetObj.ecpts\n",
    "    ndXmat = DetObj.midRes.ndXmat\n",
    "    nXmat = DetObj.midRes.nXmat\n",
    "    eigVecs = DetObj.midRes.eigVecs\n",
    "    r = DetObj.paras.r\n",
    "    tStep = np.diff(DetObj.time)[0]\n",
    "    paras = DetObj.paras\n",
    "    time = DetObj.time\n",
    "    predIdxs = np.delete(np.arange(n), trainIdxFn(ecpts, n))\n",
    "    \n",
    "    errsH0 = []\n",
    "    for jj in range(Nrep):\n",
    "        YmatPred = ReconXmatSWHalfH0(ecpts, dXmat, Xmat, Ymat, time, rate=1, is_full=True)\n",
    "        YmatPred = YmatPred.EstXmatRealOrg\n",
    "        diffPred = Ymat - YmatPred\n",
    "                \n",
    "        YPart = Ymat[:, predIdxs]\n",
    "        YpredPart = YmatPred[:, predIdxs]\n",
    "        pdiff = YPart - YpredPart\n",
    "        # error under non random \n",
    "        err = np.sqrt((pdiff**2).sum(axis=0)/(YPart**2).sum(axis=0)).mean()\n",
    "        errsH0.append(err)\n",
    "        \n",
    "    errsH0s.append(errsH0)\n",
    "    \n",
    "    YmatPred = ReconXmatSWHalf2(ecpts, dXmat, Xmat, Ymat, DetObj.time, rate=1, is_full=True)\n",
    "    YmatPred = YmatPred.EstXmatRealOrg\n",
    "    diffPred = Ymat - YmatPred\n",
    "            \n",
    "    YPart = Ymat[:, predIdxs]\n",
    "    YpredPart = YmatPred[:, predIdxs]\n",
    "    pdiff = YPart - YpredPart\n",
    "    errH12 = np.sqrt((pdiff**2).sum(axis=0)/(YPart**2).sum(axis=0)).mean()\n",
    "    errH12s.append(errH12)"
   ]
  },
  {
   "cell_type": "code",
   "execution_count": 7,
   "metadata": {},
   "outputs": [],
   "source": [
    "pVals = []\n",
    "for errH12, errsH0 in zip(errH12s, errsH0s):\n",
    "    pVal = np.mean(np.array(errsH0) <= errH12)\n",
    "    pVals.append(pVal)"
   ]
  },
  {
   "cell_type": "code",
   "execution_count": 10,
   "metadata": {},
   "outputs": [
    {
     "data": {
      "image/png": "[encoded data removed]",
      "text/plain": [
       "<Figure size 360x360 with 1 Axes>"
      ]
     },
     "metadata": {},
     "output_type": "display_data"
    }
   ],
   "source": [
    "plt.figure(figsize=[5, 5])\n",
    "plt.plot(pVals, \"o\")\n",
    "plt.axhline(y = 0.05, color=\"black\")\n",
    "plt.ylim([-0.02, 0.1])\n",
    "plt.xlabel(\"fMRI sample index\")\n",
    "plt.ylabel(\"P-value \")\n",
    "plt.savefig(\"./plots/fMRI_test_pvalue.jpg\",  bbox_inches='tight')"
   ]
  },
  {
   "cell_type": "code",
   "execution_count": null,
   "metadata": {},
   "outputs": [],
   "source": []
  }
 ],
 "metadata": {
  "kernelspec": {
   "display_name": "test",
   "language": "python",
   "name": "test"
  },
  "language_info": {
   "codemirror_mode": {
    "name": "ipython",
    "version": 3
   },
   "file_extension": ".py",
   "mimetype": "text/x-python",
   "name": "python",
   "nbconvert_exporter": "python",
   "pygments_lexer": "ipython3",
   "version": "3.6.13"
  }
 },
 "nbformat": 4,
 "nbformat_minor": 2
}
