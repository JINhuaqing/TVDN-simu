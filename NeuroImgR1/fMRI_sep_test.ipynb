{
 "cells": [
  {
   "cell_type": "code",
   "execution_count": 3,
   "metadata": {},
   "outputs": [],
   "source": [
    "import sys\n",
    "sys.path.append(\"/home/huaqingj/MyResearch/TVDN\")"
   ]
  },
  {
   "cell_type": "code",
   "execution_count": 4,
   "metadata": {},
   "outputs": [],
   "source": [
    "from pyTVDN import TVDNDetect\n",
    "from pathlib import Path\n",
    "from scipy.io import loadmat\n",
    "from scipy.signal import detrend\n",
    "import numpy as np\n",
    "import matplotlib.pyplot as plt\n",
    "import seaborn as sns\n",
    "from scipy.signal import lfilter, firls, decimate\n",
    "from tqdm import tqdm\n",
    "from easydict import EasyDict as edict\n",
    "from collections import Counter\n",
    "import pickle\n",
    "import pandas as pd\n",
    "import scipy.stats as ss\n",
    "from collections import defaultdict as ddict\n",
    "\n",
    "%matplotlib inline"
   ]
  },
  {
   "cell_type": "code",
   "execution_count": 5,
   "metadata": {},
   "outputs": [],
   "source": [
    "def minmax(x):\n",
    "    num = x - np.min(x)\n",
    "    den = np.max(x) - np.min(x)\n",
    "    return num/den  "
   ]
  },
  {
   "cell_type": "code",
   "execution_count": 6,
   "metadata": {},
   "outputs": [],
   "source": [
    "resDir = Path(\"./results\")\n",
    "dataDir = Path(\"../data\")"
   ]
  },
  {
   "cell_type": "markdown",
   "metadata": {},
   "source": [
    "### Load results "
   ]
  },
  {
   "cell_type": "code",
   "execution_count": 7,
   "metadata": {},
   "outputs": [],
   "source": [
    "def BarResFn(numList):\n",
    "    numCts = Counter(numList)\n",
    "    kys = list(numCts.keys())\n",
    "    kys = sorted(kys)\n",
    "    Cts = [numCts[ky] for ky in kys]\n",
    "    Freqs = np.array(Cts)/np.sum(Cts)\n",
    "    res = edict()\n",
    "    res.kys = kys\n",
    "    res.Cts = Cts\n",
    "    res.Freqs = Freqs\n",
    "    return res"
   ]
  },
  {
   "cell_type": "code",
   "execution_count": 8,
   "metadata": {},
   "outputs": [],
   "source": [
    "with open(\"../results/fMRIHPFs_sep/fMRIResultAdap_healthy.pkl\", \"rb\") as f:\n",
    "    results = pickle.load(f)"
   ]
  },
  {
   "cell_type": "code",
   "execution_count": 9,
   "metadata": {},
   "outputs": [],
   "source": [
    "numChgs = []\n",
    "numRanks = []\n",
    "for DetObj in results.DetObjs:\n",
    "    numChgs.append(len(DetObj.ecpts))\n",
    "    numRanks.append(DetObj.paras.r)"
   ]
  },
  {
   "cell_type": "markdown",
   "metadata": {},
   "source": [
    "## Distribution of num of change points"
   ]
  },
  {
   "cell_type": "code",
   "execution_count": 10,
   "metadata": {},
   "outputs": [],
   "source": [
    "chgsBoth = BarResFn(numChgs)\n",
    "chgsHalf1 = BarResFn(numChgs[:52])\n",
    "chgsHalf2 = BarResFn(numChgs[52:])"
   ]
  },
  {
   "cell_type": "code",
   "execution_count": 22,
   "metadata": {},
   "outputs": [
    {
     "data": {
      "image/png": "[encoded data removed]",
      "text/plain": [
       "<Figure size 720x360 with 2 Axes>"
      ]
     },
     "metadata": {
      "needs_background": "light"
     },
     "output_type": "display_data"
    }
   ],
   "source": [
    "plt.figure(figsize=[10, 5])\n",
    "\n",
    "# plt.subplot(131)\n",
    "# plt.title(\"All data\", fontsize=25)\n",
    "# plt.bar(chgsBoth.kys, chgsBoth.Freqs)\n",
    "# plt.xlabel(\"Num of switchings\", fontsize=20)\n",
    "# plt.ylabel(\"Percentage\", fontsize=20)\n",
    "# plt.xlim([4, 12])\n",
    "# plt.ylim([0, 0.6])\n",
    "\n",
    "plt.subplot(121)\n",
    "plt.title(\"First half\", fontsize=25)\n",
    "plt.bar(chgsHalf1.kys, chgsHalf1.Freqs)\n",
    "plt.xlabel(\"Num of switchings\", fontsize=20)\n",
    "plt.ylabel(\"Percentage\", fontsize=20)\n",
    "plt.xlim([4, 12])\n",
    "plt.ylim([0, 0.6])\n",
    "\n",
    "plt.subplot(122)\n",
    "plt.title(\"Second half\", fontsize=25)\n",
    "plt.bar(chgsHalf2.kys, chgsHalf2.Freqs)\n",
    "plt.xlabel(\"Num of switchings\", fontsize=20)\n",
    "plt.ylabel(\"Percentage\", fontsize=20)\n",
    "plt.xlim([4, 12])\n",
    "plt.ylim([0, 0.6])\n",
    "\n",
    "plt.savefig(f\"./plots/fMRI_sep_numChgs.jpg\", bbox_inches='tight')"
   ]
  },
  {
   "cell_type": "markdown",
   "metadata": {},
   "source": [
    "## Distribution of num of ranks"
   ]
  },
  {
   "cell_type": "code",
   "execution_count": 12,
   "metadata": {},
   "outputs": [],
   "source": [
    "rankBoth = BarResFn(numRanks)\n",
    "rankHalf1 = BarResFn(numRanks[:52])\n",
    "rankHalf2 = BarResFn(numRanks[52:])"
   ]
  },
  {
   "cell_type": "code",
   "execution_count": 21,
   "metadata": {},
   "outputs": [
    {
     "data": {
      "image/png": "[encoded data removed]",
      "text/plain": [
       "<Figure size 720x360 with 2 Axes>"
      ]
     },
     "metadata": {
      "needs_background": "light"
     },
     "output_type": "display_data"
    }
   ],
   "source": [
    "plt.figure(figsize=[10, 5])\n",
    "\n",
    "# plt.subplot(131)\n",
    "# plt.title(\"All data\", fontsize=25)\n",
    "# plt.bar(rankBoth.kys, rankBoth.Freqs)\n",
    "# plt.xlabel(\"Ranks\", fontsize=20)\n",
    "# plt.ylabel(\"Percentage\", fontsize=20)\n",
    "# plt.xlim([5, 10])\n",
    "# plt.ylim([0, 0.7])\n",
    "\n",
    "\n",
    "plt.subplot(121)\n",
    "plt.title(\"First half\", fontsize=25)\n",
    "plt.bar(rankHalf1.kys, rankHalf1.Freqs)\n",
    "plt.xlabel(\"Ranks\", fontsize=20)\n",
    "plt.ylabel(\"Percentage\", fontsize=20)\n",
    "plt.xlim([5, 10])\n",
    "plt.ylim([0, 0.7])\n",
    "\n",
    "plt.subplot(122)\n",
    "plt.title(\"Second half\", fontsize=25)\n",
    "plt.bar(rankHalf2.kys, rankHalf2.Freqs)\n",
    "plt.xlabel(\"Ranks\", fontsize=20)\n",
    "plt.ylabel(\"Percentage\", fontsize=20)\n",
    "plt.xlim([5, 10])\n",
    "plt.ylim([0, 0.7])\n",
    "\n",
    "plt.savefig(f\"./plots/fMRI_sep_ranks.jpg\", bbox_inches='tight')"
   ]
  },
  {
   "cell_type": "markdown",
   "metadata": {},
   "source": [
    "## Violin plot"
   ]
  },
  {
   "cell_type": "markdown",
   "metadata": {},
   "source": [
    "### The conanical networks"
   ]
  },
  {
   "cell_type": "code",
   "execution_count": 14,
   "metadata": {},
   "outputs": [],
   "source": [
    "fcRDF = pd.read_csv(\"../data/fMRI_labels/AALICA.csv\")\n",
    "fcR = np.array(fcRDF)[:90, :]\n",
    "names = list(fcRDF.columns)\n",
    "names = [name.strip() for name in names]\n",
    "\n",
    "fcR = np.array([minmax(fcR[:, i]) for i in range(7)])\n",
    "fcR = fcR.T"
   ]
  },
  {
   "cell_type": "code",
   "execution_count": 15,
   "metadata": {},
   "outputs": [],
   "source": [
    "Us = []\n",
    "cFlag = 0\n",
    "for idx, DetObj in enumerate(results.DetObjs):\n",
    "    r = DetObj.paras.r\n",
    "    rUs = DetObj.midRes.eigVecs[:, :r]\n",
    "    kpidxs = np.where(np.diff(np.concatenate([[np.Inf], np.abs(rUs[0, :])])) != 0)[0]\n",
    "    for ix in kpidxs:\n",
    "        Us.append(rUs[:, ix])\n",
    "        if idx < 52:\n",
    "            cFlag += 1\n",
    "        \n",
    "absUs = np.array(np.abs(Us))\n",
    "absUsList =[minmax(absUs[i, :]) for i in range(absUs.shape[0])]\n",
    "absUs = np.array(absUsList)"
   ]
  },
  {
   "cell_type": "code",
   "execution_count": 17,
   "metadata": {},
   "outputs": [],
   "source": [
    "corrs = ddict(list)\n",
    "for absU in absUs:\n",
    "    for j, name in enumerate(names):\n",
    "        corrs[name].append(ss.pearsonr(fcR[:, j], absU)[0])\n",
    "        \n",
    "corDF = pd.DataFrame(corrs)\n",
    "corArr = np.array(corDF)"
   ]
  },
  {
   "cell_type": "code",
   "execution_count": 18,
   "metadata": {},
   "outputs": [],
   "source": [
    "corArrMax = np.max(corArr, axis=1)\n",
    "corArrMaxHalf1 = corArrMax[:cFlag]\n",
    "corArrMaxHalf2 = corArrMax[cFlag:]"
   ]
  },
  {
   "cell_type": "code",
   "execution_count": 24,
   "metadata": {},
   "outputs": [],
   "source": [
    "rawVs = list(corArrMaxHalf1) + list(corArrMaxHalf2)\n",
    "violabs = [\"First half\"]*len(corArrMaxHalf1) +  [\"Second half\"]*len(corArrMaxHalf2)"
   ]
  },
  {
   "cell_type": "code",
   "execution_count": 25,
   "metadata": {},
   "outputs": [
    {
     "data": {
      "image/png": "[encoded data removed]",
      "text/plain": [
       "<Figure size 432x288 with 1 Axes>"
      ]
     },
     "metadata": {
      "needs_background": "light"
     },
     "output_type": "display_data"
    }
   ],
   "source": [
    "plt.figure(figsize=[6, 4])\n",
    "sns.violinplot(y=rawVs, x=violabs)\n",
    "plt.ylabel(\"Correlation\", fontsize=20)\n",
    "plt.xticks(color=\"black\", fontsize=14, rotation=45)\n",
    "plt.savefig(\"./plots/fMRI_sep_violin.jpg\", bbox_inches='tight')"
   ]
  },
  {
   "cell_type": "code",
   "execution_count": null,
   "metadata": {},
   "outputs": [],
   "source": []
  }
 ],
 "metadata": {
  "kernelspec": {
   "display_name": "test",
   "language": "python",
   "name": "test"
  },
  "language_info": {
   "codemirror_mode": {
    "name": "ipython",
    "version": 3
   },
   "file_extension": ".py",
   "mimetype": "text/x-python",
   "name": "python",
   "nbconvert_exporter": "python",
   "pygments_lexer": "ipython3",
   "version": "3.6.13"
  }
 },
 "nbformat": 4,
 "nbformat_minor": 2
}
