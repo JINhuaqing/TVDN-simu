{
 "cells": [
  {
   "cell_type": "code",
   "execution_count": 8,
   "metadata": {},
   "outputs": [],
   "source": [
    "import sys\n",
    "sys.path.append(\"/home/huaqingj/MyResearch/TVDN\")"
   ]
  },
  {
   "cell_type": "code",
   "execution_count": 9,
   "metadata": {},
   "outputs": [],
   "source": [
    "from pyTVDN import TVDNDetect\n",
    "from pathlib import Path\n",
    "from scipy.io import loadmat\n",
    "from scipy.signal import detrend\n",
    "import numpy as np\n",
    "import matplotlib.pyplot as plt\n",
    "import seaborn as sns\n",
    "%matplotlib inline\n",
    "from scipy.signal import lfilter, firls, decimate\n",
    "from tqdm import tqdm\n",
    "from easydict import EasyDict as edict\n",
    "from collections import Counter\n",
    "import pickle"
   ]
  },
  {
   "cell_type": "code",
   "execution_count": 10,
   "metadata": {},
   "outputs": [],
   "source": [
    "resDir = Path(\"../results\")\n",
    "dataDir = Path(\"../data\")\n",
    "\n",
    "filname = Path(\"fMRI_samples.mat\")\n",
    "fMRIs = loadmat(dataDir/filname)[\"clean_subjects\"]"
   ]
  },
  {
   "cell_type": "code",
   "execution_count": 11,
   "metadata": {},
   "outputs": [],
   "source": [
    "fs = 0.5 #sampling frequency\n",
    "fmin = 0.009 # \n",
    "fmax = 0.08\n",
    "hbp = firls(21, np.array([0, 0.009, 0.01, 0.08, 0.09, 0.8]), #0.8\n",
    "           desired = np.array([0, 0, 1, 1, 0, 0]))\n",
    "\n",
    "num = fMRIs.shape[-1]\n",
    "fMRIsHPF = []\n",
    "for i in range(num):\n",
    "    cfMRI = fMRIs[0, i][\"fMRI\"][:90, :]\n",
    "    # detrend\n",
    "    cfMRI = detrend(cfMRI)\n",
    "    chpffMRI = lfilter(hbp, 1, cfMRI)\n",
    "    fMRIsHPF.append(chpffMRI[:, 25:])"
   ]
  },
  {
   "cell_type": "code",
   "execution_count": null,
   "metadata": {},
   "outputs": [
    {
     "name": "stdout",
     "output_type": "stream",
     "text": [
      "The total time is 3.19s, the every time is 3.187s.\n",
      "The total time is 6.43s, the every time is 3.215s.\n",
      "The total time is 9.67s, the every time is 3.222s.\n",
      "The total time is 12.89s, the every time is 3.222s.\n",
      "The total time is 16.10s, the every time is 3.219s.\n",
      "The total time is 19.33s, the every time is 3.222s.\n",
      "The total time is 22.59s, the every time is 3.227s.\n",
      "The total time is 25.81s, the every time is 3.227s.\n",
      "The total time is 29.05s, the every time is 3.228s.\n",
      "The total time is 32.29s, the every time is 3.229s.\n",
      "The total time is 35.88s, the every time is 3.262s.\n",
      "The total time is 39.14s, the every time is 3.262s.\n",
      "The total time is 42.35s, the every time is 3.258s.\n",
      "The total time is 45.87s, the every time is 3.277s.\n",
      "The total time is 49.12s, the every time is 3.274s.\n",
      "The total time is 52.34s, the every time is 3.271s.\n",
      "The total time is 55.56s, the every time is 3.269s.\n",
      "The total time is 58.80s, the every time is 3.267s.\n",
      "The total time is 62.04s, the every time is 3.265s.\n",
      "The total time is 65.30s, the every time is 3.265s.\n",
      "The total time is 68.55s, the every time is 3.264s.\n",
      "The total time is 71.78s, the every time is 3.263s.\n",
      "The total time is 75.36s, the every time is 3.276s.\n",
      "The total time is 78.62s, the every time is 3.276s.\n",
      "The total time is 81.85s, the every time is 3.274s.\n"
     ]
    }
   ],
   "source": [
    "import time\n",
    "Lmin = 4\n",
    "lamb = 8e-5\n",
    "kappas = np.arange(1, 4, 0.01)\n",
    "\n",
    "DetObjs = []\n",
    "\n",
    "t0 = time.time()\n",
    "for ii in range(100):\n",
    "    Ymat = fMRIsHPF[ii]\n",
    "    DetRec = TVDNDetect(Ymat=Ymat, dataType=\"fMRI\", MaxM=20, is_detrend=False,\n",
    "                      saveDir=None, showProgress=False, Lmin=Lmin, lamb=lamb, kappa=2, r=None)\n",
    "    DetRec()\n",
    "    #DetRec.TuningKappa(kappas)\n",
    "    \n",
    "    DetObjs.append(DetRec)\n",
    "    dT = time.time() - t0\n",
    "    print(f\"The total time is {dT:.2f}s, the every time is {dT/(ii+1):.3f}s.\")"
   ]
  },
  {
   "cell_type": "code",
   "execution_count": null,
   "metadata": {},
   "outputs": [],
   "source": []
  }
 ],
 "metadata": {
  "kernelspec": {
   "display_name": "test",
   "language": "python",
   "name": "test"
  },
  "language_info": {
   "codemirror_mode": {
    "name": "ipython",
    "version": 3
   },
   "file_extension": ".py",
   "mimetype": "text/x-python",
   "name": "python",
   "nbconvert_exporter": "python",
   "pygments_lexer": "ipython3",
   "version": "3.6.13"
  }
 },
 "nbformat": 4,
 "nbformat_minor": 2
}
