{
 "cells": [
  {
   "cell_type": "code",
   "execution_count": 1,
   "metadata": {},
   "outputs": [],
   "source": [
    "import sys\n",
    "sys.path.append(\"/home/huaqingj/MyResearch/TVDN\")"
   ]
  },
  {
   "cell_type": "code",
   "execution_count": 2,
   "metadata": {},
   "outputs": [],
   "source": [
    "from pyTVDN import TVDNDetect\n",
    "from pathlib import Path\n",
    "from scipy.io import loadmat\n",
    "from scipy.signal import detrend\n",
    "import numpy as np\n",
    "import matplotlib.pyplot as plt\n",
    "import seaborn as sns\n",
    "from scipy.signal import lfilter, firls, decimate\n",
    "from tqdm import tqdm\n",
    "from easydict import EasyDict as edict\n",
    "from collections import Counter\n",
    "import pickle\n",
    "import rpy2.robjects as robj\n",
    "\n",
    "%matplotlib inline"
   ]
  },
  {
   "cell_type": "markdown",
   "metadata": {},
   "source": [
    "### Parameters"
   ]
  },
  {
   "cell_type": "code",
   "execution_count": 3,
   "metadata": {},
   "outputs": [],
   "source": [
    "kappa = 1.53\n",
    "lamb = 1e-6\n",
    "r = 6\n",
    "Lmin = 10\n",
    "fct = 2"
   ]
  },
  {
   "cell_type": "code",
   "execution_count": 4,
   "metadata": {},
   "outputs": [
    {
     "data": {
      "text/html": [
       "\n",
       "        <span>StrVector with 4 elements.</span>\n",
       "        <table>\n",
       "        <tbody>\n",
       "          <tr>\n",
       "          \n",
       "            <td>\n",
       "            'datamatrix'\n",
       "            </td>\n",
       "          \n",
       "            <td>\n",
       "            'truematrix'\n",
       "            </td>\n",
       "          \n",
       "            <td>\n",
       "            'candlist0'\n",
       "            </td>\n",
       "          \n",
       "            <td>\n",
       "            'U'\n",
       "            </td>\n",
       "          \n",
       "          </tr>\n",
       "        </tbody>\n",
       "        </table>\n",
       "        "
      ],
      "text/plain": [
       "<rpy2.robjects.vectors.StrVector object at 0x7f200de66f88> [RTYPES.STRSXP]\n",
       "R classes: ('character',)\n",
       "['datamatrix', 'truematrix', 'candlist0', 'U']"
      ]
     },
     "execution_count": 4,
     "metadata": {},
     "output_type": "execute_result"
    }
   ],
   "source": [
    "robj.r[\"load\"](f\"/home/huaqingj/MyResearch/TVDN/NeuroImgR1/data/dataMat_Nsim50_Chg3_rank{r}_len180.RData\")"
   ]
  },
  {
   "cell_type": "code",
   "execution_count": 5,
   "metadata": {},
   "outputs": [
    {
     "name": "stderr",
     "output_type": "stream",
     "text": [
      "100%|██████████| 50/50 [03:10<00:00,  3.81s/it]\n"
     ]
    }
   ],
   "source": [
    "DetObjs = []\n",
    "for i in tqdm(range(len(robj.r[\"datamatrix\"]))):\n",
    "    Ymat = np.array(robj.r[\"datamatrix\"][i])\n",
    "    DetRec = TVDNDetect(Ymat=Ymat, dataType=\"fMRI\", MaxM=10, is_detrend=False,\n",
    "                      saveDir=None, showProgress=False, Lmin=Lmin, lamb=lamb, kappa=kappa, r=r, fct=fct)\n",
    "    DetRec()\n",
    "    DetObjs.append(DetRec)"
   ]
  },
  {
   "cell_type": "markdown",
   "metadata": {},
   "source": [
    "## Results "
   ]
  },
  {
   "cell_type": "code",
   "execution_count": 6,
   "metadata": {},
   "outputs": [],
   "source": [
    "d, n = DetObjs[0].Ymat.shape\n",
    "cpts =  np.array(robj.r[\"candlist0\"])[1:-1]\n",
    "cpts = cpts.astype(int)"
   ]
  },
  {
   "cell_type": "markdown",
   "metadata": {},
   "source": [
    "### Plots under the true number of change points"
   ]
  },
  {
   "cell_type": "code",
   "execution_count": 7,
   "metadata": {},
   "outputs": [],
   "source": [
    "ecptss = [DetObj.finalRes.chgMat[len(cpts)-1, :len(cpts)] for DetObj in DetObjs]"
   ]
  },
  {
   "cell_type": "code",
   "execution_count": 8,
   "metadata": {},
   "outputs": [
    {
     "data": {
      "image/png": "[encoded data removed]",
      "text/plain": [
       "<Figure size 432x288 with 1 Axes>"
      ]
     },
     "metadata": {
      "needs_background": "light"
     },
     "output_type": "display_data"
    }
   ],
   "source": [
    "simuIdx = []\n",
    "pos = []\n",
    "for idx, chgpts in enumerate(ecptss):\n",
    "    pos += list(chgpts)\n",
    "    simuIdx += ([idx+1]*len(chgpts))\n",
    "plt.plot(pos, simuIdx, \".\", color=\"red\")\n",
    "plt.xlim([0, n])\n",
    "plt.xticks(cpts, cpts)\n",
    "for cpt in cpts:\n",
    "    plt.axvline(cpt, color=\"black\")"
   ]
  },
  {
   "cell_type": "markdown",
   "metadata": {},
   "source": [
    "### Find the optimal kappa and get the plot under this kappa"
   ]
  },
  {
   "cell_type": "code",
   "execution_count": 9,
   "metadata": {},
   "outputs": [],
   "source": [
    "kps = np.linspace(0, 4, 100)\n",
    "numchgss = []\n",
    "for DetObj in DetObjs:\n",
    "    DetObj.TuningKappa(kps)\n",
    "    numchgs = DetObj.numchgs\n",
    "    numchgss.append(numchgs)"
   ]
  },
  {
   "cell_type": "code",
   "execution_count": 10,
   "metadata": {},
   "outputs": [],
   "source": [
    "nChgArr = np.array(numchgss)\n",
    "optIdx = np.argmin(np.abs(nChgArr.mean(axis=0) - 3))\n",
    "optKp = kps[optIdx]\n",
    "for DetObj in DetObjs:\n",
    "    DetObj.UpdateEcpts(DetObj.numchgs[optIdx])"
   ]
  },
  {
   "cell_type": "code",
   "execution_count": 11,
   "metadata": {},
   "outputs": [],
   "source": [
    "ecptss = [DetObj.ecpts for DetObj in DetObjs]"
   ]
  },
  {
   "cell_type": "code",
   "execution_count": 12,
   "metadata": {},
   "outputs": [
    {
     "data": {
      "image/png": "[encoded data removed]",
      "text/plain": [
       "<Figure size 432x288 with 1 Axes>"
      ]
     },
     "metadata": {
      "needs_background": "light"
     },
     "output_type": "display_data"
    }
   ],
   "source": [
    "simuIdx = []\n",
    "pos = []\n",
    "for idx, chgpts in enumerate(ecptss):\n",
    "    pos += list(chgpts)\n",
    "    simuIdx += ([idx+1]*len(chgpts))\n",
    "plt.plot(pos, simuIdx, \".\", color=\"red\")\n",
    "plt.xlim([0, n])\n",
    "plt.xticks(cpts, cpts)\n",
    "for cpt in cpts:\n",
    "    plt.axvline(cpt, color=\"black\")"
   ]
  },
  {
   "cell_type": "code",
   "execution_count": 13,
   "metadata": {},
   "outputs": [
    {
     "name": "stdout",
     "output_type": "stream",
     "text": [
      "The kappa is 1.576\n"
     ]
    }
   ],
   "source": [
    "print(f\"The kappa is {optKp:.3f}\")"
   ]
  },
  {
   "cell_type": "code",
   "execution_count": null,
   "metadata": {},
   "outputs": [],
   "source": [
    "with open(f\"./results/newSimu_fct{fct*10:.0f}_rank{r:.0f}.pkl\", \"wb\") as f:\n",
    "    pickle.dump(DetObjs, f)"
   ]
  },
  {
   "cell_type": "markdown",
   "metadata": {},
   "source": [
    "### Number of chgs vs BIC plot"
   ]
  },
  {
   "cell_type": "code",
   "execution_count": 18,
   "metadata": {},
   "outputs": [
    {
     "data": {
      "image/png": "[encoded data removed]",
      "text/plain": [
       "<Figure size 432x288 with 1 Axes>"
      ]
     },
     "metadata": {
      "needs_background": "light"
     },
     "output_type": "display_data"
    }
   ],
   "source": [
    "mbicss = [DetObj.finalRes.U for DetObj in DetObjs]\n",
    "mbicss = np.array(mbicss)\n",
    "plt.boxplot(mbicss)\n",
    "plt.xlabel(\"Number of switchings\")\n",
    "_ = plt.xticks(list(range(1, 12)), list(range(11)))"
   ]
  },
  {
   "cell_type": "markdown",
   "metadata": {},
   "source": [
    "### Ranks ve Error plot"
   ]
  },
  {
   "cell_type": "code",
   "execution_count": 28,
   "metadata": {},
   "outputs": [],
   "source": [
    "DetObjss = edict()\n",
    "DetObjss[f\"rank{r}\"] = DetObjs"
   ]
  },
  {
   "cell_type": "code",
   "execution_count": 34,
   "metadata": {},
   "outputs": [
    {
     "name": "stderr",
     "output_type": "stream",
     "text": [
      "Rank is 2: 100%|██████████| 50/50 [02:23<00:00,  3.09s/it]\n",
      "Rank is 4: 100%|██████████| 50/50 [02:56<00:00,  3.45s/it]\n",
      "Rank is 8: 100%|██████████| 50/50 [03:44<00:00,  4.41s/it]\n",
      "Rank is 10: 100%|██████████| 50/50 [04:13<00:00,  4.94s/it]\n",
      "Rank is 12: 100%|██████████| 50/50 [04:41<00:00,  5.50s/it]\n",
      "Rank is 14: 100%|██████████| 50/50 [05:07<00:00,  5.97s/it]\n"
     ]
    }
   ],
   "source": [
    "for cR in [2, 4, 8, 10, 12, 14]:\n",
    "    DetObjs = []\n",
    "    for i in tqdm(range(len(robj.r[\"datamatrix\"])), desc=f\"Rank is {cR:.0f}\"):\n",
    "        Ymat = np.array(robj.r[\"datamatrix\"][i])\n",
    "        DetRec = TVDNDetect(Ymat=Ymat, dataType=\"fMRI\", MaxM=10, is_detrend=False,\n",
    "                          saveDir=None, showProgress=False, Lmin=Lmin, lamb=lamb, kappa=optKp, r=cR, fct=fct)\n",
    "        DetRec()\n",
    "        DetObjs.append(DetRec)\n",
    "        \n",
    "    DetObjss[f\"rank{cR:.0f}\"] = DetObjs\n",
    "    with open(f\"./results/newSimu_fct{fct*10:.0f}_rank{cR:.0f}.pkl\", \"wb\") as f:\n",
    "        pickle.dump(DetObjs, f)"
   ]
  },
  {
   "cell_type": "markdown",
   "metadata": {},
   "source": [
    "### Obtain the errors under each rank"
   ]
  },
  {
   "cell_type": "code",
   "execution_count": 42,
   "metadata": {},
   "outputs": [],
   "source": [
    "Errss = []\n",
    "Ranks = np.array([2, 4, 6, 8, 10, 12, 14])\n",
    "for cR in Ranks:\n",
    "    Errs = [DetObj.GetCurMSE() for DetObj in DetObjss[f\"rank{cR:.0f}\"]]\n",
    "    Errss.append(Errs)"
   ]
  },
  {
   "cell_type": "code",
   "execution_count": 49,
   "metadata": {},
   "outputs": [
    {
     "data": {
      "image/png": "[encoded data removed]",
      "text/plain": [
       "<Figure size 432x288 with 1 Axes>"
      ]
     },
     "metadata": {
      "needs_background": "light"
     },
     "output_type": "display_data"
    }
   ],
   "source": [
    "ErrssArr = np.array(Errss).T\n",
    "plt.boxplot(ErrssArr)\n",
    "plt.xlabel(\"Rank\")\n",
    "plt.ylabel(\"Error\")\n",
    "_ = plt.xticks(list(range(1, 1+len(Ranks))), Ranks)"
   ]
  },
  {
   "cell_type": "code",
   "execution_count": 50,
   "metadata": {},
   "outputs": [
    {
     "data": {
      "text/plain": [
       "array([1.73667099, 2.46738728, 1.71305522, 2.11924544, 2.014332  ,\n",
       "       2.0913411 , 2.06329574])"
      ]
     },
     "execution_count": 50,
     "metadata": {},
     "output_type": "execute_result"
    }
   ],
   "source": [
    "ErrssArr.mean(axis=0)"
   ]
  },
  {
   "cell_type": "markdown",
   "metadata": {},
   "source": [
    "## Varying number of knots for Bspline"
   ]
  },
  {
   "cell_type": "code",
   "execution_count": 11,
   "metadata": {},
   "outputs": [],
   "source": [
    "nKnotss = [60, 90, 120, 150, 180]"
   ]
  },
  {
   "cell_type": "code",
   "execution_count": 12,
   "metadata": {},
   "outputs": [],
   "source": [
    "kappa = 1.576\n",
    "lamb = 1e-6\n",
    "r = 6\n",
    "Lmin = 10\n",
    "fct = 2"
   ]
  },
  {
   "cell_type": "code",
   "execution_count": 13,
   "metadata": {},
   "outputs": [
    {
     "name": "stderr",
     "output_type": "stream",
     "text": [
      "The nKnots is 60: 100%|██████████| 50/50 [03:06<00:00,  3.72s/it]\n",
      "The nKnots is 90: 100%|██████████| 50/50 [03:08<00:00,  3.78s/it]\n",
      "The nKnots is 120: 100%|██████████| 50/50 [03:08<00:00,  3.77s/it]\n",
      "The nKnots is 150: 100%|██████████| 50/50 [03:08<00:00,  3.77s/it]\n",
      "The nKnots is 180: 100%|██████████| 50/50 [03:08<00:00,  3.77s/it]\n"
     ]
    }
   ],
   "source": [
    "for nKnots in nKnotss:\n",
    "    DetObjs = []\n",
    "    for i in tqdm(range(len(robj.r[\"datamatrix\"])), desc=f\"The nKnots is {nKnots:.0f}\"):\n",
    "        Ymat = np.array(robj.r[\"datamatrix\"][i])\n",
    "        DetRec = TVDNDetect(Ymat=Ymat, dataType=\"fMRI\", MaxM=10, is_detrend=False,\n",
    "                          saveDir=None, showProgress=False, Lmin=Lmin, lamb=lamb, kappa=kappa, r=r, fct=fct, nKnots=nKnots)\n",
    "        DetRec()\n",
    "        DetObjs.append(DetRec)\n",
    "        \n",
    "    with open(f\"./results/newSimuKnots_nKnots{nKnots:.0f}_rank{r:.0f}.pkl\", \"wb\") as f:\n",
    "        pickle.dump(DetObjs, f)"
   ]
  },
  {
   "cell_type": "code",
   "execution_count": 14,
   "metadata": {},
   "outputs": [],
   "source": [
    "ErrsKnots = []\n",
    "for nKnots in nKnotss:\n",
    "    with open(f\"./results/newSimuKnots_nKnots{nKnots:.0f}_rank{r:.0f}.pkl\", \"rb\") as f:\n",
    "        DetObjs = pickle.load(f)\n",
    "    Errs = [DetObj.GetCurMSE() for DetObj in DetObjs]\n",
    "    ErrsKnots.append(Errs)"
   ]
  },
  {
   "cell_type": "code",
   "execution_count": 17,
   "metadata": {},
   "outputs": [
    {
     "data": {
      "image/png": "[encoded data removed]",
      "text/plain": [
       "<Figure size 432x288 with 1 Axes>"
      ]
     },
     "metadata": {
      "needs_background": "light"
     },
     "output_type": "display_data"
    }
   ],
   "source": [
    "ErrsKnotsArr = np.array(ErrsKnots).T\n",
    "plt.boxplot(ErrsKnotsArr)\n",
    "plt.xlabel(\"Num of Knots\")\n",
    "plt.ylabel(\"Error\")\n",
    "_ = plt.xticks(list(range(1, 1+len(nKnotss))), nKnotss)"
   ]
  },
  {
   "cell_type": "code",
   "execution_count": 16,
   "metadata": {},
   "outputs": [
    {
     "data": {
      "text/plain": [
       "array([1.90207996, 1.6983542 , 1.65762771, 1.64647233, 1.6153882 ])"
      ]
     },
     "execution_count": 16,
     "metadata": {},
     "output_type": "execute_result"
    }
   ],
   "source": [
    "ErrsKnotsArr.mean(axis=0)"
   ]
  },
  {
   "cell_type": "code",
   "execution_count": null,
   "metadata": {},
   "outputs": [],
   "source": []
  }
 ],
 "metadata": {
  "kernelspec": {
   "display_name": "test",
   "language": "python",
   "name": "test"
  },
  "language_info": {
   "codemirror_mode": {
    "name": "ipython",
    "version": 3
   },
   "file_extension": ".py",
   "mimetype": "text/x-python",
   "name": "python",
   "nbconvert_exporter": "python",
   "pygments_lexer": "ipython3",
   "version": "3.6.13"
  }
 },
 "nbformat": 4,
 "nbformat_minor": 2
}
