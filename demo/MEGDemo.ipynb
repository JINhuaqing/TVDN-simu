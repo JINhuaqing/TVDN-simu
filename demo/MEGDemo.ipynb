{
 "cells": [
  {
   "cell_type": "code",
   "execution_count": 1,
   "metadata": {},
   "outputs": [],
   "source": [
    "import sys\n",
    "sys.path.append(\"/home/huaqingj/MyResearch/TVDN\")"
   ]
  },
  {
   "cell_type": "code",
   "execution_count": 2,
   "metadata": {},
   "outputs": [],
   "source": [
    "from pyTVDN import TVDNDetect\n",
    "from pathlib import Path\n",
    "from scipy.io import loadmat\n",
    "import numpy as np\n",
    "from easydict import EasyDict as edict\n",
    "%matplotlib inline"
   ]
  },
  {
   "cell_type": "code",
   "execution_count": 3,
   "metadata": {},
   "outputs": [],
   "source": [
    "resDir = Path(\"./demoResults\")\n",
    "dataDir = Path(\"./demoData\")"
   ]
  },
  {
   "cell_type": "code",
   "execution_count": 4,
   "metadata": {},
   "outputs": [],
   "source": [
    "filname = Path(\"demoMEG.mat\")\n",
    "MEG = loadmat(dataDir/filname)[\"DK_timecourse\"]"
   ]
  },
  {
   "cell_type": "markdown",
   "metadata": {},
   "source": [
    "## Construct the TVDN Detection Class"
   ]
  },
  {
   "cell_type": "markdown",
   "metadata": {},
   "source": [
    "\n",
    "- `saveDir` is the path to save the results, if upspecified, the results will not be saved.\n",
    "\n",
    "- You can also specify the detection parameters manunally"
   ]
  },
  {
   "cell_type": "code",
   "execution_count": 5,
   "metadata": {},
   "outputs": [],
   "source": [
    "paras = edict()\n",
    "paras.Lmin = 200\n",
    "paras.wh = 10\n",
    "paras.MaxM = 20\n",
    "paras.fct = 0.5\n",
    "paras.r = None\n",
    "paras.freq = 120\n",
    "paras.lamb = 1e-2\n",
    "paras.T = 2\n",
    "paras.is_detrend = True\n",
    "paras.decimateRate = 5\n",
    "paras.kappa = 3.005\n",
    "paras.downRate = 20"
   ]
  },
  {
   "cell_type": "code",
   "execution_count": 6,
   "metadata": {},
   "outputs": [
    {
     "name": "stdout",
     "output_type": "stream",
     "text": [
      "The parameters for detection are:\n",
      "{'Lmin': 200,\n",
      " 'MaxM': 20,\n",
      " 'T': 2,\n",
      " 'decimateRate': 5,\n",
      " 'downRate': 20,\n",
      " 'fName': 'demoMEG',\n",
      " 'fct': 0.5,\n",
      " 'freq': 120,\n",
      " 'is_detrend': True,\n",
      " 'kappa': 3.005,\n",
      " 'lamb': 0.01,\n",
      " 'nKnots': None,\n",
      " 'nbasis': 10,\n",
      " 'r': None}\n"
     ]
    }
   ],
   "source": [
    "detRawNo = TVDNDetect(Ymat=MEG, dataType=\"MEG\", \n",
    "                     saveDir=\"./demoResults\", \n",
    "                     fName=\"demoMEG\",\n",
    "                     showProgress=True, \n",
    "                     MaxM=paras.MaxM,\n",
    "                     Lmin=paras.Lmin, \n",
    "                     lamb=paras.lamb, \n",
    "                     kappa=paras.kappa, \n",
    "                     freq=paras.freq,\n",
    "                     r=paras.r,\n",
    "                     T=paras.T,\n",
    "                     is_detrend=paras.is_detrend,\n",
    "                     decimateRate=paras.decimateRate, \n",
    "                     downRate=paras.downRate)"
   ]
  },
  {
   "cell_type": "markdown",
   "metadata": {},
   "source": [
    "## Run the Main Function without screening"
   ]
  },
  {
   "cell_type": "code",
   "execution_count": 7,
   "metadata": {},
   "outputs": [
    {
     "name": "stderr",
     "output_type": "stream",
     "text": [
      "R[write to console]: \n",
      "载入程辑包：‘signal’\n",
      "\n",
      "\n",
      "R[write to console]: The following objects are masked from ‘package:stats’:\n",
      "\n",
      "    filter, poly\n",
      "\n",
      "\n",
      "/home/huaqingj/MyResearch/TVDN/pyTVDN/TVDNclass.py:294: UserWarning: As loading the saved results, kappa will be ignored\n",
      "  warnings.warn(\"As loading the saved results, kappa will be ignored\", UserWarning)\n"
     ]
    }
   ],
   "source": [
    "detRawNo()"
   ]
  },
  {
   "cell_type": "markdown",
   "metadata": {},
   "source": [
    "## Run the Main Function with screening"
   ]
  },
  {
   "cell_type": "code",
   "execution_count": 8,
   "metadata": {},
   "outputs": [
    {
     "name": "stdout",
     "output_type": "stream",
     "text": [
      "The parameters for detection are:\n",
      "{'Lmin': 200,\n",
      " 'MaxM': 20,\n",
      " 'T': 2,\n",
      " 'decimateRate': 5,\n",
      " 'downRate': 20,\n",
      " 'fName': 'demoMEG',\n",
      " 'fct': 0.5,\n",
      " 'freq': 120,\n",
      " 'is_detrend': True,\n",
      " 'kappa': 3.005,\n",
      " 'lamb': 0.01,\n",
      " 'nKnots': None,\n",
      " 'nbasis': 10,\n",
      " 'r': None}\n"
     ]
    }
   ],
   "source": [
    "detRaw = TVDNDetect(Ymat=MEG, dataType=\"MEG\", \n",
    "                     saveDir=None,\n",
    "                     fName=\"demoMEG\",\n",
    "                     showProgress=True, \n",
    "                     MaxM=paras.MaxM,\n",
    "                     Lmin=paras.Lmin, \n",
    "                     lamb=paras.lamb, \n",
    "                     kappa=paras.kappa, \n",
    "                     freq=paras.freq,\n",
    "                     r=paras.r,\n",
    "                     T=paras.T,\n",
    "                     is_detrend=paras.is_detrend,\n",
    "                     decimateRate=paras.decimateRate, \n",
    "                     downRate=paras.downRate)"
   ]
  },
  {
   "cell_type": "code",
   "execution_count": null,
   "metadata": {},
   "outputs": [
    {
     "name": "stderr",
     "output_type": "stream",
     "text": [
      "Screening: 100%|██████████| 7200/7200 [00:04<00:00, 1626.00it/s]\n",
      "Dynamic Programming:   7%|▋         | 16/226 [00:02<00:29,  7.17it/s]"
     ]
    }
   ],
   "source": [
    "detRaw.Screening(wh=paras.wh)\n",
    "detRaw()"
   ]
  },
  {
   "cell_type": "markdown",
   "metadata": {},
   "source": [
    "## Compare the results"
   ]
  },
  {
   "cell_type": "code",
   "execution_count": null,
   "metadata": {},
   "outputs": [],
   "source": [
    "print(detRaw)\n",
    "print(detRawNo)"
   ]
  },
  {
   "cell_type": "code",
   "execution_count": null,
   "metadata": {},
   "outputs": [],
   "source": [
    "detRaw.PlotEcpts()\n",
    "detRawNo.PlotEcpts()"
   ]
  },
  {
   "cell_type": "code",
   "execution_count": null,
   "metadata": {},
   "outputs": [],
   "source": []
  }
 ],
 "metadata": {
  "kernelspec": {
   "display_name": "Python 3",
   "language": "python",
   "name": "python3"
  },
  "language_info": {
   "codemirror_mode": {
    "name": "ipython",
    "version": 3
   },
   "file_extension": ".py",
   "mimetype": "text/x-python",
   "name": "python",
   "nbconvert_exporter": "python",
   "pygments_lexer": "ipython3",
   "version": "3.7.3"
  }
 },
 "nbformat": 4,
 "nbformat_minor": 2
}
