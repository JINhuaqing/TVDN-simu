{
 "cells": [
  {
   "cell_type": "code",
   "execution_count": 1,
   "metadata": {},
   "outputs": [],
   "source": [
    "import sys\n",
    "sys.path.append(\"/home/huaqingj/MyResearch/TVDN\")"
   ]
  },
  {
   "cell_type": "code",
   "execution_count": 2,
   "metadata": {},
   "outputs": [],
   "source": [
    "from pyTVDN import TVDNDetect\n",
    "from pathlib import Path\n",
    "import matplotlib.pyplot as plt\n",
    "import seaborn as sns\n",
    "from tqdm import tqdm\n",
    "from easydict import EasyDict as edict\n",
    "from collections import Counter\n",
    "import pickle\n",
    "import rpy2.robjects as robj\n",
    "import numpy as np\n",
    "\n",
    "\n",
    "%matplotlib inline"
   ]
  },
  {
   "cell_type": "code",
   "execution_count": 3,
   "metadata": {},
   "outputs": [],
   "source": [
    "resDir = Path(\"./demoResults\")"
   ]
  },
  {
   "cell_type": "markdown",
   "metadata": {},
   "source": [
    "### Load the data\n",
    "\n",
    "Datasets are simulated"
   ]
  },
  {
   "cell_type": "code",
   "execution_count": 4,
   "metadata": {},
   "outputs": [
    {
     "data": {
      "text/html": [
       "\n",
       "        <span>StrVector with 4 elements.</span>\n",
       "        <table>\n",
       "        <tbody>\n",
       "          <tr>\n",
       "          \n",
       "            <td>\n",
       "            'datamatrix'\n",
       "            </td>\n",
       "          \n",
       "            <td>\n",
       "            'truematrix'\n",
       "            </td>\n",
       "          \n",
       "            <td>\n",
       "            'candlist0'\n",
       "            </td>\n",
       "          \n",
       "            <td>\n",
       "            'U'\n",
       "            </td>\n",
       "          \n",
       "          </tr>\n",
       "        </tbody>\n",
       "        </table>\n",
       "        "
      ],
      "text/plain": [
       "<rpy2.robjects.vectors.StrVector object at 0x7f4add9a4808> [RTYPES.STRSXP]\n",
       "R classes: ('character',)\n",
       "['datamatrix', 'truematrix', 'candlist0', 'U']"
      ]
     },
     "execution_count": 4,
     "metadata": {},
     "output_type": "execute_result"
    }
   ],
   "source": [
    "robj.r[\"load\"](f\"/home/huaqingj/MyResearch/TVDN/NeuroImgR1/data/dataMat_Nsim50_Chg3_rank6_len180.RData\")"
   ]
  },
  {
   "cell_type": "markdown",
   "metadata": {},
   "source": [
    "### Parameters"
   ]
  },
  {
   "cell_type": "code",
   "execution_count": 5,
   "metadata": {},
   "outputs": [],
   "source": [
    "kappa = 1.53\n",
    "lamb = 1e-6\n",
    "r = 6\n",
    "Lmin = 10\n",
    "fct = 2\n",
    "kappas = np.linspace(1.45, 2, 100)"
   ]
  },
  {
   "cell_type": "markdown",
   "metadata": {},
   "source": [
    "## Run"
   ]
  },
  {
   "cell_type": "code",
   "execution_count": 6,
   "metadata": {},
   "outputs": [
    {
     "name": "stderr",
     "output_type": "stream",
     "text": [
      "  0%|          | 0/50 [00:00<?, ?it/s]/home/huaqingj/MyResearch/TVDN/pyTVDN/TVDNclass.py:294: UserWarning: As loading the saved results, kappa will be ignored\n",
      "  warnings.warn(\"As loading the saved results, kappa will be ignored\", UserWarning)\n",
      "100%|██████████| 50/50 [00:00<00:00, 143.28it/s]\n"
     ]
    }
   ],
   "source": [
    "DetObjs = []\n",
    "for i in tqdm(range(len(robj.r[\"datamatrix\"]))):\n",
    "    Ymat = np.array(robj.r[\"datamatrix\"][i])\n",
    "    DetRec = TVDNDetect(Ymat=Ymat, dataType=\"fMRI\", fName=f\"sps_{i}\", MaxM=10, is_detrend=False,\n",
    "                      saveDir=resDir, showProgress=False, Lmin=Lmin, lamb=lamb, kappa=kappa, r=r, fct=fct)\n",
    "    DetRec()\n",
    "    DetRec.TuningKappa(kappas)\n",
    "    DetObjs.append(DetRec)"
   ]
  },
  {
   "cell_type": "markdown",
   "metadata": {},
   "source": [
    "## Results "
   ]
  },
  {
   "cell_type": "code",
   "execution_count": 7,
   "metadata": {},
   "outputs": [],
   "source": [
    "d, n = DetObjs[0].Ymat.shape\n",
    "cpts =  np.array(robj.r[\"candlist0\"])[1:-1]\n",
    "cpts = cpts.astype(int)"
   ]
  },
  {
   "cell_type": "markdown",
   "metadata": {},
   "source": [
    "### Plots under the true number of change points"
   ]
  },
  {
   "cell_type": "code",
   "execution_count": 8,
   "metadata": {},
   "outputs": [],
   "source": [
    "ecptss = [DetObj.ecpts for DetObj in DetObjs]"
   ]
  },
  {
   "cell_type": "code",
   "execution_count": 9,
   "metadata": {},
   "outputs": [
    {
     "data": {
      "image/png": "[encoded data removed]",
      "text/plain": [
       "<Figure size 432x288 with 1 Axes>"
      ]
     },
     "metadata": {
      "needs_background": "light"
     },
     "output_type": "display_data"
    }
   ],
   "source": [
    "simuIdx = []\n",
    "pos = []\n",
    "for idx, chgpts in enumerate(ecptss):\n",
    "    pos += list(chgpts)\n",
    "    simuIdx += ([idx+1]*len(chgpts))\n",
    "plt.plot(pos, simuIdx, \".\", color=\"red\")\n",
    "plt.xlim([0, n])\n",
    "plt.xticks(cpts, cpts)\n",
    "for cpt in cpts:\n",
    "    plt.axvline(cpt, color=\"black\")"
   ]
  },
  {
   "cell_type": "markdown",
   "metadata": {},
   "source": [
    "### Change the number of change points"
   ]
  },
  {
   "cell_type": "code",
   "execution_count": 12,
   "metadata": {},
   "outputs": [],
   "source": [
    "for DetObj in DetObjs:\n",
    "    DetObj.UpdateEcpts(3) # Reconstruct the Xmat and estiamte the eigen values, again\n",
    "ecptss = [DetObj.ecpts for DetObj in DetObjs]"
   ]
  },
  {
   "cell_type": "code",
   "execution_count": 13,
   "metadata": {},
   "outputs": [
    {
     "data": {
      "image/png": "[encoded data removed]",
      "text/plain": [
       "<Figure size 432x288 with 1 Axes>"
      ]
     },
     "metadata": {
      "needs_background": "light"
     },
     "output_type": "display_data"
    }
   ],
   "source": [
    "simuIdx = []\n",
    "pos = []\n",
    "for idx, chgpts in enumerate(ecptss):\n",
    "    pos += list(chgpts)\n",
    "    simuIdx += ([idx+1]*len(chgpts))\n",
    "plt.plot(pos, simuIdx, \".\", color=\"red\")\n",
    "plt.xlim([0, n])\n",
    "plt.xticks(cpts, cpts)\n",
    "for cpt in cpts:\n",
    "    plt.axvline(cpt, color=\"black\")"
   ]
  },
  {
   "cell_type": "code",
   "execution_count": null,
   "metadata": {},
   "outputs": [],
   "source": []
  }
 ],
 "metadata": {
  "kernelspec": {
   "display_name": "test",
   "language": "python",
   "name": "test"
  },
  "language_info": {
   "codemirror_mode": {
    "name": "ipython",
    "version": 3
   },
   "file_extension": ".py",
   "mimetype": "text/x-python",
   "name": "python",
   "nbconvert_exporter": "python",
   "pygments_lexer": "ipython3",
   "version": "3.6.13"
  }
 },
 "nbformat": 4,
 "nbformat_minor": 2
}
