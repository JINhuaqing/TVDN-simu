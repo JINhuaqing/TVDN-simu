{
 "cells": [
  {
   "cell_type": "code",
   "execution_count": 1,
   "metadata": {},
   "outputs": [],
   "source": [
    "import sys\n",
    "sys.path.append(\"/home/huaqingj/MyResearch/TVDN\")"
   ]
  },
  {
   "cell_type": "code",
   "execution_count": 2,
   "metadata": {},
   "outputs": [],
   "source": [
    "from pyTVDN import TVDNDetect, TVDNRankTuning\n",
    "from pathlib import Path\n",
    "from scipy.io import loadmat\n",
    "from scipy.signal import detrend\n",
    "import numpy as np\n",
    "import matplotlib.pyplot as plt\n",
    "import seaborn as sns\n",
    "from pyTVDN.tmpUtils import *\n",
    "%matplotlib inline\n",
    "plt.style.use('ggplot')"
   ]
  },
  {
   "cell_type": "code",
   "execution_count": 3,
   "metadata": {},
   "outputs": [],
   "source": [
    "from pprint import pprint\n",
    "import pickle\n",
    "from easydict import EasyDict as edict\n",
    "import warnings\n",
    "from pyTVDN.TVDNutils import *\n",
    "from pyTVDN.utils import in_notebook\n",
    "if in_notebook():\n",
    "    from tqdm import tqdm_notebook as tqdm\n",
    "else:\n",
    "    from tqdm import tqdm\n",
    "\n",
    "class TVDNDetect1(TVDNDetect):\n",
    "    def SmoothEst(self):\n",
    "        if self.nYmat is None:\n",
    "            self._Preprocess()\n",
    "        d, n = self.nYmat.shape\n",
    "        acTime = n / self.paras.freq\n",
    "        self.ptime = np.linspace(0, acTime, n)\n",
    "        self.time = np.linspace(0, self.paras.T, n)\n",
    "        divNum = 100\n",
    "        if self.smoothType == \"bspline\":\n",
    "            self.dXmat = np.zeros((d, n))\n",
    "            self.Xmat = np.zeros((d, n))\n",
    "            if n%divNum == 0:\n",
    "                numLoop = int(n/divNum)\n",
    "            else:\n",
    "                numLoop = int(n/divNum) + 1\n",
    "            for i in range(numLoop):\n",
    "                if (i+1)*divNum <= n:\n",
    "                    low = i*divNum\n",
    "                    up = (i+1)*divNum\n",
    "                else:\n",
    "                    low = i*divNum\n",
    "                    up = n\n",
    "                self.dXmat[:, low:up], self.Xmat[:, low:up] = GetBsplineEst(self.nYmat[:, low:up], self.time[low:up], \n",
    "                                                                            lamb=self.paras.lamb)\n",
    "        elif self.smoothType == \"fourier\":\n",
    "            self.dXmat, self.Xmat = GetFourierEst(self.nYmat, self.time, nbasis=self.paras.nbasis)\n",
    "            "
   ]
  },
  {
   "cell_type": "code",
   "execution_count": 4,
   "metadata": {},
   "outputs": [],
   "source": [
    "resDir = Path(\"../results\")\n",
    "dataDir = Path(\"../data/MEG-eye-unfiltering-0203\")"
   ]
  },
  {
   "cell_type": "code",
   "execution_count": 5,
   "metadata": {},
   "outputs": [
    {
     "name": "stdout",
     "output_type": "stream",
     "text": [
      "../data/MEG-eye-unfiltering-0203/lcmv_result_R2868E_03-st_wo_filtering_min.mat\n",
      "[22.2866666667, 32.8766666667, 42.4933333333, 53.9166666667, 68.9333333333, 78.1666666667]\n",
      "[20, 80]\n",
      "[ 274 1545 2699 4070 5871 6980]\n",
      "[1271 1154 1371 1801 1109]\n"
     ]
    }
   ],
   "source": [
    "datFil = list(dataDir.glob(\"*03*min.mat\"))[0]\n",
    "gtF = list(dataDir.glob(\"*_03_st.txt\"))[0]\n",
    "gtSt03 = time2pts(txt2Time(gtF), timeLims.st03)\n",
    "print(datFil)\n",
    "print(txt2Time(gtF))\n",
    "print(timeLims.st03)\n",
    "print(gtSt03.cpts)\n",
    "print(np.diff(gtSt03.cpts))"
   ]
  },
  {
   "cell_type": "code",
   "execution_count": 6,
   "metadata": {},
   "outputs": [],
   "source": [
    "from scipy.signal import lfilter, firls, decimate"
   ]
  },
  {
   "cell_type": "code",
   "execution_count": 7,
   "metadata": {},
   "outputs": [],
   "source": [
    "q = 10\n",
    "MEG = loadmat(datFil)\n",
    "data = MEG[\"DK_timecourse\"]"
   ]
  },
  {
   "cell_type": "markdown",
   "metadata": {},
   "source": [
    "The time course is 60 seconds, so the frequency is 1200 Hz"
   ]
  },
  {
   "cell_type": "markdown",
   "metadata": {},
   "source": [
    "###  Data preprocessing"
   ]
  },
  {
   "cell_type": "code",
   "execution_count": 8,
   "metadata": {},
   "outputs": [],
   "source": [
    "dataN = decimate(data, q=q)\n",
    "dataN = detrend(dataN)"
   ]
  },
  {
   "cell_type": "markdown",
   "metadata": {},
   "source": [
    "### HPF "
   ]
  },
  {
   "cell_type": "code",
   "execution_count": 9,
   "metadata": {},
   "outputs": [],
   "source": [
    "fs = 120 #sampling frequency\n",
    "fmin = 2 # 2Hz - 45Hz signal range, filter for this with hbp\n",
    "fmax = 45\n",
    "hbp = firls(101, np.array([0, 0.2*fmin, 0.9*fmin, fmax-2, fmax+5, 60])*2/fs,\n",
    "           desired = np.array([0, 0, 1, 1, 0, 0])) #for detrending, a bandpass\n",
    "dataHPF = lfilter(hbp, 1, dataN)"
   ]
  },
  {
   "cell_type": "markdown",
   "metadata": {},
   "source": [
    "## Detection on data with screening and no HPF"
   ]
  },
  {
   "cell_type": "markdown",
   "metadata": {},
   "source": [
    "**Good**\n",
    "wh=10\n",
    "\n",
    "numChg=6\n",
    "\n",
    "{'Lmin': 200,\n",
    " 'MaxM': 20,\n",
    " 'T': 2,\n",
    " 'decimateRate': None,\n",
    " 'downRate': 20,\n",
    " 'fName': 'MEG1',\n",
    " 'fct': 0.5,\n",
    " 'freq': 120,\n",
    " 'is_detrend': False,\n",
    " 'kappa': 1,\n",
    " 'lamb': 0.0001,\n",
    " 'nbasis': 10,\n",
    " 'r': 8/6}"
   ]
  },
  {
   "cell_type": "code",
   "execution_count": 11,
   "metadata": {},
   "outputs": [],
   "source": [
    "paras = edict()\n",
    "paras.Lmin = 200\n",
    "paras.wh = 10 \n",
    "paras.MaxM = 20\n",
    "paras.fct = 0.5\n",
    "paras.r = 6 \n",
    "paras.freq = 120\n",
    "paras.lamb = 1e-4\n",
    "paras.T = 2\n",
    "paras.is_detrend = False\n",
    "paras.decimateRate = None\n",
    "paras.kappa = 1\n",
    "paras.downRate = 20"
   ]
  },
  {
   "cell_type": "code",
   "execution_count": 223,
   "metadata": {},
   "outputs": [
    {
     "name": "stdout",
     "output_type": "stream",
     "text": [
      "The parameters for detection are:\n",
      "{'Lmin': 200,\n",
      " 'MaxM': 20,\n",
      " 'T': 2,\n",
      " 'decimateRate': None,\n",
      " 'downRate': 20,\n",
      " 'fName': 'MEG1',\n",
      " 'fct': 0.5,\n",
      " 'freq': 120,\n",
      " 'is_detrend': False,\n",
      " 'kappa': 1,\n",
      " 'lamb': 0.0001,\n",
      " 'nbasis': 10,\n",
      " 'r': 6}\n"
     ]
    }
   ],
   "source": [
    "detRaw = TVDNDetect1(Ymat=dataN, dataType=\"MEG\", \n",
    "                     saveDir=None, \n",
    "                     fName=\"MEG1\",\n",
    "                     showProgress=True, \n",
    "                     MaxM=paras.MaxM,\n",
    "                     Lmin=paras.Lmin, \n",
    "                     lamb=paras.lamb, \n",
    "                     kappa=paras.kappa, \n",
    "                     freq=paras.freq,\n",
    "                     r=paras.r,\n",
    "                     T=paras.T,\n",
    "                     fct=paras.fct,\n",
    "                     is_detrend=paras.is_detrend,\n",
    "                     decimateRate=paras.decimateRate, \n",
    "                     downRate=paras.downRate)"
   ]
  },
  {
   "cell_type": "code",
   "execution_count": 224,
   "metadata": {},
   "outputs": [
    {
     "data": {
      "application/vnd.jupyter.widget-view+json": {
       "model_id": "c8b289fa8a8e4cf291043cc8c7a16d0a",
       "version_major": 2,
       "version_minor": 0
      },
      "text/plain": [
       "HBox(children=(IntProgress(value=0, description='Screening', max=7200, style=ProgressStyle(description_width='…"
      ]
     },
     "metadata": {},
     "output_type": "display_data"
    },
    {
     "name": "stdout",
     "output_type": "stream",
     "text": [
      "\n"
     ]
    }
   ],
   "source": [
    "detRaw.Screening(wh=paras.wh)"
   ]
  },
  {
   "cell_type": "code",
   "execution_count": 225,
   "metadata": {},
   "outputs": [
    {
     "data": {
      "application/vnd.jupyter.widget-view+json": {
       "model_id": "f83a206fdb9044fc8003eb44067d44ac",
       "version_major": 2,
       "version_minor": 0
      },
      "text/plain": [
       "HBox(children=(IntProgress(value=0, description='Dynamic Programming', max=343, style=ProgressStyle(descriptio…"
      ]
     },
     "metadata": {},
     "output_type": "display_data"
    },
    {
     "name": "stdout",
     "output_type": "stream",
     "text": [
      "\n"
     ]
    }
   ],
   "source": [
    "detRaw()"
   ]
  },
  {
   "cell_type": "code",
   "execution_count": 226,
   "metadata": {},
   "outputs": [
    {
     "data": {
      "application/vnd.jupyter.widget-view+json": {
       "model_id": "4c44c74220354400a996c1bf23e02215",
       "version_major": 2,
       "version_minor": 0
      },
      "text/plain": [
       "HBox(children=(IntProgress(value=0, max=21), HTML(value='')))"
      ]
     },
     "metadata": {},
     "output_type": "display_data"
    },
    {
     "name": "stdout",
     "output_type": "stream",
     "text": [
      "\n"
     ]
    }
   ],
   "source": [
    "kappas = np.linspace(1, 4, 1000)\n",
    "detRaw.TuningKappa(kappas)"
   ]
  },
  {
   "cell_type": "code",
   "execution_count": 227,
   "metadata": {
    "scrolled": false
   },
   "outputs": [
    {
     "name": "stdout",
     "output_type": "stream",
     "text": [
      "+-------------+---------------------------------------+-------------------+------+\n",
      "| Num of CPTs |             Estiamted CPTs            |        MSE        | Rank |\n",
      "+-------------+---------------------------------------+-------------------+------+\n",
      "|      6      | [ 582. 1530. 2785. 4088. 5889. 7000.] | 391.9361075160546 |  6   |\n",
      "+-------------+---------------------------------------+-------------------+------+\n"
     ]
    },
    {
     "data": {
      "image/png": "[encoded data removed]",
      "text/plain": [
       "<Figure size 720x360 with 1 Axes>"
      ]
     },
     "metadata": {},
     "output_type": "display_data"
    }
   ],
   "source": [
    "detRaw.UpdateEcpts(6)\n",
    "print(detRaw)\n",
    "detRaw.PlotEcpts(GT=gtSt03.cpts)"
   ]
  },
  {
   "cell_type": "code",
   "execution_count": 228,
   "metadata": {},
   "outputs": [
    {
     "data": {
      "image/png": "[encoded data removed]",
      "text/plain": [
       "<Figure size 720x360 with 2 Axes>"
      ]
     },
     "metadata": {},
     "output_type": "display_data"
    }
   ],
   "source": [
    "detRaw.PlotEigenCurve()"
   ]
  },
  {
   "cell_type": "code",
   "execution_count": 229,
   "metadata": {},
   "outputs": [
    {
     "data": {
      "text/plain": [
       "array([1.2972973 , 1.3003003 , 1.3033033 , 1.30630631, 1.30930931,\n",
       "       1.31231231, 1.31531532, 1.31831832, 1.32132132, 1.32432432,\n",
       "       1.32732733, 1.33033033, 1.33333333, 1.33633634, 1.33933934,\n",
       "       1.34234234, 1.34534535, 1.34834835, 1.35135135, 1.35435435,\n",
       "       1.35735736, 1.36036036, 1.36336336, 1.36636637, 1.36936937,\n",
       "       1.37237237, 1.37537538, 1.37837838, 1.38138138])"
      ]
     },
     "execution_count": 229,
     "metadata": {},
     "output_type": "execute_result"
    }
   ],
   "source": [
    "detRaw.kappas[detRaw.numchgs==6]"
   ]
  },
  {
   "cell_type": "markdown",
   "metadata": {},
   "source": [
    "## Detection on data with no HPF and no screening"
   ]
  },
  {
   "cell_type": "code",
   "execution_count": 14,
   "metadata": {},
   "outputs": [
    {
     "name": "stdout",
     "output_type": "stream",
     "text": [
      "The parameters for detection are:\n",
      "{'Lmin': 200,\n",
      " 'MaxM': 20,\n",
      " 'T': 2,\n",
      " 'decimateRate': None,\n",
      " 'downRate': 20,\n",
      " 'fName': 'MEGmin',\n",
      " 'fct': 0.5,\n",
      " 'freq': 120,\n",
      " 'is_detrend': False,\n",
      " 'kappa': 1,\n",
      " 'lamb': 0.0001,\n",
      " 'nbasis': 10,\n",
      " 'r': 6}\n"
     ]
    }
   ],
   "source": [
    "detRawNo = TVDNDetect1(Ymat=dataN, dataType=\"MEG\", \n",
    "                     saveDir=\"../results/MEGeye-st03\",\n",
    "                     fName=\"MEGmin\",\n",
    "                     showProgress=True, \n",
    "                     MaxM=paras.MaxM,\n",
    "                     Lmin=paras.Lmin, \n",
    "                     lamb=paras.lamb, \n",
    "                     kappa=paras.kappa, \n",
    "                     freq=paras.freq,\n",
    "                     r=paras.r,\n",
    "                     T=paras.T,\n",
    "                     fct=paras.fct,\n",
    "                     is_detrend=paras.is_detrend,\n",
    "                     decimateRate=paras.decimateRate, \n",
    "                     downRate=paras.downRate)"
   ]
  },
  {
   "cell_type": "code",
   "execution_count": 15,
   "metadata": {},
   "outputs": [
    {
     "name": "stderr",
     "output_type": "stream",
     "text": [
      "/home/huaqingj/MyResearch/TVDN/pyTVDN/TVDNclass.py:266: UserWarning: As loading the saved results, kappa will be ignored\n",
      "  warnings.warn(\"As loading the saved results, kappa will be ignored\", UserWarning)\n"
     ]
    }
   ],
   "source": [
    "detRawNo()"
   ]
  },
  {
   "cell_type": "code",
   "execution_count": 16,
   "metadata": {},
   "outputs": [],
   "source": [
    "kappas = np.linspace(1, 4, 1000)\n",
    "detRawNo.TuningKappa(kappas)"
   ]
  },
  {
   "cell_type": "code",
   "execution_count": 17,
   "metadata": {
    "scrolled": false
   },
   "outputs": [
    {
     "name": "stdout",
     "output_type": "stream",
     "text": [
      "+-------------+---------------------------------------+--------------------+------+\n",
      "| Num of CPTs |             Estiamted CPTs            |        MSE         | Rank |\n",
      "+-------------+---------------------------------------+--------------------+------+\n",
      "|      6      | [ 592. 1531. 2776. 4107. 5893. 7000.] | 394.23064920541884 |  6   |\n",
      "+-------------+---------------------------------------+--------------------+------+\n"
     ]
    },
    {
     "data": {
      "image/png": "[encoded data removed]",
      "text/plain": [
       "<Figure size 720x360 with 1 Axes>"
      ]
     },
     "metadata": {
      "needs_background": "light"
     },
     "output_type": "display_data"
    }
   ],
   "source": [
    "detRawNo.UpdateEcpts(6)\n",
    "print(detRawNo)\n",
    "detRawNo.PlotEcpts(GT=gtSt03.cpts, saveFigPath=\"../plots/MEG-eye-03-cpts.jpg\")"
   ]
  },
  {
   "cell_type": "code",
   "execution_count": 71,
   "metadata": {},
   "outputs": [
    {
     "data": {
      "image/png": "[encoded data removed]",
      "text/plain": [
       "<Figure size 720x360 with 2 Axes>"
      ]
     },
     "metadata": {},
     "output_type": "display_data"
    }
   ],
   "source": [
    "detRawNo.PlotEigenCurve(saveFigPath=\"../plots/MEG-eye-03-lam.jpg\")"
   ]
  },
  {
   "cell_type": "code",
   "execution_count": 40,
   "metadata": {},
   "outputs": [
    {
     "data": {
      "text/plain": [
       "array([1.34234234, 1.34534535, 1.34834835, 1.35135135, 1.35435435,\n",
       "       1.35735736, 1.36036036, 1.36336336, 1.36636637, 1.36936937,\n",
       "       1.37237237, 1.37537538, 1.37837838, 1.38138138])"
      ]
     },
     "execution_count": 40,
     "metadata": {},
     "output_type": "execute_result"
    }
   ],
   "source": [
    "detRawNo.kappas[detRawNo.numchgs==6]"
   ]
  },
  {
   "cell_type": "code",
   "execution_count": 18,
   "metadata": {},
   "outputs": [
    {
     "name": "stdout",
     "output_type": "stream",
     "text": [
      "9\n"
     ]
    }
   ],
   "source": [
    "Amat = detRawNo.Amat\n",
    "eigVals, eigVecs = np.linalg.eig(Amat)\n",
    "print(np.where(np.cumsum(np.abs(eigVals))/np.sum(np.abs(eigVals)) >0.8)[0][0] + 1)"
   ]
  },
  {
   "cell_type": "markdown",
   "metadata": {},
   "source": [
    "### Save results"
   ]
  },
  {
   "cell_type": "code",
   "execution_count": 18,
   "metadata": {},
   "outputs": [],
   "source": [
    "def obtainwU(DetObj):\n",
    "    eigVecs = DetObj.midRes.eigVecs[:, :DetObj.paras.r]\n",
    "    kpidxs = np.concatenate([[0], DetObj.ecpts]).astype(np.int)\n",
    "    eigVals = DetObj.RecResCur.LamMs[:, kpidxs]\n",
    "    wU = eigVecs.dot(eigVals)\n",
    "    return wU\n",
    "\n",
    "def minmax(x):\n",
    "    num = x - np.min(x)\n",
    "    den = np.max(x) - np.min(x)\n",
    "    return num/den"
   ]
  },
  {
   "cell_type": "code",
   "execution_count": 217,
   "metadata": {},
   "outputs": [],
   "source": [
    "wUst = obtainwU(detRawNo)\n",
    "wUst = np.transpose(wUst)\n",
    "abswUst = np.abs(wUst)\n",
    "# save to npy file\n",
    "with open(\"MEG03_abswU_full.npy\", \"wb\") as f:\n",
    "    np.save(f, abswUst)\n",
    "with open(\"MEG03_wU_full.npy\", \"wb\") as f:\n",
    "    np.save(f, wUst)\n",
    "\n",
    "abswUstMM = np.zeros_like(abswUst)\n",
    "for i, col in enumerate(abswUst):\n",
    "    lh = minmax(col[:34])\n",
    "    rh = minmax(col[34:])\n",
    "    abswUstMM[i, :34] = lh\n",
    "    abswUstMM[i, 34:] = rh\n",
    "    #abswUstMM[i, :] = minmax(col)"
   ]
  },
  {
   "cell_type": "code",
   "execution_count": 218,
   "metadata": {},
   "outputs": [],
   "source": [
    "import pandas as pd\n",
    "\n",
    "fcR = pd.read_csv('../data/brain_plot_meg/DK_dic68.csv').set_index('Unnamed: 0')\n",
    "rowNames = list(fcR.index)\n",
    "colNames = np.array(fcR.columns)\n",
    "\n",
    "fcRarr = np.array(fcR)\n",
    "\n",
    "# minmax \n",
    "fcRarrMM = np.zeros_like(fcRarr)\n",
    "for i, fcRar in enumerate(fcRarr):\n",
    "    lh = minmax(fcRar[:34])\n",
    "    rh = minmax(fcRar[34:])\n",
    "    fcRarrMM[i, :34] = lh\n",
    "    fcRarrMM[i, 34:] = rh\n",
    "    #fcRarrMM[i, :] = minmax(fcRar)"
   ]
  },
  {
   "cell_type": "code",
   "execution_count": 219,
   "metadata": {},
   "outputs": [],
   "source": [
    "from collections import OrderedDict as odict\n",
    "csvD = odict()\n",
    "for i, name in enumerate(colNames):\n",
    "    csvD[name] = abswUstMM[:, i]\n",
    "\n",
    "csvD = pd.DataFrame(csvD)\n",
    "csvD.to_csv(\"wU_minmax_st03.csv\")"
   ]
  },
  {
   "cell_type": "code",
   "execution_count": 220,
   "metadata": {},
   "outputs": [],
   "source": [
    "import scipy.stats as ss\n",
    "from collections import defaultdict as ddict\n",
    "corrs = ddict(list)\n",
    "for absU in abswUstMM:\n",
    "    for j, name in enumerate(rowNames):\n",
    "        #corrs[name].append(ss.spearmanr(fcRarrMM[j, :], absU)[0])\n",
    "        corrs[name].append(ss.pearsonr(fcRarrMM[j, :], absU)[0])\n",
    "    \n",
    "corrsDF = pd.DataFrame(corrs)\n",
    "corrsDF.to_csv(\"corrs_st03.csv\")"
   ]
  },
  {
   "cell_type": "code",
   "execution_count": 221,
   "metadata": {},
   "outputs": [
    {
     "data": {
      "text/html": [
       "<div>\n",
       "<style scoped>\n",
       "    .dataframe tbody tr th:only-of-type {\n",
       "        vertical-align: middle;\n",
       "    }\n",
       "\n",
       "    .dataframe tbody tr th {\n",
       "        vertical-align: top;\n",
       "    }\n",
       "\n",
       "    .dataframe thead th {\n",
       "        text-align: right;\n",
       "    }\n",
       "</style>\n",
       "<table border=\"1\" class=\"dataframe\">\n",
       "  <thead>\n",
       "    <tr style=\"text-align: right;\">\n",
       "      <th></th>\n",
       "      <th>Default</th>\n",
       "      <th>Dorsal_Attention</th>\n",
       "      <th>Frontoparietal</th>\n",
       "      <th>Limbic</th>\n",
       "      <th>Somatomotor</th>\n",
       "      <th>Ventral_Attention</th>\n",
       "      <th>Visual</th>\n",
       "    </tr>\n",
       "  </thead>\n",
       "  <tbody>\n",
       "    <tr>\n",
       "      <td>0</td>\n",
       "      <td>0.039810</td>\n",
       "      <td>-0.139885</td>\n",
       "      <td>-0.033105</td>\n",
       "      <td>-0.067046</td>\n",
       "      <td>0.034914</td>\n",
       "      <td>0.067786</td>\n",
       "      <td>0.026806</td>\n",
       "    </tr>\n",
       "    <tr>\n",
       "      <td>1</td>\n",
       "      <td>0.234872</td>\n",
       "      <td>-0.062432</td>\n",
       "      <td>0.101527</td>\n",
       "      <td>0.133826</td>\n",
       "      <td>-0.296578</td>\n",
       "      <td>-0.198782</td>\n",
       "      <td>0.075855</td>\n",
       "    </tr>\n",
       "    <tr>\n",
       "      <td>2</td>\n",
       "      <td>0.157128</td>\n",
       "      <td>0.078965</td>\n",
       "      <td>-0.236521</td>\n",
       "      <td>0.105052</td>\n",
       "      <td>-0.153411</td>\n",
       "      <td>-0.212045</td>\n",
       "      <td>0.163961</td>\n",
       "    </tr>\n",
       "    <tr>\n",
       "      <td>3</td>\n",
       "      <td>0.055370</td>\n",
       "      <td>-0.145874</td>\n",
       "      <td>-0.035911</td>\n",
       "      <td>0.176819</td>\n",
       "      <td>-0.227367</td>\n",
       "      <td>-0.104455</td>\n",
       "      <td>0.164032</td>\n",
       "    </tr>\n",
       "    <tr>\n",
       "      <td>4</td>\n",
       "      <td>-0.191342</td>\n",
       "      <td>0.304155</td>\n",
       "      <td>-0.299326</td>\n",
       "      <td>0.035819</td>\n",
       "      <td>0.072748</td>\n",
       "      <td>-0.007448</td>\n",
       "      <td>0.090948</td>\n",
       "    </tr>\n",
       "    <tr>\n",
       "      <td>5</td>\n",
       "      <td>-0.125556</td>\n",
       "      <td>0.035269</td>\n",
       "      <td>-0.020030</td>\n",
       "      <td>0.054812</td>\n",
       "      <td>-0.031018</td>\n",
       "      <td>0.100071</td>\n",
       "      <td>-0.049639</td>\n",
       "    </tr>\n",
       "    <tr>\n",
       "      <td>6</td>\n",
       "      <td>0.290336</td>\n",
       "      <td>-0.043885</td>\n",
       "      <td>0.049413</td>\n",
       "      <td>-0.012134</td>\n",
       "      <td>-0.102951</td>\n",
       "      <td>-0.161712</td>\n",
       "      <td>0.002982</td>\n",
       "    </tr>\n",
       "  </tbody>\n",
       "</table>\n",
       "</div>"
      ],
      "text/plain": [
       "    Default  Dorsal_Attention  Frontoparietal    Limbic  Somatomotor  \\\n",
       "0  0.039810         -0.139885       -0.033105 -0.067046     0.034914   \n",
       "1  0.234872         -0.062432        0.101527  0.133826    -0.296578   \n",
       "2  0.157128          0.078965       -0.236521  0.105052    -0.153411   \n",
       "3  0.055370         -0.145874       -0.035911  0.176819    -0.227367   \n",
       "4 -0.191342          0.304155       -0.299326  0.035819     0.072748   \n",
       "5 -0.125556          0.035269       -0.020030  0.054812    -0.031018   \n",
       "6  0.290336         -0.043885        0.049413 -0.012134    -0.102951   \n",
       "\n",
       "   Ventral_Attention    Visual  \n",
       "0           0.067786  0.026806  \n",
       "1          -0.198782  0.075855  \n",
       "2          -0.212045  0.163961  \n",
       "3          -0.104455  0.164032  \n",
       "4          -0.007448  0.090948  \n",
       "5           0.100071 -0.049639  \n",
       "6          -0.161712  0.002982  "
      ]
     },
     "execution_count": 221,
     "metadata": {},
     "output_type": "execute_result"
    }
   ],
   "source": [
    "corrsDF"
   ]
  },
  {
   "cell_type": "markdown",
   "metadata": {},
   "source": [
    "### Results for other ranks"
   ]
  },
  {
   "cell_type": "code",
   "execution_count": 203,
   "metadata": {},
   "outputs": [
    {
     "data": {
      "text/html": [
       "<div>\n",
       "<style scoped>\n",
       "    .dataframe tbody tr th:only-of-type {\n",
       "        vertical-align: middle;\n",
       "    }\n",
       "\n",
       "    .dataframe tbody tr th {\n",
       "        vertical-align: top;\n",
       "    }\n",
       "\n",
       "    .dataframe thead th {\n",
       "        text-align: right;\n",
       "    }\n",
       "</style>\n",
       "<table border=\"1\" class=\"dataframe\">\n",
       "  <thead>\n",
       "    <tr style=\"text-align: right;\">\n",
       "      <th></th>\n",
       "      <th>Default</th>\n",
       "      <th>Dorsal_Attention</th>\n",
       "      <th>Frontoparietal</th>\n",
       "      <th>Limbic</th>\n",
       "      <th>Somatomotor</th>\n",
       "      <th>Ventral_Attention</th>\n",
       "      <th>Visual</th>\n",
       "    </tr>\n",
       "  </thead>\n",
       "  <tbody>\n",
       "    <tr>\n",
       "      <td>0</td>\n",
       "      <td>-0.067743</td>\n",
       "      <td>-0.058275</td>\n",
       "      <td>-0.092624</td>\n",
       "      <td>0.124265</td>\n",
       "      <td>0.030438</td>\n",
       "      <td>0.048895</td>\n",
       "      <td>-0.112504</td>\n",
       "    </tr>\n",
       "    <tr>\n",
       "      <td>1</td>\n",
       "      <td>-0.038493</td>\n",
       "      <td>0.053091</td>\n",
       "      <td>-0.062574</td>\n",
       "      <td>0.177552</td>\n",
       "      <td>0.047826</td>\n",
       "      <td>0.103042</td>\n",
       "      <td>-0.010804</td>\n",
       "    </tr>\n",
       "    <tr>\n",
       "      <td>2</td>\n",
       "      <td>-0.060077</td>\n",
       "      <td>0.131290</td>\n",
       "      <td>-0.075110</td>\n",
       "      <td>0.140054</td>\n",
       "      <td>0.052286</td>\n",
       "      <td>0.066853</td>\n",
       "      <td>0.125777</td>\n",
       "    </tr>\n",
       "    <tr>\n",
       "      <td>3</td>\n",
       "      <td>-0.319336</td>\n",
       "      <td>0.352412</td>\n",
       "      <td>-0.147687</td>\n",
       "      <td>-0.285811</td>\n",
       "      <td>0.328005</td>\n",
       "      <td>0.037558</td>\n",
       "      <td>0.192357</td>\n",
       "    </tr>\n",
       "    <tr>\n",
       "      <td>4</td>\n",
       "      <td>-0.082258</td>\n",
       "      <td>0.155838</td>\n",
       "      <td>-0.101182</td>\n",
       "      <td>0.211507</td>\n",
       "      <td>0.082294</td>\n",
       "      <td>0.044748</td>\n",
       "      <td>0.166887</td>\n",
       "    </tr>\n",
       "    <tr>\n",
       "      <td>5</td>\n",
       "      <td>-0.143086</td>\n",
       "      <td>0.225538</td>\n",
       "      <td>-0.115549</td>\n",
       "      <td>0.192456</td>\n",
       "      <td>0.091236</td>\n",
       "      <td>-0.024600</td>\n",
       "      <td>0.259277</td>\n",
       "    </tr>\n",
       "    <tr>\n",
       "      <td>6</td>\n",
       "      <td>0.129533</td>\n",
       "      <td>-0.096127</td>\n",
       "      <td>-0.054707</td>\n",
       "      <td>-0.025898</td>\n",
       "      <td>-0.037691</td>\n",
       "      <td>-0.100315</td>\n",
       "      <td>-0.064734</td>\n",
       "    </tr>\n",
       "  </tbody>\n",
       "</table>\n",
       "</div>"
      ],
      "text/plain": [
       "    Default  Dorsal_Attention  Frontoparietal    Limbic  Somatomotor  \\\n",
       "0 -0.067743         -0.058275       -0.092624  0.124265     0.030438   \n",
       "1 -0.038493          0.053091       -0.062574  0.177552     0.047826   \n",
       "2 -0.060077          0.131290       -0.075110  0.140054     0.052286   \n",
       "3 -0.319336          0.352412       -0.147687 -0.285811     0.328005   \n",
       "4 -0.082258          0.155838       -0.101182  0.211507     0.082294   \n",
       "5 -0.143086          0.225538       -0.115549  0.192456     0.091236   \n",
       "6  0.129533         -0.096127       -0.054707 -0.025898    -0.037691   \n",
       "\n",
       "   Ventral_Attention    Visual  \n",
       "0           0.048895 -0.112504  \n",
       "1           0.103042 -0.010804  \n",
       "2           0.066853  0.125777  \n",
       "3           0.037558  0.192357  \n",
       "4           0.044748  0.166887  \n",
       "5          -0.024600  0.259277  \n",
       "6          -0.100315 -0.064734  "
      ]
     },
     "execution_count": 203,
     "metadata": {},
     "output_type": "execute_result"
    }
   ],
   "source": [
    "#  spearsman rank 4\n",
    "corrsDF"
   ]
  },
  {
   "cell_type": "code",
   "execution_count": 201,
   "metadata": {},
   "outputs": [
    {
     "data": {
      "text/html": [
       "<div>\n",
       "<style scoped>\n",
       "    .dataframe tbody tr th:only-of-type {\n",
       "        vertical-align: middle;\n",
       "    }\n",
       "\n",
       "    .dataframe tbody tr th {\n",
       "        vertical-align: top;\n",
       "    }\n",
       "\n",
       "    .dataframe thead th {\n",
       "        text-align: right;\n",
       "    }\n",
       "</style>\n",
       "<table border=\"1\" class=\"dataframe\">\n",
       "  <thead>\n",
       "    <tr style=\"text-align: right;\">\n",
       "      <th></th>\n",
       "      <th>Default</th>\n",
       "      <th>Dorsal_Attention</th>\n",
       "      <th>Frontoparietal</th>\n",
       "      <th>Limbic</th>\n",
       "      <th>Somatomotor</th>\n",
       "      <th>Ventral_Attention</th>\n",
       "      <th>Visual</th>\n",
       "    </tr>\n",
       "  </thead>\n",
       "  <tbody>\n",
       "    <tr>\n",
       "      <td>0</td>\n",
       "      <td>0.024323</td>\n",
       "      <td>-0.124883</td>\n",
       "      <td>-0.021546</td>\n",
       "      <td>-0.058288</td>\n",
       "      <td>0.051245</td>\n",
       "      <td>0.092848</td>\n",
       "      <td>-0.011494</td>\n",
       "    </tr>\n",
       "    <tr>\n",
       "      <td>1</td>\n",
       "      <td>-0.095508</td>\n",
       "      <td>0.036216</td>\n",
       "      <td>-0.065135</td>\n",
       "      <td>-0.069350</td>\n",
       "      <td>0.067575</td>\n",
       "      <td>0.145736</td>\n",
       "      <td>-0.035018</td>\n",
       "    </tr>\n",
       "    <tr>\n",
       "      <td>2</td>\n",
       "      <td>-0.124265</td>\n",
       "      <td>0.044556</td>\n",
       "      <td>-0.099540</td>\n",
       "      <td>-0.095288</td>\n",
       "      <td>0.032802</td>\n",
       "      <td>0.068735</td>\n",
       "      <td>0.099914</td>\n",
       "    </tr>\n",
       "    <tr>\n",
       "      <td>3</td>\n",
       "      <td>-0.282849</td>\n",
       "      <td>0.167655</td>\n",
       "      <td>-0.185038</td>\n",
       "      <td>-0.239870</td>\n",
       "      <td>0.323723</td>\n",
       "      <td>0.024875</td>\n",
       "      <td>0.188664</td>\n",
       "    </tr>\n",
       "    <tr>\n",
       "      <td>4</td>\n",
       "      <td>-0.156616</td>\n",
       "      <td>0.139967</td>\n",
       "      <td>-0.149916</td>\n",
       "      <td>-0.019674</td>\n",
       "      <td>0.020123</td>\n",
       "      <td>0.074725</td>\n",
       "      <td>0.048883</td>\n",
       "    </tr>\n",
       "    <tr>\n",
       "      <td>5</td>\n",
       "      <td>-0.201405</td>\n",
       "      <td>0.227149</td>\n",
       "      <td>-0.199335</td>\n",
       "      <td>0.056362</td>\n",
       "      <td>0.014878</td>\n",
       "      <td>-0.009217</td>\n",
       "      <td>0.082218</td>\n",
       "    </tr>\n",
       "    <tr>\n",
       "      <td>6</td>\n",
       "      <td>0.227321</td>\n",
       "      <td>-0.146214</td>\n",
       "      <td>0.002512</td>\n",
       "      <td>-0.065070</td>\n",
       "      <td>0.000389</td>\n",
       "      <td>-0.061035</td>\n",
       "      <td>0.033862</td>\n",
       "    </tr>\n",
       "  </tbody>\n",
       "</table>\n",
       "</div>"
      ],
      "text/plain": [
       "    Default  Dorsal_Attention  Frontoparietal    Limbic  Somatomotor  \\\n",
       "0  0.024323         -0.124883       -0.021546 -0.058288     0.051245   \n",
       "1 -0.095508          0.036216       -0.065135 -0.069350     0.067575   \n",
       "2 -0.124265          0.044556       -0.099540 -0.095288     0.032802   \n",
       "3 -0.282849          0.167655       -0.185038 -0.239870     0.323723   \n",
       "4 -0.156616          0.139967       -0.149916 -0.019674     0.020123   \n",
       "5 -0.201405          0.227149       -0.199335  0.056362     0.014878   \n",
       "6  0.227321         -0.146214        0.002512 -0.065070     0.000389   \n",
       "\n",
       "   Ventral_Attention    Visual  \n",
       "0           0.092848 -0.011494  \n",
       "1           0.145736 -0.035018  \n",
       "2           0.068735  0.099914  \n",
       "3           0.024875  0.188664  \n",
       "4           0.074725  0.048883  \n",
       "5          -0.009217  0.082218  \n",
       "6          -0.061035  0.033862  "
      ]
     },
     "execution_count": 201,
     "metadata": {},
     "output_type": "execute_result"
    }
   ],
   "source": [
    "#  pearson rank 4\n",
    "corrsDF"
   ]
  },
  {
   "cell_type": "code",
   "execution_count": 181,
   "metadata": {},
   "outputs": [
    {
     "data": {
      "text/html": [
       "<div>\n",
       "<style scoped>\n",
       "    .dataframe tbody tr th:only-of-type {\n",
       "        vertical-align: middle;\n",
       "    }\n",
       "\n",
       "    .dataframe tbody tr th {\n",
       "        vertical-align: top;\n",
       "    }\n",
       "\n",
       "    .dataframe thead th {\n",
       "        text-align: right;\n",
       "    }\n",
       "</style>\n",
       "<table border=\"1\" class=\"dataframe\">\n",
       "  <thead>\n",
       "    <tr style=\"text-align: right;\">\n",
       "      <th></th>\n",
       "      <th>Default</th>\n",
       "      <th>Dorsal_Attention</th>\n",
       "      <th>Frontoparietal</th>\n",
       "      <th>Limbic</th>\n",
       "      <th>Somatomotor</th>\n",
       "      <th>Ventral_Attention</th>\n",
       "      <th>Visual</th>\n",
       "    </tr>\n",
       "  </thead>\n",
       "  <tbody>\n",
       "    <tr>\n",
       "      <td>0</td>\n",
       "      <td>-0.013285</td>\n",
       "      <td>-0.068793</td>\n",
       "      <td>-0.008689</td>\n",
       "      <td>-0.140289</td>\n",
       "      <td>0.021919</td>\n",
       "      <td>0.122516</td>\n",
       "      <td>0.084090</td>\n",
       "    </tr>\n",
       "    <tr>\n",
       "      <td>1</td>\n",
       "      <td>0.336607</td>\n",
       "      <td>-0.078828</td>\n",
       "      <td>0.121041</td>\n",
       "      <td>0.267732</td>\n",
       "      <td>-0.278511</td>\n",
       "      <td>-0.227682</td>\n",
       "      <td>-0.128836</td>\n",
       "    </tr>\n",
       "    <tr>\n",
       "      <td>2</td>\n",
       "      <td>0.121324</td>\n",
       "      <td>-0.231432</td>\n",
       "      <td>-0.065475</td>\n",
       "      <td>0.104520</td>\n",
       "      <td>0.069979</td>\n",
       "      <td>-0.078890</td>\n",
       "      <td>-0.043691</td>\n",
       "    </tr>\n",
       "    <tr>\n",
       "      <td>3</td>\n",
       "      <td>0.166216</td>\n",
       "      <td>-0.150278</td>\n",
       "      <td>-0.034946</td>\n",
       "      <td>0.292272</td>\n",
       "      <td>-0.346598</td>\n",
       "      <td>-0.179434</td>\n",
       "      <td>0.117759</td>\n",
       "    </tr>\n",
       "    <tr>\n",
       "      <td>4</td>\n",
       "      <td>-0.214239</td>\n",
       "      <td>0.320824</td>\n",
       "      <td>-0.280356</td>\n",
       "      <td>0.029136</td>\n",
       "      <td>0.096175</td>\n",
       "      <td>0.023500</td>\n",
       "      <td>0.057869</td>\n",
       "    </tr>\n",
       "    <tr>\n",
       "      <td>5</td>\n",
       "      <td>-0.153591</td>\n",
       "      <td>0.044466</td>\n",
       "      <td>-0.050455</td>\n",
       "      <td>0.027926</td>\n",
       "      <td>-0.040032</td>\n",
       "      <td>0.080868</td>\n",
       "      <td>0.052738</td>\n",
       "    </tr>\n",
       "    <tr>\n",
       "      <td>6</td>\n",
       "      <td>0.294367</td>\n",
       "      <td>-0.039518</td>\n",
       "      <td>0.050586</td>\n",
       "      <td>-0.004186</td>\n",
       "      <td>-0.101843</td>\n",
       "      <td>-0.158959</td>\n",
       "      <td>-0.013492</td>\n",
       "    </tr>\n",
       "  </tbody>\n",
       "</table>\n",
       "</div>"
      ],
      "text/plain": [
       "    Default  Dorsal_Attention  Frontoparietal    Limbic  Somatomotor  \\\n",
       "0 -0.013285         -0.068793       -0.008689 -0.140289     0.021919   \n",
       "1  0.336607         -0.078828        0.121041  0.267732    -0.278511   \n",
       "2  0.121324         -0.231432       -0.065475  0.104520     0.069979   \n",
       "3  0.166216         -0.150278       -0.034946  0.292272    -0.346598   \n",
       "4 -0.214239          0.320824       -0.280356  0.029136     0.096175   \n",
       "5 -0.153591          0.044466       -0.050455  0.027926    -0.040032   \n",
       "6  0.294367         -0.039518        0.050586 -0.004186    -0.101843   \n",
       "\n",
       "   Ventral_Attention    Visual  \n",
       "0           0.122516  0.084090  \n",
       "1          -0.227682 -0.128836  \n",
       "2          -0.078890 -0.043691  \n",
       "3          -0.179434  0.117759  \n",
       "4           0.023500  0.057869  \n",
       "5           0.080868  0.052738  \n",
       "6          -0.158959 -0.013492  "
      ]
     },
     "execution_count": 181,
     "metadata": {},
     "output_type": "execute_result"
    }
   ],
   "source": [
    "#  pearson rank 8\n",
    "corrsDF"
   ]
  },
  {
   "cell_type": "code",
   "execution_count": 179,
   "metadata": {},
   "outputs": [
    {
     "data": {
      "text/html": [
       "<div>\n",
       "<style scoped>\n",
       "    .dataframe tbody tr th:only-of-type {\n",
       "        vertical-align: middle;\n",
       "    }\n",
       "\n",
       "    .dataframe tbody tr th {\n",
       "        vertical-align: top;\n",
       "    }\n",
       "\n",
       "    .dataframe thead th {\n",
       "        text-align: right;\n",
       "    }\n",
       "</style>\n",
       "<table border=\"1\" class=\"dataframe\">\n",
       "  <thead>\n",
       "    <tr style=\"text-align: right;\">\n",
       "      <th></th>\n",
       "      <th>Default</th>\n",
       "      <th>Dorsal_Attention</th>\n",
       "      <th>Frontoparietal</th>\n",
       "      <th>Limbic</th>\n",
       "      <th>Somatomotor</th>\n",
       "      <th>Ventral_Attention</th>\n",
       "      <th>Visual</th>\n",
       "    </tr>\n",
       "  </thead>\n",
       "  <tbody>\n",
       "    <tr>\n",
       "      <td>0</td>\n",
       "      <td>-0.080796</td>\n",
       "      <td>0.025951</td>\n",
       "      <td>-0.047267</td>\n",
       "      <td>-0.009828</td>\n",
       "      <td>0.018790</td>\n",
       "      <td>0.084628</td>\n",
       "      <td>-0.012503</td>\n",
       "    </tr>\n",
       "    <tr>\n",
       "      <td>1</td>\n",
       "      <td>0.306216</td>\n",
       "      <td>-0.056892</td>\n",
       "      <td>0.146668</td>\n",
       "      <td>0.265852</td>\n",
       "      <td>-0.354104</td>\n",
       "      <td>-0.221568</td>\n",
       "      <td>-0.165777</td>\n",
       "    </tr>\n",
       "    <tr>\n",
       "      <td>2</td>\n",
       "      <td>0.128158</td>\n",
       "      <td>-0.336018</td>\n",
       "      <td>-0.118409</td>\n",
       "      <td>0.147571</td>\n",
       "      <td>-0.083861</td>\n",
       "      <td>-0.098784</td>\n",
       "      <td>-0.046184</td>\n",
       "    </tr>\n",
       "    <tr>\n",
       "      <td>3</td>\n",
       "      <td>0.098311</td>\n",
       "      <td>-0.233303</td>\n",
       "      <td>0.021452</td>\n",
       "      <td>0.215654</td>\n",
       "      <td>-0.399887</td>\n",
       "      <td>-0.251187</td>\n",
       "      <td>0.120159</td>\n",
       "    </tr>\n",
       "    <tr>\n",
       "      <td>4</td>\n",
       "      <td>-0.163140</td>\n",
       "      <td>0.294181</td>\n",
       "      <td>-0.172691</td>\n",
       "      <td>0.128498</td>\n",
       "      <td>0.212082</td>\n",
       "      <td>-0.008457</td>\n",
       "      <td>0.274566</td>\n",
       "    </tr>\n",
       "    <tr>\n",
       "      <td>5</td>\n",
       "      <td>-0.052498</td>\n",
       "      <td>0.040693</td>\n",
       "      <td>-0.039410</td>\n",
       "      <td>0.156859</td>\n",
       "      <td>-0.082956</td>\n",
       "      <td>0.005820</td>\n",
       "      <td>0.005074</td>\n",
       "    </tr>\n",
       "    <tr>\n",
       "      <td>6</td>\n",
       "      <td>0.183051</td>\n",
       "      <td>-0.054495</td>\n",
       "      <td>0.085984</td>\n",
       "      <td>-0.074282</td>\n",
       "      <td>-0.110049</td>\n",
       "      <td>-0.153681</td>\n",
       "      <td>-0.053160</td>\n",
       "    </tr>\n",
       "  </tbody>\n",
       "</table>\n",
       "</div>"
      ],
      "text/plain": [
       "    Default  Dorsal_Attention  Frontoparietal    Limbic  Somatomotor  \\\n",
       "0 -0.080796          0.025951       -0.047267 -0.009828     0.018790   \n",
       "1  0.306216         -0.056892        0.146668  0.265852    -0.354104   \n",
       "2  0.128158         -0.336018       -0.118409  0.147571    -0.083861   \n",
       "3  0.098311         -0.233303        0.021452  0.215654    -0.399887   \n",
       "4 -0.163140          0.294181       -0.172691  0.128498     0.212082   \n",
       "5 -0.052498          0.040693       -0.039410  0.156859    -0.082956   \n",
       "6  0.183051         -0.054495        0.085984 -0.074282    -0.110049   \n",
       "\n",
       "   Ventral_Attention    Visual  \n",
       "0           0.084628 -0.012503  \n",
       "1          -0.221568 -0.165777  \n",
       "2          -0.098784 -0.046184  \n",
       "3          -0.251187  0.120159  \n",
       "4          -0.008457  0.274566  \n",
       "5           0.005820  0.005074  \n",
       "6          -0.153681 -0.053160  "
      ]
     },
     "execution_count": 179,
     "metadata": {},
     "output_type": "execute_result"
    }
   ],
   "source": [
    "#  spearrman rank 8\n",
    "corrsDF"
   ]
  },
  {
   "cell_type": "code",
   "execution_count": 166,
   "metadata": {},
   "outputs": [
    {
     "data": {
      "text/html": [
       "<div>\n",
       "<style scoped>\n",
       "    .dataframe tbody tr th:only-of-type {\n",
       "        vertical-align: middle;\n",
       "    }\n",
       "\n",
       "    .dataframe tbody tr th {\n",
       "        vertical-align: top;\n",
       "    }\n",
       "\n",
       "    .dataframe thead th {\n",
       "        text-align: right;\n",
       "    }\n",
       "</style>\n",
       "<table border=\"1\" class=\"dataframe\">\n",
       "  <thead>\n",
       "    <tr style=\"text-align: right;\">\n",
       "      <th></th>\n",
       "      <th>Default</th>\n",
       "      <th>Dorsal_Attention</th>\n",
       "      <th>Frontoparietal</th>\n",
       "      <th>Limbic</th>\n",
       "      <th>Somatomotor</th>\n",
       "      <th>Ventral_Attention</th>\n",
       "      <th>Visual</th>\n",
       "    </tr>\n",
       "  </thead>\n",
       "  <tbody>\n",
       "    <tr>\n",
       "      <td>0</td>\n",
       "      <td>-0.069783</td>\n",
       "      <td>-0.044397</td>\n",
       "      <td>-0.095829</td>\n",
       "      <td>0.068040</td>\n",
       "      <td>0.025591</td>\n",
       "      <td>0.037680</td>\n",
       "      <td>-0.065278</td>\n",
       "    </tr>\n",
       "    <tr>\n",
       "      <td>1</td>\n",
       "      <td>0.152088</td>\n",
       "      <td>-0.006264</td>\n",
       "      <td>0.115866</td>\n",
       "      <td>0.129060</td>\n",
       "      <td>-0.326702</td>\n",
       "      <td>-0.211986</td>\n",
       "      <td>0.010804</td>\n",
       "    </tr>\n",
       "    <tr>\n",
       "      <td>2</td>\n",
       "      <td>0.162861</td>\n",
       "      <td>-0.012981</td>\n",
       "      <td>-0.171879</td>\n",
       "      <td>0.251531</td>\n",
       "      <td>-0.056901</td>\n",
       "      <td>-0.225979</td>\n",
       "      <td>0.332279</td>\n",
       "    </tr>\n",
       "    <tr>\n",
       "      <td>3</td>\n",
       "      <td>0.013764</td>\n",
       "      <td>-0.209901</td>\n",
       "      <td>-0.004502</td>\n",
       "      <td>0.094392</td>\n",
       "      <td>-0.259688</td>\n",
       "      <td>-0.168060</td>\n",
       "      <td>0.155245</td>\n",
       "    </tr>\n",
       "    <tr>\n",
       "      <td>4</td>\n",
       "      <td>-0.150742</td>\n",
       "      <td>0.285930</td>\n",
       "      <td>-0.186672</td>\n",
       "      <td>0.141868</td>\n",
       "      <td>0.196295</td>\n",
       "      <td>-0.040884</td>\n",
       "      <td>0.312030</td>\n",
       "    </tr>\n",
       "    <tr>\n",
       "      <td>5</td>\n",
       "      <td>-0.021315</td>\n",
       "      <td>0.061536</td>\n",
       "      <td>-0.001158</td>\n",
       "      <td>0.205934</td>\n",
       "      <td>-0.050078</td>\n",
       "      <td>0.039424</td>\n",
       "      <td>-0.042107</td>\n",
       "    </tr>\n",
       "    <tr>\n",
       "      <td>6</td>\n",
       "      <td>0.170200</td>\n",
       "      <td>-0.061730</td>\n",
       "      <td>0.075595</td>\n",
       "      <td>-0.071085</td>\n",
       "      <td>-0.097507</td>\n",
       "      <td>-0.146137</td>\n",
       "      <td>-0.060340</td>\n",
       "    </tr>\n",
       "  </tbody>\n",
       "</table>\n",
       "</div>"
      ],
      "text/plain": [
       "    Default  Dorsal_Attention  Frontoparietal    Limbic  Somatomotor  \\\n",
       "0 -0.069783         -0.044397       -0.095829  0.068040     0.025591   \n",
       "1  0.152088         -0.006264        0.115866  0.129060    -0.326702   \n",
       "2  0.162861         -0.012981       -0.171879  0.251531    -0.056901   \n",
       "3  0.013764         -0.209901       -0.004502  0.094392    -0.259688   \n",
       "4 -0.150742          0.285930       -0.186672  0.141868     0.196295   \n",
       "5 -0.021315          0.061536       -0.001158  0.205934    -0.050078   \n",
       "6  0.170200         -0.061730        0.075595 -0.071085    -0.097507   \n",
       "\n",
       "   Ventral_Attention    Visual  \n",
       "0           0.037680 -0.065278  \n",
       "1          -0.211986  0.010804  \n",
       "2          -0.225979  0.332279  \n",
       "3          -0.168060  0.155245  \n",
       "4          -0.040884  0.312030  \n",
       "5           0.039424 -0.042107  \n",
       "6          -0.146137 -0.060340  "
      ]
     },
     "execution_count": 166,
     "metadata": {},
     "output_type": "execute_result"
    }
   ],
   "source": [
    "#  spearrman rank 6\n",
    "corrsDF"
   ]
  },
  {
   "cell_type": "code",
   "execution_count": 164,
   "metadata": {},
   "outputs": [
    {
     "data": {
      "text/html": [
       "<div>\n",
       "<style scoped>\n",
       "    .dataframe tbody tr th:only-of-type {\n",
       "        vertical-align: middle;\n",
       "    }\n",
       "\n",
       "    .dataframe tbody tr th {\n",
       "        vertical-align: top;\n",
       "    }\n",
       "\n",
       "    .dataframe thead th {\n",
       "        text-align: right;\n",
       "    }\n",
       "</style>\n",
       "<table border=\"1\" class=\"dataframe\">\n",
       "  <thead>\n",
       "    <tr style=\"text-align: right;\">\n",
       "      <th></th>\n",
       "      <th>Default</th>\n",
       "      <th>Dorsal_Attention</th>\n",
       "      <th>Frontoparietal</th>\n",
       "      <th>Limbic</th>\n",
       "      <th>Somatomotor</th>\n",
       "      <th>Ventral_Attention</th>\n",
       "      <th>Visual</th>\n",
       "    </tr>\n",
       "  </thead>\n",
       "  <tbody>\n",
       "    <tr>\n",
       "      <td>0</td>\n",
       "      <td>0.039810</td>\n",
       "      <td>-0.139885</td>\n",
       "      <td>-0.033105</td>\n",
       "      <td>-0.067046</td>\n",
       "      <td>0.034914</td>\n",
       "      <td>0.067786</td>\n",
       "      <td>0.026806</td>\n",
       "    </tr>\n",
       "    <tr>\n",
       "      <td>1</td>\n",
       "      <td>0.234872</td>\n",
       "      <td>-0.062432</td>\n",
       "      <td>0.101527</td>\n",
       "      <td>0.133826</td>\n",
       "      <td>-0.296578</td>\n",
       "      <td>-0.198782</td>\n",
       "      <td>0.075855</td>\n",
       "    </tr>\n",
       "    <tr>\n",
       "      <td>2</td>\n",
       "      <td>0.157128</td>\n",
       "      <td>0.078965</td>\n",
       "      <td>-0.236521</td>\n",
       "      <td>0.105052</td>\n",
       "      <td>-0.153411</td>\n",
       "      <td>-0.212045</td>\n",
       "      <td>0.163961</td>\n",
       "    </tr>\n",
       "    <tr>\n",
       "      <td>3</td>\n",
       "      <td>0.055370</td>\n",
       "      <td>-0.145874</td>\n",
       "      <td>-0.035911</td>\n",
       "      <td>0.176819</td>\n",
       "      <td>-0.227367</td>\n",
       "      <td>-0.104455</td>\n",
       "      <td>0.164032</td>\n",
       "    </tr>\n",
       "    <tr>\n",
       "      <td>4</td>\n",
       "      <td>-0.191342</td>\n",
       "      <td>0.304155</td>\n",
       "      <td>-0.299326</td>\n",
       "      <td>0.035819</td>\n",
       "      <td>0.072748</td>\n",
       "      <td>-0.007448</td>\n",
       "      <td>0.090948</td>\n",
       "    </tr>\n",
       "    <tr>\n",
       "      <td>5</td>\n",
       "      <td>-0.125556</td>\n",
       "      <td>0.035269</td>\n",
       "      <td>-0.020030</td>\n",
       "      <td>0.054812</td>\n",
       "      <td>-0.031018</td>\n",
       "      <td>0.100071</td>\n",
       "      <td>-0.049639</td>\n",
       "    </tr>\n",
       "    <tr>\n",
       "      <td>6</td>\n",
       "      <td>0.290336</td>\n",
       "      <td>-0.043885</td>\n",
       "      <td>0.049413</td>\n",
       "      <td>-0.012134</td>\n",
       "      <td>-0.102951</td>\n",
       "      <td>-0.161712</td>\n",
       "      <td>0.002982</td>\n",
       "    </tr>\n",
       "  </tbody>\n",
       "</table>\n",
       "</div>"
      ],
      "text/plain": [
       "    Default  Dorsal_Attention  Frontoparietal    Limbic  Somatomotor  \\\n",
       "0  0.039810         -0.139885       -0.033105 -0.067046     0.034914   \n",
       "1  0.234872         -0.062432        0.101527  0.133826    -0.296578   \n",
       "2  0.157128          0.078965       -0.236521  0.105052    -0.153411   \n",
       "3  0.055370         -0.145874       -0.035911  0.176819    -0.227367   \n",
       "4 -0.191342          0.304155       -0.299326  0.035819     0.072748   \n",
       "5 -0.125556          0.035269       -0.020030  0.054812    -0.031018   \n",
       "6  0.290336         -0.043885        0.049413 -0.012134    -0.102951   \n",
       "\n",
       "   Ventral_Attention    Visual  \n",
       "0           0.067786  0.026806  \n",
       "1          -0.198782  0.075855  \n",
       "2          -0.212045  0.163961  \n",
       "3          -0.104455  0.164032  \n",
       "4          -0.007448  0.090948  \n",
       "5           0.100071 -0.049639  \n",
       "6          -0.161712  0.002982  "
      ]
     },
     "execution_count": 164,
     "metadata": {},
     "output_type": "execute_result"
    }
   ],
   "source": [
    "# pearson rank 6\n",
    "corrsDF"
   ]
  },
  {
   "cell_type": "code",
   "execution_count": null,
   "metadata": {},
   "outputs": [],
   "source": []
  }
 ],
 "metadata": {
  "kernelspec": {
   "display_name": "Python 3",
   "language": "python",
   "name": "python3"
  },
  "language_info": {
   "codemirror_mode": {
    "name": "ipython",
    "version": 3
   },
   "file_extension": ".py",
   "mimetype": "text/x-python",
   "name": "python",
   "nbconvert_exporter": "python",
   "pygments_lexer": "ipython3",
   "version": "3.7.3"
  }
 },
 "nbformat": 4,
 "nbformat_minor": 2
}
