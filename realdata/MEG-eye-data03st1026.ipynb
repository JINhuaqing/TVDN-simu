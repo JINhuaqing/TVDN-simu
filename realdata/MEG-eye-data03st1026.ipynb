{
 "cells": [
  {
   "cell_type": "code",
   "execution_count": 1,
   "metadata": {},
   "outputs": [],
   "source": [
    "import sys\n",
    "sys.path.append(\"/home/huaqingj/MyResearch/TVDN\")"
   ]
  },
  {
   "cell_type": "code",
   "execution_count": 2,
   "metadata": {},
   "outputs": [],
   "source": [
    "from pyTVDN import TVDNDetect, TVDNRankTuning\n",
    "from pathlib import Path\n",
    "from scipy.io import loadmat\n",
    "from scipy.signal import detrend\n",
    "import numpy as np\n",
    "import matplotlib.pyplot as plt\n",
    "import seaborn as sns\n",
    "from pyTVDN.tmpUtils import *\n",
    "%matplotlib inline"
   ]
  },
  {
   "cell_type": "code",
   "execution_count": 3,
   "metadata": {},
   "outputs": [],
   "source": [
    "from pprint import pprint\n",
    "import pickle\n",
    "from easydict import EasyDict as edict\n",
    "import warnings\n",
    "from pyTVDN.TVDNutils import *\n",
    "from pyTVDN.utils import in_notebook\n",
    "if in_notebook():\n",
    "    from tqdm import tqdm_notebook as tqdm\n",
    "else:\n",
    "    from tqdm import tqdm\n",
    "\n",
    "class TVDNDetect1(TVDNDetect):\n",
    "    def SmoothEst(self):\n",
    "        if self.nYmat is None:\n",
    "            self._Preprocess()\n",
    "        d, n = self.nYmat.shape\n",
    "        acTime = n / self.paras.freq\n",
    "        self.ptime = np.linspace(0, acTime, n)\n",
    "        self.time = np.linspace(0, self.paras.T, n)\n",
    "        divNum = 100\n",
    "        if self.smoothType == \"bspline\":\n",
    "            self.dXmat = np.zeros((d, n))\n",
    "            self.Xmat = np.zeros((d, n))\n",
    "            if n%divNum == 0:\n",
    "                numLoop = int(n/divNum)\n",
    "            else:\n",
    "                numLoop = int(n/divNum) + 1\n",
    "            for i in range(numLoop):\n",
    "                if (i+1)*divNum <= n:\n",
    "                    low = i*divNum\n",
    "                    up = (i+1)*divNum\n",
    "                else:\n",
    "                    low = i*divNum\n",
    "                    up = n\n",
    "                self.dXmat[:, low:up], self.Xmat[:, low:up] = GetBsplineEst(self.nYmat[:, low:up], self.time[low:up], \n",
    "                                                                            lamb=self.paras.lamb)\n",
    "        elif self.smoothType == \"fourier\":\n",
    "            self.dXmat, self.Xmat = GetFourierEst(self.nYmat, self.time, nbasis=self.paras.nbasis)"
   ]
  },
  {
   "cell_type": "code",
   "execution_count": 4,
   "metadata": {},
   "outputs": [],
   "source": [
    "resDir = Path(\"../results\")\n",
    "dataDir = Path(\"../data/newMEGdata\")"
   ]
  },
  {
   "cell_type": "code",
   "execution_count": 5,
   "metadata": {},
   "outputs": [
    {
     "data": {
      "text/plain": [
       "PosixPath('../data/newMEGdata/lcmv_result_R2868E_03-st_wo_filtering_min.mat')"
      ]
     },
     "execution_count": 5,
     "metadata": {},
     "output_type": "execute_result"
    }
   ],
   "source": [
    "datFil = list(dataDir.glob(\"*03*min.mat\"))[0]\n",
    "datFil"
   ]
  },
  {
   "cell_type": "code",
   "execution_count": 6,
   "metadata": {},
   "outputs": [],
   "source": [
    "gtF = list(dataDir.glob(\"*_03_st.txt\"))[0]\n",
    "gtSt03 = time2pts(txt2Time(gtF), timeLims.st03)"
   ]
  },
  {
   "cell_type": "code",
   "execution_count": 7,
   "metadata": {},
   "outputs": [
    {
     "data": {
      "text/plain": [
       "[22.2866666667,\n",
       " 32.8766666667,\n",
       " 42.4933333333,\n",
       " 53.9166666667,\n",
       " 68.9333333333,\n",
       " 78.1666666667]"
      ]
     },
     "execution_count": 7,
     "metadata": {},
     "output_type": "execute_result"
    }
   ],
   "source": [
    "txt2Time(gtF)"
   ]
  },
  {
   "cell_type": "code",
   "execution_count": 8,
   "metadata": {},
   "outputs": [
    {
     "data": {
      "text/plain": [
       "[20, 80]"
      ]
     },
     "execution_count": 8,
     "metadata": {},
     "output_type": "execute_result"
    }
   ],
   "source": [
    "timeLims.st03"
   ]
  },
  {
   "cell_type": "code",
   "execution_count": 9,
   "metadata": {},
   "outputs": [
    {
     "data": {
      "text/plain": [
       "array([ 274, 1545, 2699, 4070, 5871, 6980])"
      ]
     },
     "execution_count": 9,
     "metadata": {},
     "output_type": "execute_result"
    }
   ],
   "source": [
    "gtSt03.cpts"
   ]
  },
  {
   "cell_type": "code",
   "execution_count": 10,
   "metadata": {},
   "outputs": [
    {
     "data": {
      "text/plain": [
       "array([1271, 1154, 1371, 1801, 1109])"
      ]
     },
     "execution_count": 10,
     "metadata": {},
     "output_type": "execute_result"
    }
   ],
   "source": [
    "np.diff(gtSt03.cpts)"
   ]
  },
  {
   "cell_type": "code",
   "execution_count": 11,
   "metadata": {},
   "outputs": [],
   "source": [
    "from scipy.signal import lfilter, firls, decimate"
   ]
  },
  {
   "cell_type": "code",
   "execution_count": 12,
   "metadata": {},
   "outputs": [],
   "source": [
    "q = 10"
   ]
  },
  {
   "cell_type": "markdown",
   "metadata": {},
   "source": [
    "## Plot the data"
   ]
  },
  {
   "cell_type": "code",
   "execution_count": 13,
   "metadata": {},
   "outputs": [],
   "source": [
    "MEG = loadmat(datFil)"
   ]
  },
  {
   "cell_type": "code",
   "execution_count": 14,
   "metadata": {},
   "outputs": [],
   "source": [
    "data = MEG[\"DK_timecourse\"]"
   ]
  },
  {
   "cell_type": "markdown",
   "metadata": {},
   "source": [
    "The time course is 60 seconds, so the frequency is 1200 Hz"
   ]
  },
  {
   "cell_type": "code",
   "execution_count": 15,
   "metadata": {},
   "outputs": [],
   "source": [
    "d, n = data.shape"
   ]
  },
  {
   "cell_type": "markdown",
   "metadata": {},
   "source": [
    "###  Data preprocessing"
   ]
  },
  {
   "cell_type": "code",
   "execution_count": 16,
   "metadata": {},
   "outputs": [],
   "source": [
    "dataN = decimate(data, q=q)\n",
    "dataN = detrend(dataN)"
   ]
  },
  {
   "cell_type": "markdown",
   "metadata": {},
   "source": [
    "### HPF "
   ]
  },
  {
   "cell_type": "code",
   "execution_count": 17,
   "metadata": {},
   "outputs": [],
   "source": [
    "fs = 120 #sampling frequency\n",
    "fmin = 2 # 2Hz - 45Hz signal range, filter for this with hbp\n",
    "fmax = 45\n",
    "hbp = firls(101, np.array([0, 0.2*fmin, 0.9*fmin, fmax-2, fmax+5, 60])*2/fs,\n",
    "           desired = np.array([0, 0, 1, 1, 0, 0])) #for detrending, a bandpass"
   ]
  },
  {
   "cell_type": "code",
   "execution_count": 18,
   "metadata": {},
   "outputs": [],
   "source": [
    "dataHPF = lfilter(hbp, 1, dataN)"
   ]
  },
  {
   "cell_type": "markdown",
   "metadata": {},
   "source": [
    "## Detection on data without HPF under screening"
   ]
  },
  {
   "cell_type": "markdown",
   "metadata": {},
   "source": [
    "**Good**\n",
    "wh=10\n",
    "\n",
    "numChg=6\n",
    "\n",
    "{'Lmin': 200,\n",
    " 'MaxM': 20,\n",
    " 'T': 2,\n",
    " 'decimateRate': None,\n",
    " 'downRate': 20,\n",
    " 'fName': 'MEG1',\n",
    " 'fct': 0.5,\n",
    " 'freq': 120,\n",
    " 'is_detrend': False,\n",
    " 'kappa': 1,\n",
    " 'lamb': 0.0001,\n",
    " 'nbasis': 10,\n",
    " 'r': 8}"
   ]
  },
  {
   "cell_type": "code",
   "execution_count": 39,
   "metadata": {},
   "outputs": [],
   "source": [
    "paras = edict()\n",
    "paras.Lmin = 200\n",
    "paras.wh = 5 \n",
    "paras.MaxM = 20\n",
    "paras.fct = 0.5\n",
    "paras.r = 8 \n",
    "paras.freq = 120\n",
    "paras.lamb = 1e-4\n",
    "paras.T = 2\n",
    "paras.is_detrend = False\n",
    "paras.decimateRate = None\n",
    "paras.kappa = 1\n",
    "paras.downRate = 20"
   ]
  },
  {
   "cell_type": "code",
   "execution_count": 40,
   "metadata": {},
   "outputs": [
    {
     "name": "stdout",
     "output_type": "stream",
     "text": [
      "The parameters for detection are:\n",
      "{'Lmin': 200,\n",
      " 'MaxM': 20,\n",
      " 'T': 2,\n",
      " 'decimateRate': None,\n",
      " 'downRate': 20,\n",
      " 'fName': 'MEG1',\n",
      " 'fct': 0.5,\n",
      " 'freq': 120,\n",
      " 'is_detrend': False,\n",
      " 'kappa': 1,\n",
      " 'lamb': 0.0001,\n",
      " 'nbasis': 10,\n",
      " 'r': 8}\n"
     ]
    }
   ],
   "source": [
    "detRaw = TVDNDetect1(Ymat=dataN, dataType=\"MEG\", \n",
    "                     saveDir=None, \n",
    "                     fName=\"MEG1\",\n",
    "                     showProgress=True, \n",
    "                     MaxM=paras.MaxM,\n",
    "                     Lmin=paras.Lmin, \n",
    "                     lamb=paras.lamb, \n",
    "                     kappa=paras.kappa, \n",
    "                     freq=paras.freq,\n",
    "                     r=paras.r,\n",
    "                     T=paras.T,\n",
    "                     is_detrend=paras.is_detrend,\n",
    "                     decimateRate=paras.decimateRate, \n",
    "                     downRate=paras.downRate)"
   ]
  },
  {
   "cell_type": "code",
   "execution_count": 41,
   "metadata": {},
   "outputs": [
    {
     "data": {
      "application/vnd.jupyter.widget-view+json": {
       "model_id": "bf5cb7f54d4d4373a129ea6fb46f96ce",
       "version_major": 2,
       "version_minor": 0
      },
      "text/plain": [
       "HBox(children=(IntProgress(value=0, description='Screening', max=7200, style=ProgressStyle(description_width='…"
      ]
     },
     "metadata": {},
     "output_type": "display_data"
    },
    {
     "name": "stdout",
     "output_type": "stream",
     "text": [
      "\n"
     ]
    }
   ],
   "source": [
    "detRaw.Screening(wh=paras.wh)"
   ]
  },
  {
   "cell_type": "code",
   "execution_count": null,
   "metadata": {},
   "outputs": [
    {
     "data": {
      "application/vnd.jupyter.widget-view+json": {
       "model_id": "5b396e8640384a99ad86d6316826cd92",
       "version_major": 2,
       "version_minor": 0
      },
      "text/plain": [
       "HBox(children=(IntProgress(value=0, description='Dynamic Programming', max=652, style=ProgressStyle(descriptio…"
      ]
     },
     "metadata": {},
     "output_type": "display_data"
    }
   ],
   "source": [
    "detRaw()"
   ]
  },
  {
   "cell_type": "code",
   "execution_count": null,
   "metadata": {},
   "outputs": [],
   "source": [
    "kappas = np.linspace(1, 4, 1000)\n",
    "detRaw.TuningKappa(kappas)"
   ]
  },
  {
   "cell_type": "code",
   "execution_count": null,
   "metadata": {
    "scrolled": false
   },
   "outputs": [],
   "source": [
    "detRaw.UpdateEcpts(6)\n",
    "detRaw.PlotEcpts(GT=gtSt03.cpts)"
   ]
  },
  {
   "cell_type": "code",
   "execution_count": null,
   "metadata": {},
   "outputs": [],
   "source": []
  },
  {
   "cell_type": "code",
   "execution_count": null,
   "metadata": {},
   "outputs": [],
   "source": []
  }
 ],
 "metadata": {
  "kernelspec": {
   "display_name": "Python 3",
   "language": "python",
   "name": "python3"
  },
  "language_info": {
   "codemirror_mode": {
    "name": "ipython",
    "version": 3
   },
   "file_extension": ".py",
   "mimetype": "text/x-python",
   "name": "python",
   "nbconvert_exporter": "python",
   "pygments_lexer": "ipython3",
   "version": "3.7.4"
  }
 },
 "nbformat": 4,
 "nbformat_minor": 2
}
