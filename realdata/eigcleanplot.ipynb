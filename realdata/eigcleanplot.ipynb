{
 "cells": [
  {
   "cell_type": "code",
   "execution_count": 1,
   "metadata": {},
   "outputs": [],
   "source": [
    "from ipywidgets import interactive, widgets, fixed\n",
    "from surfer import Brain as surface\n",
    "from matplotlib.colors import ListedColormap\n",
    "from sklearn.preprocessing import minmax_scale, scale\n",
    "\n",
    "import os\n",
    "import nibabel as nib\n",
    "import numpy as np\n",
    "import pandas as pd\n",
    "import matplotlib.pyplot as plt\n",
    "import random as random\n",
    "\n",
    "# spectrome imports\n",
    "from spectrome.brain import Brain\n",
    "from spectrome.utils import functions, path\n",
    "import csv\n"
   ]
  },
  {
   "cell_type": "code",
   "execution_count": 2,
   "metadata": {},
   "outputs": [],
   "source": [
    "\n",
    "import random as random"
   ]
  },
  {
   "cell_type": "code",
   "execution_count": 3,
   "metadata": {},
   "outputs": [],
   "source": [
    "def eigmode2plot(labels, slider_alpha, slider_k, em, lap_type = 'complex'):\n",
    "    ## spectrome brain object with HCP connectome:\n",
    "    hcp_dir = '../data'\n",
    "    brain = Brain.Brain()\n",
    "    brain.add_connectome(hcp_dir)\n",
    "    brain.reorder_connectome(brain.connectome, brain.distance_matrix)\n",
    "    brain.bi_symmetric_c()\n",
    "    brain.reduce_extreme_dir()\n",
    "    ## compute eigenmodes:\n",
    "    if lap_type == 'complex':\n",
    "        brain.decompose_complex_laplacian(alpha=slider_alpha, k=slider_k, num_ev=86)\n",
    "        lh_cort_eigs = minmax_scale((estU[0:34, em - 1]))\n",
    "        rh_cort_eigs = minmax_scale((estU[34:68,em - 1]))\n",
    "    elif lap_type == 'real':\n",
    "        brain.add_regular_laplacian_eigenmodes(alpha = slider_alpha, num_ev = 86, vis = False)\n",
    "        lh_cort_eigs = minmax_scale((estU[0:34, em - 1]))\n",
    "        rh_cort_eigs = minmax_scale((estU[34:68,em - 1]))\n",
    "    lh_cort_padded = np.insert(lh_cort_eigs, [0,3], [0,0])\n",
    "    rh_cort_padded = np.insert(rh_cort_eigs, [0,3], [0,0])\n",
    "    lh_cort = lh_cort_padded[labels]\n",
    "    rh_cort = rh_cort_padded[labels]\n",
    "    return lh_cort, rh_cort, brain.norm_eigenmodes, em"
   ]
  },
  {
   "cell_type": "code",
   "execution_count": 4,
   "metadata": {},
   "outputs": [],
   "source": [
    "def eigmode_widget(labels, surf_brain, slider_alpha, slider_k, em, hemi):\n",
    "    turbo = ListedColormap(turbo_colormap_data)\n",
    "    hcp_dir = '../data'\n",
    "    brain = Brain.Brain()\n",
    "    brain.add_connectome(hcp_dir)\n",
    "    brain.reorder_connectome(brain.connectome, brain.distance_matrix)\n",
    "    brain.bi_symmetric_c()\n",
    "    brain.reduce_extreme_dir()\n",
    "    brain.decompose_complex_laplacian(alpha=slider_alpha, k=slider_k, num_ev=86)\n",
    "    lh_cort_eigs = minmax_scale((estU[0:34, :]))[:, em-1]\n",
    "    rh_cort_eigs = minmax_scale((estU[34:68, :]))[:, em-1]\n",
    "    lh_cort_padded = np.insert(lh_cort_eigs, [0,3], [0,0])\n",
    "    rh_cort_padded = np.insert(rh_cort_eigs, [0,3], [0,0])\n",
    "    lh_cort = lh_cort_padded[labels]\n",
    "    rh_cort = rh_cort_padded[labels]\n",
    "    if hemi == 'Left':\n",
    "        surf_brain = surface(subject_id, \"lh\", surf, background = \"white\", alpha = 0.3, title = \"Eigen Modes of Complex LaPlacian\", subjects_dir = SUBJECTS_DIR)\n",
    "        surf_brain.add_data(lh_cort, hemi = \"lh\", thresh = 0, colormap = turbo, remove_existing = True)\n",
    "        surf_brain.scale_data_colormap(color_fmin, color_fmid, color_fmax, transparent = False)\n",
    "    elif hemi == 'Right':\n",
    "        surf_brain = surface(subject_id, \"rh\", surf, background = \"white\", alpha = 0.3, title = \"Eigen Modes of Complex LaPlacian\", subjects_dir = SUBJECTS_DIR)\n",
    "        surf_brain.add_data(rh_cort, hemi = \"rh\", thresh = 0, colormap = turbo, remove_existing = True)\n",
    "        surf_brain.scale_data_colormap(color_fmin, color_fmid, color_fmax, transparent = False)\n",
    "    elif hemi == 'Both':\n",
    "        surf_brain = surface(subject_id, \"both\", surf, background = \"white\", alpha = 0.3, title = \"Eigen Modes of Complex LaPlacian\",  subjects_dir = SUBJECTS_DIR)\n",
    "        surf_brain.add_data(lh_cort, hemi = \"lh\", thresh = 0, colormap = turbo, remove_existing = True)\n",
    "        surf_brain.add_data(rh_cort, hemi = \"rh\", thresh = 0, colormap = turbo, remove_existing = False)\n",
    "        surf_brain.scale_data_colormap(color_fmin, color_fmid, color_fmax, transparent = False)\n",
    "    return lh_cort, rh_cort, brain.norm_eigenmodes"
   ]
  },
  {
   "cell_type": "code",
   "execution_count": 1,
   "metadata": {},
   "outputs": [
    {
     "ename": "NameError",
     "evalue": "name 'np' is not defined",
     "output_type": "error",
     "traceback": [
      "\u001b[0;31m---------------------------------------------------------------------------\u001b[0m",
      "\u001b[0;31mNameError\u001b[0m                                 Traceback (most recent call last)",
      "\u001b[0;32m<ipython-input-1-df69a2e35614>\u001b[0m in \u001b[0;36m<module>\u001b[0;34m\u001b[0m\n\u001b[0;32m----> 1\u001b[0;31m \u001b[0mestU1\u001b[0m \u001b[0;34m=\u001b[0m \u001b[0;34m(\u001b[0m\u001b[0mnp\u001b[0m\u001b[0;34m.\u001b[0m\u001b[0mload\u001b[0m\u001b[0;34m(\u001b[0m\u001b[0;34m'/Users/feijiang/Documents/dynamic/segUsub1chg.npy'\u001b[0m\u001b[0;34m)\u001b[0m\u001b[0;34m)\u001b[0m\u001b[0;34m\u001b[0m\u001b[0;34m\u001b[0m\u001b[0m\n\u001b[0m\u001b[1;32m      2\u001b[0m \u001b[0mnsim\u001b[0m \u001b[0;34m=\u001b[0m \u001b[0mestU1\u001b[0m\u001b[0;34m.\u001b[0m\u001b[0mshape\u001b[0m\u001b[0;34m[\u001b[0m\u001b[0;36m1\u001b[0m\u001b[0;34m]\u001b[0m\u001b[0;34m\u001b[0m\u001b[0;34m\u001b[0m\u001b[0m\n\u001b[1;32m      3\u001b[0m \u001b[0mturbo_colormap_data\u001b[0m \u001b[0;34m=\u001b[0m \u001b[0mnp\u001b[0m\u001b[0;34m.\u001b[0m\u001b[0mload\u001b[0m\u001b[0;34m(\u001b[0m\u001b[0;34m'turbocolormap.npy'\u001b[0m\u001b[0;34m)\u001b[0m\u001b[0;34m\u001b[0m\u001b[0;34m\u001b[0m\u001b[0m\n\u001b[1;32m      4\u001b[0m \u001b[0mturbo\u001b[0m \u001b[0;34m=\u001b[0m \u001b[0mListedColormap\u001b[0m\u001b[0;34m(\u001b[0m\u001b[0mturbo_colormap_data\u001b[0m\u001b[0;34m)\u001b[0m\u001b[0;34m\u001b[0m\u001b[0;34m\u001b[0m\u001b[0m\n\u001b[1;32m      5\u001b[0m \u001b[0mcolor_fmin\u001b[0m\u001b[0;34m,\u001b[0m \u001b[0mcolor_fmid\u001b[0m\u001b[0;34m,\u001b[0m \u001b[0mcolor_fmax\u001b[0m \u001b[0;34m=\u001b[0m \u001b[0;36m0\u001b[0m\u001b[0;34m,\u001b[0m \u001b[0;36m0.5\u001b[0m\u001b[0;34m,\u001b[0m \u001b[0;36m1\u001b[0m\u001b[0;34m\u001b[0m\u001b[0;34m\u001b[0m\u001b[0m\n",
      "\u001b[0;31mNameError\u001b[0m: name 'np' is not defined"
     ]
    }
   ],
   "source": [
    "\n",
    "estU1 = (np.load('/Users/feijiang/Documents/dynamic/segUsub1chg.npy'))\n",
    "nsim = estU1.shape[1]\n",
    "turbo_colormap_data = np.load('turbocolormap.npy')\n",
    "turbo = ListedColormap(turbo_colormap_data)\n",
    "color_fmin, color_fmid, color_fmax = 0, 0.5, 1\n",
    "## Load Yeo 2017's canonical network maps:\n",
    "fc_dk = np.load('../data/com_dk.npy', allow_pickle = True).item()\n",
    "fc_dk_normalized = pd.read_csv('../data/DK_dictionary_normalized.csv').set_index('Unnamed: 0')\n",
    "\n",
    "\n",
    "\n",
    "# set up Pysurfer variables\n",
    "subject_id = \"fsaverage\"\n",
    "hemi = [\"lh\",\"rh\"]\n",
    "surf = \"white\"\n",
    "hemi_side = \"lh\"\n",
    "SUBJECTS_DIR = '/Applications/freesurfer/subjects/'\n",
    "aparc_file = os.path.join(SUBJECTS_DIR, subject_id, \"label\", hemi_side + \".aparc.annot\")\n",
    "labels, ctab, names = nib.freesurfer.read_annot(aparc_file)\n",
    "\n",
    "###\n",
    "for sampix in range(nsim):\n",
    "    random.seed(2020)\n",
    "    #estU = estU[:, sampix]#estU.transpose()\n",
    "    \n",
    "    estU = np.reshape(estU1[:, sampix], (68, 1))\n",
    "    estU.shape\n",
    "    param1 = np.array([2.5, 2])\n",
    "    param2 = np.array([0.2, 8])\n",
    "    em1 = sampix\n",
    "    em = 1\n",
    "\n",
    "\n",
    "# #%matplotlib inline\n",
    "# interactive(eigmode_widget, labels = fixed(labels), surf_brain = fixed(sb), \n",
    "#             slider_alpha = widgets.FloatSlider(min=0.2,max=5,step=0.1,value=2.5, description = 'Coupling Strength',continuous_update=False),\n",
    "#             slider_k = widgets.IntSlider(min = 0, max = 50, step = 1, value = 2, description = 'Wave Number',continuous_update=False),\n",
    "#             em = widgets.IntSlider(min = 1, max = 10, step = 1, value = 3, description = 'Eigenmode Number',continuous_update=False),\n",
    "#             hemi = widgets.RadioButtons(options = ['Left', 'Right', 'Both'], value = 'Left', description = 'Select hemisphere'))\n",
    "\n",
    "# ## define turbo colormap\n",
    "\n",
    "   \n",
    "\n",
    "    lh_cort, rh_cort, eigs, em = eigmode2plot(labels, slider_alpha = param1[0], slider_k = param1[1], em=em)\n",
    "## initialize pysurfer rendering:\n",
    "    sb = surface(subject_id, 'lh', surf, background = \"white\", alpha = 0.3, title = \"Singular vectors\", subjects_dir = SUBJECTS_DIR)\n",
    "    sb.add_data(lh_cort, hemi = 'lh', thresh = 0, colormap = turbo, remove_existing = True)\n",
    "    sb.scale_data_colormap(color_fmin, color_fmid, color_fmax, transparent = False)\n",
    "\n",
    "\n",
    "## show lateral and medial views of left hemisphere and save figures\n",
    "    sb.show_view('lat')\n",
    "    sb.save_image('figures/%s_lat_MEG%1d.pdf' % ('sub1chg',  sampix))\n",
    "\n",
    "    sb.show_view('med')\n",
    "    sb.save_image('figures/%s_med_MEG%1d.pdf' % ('sub1chg',  sampix))\n",
    "\n",
    "    sb = surface(subject_id, \"both\", surf, background = \"white\", alpha = 0.3, title = \"Singular vectors\", subjects_dir = SUBJECTS_DIR)\n",
    "    sb.add_data(rh_cort, hemi = 'rh', thresh = 0, colormap = turbo, remove_existing = True)\n",
    "    sb.add_data(lh_cort, hemi = 'lh', thresh = 0, colormap = turbo, remove_existing = True)\n",
    "    sb.scale_data_colormap(color_fmin, color_fmid, color_fmax, transparent = False)\n",
    "    sb.show_view('dor')\n",
    "    sb.save_image('figures/%s_dor_MEG%1d.pdf' % ('sub1chg',  sampix))"
   ]
  },
  {
   "cell_type": "code",
   "execution_count": 3,
   "metadata": {},
   "outputs": [],
   "source": [
    "estU1 = (np.load('/Users/feijiang/Documents/dynamic/segUsub1Im.npy'))"
   ]
  },
  {
   "cell_type": "code",
   "execution_count": 5,
   "metadata": {},
   "outputs": [
    {
     "data": {
      "text/plain": [
       "10"
      ]
     },
     "execution_count": 5,
     "metadata": {},
     "output_type": "execute_result"
    }
   ],
   "source": [
    "nsim"
   ]
  },
  {
   "cell_type": "code",
   "execution_count": 4,
   "metadata": {},
   "outputs": [
    {
     "data": {
      "text/plain": [
       "37"
      ]
     },
     "execution_count": 4,
     "metadata": {},
     "output_type": "execute_result"
    }
   ],
   "source": [
    "sampix"
   ]
  },
  {
   "cell_type": "code",
   "execution_count": 6,
   "metadata": {},
   "outputs": [
    {
     "ename": "NameError",
     "evalue": "name 'segU' is not defined",
     "output_type": "error",
     "traceback": [
      "\u001b[0;31m---------------------------------------------------------------------------\u001b[0m",
      "\u001b[0;31mNameError\u001b[0m                                 Traceback (most recent call last)",
      "\u001b[0;32m<ipython-input-6-f3e6ab137ffe>\u001b[0m in \u001b[0;36m<module>\u001b[0;34m\u001b[0m\n\u001b[0;32m----> 1\u001b[0;31m \u001b[0msegU\u001b[0m\u001b[0;34m.\u001b[0m\u001b[0mshape\u001b[0m\u001b[0;34m[\u001b[0m\u001b[0;36m1\u001b[0m\u001b[0;34m]\u001b[0m\u001b[0;34m\u001b[0m\u001b[0;34m\u001b[0m\u001b[0m\n\u001b[0m",
      "\u001b[0;31mNameError\u001b[0m: name 'segU' is not defined"
     ]
    }
   ],
   "source": [
    "segU.shape[1]"
   ]
  },
  {
   "cell_type": "code",
   "execution_count": 7,
   "metadata": {},
   "outputs": [
    {
     "ename": "NameError",
     "evalue": "name 'segU' is not defined",
     "output_type": "error",
     "traceback": [
      "\u001b[0;31m---------------------------------------------------------------------------\u001b[0m",
      "\u001b[0;31mNameError\u001b[0m                                 Traceback (most recent call last)",
      "\u001b[0;32m<ipython-input-7-f9eb9a38d752>\u001b[0m in \u001b[0;36m<module>\u001b[0;34m\u001b[0m\n\u001b[0;32m----> 1\u001b[0;31m \u001b[0msegU\u001b[0m\u001b[0;34m.\u001b[0m\u001b[0mshape\u001b[0m\u001b[0;34m\u001b[0m\u001b[0;34m\u001b[0m\u001b[0m\n\u001b[0m",
      "\u001b[0;31mNameError\u001b[0m: name 'segU' is not defined"
     ]
    }
   ],
   "source": [
    "segU.shape\n"
   ]
  },
  {
   "cell_type": "code",
   "execution_count": 9,
   "metadata": {},
   "outputs": [
    {
     "data": {
      "text/plain": [
       "(68, 1)"
      ]
     },
     "execution_count": 9,
     "metadata": {},
     "output_type": "execute_result"
    }
   ],
   "source": [
    "estU.shape\n"
   ]
  },
  {
   "cell_type": "code",
   "execution_count": 10,
   "metadata": {},
   "outputs": [],
   "source": [
    "estU = (np.load('/Users/feijiang/Documents/dynamic/segU.npy'))"
   ]
  },
  {
   "cell_type": "code",
   "execution_count": 11,
   "metadata": {},
   "outputs": [
    {
     "data": {
      "text/plain": [
       "(68, 3)"
      ]
     },
     "execution_count": 11,
     "metadata": {},
     "output_type": "execute_result"
    }
   ],
   "source": [
    "estU.shape\n"
   ]
  },
  {
   "cell_type": "code",
   "execution_count": 15,
   "metadata": {},
   "outputs": [
    {
     "data": {
      "text/plain": [
       "3"
      ]
     },
     "execution_count": 15,
     "metadata": {},
     "output_type": "execute_result"
    }
   ],
   "source": [
    "nsim"
   ]
  },
  {
   "cell_type": "code",
   "execution_count": 22,
   "metadata": {},
   "outputs": [
    {
     "data": {
      "text/plain": [
       "array([0., 0., 0., 0., 0., 0., 0., 0., 0., 0., 0., 0., 0., 0., 0., 0., 0.,\n",
       "       0., 0., 0., 0., 0., 0., 0., 0., 0., 0., 0., 0., 0., 0., 0., 0., 0.,\n",
       "       0., 0., 0., 0., 0., 0., 0., 0., 0., 0., 0., 0., 0., 0., 0., 0., 0.,\n",
       "       0., 0., 0., 0., 0., 0., 0., 0., 0., 0., 0., 0., 0., 0., 0., 0., 0.])"
      ]
     },
     "execution_count": 22,
     "metadata": {},
     "output_type": "execute_result"
    }
   ],
   "source": [
    "estU1[:, 5] - estU1[:, 4]"
   ]
  },
  {
   "cell_type": "code",
   "execution_count": 13,
   "metadata": {},
   "outputs": [
    {
     "data": {
      "text/plain": [
       "(68, 1)"
      ]
     },
     "execution_count": 13,
     "metadata": {},
     "output_type": "execute_result"
    }
   ],
   "source": [
    "estU1.shape"
   ]
  },
  {
   "cell_type": "code",
   "execution_count": 4,
   "metadata": {},
   "outputs": [],
   "source": [
    "estU1 = (np.load('/Users/feijiang/Documents/dynamic/segUchg.npy'))"
   ]
  },
  {
   "cell_type": "code",
   "execution_count": 5,
   "metadata": {},
   "outputs": [
    {
     "data": {
      "text/plain": [
       "(68, 12)"
      ]
     },
     "execution_count": 5,
     "metadata": {},
     "output_type": "execute_result"
    }
   ],
   "source": [
    "estU1.shape"
   ]
  },
  {
   "cell_type": "code",
   "execution_count": null,
   "metadata": {},
   "outputs": [],
   "source": []
  }
 ],
 "metadata": {
  "kernelspec": {
   "display_name": "Python 3",
   "language": "python",
   "name": "python3"
  },
  "language_info": {
   "codemirror_mode": {
    "name": "ipython",
    "version": 3
   },
   "file_extension": ".py",
   "mimetype": "text/x-python",
   "name": "python",
   "nbconvert_exporter": "python",
   "pygments_lexer": "ipython3",
   "version": "3.7.4"
  },
  "latex_envs": {
   "LaTeX_envs_menu_present": true,
   "autoclose": false,
   "autocomplete": true,
   "bibliofile": "biblio.bib",
   "cite_by": "apalike",
   "current_citInitial": 1,
   "eqLabelWithNumbers": true,
   "eqNumInitial": 1,
   "hotkeys": {
    "equation": "Ctrl-E",
    "itemize": "Ctrl-I"
   },
   "labels_anchors": false,
   "latex_user_defs": false,
   "report_style_numbering": false,
   "user_envs_cfg": false
  },
  "nbTranslate": {
   "displayLangs": [
    "*"
   ],
   "hotkey": "alt-t",
   "langInMainMenu": true,
   "sourceLang": "en",
   "targetLang": "fr",
   "useGoogleTranslate": true
  }
 },
 "nbformat": 4,
 "nbformat_minor": 2
}
