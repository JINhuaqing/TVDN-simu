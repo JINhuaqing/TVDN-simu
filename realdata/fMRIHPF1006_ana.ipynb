{
 "cells": [
  {
   "cell_type": "code",
   "execution_count": 1,
   "metadata": {},
   "outputs": [],
   "source": [
    "import sys\n",
    "sys.path.append(\"/home/huaqingj/MyResearch/TVDN\")"
   ]
  },
  {
   "cell_type": "code",
   "execution_count": 2,
   "metadata": {},
   "outputs": [],
   "source": [
    "from pyTVDN import TVDNDetect, TVDNRankTuning\n",
    "from pathlib import Path\n",
    "from scipy.io import loadmat\n",
    "from scipy.signal import detrend\n",
    "import numpy as np\n",
    "import matplotlib.pyplot as plt\n",
    "import seaborn as sns\n",
    "from collections import Counter\n",
    "%matplotlib inline\n",
    "plt.style.use('ggplot')"
   ]
  },
  {
   "cell_type": "code",
   "execution_count": 3,
   "metadata": {},
   "outputs": [],
   "source": [
    "from scipy.signal import lfilter, firls, decimate"
   ]
  },
  {
   "cell_type": "code",
   "execution_count": 4,
   "metadata": {},
   "outputs": [],
   "source": [
    "from pprint import pprint\n",
    "import pickle\n",
    "from easydict import EasyDict as edict\n",
    "import warnings\n",
    "from pyTVDN.TVDNutils import *\n",
    "from pyTVDN.utils import in_notebook\n",
    "if in_notebook():\n",
    "    from tqdm import tqdm_notebook as tqdm\n",
    "else:\n",
    "    from tqdm import tqdm\n",
    "\n",
    "class TVDNDetect1(TVDNDetect):\n",
    "    def __init__(self, Ymat, ReconXmat, smoothType=\"Bspline\", dataType=None, \n",
    "                 saveDir=None, showProgress=True, **paras):\n",
    "        \"\"\"\n",
    "        Input:\n",
    "            Ymat: The data matrix, d x n\n",
    "            dataType: real data type, fMRI or MEG\n",
    "            saveDir: Dir to save the results, if not specified, not save\n",
    "            paras: Other parameters. There are default valuesi but you may specify these parameters manually.\n",
    "               Inlcuding:\n",
    "                    kappa: The parameter of penalty in MBIC\n",
    "                    Lmin: The minimal length between 2 change points\n",
    "                    r: The rank setted beforehand, in most cases, r=rAct. If we have non-complex singular values, r < rAct\n",
    "                    MaxM: int, maximal number of change point \n",
    "                    lamb: The smooth parameter for B-spline\n",
    "                    downRate: The downsample factor, determine how many Ai matrix to contribute to estimate the eigen values/vectors.\n",
    "                    decimateRate: Mainly for MEG data. The rate to decimate from MEG data.\n",
    "                    T: The time course\n",
    "                    is_detrend: Whether detrend data or not\n",
    "                    fct: The factor to adjust h when estimating A matrix\n",
    "                    fName:  The file name when saving the results\n",
    "                    plotfct: The factor to adjust the time course when plotting\n",
    "                    freq: The parameter used drawing the eigen values plots\n",
    "        \"\"\"\n",
    "        self.Ymat = Ymat\n",
    "        self.paras = edict()\n",
    "        if dataType is not None:\n",
    "            self.dataType = dataType.lower()\n",
    "        else:\n",
    "            self.dataType = dataType\n",
    "\n",
    "        if smoothType is not None:\n",
    "            self.smoothType = smoothType.lower()\n",
    "        else:\n",
    "            self.smoothType = smoothType\n",
    "\n",
    "\n",
    "        if self.dataType == \"meg\":\n",
    "            self.paras.kappa = 2.65\n",
    "            self.paras.Lmin = 60\n",
    "            self.paras.r = 6\n",
    "            self.paras.MaxM = 19\n",
    "            self.paras.lamb = 1e-4\n",
    "            self.paras.downRate = 20\n",
    "            self.paras.decimateRate = 10\n",
    "            self.paras.T = 2\n",
    "            self.paras.is_detrend = False\n",
    "            self.paras.fct = 0.5\n",
    "            self.paras.fName = \"MEG\"\n",
    "            self.paras.plotfct = 30\n",
    "            self.paras.freq = 60\n",
    "            self.paras.nbasis = 10\n",
    "        elif self.dataType == \"fmri\":\n",
    "            self.paras.kappa = 2.65\n",
    "            self.paras.Lmin = 4\n",
    "            self.paras.r = 6\n",
    "            self.paras.MaxM = 10\n",
    "            self.paras.lamb = 1e-4\n",
    "            self.paras.downRate = 4\n",
    "            self.paras.decimateRate = None\n",
    "            self.paras.T = 2\n",
    "            self.paras.is_detrend = False\n",
    "            self.paras.fct = 0.5\n",
    "            self.paras.fName = \"fMRI\"\n",
    "            self.paras.plotfct = 180\n",
    "            self.paras.freq = 0.5\n",
    "            self.paras.nbasis = 10\n",
    "        else:\n",
    "            self.paras.kappa = 2.65\n",
    "            self.paras.Lmin = 4\n",
    "            self.paras.r = 6\n",
    "            self.paras.MaxM = 19\n",
    "            self.paras.lamb = 1e-6\n",
    "            self.paras.downRate = 4\n",
    "            self.paras.decimateRate = None\n",
    "            self.paras.T = 2\n",
    "            self.paras.is_detrend = False\n",
    "            self.paras.fct = 1\n",
    "            self.paras.fName = \"simu\"\n",
    "            self.paras.plotfct = 1\n",
    "            self.paras.freq = 180\n",
    "            self.paras.nbasis = 10\n",
    "        keys = list(self.paras.keys())\n",
    "        for key in paras.keys():\n",
    "            self.paras[key] = paras[key]\n",
    "        if showProgress:\n",
    "            print(\"The parameters for detection are:\")\n",
    "            pprint(self.paras)\n",
    "        \n",
    "        if saveDir is not None:\n",
    "            self.saveDir = Path(saveDir)\n",
    "            if not self.saveDir.exists():\n",
    "                self.saveDir.mkdir()\n",
    "        else:\n",
    "            self.saveDir = saveDir\n",
    "            \n",
    "        self.ReconXmat = ReconXmat\n",
    "        self.showProgress = showProgress\n",
    "        self.nYmat = None\n",
    "        self.Xmat = None\n",
    "        self.dXmat = None\n",
    "        self.time = None\n",
    "        self.midRes = None\n",
    "        self.nXmat = None\n",
    "        self.ndXmat = None\n",
    "        self.Amat = None\n",
    "        self.finalRes = None\n",
    "        self.RecYmatAll = None\n",
    "        self.RecResCur = None\n",
    "        self.numchgs = None\n",
    "        self.ecpts = None\n",
    "        self.canpts = None\n",
    "    \n",
    "    \n",
    "    def GetRecResCur(self):\n",
    "        numchg = len(self.ecpts)\n",
    "        if self.RecYmatAll is not None:\n",
    "            self.RecResCur = self.RecYmatAll[numchg]\n",
    "        elif self.saveDir is not None:\n",
    "            RecYmatAllPath = self.saveDir/f\"{self.paras.fName}_Rank{self.paras.r}_RecAll.pkl\"\n",
    "            if RecYmatAllPath.exists():\n",
    "                with open(RecYmatAllPath, \"rb\") as f:\n",
    "                    self.RecYmatAll = pickle.load(f)\n",
    "                self.RecResCur = self.RecYmatAll[numchg]\n",
    "            else:\n",
    "                MaxM = self.paras.MaxM\n",
    "                r = self.paras.r\n",
    "                finalRes = self.finalRes\n",
    "                midRes = self.midRes\n",
    "                _, n = midRes.nXmat.shape\n",
    "                time = np.linspace(0, self.paras.T, n)\n",
    "                tStep = np.diff(time)[0]\n",
    "                ndXmat = midRes.ndXmat\n",
    "                nXmat = midRes.nXmat\n",
    "                kpidxs = midRes.kpidxs\n",
    "                eigVecs = midRes.eigVecs\n",
    "                self.RecResCur = self.ReconXmat(finalRes.chgMat[numchg-1, :numchg], ndXmat, nXmat, kpidxs, eigVecs, self.nYmat, tStep, r=r, is_full=True) \n",
    "        else:\n",
    "            MaxM = self.paras.MaxM\n",
    "            r = self.paras.r\n",
    "            finalRes = self.finalRes\n",
    "            midRes = self.midRes\n",
    "            _, n = midRes.nXmat.shape\n",
    "            time = np.linspace(0, self.paras.T, n)\n",
    "            tStep = np.diff(time)[0]\n",
    "            ndXmat = midRes.ndXmat\n",
    "            nXmat = midRes.nXmat\n",
    "            kpidxs = midRes.kpidxs\n",
    "            eigVecs = midRes.eigVecs\n",
    "            self.RecResCur = self.ReconXmat(finalRes.chgMat[numchg-1, :numchg], ndXmat, nXmat, kpidxs, eigVecs, self.nYmat, tStep, r=r, is_full=True) \n",
    "    \n",
    "    def GetRecYmats(self):\n",
    "        if self.RecYmatAll is None:\n",
    "            RecYmatAll = []\n",
    "            MaxM = self.paras.MaxM\n",
    "            r = self.paras.r\n",
    "            finalRes = self.finalRes\n",
    "            midRes = self.midRes\n",
    "            _, n = midRes.nXmat.shape\n",
    "            time = np.linspace(0, self.paras.T, n)\n",
    "            tStep = np.diff(time)[0]\n",
    "            ndXmat = midRes.ndXmat\n",
    "            nXmat = midRes.nXmat\n",
    "            kpidxs = midRes.kpidxs\n",
    "            eigVecs = midRes.eigVecs\n",
    "            if self.showProgress:\n",
    "                pbar = tqdm(range(MaxM+1))\n",
    "                for numchg in pbar:\n",
    "                    pbar.set_description(f\"Kappa Tuning\")\n",
    "        #            print(f\"Current number of change point is {numchg}.\")\n",
    "                    if numchg == 0:\n",
    "                        RecResCur = self.ReconXmat([], ndXmat, nXmat, kpidxs, eigVecs, self.nYmat, tStep, r=r, is_full=True) \n",
    "                    else:\n",
    "                        RecResCur = self.ReconXmat(finalRes.chgMat[numchg-1, :numchg], ndXmat, nXmat, kpidxs, eigVecs, self.nYmat, tStep, r=r, is_full=True) \n",
    "                    RecYmatAll.append(RecResCur)\n",
    "            else:\n",
    "                for numchg in range(MaxM+1):\n",
    "                    if numchg == 0:\n",
    "                        RecResCur = self.ReconXmat([], ndXmat, nXmat, kpidxs, eigVecs, self.nYmat, tStep, r=r, is_full=True) \n",
    "                    else:\n",
    "                        RecResCur = self.ReconXmat(finalRes.chgMat[numchg-1, :numchg], ndXmat, nXmat, kpidxs, eigVecs, self.nYmat, tStep, r=r, is_full=True) \n",
    "                    RecYmatAll.append(RecResCur)\n",
    "            self.RecYmatAll = RecYmatAll"
   ]
  },
  {
   "cell_type": "code",
   "execution_count": 5,
   "metadata": {},
   "outputs": [],
   "source": [
    "# Reconstruct Xmat from results\n",
    "def ReconXmatNew(ecpts, ndXmat, nXmat, kpidxs, eigVecs, Ymat, tStep, r, is_full=False):\n",
    "    \"\"\"\n",
    "    Input: \n",
    "        ecpts: Estimated change points, \n",
    "        ndXmat: a rAct x n matrix\n",
    "        nXmat: a rAct x n matrix\n",
    "        kpidxs: The intermedian output when calculating ndXmat, nXmat\n",
    "        eigVecs: The matrix of eigen vectors of A matrix, d x d\n",
    "        Ymat: The matrix to construct, d x n \n",
    "        tStep: The time step\n",
    "        r: The rank setted beforehand, in most cases, r=rAct. If we have non-complex singular values, r < rAct\n",
    "        if_full: Where outputing full info or not\n",
    "\n",
    "    Return:\n",
    "        Estimated Xmat, d x n\n",
    "    \"\"\"\n",
    "    print(f\"The class calls the new reconstruction function, ReconXmatNew\")\n",
    "    rAct, n = ndXmat.shape\n",
    "    d, _ = Ymat.shape\n",
    "    ecptsfull = np.concatenate(([0], ecpts, [n])) - 1\n",
    "    ecptsfull = ecptsfull.astype(np.int)\n",
    "    numchgfull = len(ecptsfull)\n",
    "\n",
    "    ResegS = np.zeros((numchgfull-1, r), dtype=np.complex)\n",
    "    for  itr in range(numchgfull-1):\n",
    "        lower = ecptsfull[itr] + 1\n",
    "        upper = ecptsfull[itr+1] + 1\n",
    "        Ycur = ndXmat[:, lower:upper]\n",
    "        Xcur = nXmat[:, lower:upper]\n",
    "        lams = np.zeros(r, dtype=np.complex) + np.inf\n",
    "        for j in range(int(rAct/2)):\n",
    "            tY = Ycur[(2*j):(2*j+2), :]\n",
    "            tX = Xcur[(2*j):(2*j+2), :]\n",
    "            corY = tY.dot(tX.T)\n",
    "            corX = np.trace(tX.dot(tX.T))\n",
    "            a = np.trace(corY)/corX\n",
    "            b = (corY[1, 0] - corY[0, 1])/corX\n",
    "            lams[kpidxs[j]] = a + b*1j\n",
    "        tmpIdx = np.where(lams==np.inf)[0]\n",
    "        lams[tmpIdx] = np.conjugate(lams[tmpIdx-1])\n",
    "        ResegS[itr, :] = lams\n",
    "    \n",
    "    LamMs = np.zeros((r, n), dtype=np.complex)\n",
    "    LamMs[:, 0] = ResegS[0, :]\n",
    "    for itr in range(1, numchgfull):\n",
    "        lower = ecptsfull[itr-1] + 1\n",
    "        upper = ecptsfull[itr] + 1\n",
    "        LamMs[:, lower:upper] = ResegS[itr-1, ].reshape(-1, 1)\n",
    "    \n",
    "    EstXmat = np.zeros((d, n), dtype=np.complex)\n",
    "    EstXmat[:, 0] = Ymat[:, 0]\n",
    "    invEigVecsr = inv(eigVecs)[:r, :]\n",
    "    eigVecsr = eigVecs[:, :r]\n",
    "    for i in range(1, n):\n",
    "        if i in ecpts:\n",
    "            EstXmat[:, i] = Ymat[:, i]\n",
    "        else:\n",
    "            mTerm = np.diag(LamMs[:, i])\n",
    "            rTerm = invEigVecsr.dot(EstXmat[:, i-1])\n",
    "            EstXmat[:, i] = eigVecsr.dot(mTerm).dot(rTerm) * tStep + EstXmat[:,i-1]\n",
    "        \n",
    "    if is_full:\n",
    "        ReDict = edict()\n",
    "        ReDict.EstXmatReal = detrend(EstXmat.real)\n",
    "        ReDict.EstXmatRealOrg = EstXmat.real\n",
    "        ReDict.EstXmatImag = EstXmat.imag\n",
    "        ReDict.LamMs = LamMs\n",
    "        return ReDict\n",
    "    else:\n",
    "        return detrend(EstXmat.real)"
   ]
  },
  {
   "cell_type": "code",
   "execution_count": 6,
   "metadata": {},
   "outputs": [],
   "source": [
    "resDir = Path(\"../results\")\n",
    "dataDir = Path(\"../data\")"
   ]
  },
  {
   "cell_type": "code",
   "execution_count": 7,
   "metadata": {},
   "outputs": [],
   "source": [
    "filname = Path(\"fMRI_samples.mat\")\n",
    "fMRIs = loadmat(dataDir/filname)[\"clean_subjects\"]"
   ]
  },
  {
   "cell_type": "code",
   "execution_count": 8,
   "metadata": {},
   "outputs": [],
   "source": [
    "fs = 0.5 #sampling frequency\n",
    "fmin = 0.009 # \n",
    "fmax = 0.08\n",
    "hbp = firls(21, np.array([0, 0.009, 0.01, 0.08, 0.09, 0.8]), #0.8\n",
    "           desired = np.array([0, 0, 1, 1, 0, 0]))"
   ]
  },
  {
   "cell_type": "code",
   "execution_count": 9,
   "metadata": {},
   "outputs": [],
   "source": [
    "num = 243\n",
    "fMRIsHPF = []\n",
    "for i in range(num):\n",
    "    cfMRI = fMRIs[0, i][\"fMRI\"][:90, :]\n",
    "    # detrend\n",
    "    cfMRI = detrend(cfMRI)\n",
    "    chpffMRI = lfilter(hbp, 1, cfMRI)\n",
    "    fMRIsHPF.append(chpffMRI[:, 25:])"
   ]
  },
  {
   "cell_type": "code",
   "execution_count": 10,
   "metadata": {},
   "outputs": [],
   "source": [
    "saveDir = Path(\"./fMRIHPFs\")"
   ]
  },
  {
   "cell_type": "markdown",
   "metadata": {},
   "source": [
    "# Some plots"
   ]
  },
  {
   "cell_type": "markdown",
   "metadata": {},
   "source": [
    "## Hist of num of change points and ranks"
   ]
  },
  {
   "cell_type": "code",
   "execution_count": 11,
   "metadata": {},
   "outputs": [],
   "source": [
    "fils = list(saveDir.glob(\"*.pkl\"))"
   ]
  },
  {
   "cell_type": "code",
   "execution_count": 12,
   "metadata": {},
   "outputs": [],
   "source": [
    "fils = sorted(fils, key=lambda x: int(x.stem.split(\"_\")[-1]))"
   ]
  },
  {
   "cell_type": "code",
   "execution_count": 13,
   "metadata": {},
   "outputs": [],
   "source": [
    "numChgs = []\n",
    "numRanks = []\n",
    "for fil in fils:\n",
    "    with open(fil, \"rb\") as f:\n",
    "        res = pickle.load(f)\n",
    "    numChgs.append(len(res.DetectObj.ecpts))\n",
    "    numRanks.append(res.optRank)"
   ]
  },
  {
   "cell_type": "code",
   "execution_count": 14,
   "metadata": {},
   "outputs": [],
   "source": [
    "numChgsCt = Counter(numChgs)\n",
    "numRanksCt = Counter(numRanks)"
   ]
  },
  {
   "cell_type": "code",
   "execution_count": 15,
   "metadata": {},
   "outputs": [],
   "source": [
    "ranks = list(numRanksCt.keys())\n",
    "ranks = sorted(ranks)\n",
    "rCts = [numRanksCt[r] for r in ranks]\n",
    "\n",
    "chgs = list(numChgsCt.keys())\n",
    "chgCts = [numChgsCt[chg] for chg in chgs]"
   ]
  },
  {
   "cell_type": "code",
   "execution_count": 16,
   "metadata": {},
   "outputs": [
    {
     "data": {
      "image/png": "[encoded data removed]",
      "text/plain": [
       "<Figure size 720x360 with 2 Axes>"
      ]
     },
     "metadata": {
      "needs_background": "light"
     },
     "output_type": "display_data"
    }
   ],
   "source": [
    "plt.figure(figsize=[10, 5])\n",
    "\n",
    "plt.subplot(121)\n",
    "plt.bar(chgs, np.array(chgCts)/len(fils))\n",
    "plt.xlabel(\"Num of change points\")\n",
    "plt.ylabel(\"Percentage\")\n",
    "\n",
    "plt.subplot(122)\n",
    "plt.bar(ranks, np.array(rCts)/len(fils))\n",
    "plt.xticks(ranks, ranks)\n",
    "plt.xlabel(\"Ranks\")\n",
    "_ = plt.ylabel(\"Percentage\")"
   ]
  },
  {
   "cell_type": "markdown",
   "metadata": {},
   "source": [
    "## U, weighted U and correlation"
   ]
  },
  {
   "cell_type": "code",
   "execution_count": 29,
   "metadata": {},
   "outputs": [],
   "source": [
    "import pandas as pd\n",
    "import scipy.stats as ss\n",
    "from sklearn.cluster import KMeans\n",
    "from sklearn.cluster import Birch\n",
    "from collections import defaultdict as ddict"
   ]
  },
  {
   "cell_type": "code",
   "execution_count": 30,
   "metadata": {},
   "outputs": [],
   "source": [
    "fcRDF = pd.read_csv(\"../necessary files/AALICA.csv\")\n",
    "fcR = np.array(fcRDF)[:90, :]\n",
    "names = (\"Default\", \"Dorsal_Attention\", \"Frontoparietal\", \"Limbic\", \"Somatomotor\", \"Ventral_Attention\", \"Visual\")"
   ]
  },
  {
   "cell_type": "code",
   "execution_count": 31,
   "metadata": {},
   "outputs": [],
   "source": [
    "def minmax(x):\n",
    "    num = x - np.min(x)\n",
    "    den = np.max(x) - np.min(x)\n",
    "    return num/den"
   ]
  },
  {
   "cell_type": "code",
   "execution_count": 32,
   "metadata": {},
   "outputs": [],
   "source": [
    "fcR = np.array([minmax(fcR[:, i]) for i in range(7)])\n",
    "fcR = fcR.T"
   ]
  },
  {
   "cell_type": "code",
   "execution_count": 33,
   "metadata": {},
   "outputs": [],
   "source": [
    "Us = []\n",
    "for fil in fils:\n",
    "    with open(fil, \"rb\") as f:\n",
    "        res = pickle.load(f)\n",
    "    r = res.DetectObj.paras.r\n",
    "    for ri in range(r):\n",
    "        Us.append(res.DetectObj.midRes.eigVecs[:, ri])"
   ]
  },
  {
   "cell_type": "code",
   "execution_count": 34,
   "metadata": {},
   "outputs": [],
   "source": [
    "absUs = np.array(np.abs(Us))"
   ]
  },
  {
   "cell_type": "code",
   "execution_count": 35,
   "metadata": {},
   "outputs": [],
   "source": [
    "kmeans = KMeans(n_clusters=3, random_state=0)\n",
    "kmeans.fit(absUs)\n",
    "labs = kmeans.labels_"
   ]
  },
  {
   "cell_type": "code",
   "execution_count": 36,
   "metadata": {},
   "outputs": [],
   "source": [
    "corrs = ddict(list)\n",
    "for absU in absUs:\n",
    "    for j, name in enumerate(names):\n",
    "        corrs[name].append(ss.pearsonr(fcR[:, j], absU)[0])"
   ]
  },
  {
   "cell_type": "code",
   "execution_count": 37,
   "metadata": {},
   "outputs": [],
   "source": [
    "corDF = pd.DataFrame(corrs)"
   ]
  },
  {
   "cell_type": "markdown",
   "metadata": {},
   "source": [
    "### boxplot for the correlation in each cluster for U"
   ]
  },
  {
   "cell_type": "code",
   "execution_count": 38,
   "metadata": {},
   "outputs": [
    {
     "data": {
      "image/png": "[encoded data removed]",
      "text/plain": [
       "<Figure size 1080x360 with 3 Axes>"
      ]
     },
     "metadata": {
      "needs_background": "light"
     },
     "output_type": "display_data"
    }
   ],
   "source": [
    "plt.figure(figsize=[15, 5])\n",
    "for i in range(1, 4):\n",
    "    plt.subplot(1, 3, i)\n",
    "    plt.title(f\"Cluster {i}\")\n",
    "    sns.boxplot(data=corDF.iloc[labs==(i-1), :])\n",
    "    plt.xticks(rotation=45)"
   ]
  },
  {
   "cell_type": "markdown",
   "metadata": {},
   "source": [
    "### Barplot for the percentage of the largest correlations with the 7 canonical networks for U"
   ]
  },
  {
   "cell_type": "code",
   "execution_count": 39,
   "metadata": {},
   "outputs": [],
   "source": [
    "corArr = np.array(corDF)\n",
    "maxIdxs = np.argmax(np.abs(corArr), axis=1)"
   ]
  },
  {
   "cell_type": "code",
   "execution_count": 40,
   "metadata": {},
   "outputs": [],
   "source": [
    "larCorrCT = Counter(maxIdxs)"
   ]
  },
  {
   "cell_type": "code",
   "execution_count": 41,
   "metadata": {},
   "outputs": [],
   "source": [
    "pers = [larCorrCT[i]/len(maxIdxs) for i in range(7)]"
   ]
  },
  {
   "cell_type": "code",
   "execution_count": 42,
   "metadata": {},
   "outputs": [
    {
     "data": {
      "image/png": "[encoded data removed]",
      "text/plain": [
       "<Figure size 360x360 with 1 Axes>"
      ]
     },
     "metadata": {
      "needs_background": "light"
     },
     "output_type": "display_data"
    }
   ],
   "source": [
    "plt.figure(figsize=(5, 5))\n",
    "plt.bar(names, pers)\n",
    "_ = plt.xticks(rotation=45)"
   ]
  },
  {
   "cell_type": "markdown",
   "metadata": {},
   "source": [
    "## Weighted U"
   ]
  },
  {
   "cell_type": "code",
   "execution_count": 43,
   "metadata": {},
   "outputs": [],
   "source": [
    "wUs = []\n",
    "for fil in fils:\n",
    "    with open(fil, \"rb\") as f:\n",
    "        res = pickle.load(f)\n",
    "    optDet = res.DetectObj\n",
    "    eigVecs = optDet.midRes.eigVecs[:, :optDet.paras.r]\n",
    "    kpidxs = np.concatenate([[0], optDet.ecpts]).astype(np.int)\n",
    "    eigVals = optDet.RecResCur.LamMs[:, kpidxs]\n",
    "    wU = eigVecs.dot(eigVals)\n",
    "    for ii in range(wU.shape[1]):\n",
    "        wUs.append(wU[:, ii])"
   ]
  },
  {
   "cell_type": "code",
   "execution_count": 44,
   "metadata": {},
   "outputs": [],
   "source": [
    "abswUs = np.abs(np.array(wUs))"
   ]
  },
  {
   "cell_type": "code",
   "execution_count": 45,
   "metadata": {},
   "outputs": [],
   "source": [
    "kmeans = KMeans(n_clusters=3, random_state=0)\n",
    "kmeans.fit(abswUs)\n",
    "wlabs = kmeans.labels_"
   ]
  },
  {
   "cell_type": "code",
   "execution_count": 46,
   "metadata": {},
   "outputs": [],
   "source": [
    "#brc = Birch(n_clusters=3)\n",
    "#brc.fit(abswUs)\n",
    "#wlabs = brc.labels_"
   ]
  },
  {
   "cell_type": "code",
   "execution_count": 47,
   "metadata": {},
   "outputs": [],
   "source": [
    "wCorrs = ddict(list)\n",
    "for abswU in abswUs:\n",
    "    for j, name in enumerate(names):\n",
    "        wCorrs[name].append(ss.pearsonr(fcR[:, j], abswU)[0])"
   ]
  },
  {
   "cell_type": "code",
   "execution_count": 48,
   "metadata": {},
   "outputs": [],
   "source": [
    "wCorDF = pd.DataFrame(wCorrs)"
   ]
  },
  {
   "cell_type": "markdown",
   "metadata": {},
   "source": [
    "### boxplot for the correlation in each cluster for weighted U"
   ]
  },
  {
   "cell_type": "code",
   "execution_count": 49,
   "metadata": {},
   "outputs": [
    {
     "data": {
      "image/png": "[encoded data removed]",
      "text/plain": [
       "<Figure size 1080x360 with 3 Axes>"
      ]
     },
     "metadata": {
      "needs_background": "light"
     },
     "output_type": "display_data"
    }
   ],
   "source": [
    "plt.figure(figsize=[15, 5])\n",
    "for i in range(1, 4):\n",
    "    plt.subplot(1, 3, i)\n",
    "    plt.title(f\"Cluster {i}\")\n",
    "    sns.boxplot(data=wCorDF.iloc[wlabs==(i-1), :])\n",
    "    plt.xticks(rotation=45)"
   ]
  },
  {
   "cell_type": "markdown",
   "metadata": {},
   "source": [
    "### Barplot for the percentage of the largest correlations with the 7 canonical networks for weighted U"
   ]
  },
  {
   "cell_type": "code",
   "execution_count": 50,
   "metadata": {},
   "outputs": [],
   "source": [
    "wCorArr = np.array(wCorDF)\n",
    "maxIdxs = np.argmax(np.abs(wCorArr), axis=1)"
   ]
  },
  {
   "cell_type": "code",
   "execution_count": 51,
   "metadata": {},
   "outputs": [],
   "source": [
    "larwCorrCT = Counter(maxIdxs)"
   ]
  },
  {
   "cell_type": "code",
   "execution_count": 52,
   "metadata": {},
   "outputs": [],
   "source": [
    "pers = [larwCorrCT[i]/len(maxIdxs) for i in range(7)]"
   ]
  },
  {
   "cell_type": "code",
   "execution_count": 53,
   "metadata": {},
   "outputs": [
    {
     "data": {
      "image/png": "[encoded data removed]",
      "text/plain": [
       "<Figure size 360x360 with 1 Axes>"
      ]
     },
     "metadata": {
      "needs_background": "light"
     },
     "output_type": "display_data"
    }
   ],
   "source": [
    "plt.figure(figsize=(5, 5))\n",
    "plt.bar(names, pers)\n",
    "_ = plt.xticks(rotation=45)"
   ]
  },
  {
   "cell_type": "code",
   "execution_count": 54,
   "metadata": {},
   "outputs": [],
   "source": [
    "#np.savetxt(\"allCorrwU.txt\", wCorArr)\n",
    "#np.savetxt(\"allCorr.txt\", corArr)"
   ]
  },
  {
   "cell_type": "code",
   "execution_count": 55,
   "metadata": {},
   "outputs": [
    {
     "data": {
      "text/plain": [
       "(90, 155)"
      ]
     },
     "execution_count": 55,
     "metadata": {},
     "output_type": "execute_result"
    }
   ],
   "source": [
    "for i in range(243):\n",
    "res.DetectObj.nYmat"
   ]
  },
  {
   "cell_type": "code",
   "execution_count": 56,
   "metadata": {},
   "outputs": [],
   "source": [
    "for i, fil in enumerate(fils):\n",
    "    with open(fil, \"rb\") as f:\n",
    "        res = pickle.load(f)\n",
    "    np.savetxt(f\"fMRI_{i}.txt\", res.DetectObj.nYmat)"
   ]
  },
  {
   "cell_type": "code",
   "execution_count": null,
   "metadata": {},
   "outputs": [],
   "source": []
  }
 ],
 "metadata": {
  "kernelspec": {
   "display_name": "Python 3",
   "language": "python",
   "name": "python3"
  },
  "language_info": {
   "codemirror_mode": {
    "name": "ipython",
    "version": 3
   },
   "file_extension": ".py",
   "mimetype": "text/x-python",
   "name": "python",
   "nbconvert_exporter": "python",
   "pygments_lexer": "ipython3",
   "version": "3.7.3"
  }
 },
 "nbformat": 4,
 "nbformat_minor": 2
}
