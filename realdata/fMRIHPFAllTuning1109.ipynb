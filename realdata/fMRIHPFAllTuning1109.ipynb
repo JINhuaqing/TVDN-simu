{
 "cells": [
  {
   "cell_type": "code",
   "execution_count": 25,
   "metadata": {},
   "outputs": [],
   "source": [
    "import sys\n",
    "sys.path.append(\"/home/huaqingj/MyResearch/TVDN\")"
   ]
  },
  {
   "cell_type": "code",
   "execution_count": 33,
   "metadata": {},
   "outputs": [],
   "source": [
    "from pyTVDN import TVDNDetect, TVDNRankTuning\n",
    "from pathlib import Path\n",
    "from scipy.io import loadmat\n",
    "from scipy.signal import detrend\n",
    "import numpy as np\n",
    "import matplotlib.pyplot as plt\n",
    "import seaborn as sns\n",
    "%matplotlib inline\n",
    "from scipy.signal import lfilter, firls, decimate\n",
    "from tqdm import tqdm_notebook as tqdm\n",
    "from easydict import EasyDict as edict\n",
    "from collections import Counter\n",
    "import pickle"
   ]
  },
  {
   "cell_type": "code",
   "execution_count": 27,
   "metadata": {},
   "outputs": [],
   "source": [
    "resDir = Path(\"../results\")\n",
    "dataDir = Path(\"../data\")\n",
    "\n",
    "filname = Path(\"fMRI_samples.mat\")\n",
    "fMRIs = loadmat(dataDir/filname)[\"clean_subjects\"]\n",
    "\n",
    "saveDir = resDir/\"fMRIHPFs_fixnchg5\"\n",
    "if not saveDir.exists():\n",
    "    saveDir.mkdir()"
   ]
  },
  {
   "cell_type": "code",
   "execution_count": 28,
   "metadata": {},
   "outputs": [],
   "source": [
    "fs = 0.5 #sampling frequency\n",
    "fmin = 0.009 # \n",
    "fmax = 0.08\n",
    "hbp = firls(21, np.array([0, 0.009, 0.01, 0.08, 0.09, 0.8]), #0.8\n",
    "           desired = np.array([0, 0, 1, 1, 0, 0]))\n",
    "\n",
    "num = fMRIs.shape[-1]\n",
    "fMRIsHPF = []\n",
    "for i in range(num):\n",
    "    cfMRI = fMRIs[0, i][\"fMRI\"][:90, :]\n",
    "    # detrend\n",
    "    cfMRI = detrend(cfMRI)\n",
    "    chpffMRI = lfilter(hbp, 1, cfMRI)\n",
    "    fMRIsHPF.append(chpffMRI[:, 25:])"
   ]
  },
  {
   "cell_type": "markdown",
   "metadata": {},
   "source": [
    "### First method"
   ]
  },
  {
   "cell_type": "code",
   "execution_count": 29,
   "metadata": {},
   "outputs": [],
   "source": [
    "#Lmin = 4\n",
    "#lamb = 8e-5\n",
    "#kappas = np.arange(1, 4, 0.01)\n",
    "#ranks = [2, 4, 6, 8, 10, 12]\n",
    "#\n",
    "#cErr = np.inf\n",
    "#cOptKappa = None\n",
    "#ResObjs = None\n",
    "#cOptRank = None\n",
    "#for cRank in ranks:\n",
    "#    numChgsAll = []\n",
    "#    DetObjs = []\n",
    "#    for ii in tqdm(range(243)):\n",
    "#        Ymat = fMRIsHPF[ii]\n",
    "#        DetRec = TVDNDetect(Ymat=Ymat, dataType=\"fMRI\", MaxM=20, is_detrend=False,\n",
    "#                          saveDir=None, showProgress=False, Lmin=Lmin, lamb=lamb, kappa=2, r=cRank)\n",
    "#        DetRec()\n",
    "#        DetRec.TuningKappa(kappas)\n",
    "#        \n",
    "#        DetObjs.append(DetRec)\n",
    "#        numChgsAll.append(DetRec.numchgs)\n",
    "#        \n",
    "#    numChgsArr = np.array(numChgsAll)\n",
    "#    idx = np.argmin(np.sum((numChgsArr - 5)**2, axis=0))\n",
    "#    optKa = kappas[idx]\n",
    "#    \n",
    "#    # Update det obj\n",
    "#    errs = []\n",
    "#    for DetObj in DetObjs:\n",
    "#        DetObj.UpdateEcpts(DetObj.numchgs[kappas==optKa][0])\n",
    "#        errs.append(DetObj.GetCurMSE())\n",
    "#    err = np.mean(errs)\n",
    "#    print(f\"The current error of rank {cRank} is {err:.3f}, and kappa is {optKa:.3f}.\")\n",
    "#    if cErr > err:\n",
    "#        ResObjs = DetObjs\n",
    "#        cErr = err\n",
    "#        cOptKappa = optKa\n",
    "#        cOptRank = cRank\n",
    "#        \n",
    "#result = edict()\n",
    "#result.DetObjs = ResObjs\n",
    "#result.Err = cErr\n",
    "#result.rank = cOptRank\n",
    "#result.kappa = cOptKappa\n",
    "\n",
    "#with open(saveDir/\"fMRIResultFixnchg5.pkl\", \"wb\") as f:\n",
    "#    pickle.dump(result, f)\n",
    "with open(saveDir/\"fMRIResultFixnchg5.pkl\", \"rb\") as f:\n",
    "    result = pickle.load(f)"
   ]
  },
  {
   "cell_type": "markdown",
   "metadata": {},
   "source": [
    "### Second method "
   ]
  },
  {
   "cell_type": "code",
   "execution_count": 41,
   "metadata": {},
   "outputs": [],
   "source": [
    "#Lmin = 4\n",
    "#lamb = 8e-5\n",
    "#kappas = np.arange(1, 4, 0.01)\n",
    "#ranks = [2, 4, 6, 8, 10, 12]\n",
    "#\n",
    "#cErr = np.inf\n",
    "#cOptKappa = None\n",
    "#ResObjs = None\n",
    "#cOptRank = None\n",
    "#for cRank in ranks:\n",
    "#    numChgsAll = []\n",
    "#    DetObjs = []\n",
    "#    for ii in tqdm(range(243)):\n",
    "#        Ymat = fMRIsHPF[ii]\n",
    "#        DetRec = TVDNDetect(Ymat=Ymat, dataType=\"fMRI\", MaxM=20, is_detrend=False,\n",
    "#                          saveDir=None, showProgress=False, Lmin=Lmin, lamb=lamb, kappa=2, r=cRank)\n",
    "#        DetRec()\n",
    "#        DetRec.TuningKappa(kappas)\n",
    "#        \n",
    "#        DetObjs.append(DetRec)\n",
    "#        numChgsAll.append(DetRec.numchgs)\n",
    "#        \n",
    "#    numChgsArr = np.array(numChgsAll)\n",
    "#    meanChgs = numChgsArr.mean(axis=0)\n",
    "#    varChgs = numChgsArr.var(axis=0)\n",
    "#    subVarChgs = varChgs[np.logical_and(meanChgs<=6, meanChgs>=4)]\n",
    "#    subKappas = kappas[np.logical_and(meanChgs<=6, meanChgs>=4)]\n",
    "#    optKa = subKappas[np.argmin(subVarChgs)]\n",
    "#    \n",
    "#    # Update det obj\n",
    "#    errs = []\n",
    "#    for DetObj in DetObjs:\n",
    "#        DetObj.UpdateEcpts(DetObj.numchgs[kappas==optKa][0])\n",
    "#        errs.append(DetObj.GetCurMSE())\n",
    "#        \n",
    "#    err = np.mean(errs)\n",
    "#    print(f\"The current error of rank {cRank} is {err:.3f}, and kappa is {optKa:.3f}.\")\n",
    "#    \n",
    "#    cResult = edict()\n",
    "#    cResult.DetObjs = DetObjs \n",
    "#    cResult.Err = err\n",
    "#    cResult.rank = cRank\n",
    "#    cResult.kappa = optKa\n",
    "#    with open(saveDir/f\"fMRIResultMinVar_rank{cRank}.pkl\", \"wb\") as f:\n",
    "#        pickle.dump(cResult, f)\n",
    "#        \n",
    "#    if cErr > err:\n",
    "#        ResObjs = DetObjs\n",
    "#        cErr = err\n",
    "#        cOptKappa = optKa\n",
    "#        cOptRank = cRank\n",
    "#        \n",
    "#result = edict()\n",
    "#result.DetObjs = ResObjs\n",
    "#result.Err = cErr\n",
    "#result.rank = cOptRank\n",
    "#result.kappa = cOptKappa\n",
    "\n",
    "#with open(saveDir/\"fMRIResultMinVar.pkl\", \"wb\") as f:\n",
    "#    pickle.dump(result, f)\n",
    "    \n",
    "with open(saveDir/\"fMRIResultMinVar.pkl\", \"rb\") as f:\n",
    "    result2 = pickle.load(f)"
   ]
  },
  {
   "cell_type": "markdown",
   "metadata": {},
   "source": [
    "### Results"
   ]
  },
  {
   "cell_type": "code",
   "execution_count": 48,
   "metadata": {},
   "outputs": [
    {
     "data": {
      "text/plain": [
       "Text(0, 0.5, 'Percentage')"
      ]
     },
     "execution_count": 48,
     "metadata": {},
     "output_type": "execute_result"
    },
    {
     "data": {
      "image/png": "[encoded data removed]",
      "text/plain": [
       "<Figure size 720x720 with 2 Axes>"
      ]
     },
     "metadata": {
      "needs_background": "light"
     },
     "output_type": "display_data"
    }
   ],
   "source": [
    "numChgs = []\n",
    "for resObj in result.DetObjs:\n",
    "    numChgs.append(len(resObj.ecpts))\n",
    "numChgsCT = Counter(numChgs)\n",
    "\n",
    "keys = sorted(list(numChgsCT.keys()))\n",
    "numChgsList = [numChgsCT[key] for key in keys]\n",
    "\n",
    "plt.figure(figsize=[10, 10])\n",
    "\n",
    "plt.subplot(211)\n",
    "plt.bar(keys, np.array(numChgsList)/243)\n",
    "plt.ylim([0, 0.3])\n",
    "plt.title(\"First method, selected rank is 2.\")\n",
    "plt.xlabel(\"Num of changes\")\n",
    "plt.ylabel(\"Percentage\")\n",
    "\n",
    "numChgs = []\n",
    "for resObj in result2.DetObjs:\n",
    "    numChgs.append(len(resObj.ecpts))\n",
    "numChgsCT = Counter(numChgs)\n",
    "\n",
    "keys = sorted(list(numChgsCT.keys()))\n",
    "numChgsList = [numChgsCT[key] for key in keys]\n",
    "\n",
    "plt.subplot(212)\n",
    "plt.bar(keys, np.array(numChgsList)/243)\n",
    "plt.title(\"Second method, selected rank is 2.\")\n",
    "plt.ylim([0, 0.3])\n",
    "plt.xlabel(\"Num of changes\")\n",
    "plt.ylabel(\"Percentage\")"
   ]
  },
  {
   "cell_type": "code",
   "execution_count": null,
   "metadata": {},
   "outputs": [],
   "source": []
  }
 ],
 "metadata": {
  "kernelspec": {
   "display_name": "Python 3",
   "language": "python",
   "name": "python3"
  },
  "language_info": {
   "codemirror_mode": {
    "name": "ipython",
    "version": 3
   },
   "file_extension": ".py",
   "mimetype": "text/x-python",
   "name": "python",
   "nbconvert_exporter": "python",
   "pygments_lexer": "ipython3",
   "version": "3.7.4"
  }
 },
 "nbformat": 4,
 "nbformat_minor": 2
}
