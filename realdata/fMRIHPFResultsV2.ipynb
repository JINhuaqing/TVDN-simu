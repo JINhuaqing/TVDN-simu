{
 "cells": [
  {
   "cell_type": "code",
   "execution_count": 2,
   "metadata": {},
   "outputs": [],
   "source": [
    "import sys\n",
    "sys.path.append(\"/home/huaqingj/MyResearch/TVDN\")"
   ]
  },
  {
   "cell_type": "code",
   "execution_count": 3,
   "metadata": {},
   "outputs": [],
   "source": [
    "from pyTVDN import TVDNDetect, TVDNRankTuning\n",
    "from pyTVDN.tmpUtils import *\n",
    "from pathlib import Path\n",
    "from scipy.io import loadmat\n",
    "from scipy.signal import detrend\n",
    "import numpy as np\n",
    "import matplotlib.pyplot as plt\n",
    "import seaborn as sns\n",
    "from collections import Counter\n",
    "from collections import defaultdict as ddict\n",
    "from tqdm import tqdm_notebook as tqdm\n",
    "import pickle\n",
    "from scipy.signal import lfilter, firls, decimate\n",
    "%matplotlib inline\n",
    "plt.style.use('ggplot')"
   ]
  },
  {
   "cell_type": "code",
   "execution_count": 4,
   "metadata": {},
   "outputs": [
    {
     "name": "stdout",
     "output_type": "stream",
     "text": [
      "../results/fMRIHPFs_rankAdap/fMRIResultAdap.pkl\n"
     ]
    }
   ],
   "source": [
    "saveDir = Path(\"../results/fMRIHPFs_rankAdap\")\n",
    "fil = list(saveDir.glob(\"*Adap.pkl\"))[0]\n",
    "print(fil)\n",
    "\n",
    "with open(fil, \"rb\") as f:\n",
    "    TVDNres = pickle.load(f)"
   ]
  },
  {
   "cell_type": "code",
   "execution_count": 5,
   "metadata": {},
   "outputs": [],
   "source": [
    "import rpy2.robjects as robj\n",
    "robj.r.source(\"../Rcode/utils.R\")\n",
    "\n",
    "RsegCorr = robj.r[\"segCorr\"]\n",
    "RsegPCA = robj.r[\"segPCA\"]\n",
    "RsegDMD = robj.r[\"DMD\"]\n",
    "RchgF = robj.r[\"chgF\"]"
   ]
  },
  {
   "cell_type": "markdown",
   "metadata": {},
   "source": [
    "# Distribution of num of changes and ranks"
   ]
  },
  {
   "cell_type": "code",
   "execution_count": 5,
   "metadata": {},
   "outputs": [
    {
     "data": {
      "application/vnd.jupyter.widget-view+json": {
       "model_id": "b7d44f94ae404f5d98b52e11f137834c",
       "version_major": 2,
       "version_minor": 0
      },
      "text/plain": [
       "HBox(children=(IntProgress(value=0, max=243), HTML(value='')))"
      ]
     },
     "metadata": {},
     "output_type": "display_data"
    },
    {
     "name": "stdout",
     "output_type": "stream",
     "text": [
      "\n"
     ]
    }
   ],
   "source": [
    "wsize = 10\n",
    "rank = 0\n",
    "numChgsw10 = ddict(list)\n",
    "for DetObj in tqdm(TVDNres.DetObjs):\n",
    "    Ymat = DetObj.Ymat\n",
    "    d, n = Ymat.shape\n",
    "    seqw = np.arange(1, n-wsize, 4)\n",
    "    rSeqw = py2Rvec(seqw)\n",
    "    rYmat = py2Rmat(Ymat)\n",
    "    \n",
    "    \n",
    "    rDCORres = RsegCorr(rYmat, wsize, rSeqw)\n",
    "    rDCORecpts = RchgF(rDCORres, rSeqw)\n",
    "    numChgsw10[\"DCOR\"].append(np.array(rDCORecpts))\n",
    "    \n",
    "    # Detection results for PCA\n",
    "    rPCAres = RsegPCA(rYmat, wsize, rSeqw, rank=rank)\n",
    "    rPCAecpts = RchgF(rPCAres, rSeqw)\n",
    "    numChgsw10[\"PCA\"].append(np.array(rPCAecpts))\n",
    "    \n",
    "    # Detection results for DMD\n",
    "    rDMDres = RsegDMD(rYmat, wsize, rSeqw, rank=rank)\n",
    "    rDMDecpts = RchgF(rDMDres, rSeqw)\n",
    "    numChgsw10[\"DMD\"].append(np.array(rDMDecpts))"
   ]
  },
  {
   "cell_type": "code",
   "execution_count": 6,
   "metadata": {},
   "outputs": [
    {
     "data": {
      "application/vnd.jupyter.widget-view+json": {
       "model_id": "03fd3430a92b47ed9dce3bc08d80725c",
       "version_major": 2,
       "version_minor": 0
      },
      "text/plain": [
       "HBox(children=(IntProgress(value=0, max=243), HTML(value='')))"
      ]
     },
     "metadata": {},
     "output_type": "display_data"
    },
    {
     "name": "stdout",
     "output_type": "stream",
     "text": [
      "\n"
     ]
    }
   ],
   "source": [
    "wsize = 20\n",
    "rank = 0\n",
    "numChgsw20 = ddict(list)\n",
    "for DetObj in tqdm(TVDNres.DetObjs):\n",
    "    Ymat = DetObj.Ymat\n",
    "    d, n = Ymat.shape\n",
    "    seqw = np.arange(1, n-wsize, 4)\n",
    "    rSeqw = py2Rvec(seqw)\n",
    "    rYmat = py2Rmat(Ymat)\n",
    "    \n",
    "    # Detection results for DCOR\n",
    "    rDCORres = RsegCorr(rYmat, wsize, rSeqw)\n",
    "    rDCORecpts = RchgF(rDCORres, rSeqw)\n",
    "    numChgsw20[\"DCOR\"].append(np.array(rDCORecpts))\n",
    "    \n",
    "    # Detection results for PCA\n",
    "    rPCAres = RsegPCA(rYmat, wsize, rSeqw, rank=rank)\n",
    "    rPCAecpts = RchgF(rPCAres, rSeqw)\n",
    "    numChgsw20[\"PCA\"].append(np.array(rPCAecpts))\n",
    "    \n",
    "    # Detection results for DMD\n",
    "    rDMDres = RsegDMD(rYmat, wsize, rSeqw, rank=rank)\n",
    "    rDMDecpts = RchgF(rDMDres, rSeqw)\n",
    "    numChgsw20[\"DMD\"].append(np.array(rDMDecpts))"
   ]
  },
  {
   "cell_type": "code",
   "execution_count": 7,
   "metadata": {},
   "outputs": [],
   "source": [
    "numChgs10CT = {}\n",
    "numChgs20CT = {}\n",
    "for key, v in numChgsw10.items():\n",
    "    CT = Counter([len(ecpt) for ecpt in v])\n",
    "    chgs = list(CT.keys())\n",
    "    chgCts = [CT[chg] for chg in chgs]\n",
    "    numChgs10CT[key] = [chgs, chgCts]\n",
    "    \n",
    "for key, v in numChgsw20.items():\n",
    "    CT = Counter([len(ecpt) for ecpt in v])\n",
    "    chgs = list(CT.keys())\n",
    "    chgCts = [CT[chg] for chg in chgs]\n",
    "    numChgs20CT[key] = [chgs, chgCts]"
   ]
  },
  {
   "cell_type": "markdown",
   "metadata": {},
   "source": [
    "### Ranks and num of changes for TVDN"
   ]
  },
  {
   "cell_type": "code",
   "execution_count": 8,
   "metadata": {},
   "outputs": [],
   "source": [
    "numChgs = []\n",
    "numRanks = []\n",
    "for DetObj in TVDNres.DetObjs:\n",
    "    numChgs.append(len(DetObj.ecpts))\n",
    "    numRanks.append(DetObj.paras.r)\n",
    "    \n",
    "numChgsCt = Counter(numChgs)\n",
    "numRanksCt = Counter(numRanks)\n",
    "\n",
    "ranks = list(numRanksCt.keys())\n",
    "ranks = sorted(ranks)\n",
    "rCts = [numRanksCt[r] for r in ranks]\n",
    "\n",
    "chgs = list(numChgsCt.keys())\n",
    "chgCts = [numChgsCt[chg] for chg in chgs]"
   ]
  },
  {
   "cell_type": "code",
   "execution_count": 10,
   "metadata": {},
   "outputs": [
    {
     "data": {
      "text/plain": [
       "Text(-0.05, 0.16, 'wsize=20')"
      ]
     },
     "execution_count": 10,
     "metadata": {},
     "output_type": "execute_result"
    },
    {
     "data": {
      "image/png": "[encoded data removed]",
      "text/plain": [
       "<Figure size 720x720 with 8 Axes>"
      ]
     },
     "metadata": {
      "needs_background": "light"
     },
     "output_type": "display_data"
    }
   ],
   "source": [
    "from matplotlib import gridspec\n",
    "numData = len(TVDNres.DetObjs)\n",
    "\n",
    "fig = plt.figure(figsize=(10, 10), constrained_layout=True)\n",
    "\n",
    "gs = gridspec.GridSpec(3, 6, figure=fig)\n",
    "\n",
    "ax0 = plt.subplot(gs[0,:3])\n",
    "ax1 = plt.subplot(gs[0,3:])\n",
    "ax2 = plt.subplot(gs[1,0:2])\n",
    "ax3 = plt.subplot(gs[1,2:4], sharex=ax2, sharey=ax2)\n",
    "ax4 = plt.subplot(gs[1,4:6], sharex=ax2, sharey=ax2)\n",
    "ax5 = plt.subplot(gs[2,0:2], sharex=ax2, sharey=ax2)\n",
    "ax6 = plt.subplot(gs[2,2:4], sharex=ax2, sharey=ax2)\n",
    "ax7 = plt.subplot(gs[2,4:6], sharex=ax2, sharey=ax2)\n",
    "\n",
    "ax0.bar(chgs, np.array(chgCts)/numData)\n",
    "ax0.set_xlabel(\"Num of change points\")\n",
    "ax0.set_ylabel(\"Percentage\")\n",
    "ax0.set_ylim([0, 0.7])\n",
    "ax0.set_xlim([0, 28])\n",
    "\n",
    "ax1.bar(ranks, np.array(rCts)/numData)\n",
    "ax1.set_xlabel(\"Ranks\")\n",
    "ax1.set_ylabel(\"Percentage\")\n",
    "\n",
    "ax2.bar(numChgs10CT[\"DCOR\"][0], np.array(numChgs10CT[\"DCOR\"][1])/numData)\n",
    "ax2.set_ylim([0, 0.7])\n",
    "ax2.set_xlim([0, 28])\n",
    "ax2.set_title(\"DCOR\")\n",
    "ax2.tick_params(labelbottom=False)\n",
    "\n",
    "ax3.bar(numChgs10CT[\"DMD\"][0], np.array(numChgs10CT[\"DMD\"][1])/numData)\n",
    "ax3.set_title(\"DMD\")\n",
    "ax3.tick_params(labelleft=False, labelbottom=False)\n",
    "\n",
    "ax4.bar(numChgs10CT[\"PCA\"][0], np.array(numChgs10CT[\"PCA\"][1])/numData)\n",
    "ax4.set_title(\"PCA\")\n",
    "ax4.tick_params(labelleft=False, labelbottom=False)\n",
    "\n",
    "ax5.bar(numChgs20CT[\"DCOR\"][0], np.array(numChgs20CT[\"DCOR\"][1])/numData)\n",
    "\n",
    "ax6.bar(numChgs20CT[\"DMD\"][0], np.array(numChgs20CT[\"DMD\"][1])/numData)\n",
    "ax6.tick_params(labelleft=False)\n",
    "\n",
    "ax7.bar(numChgs20CT[\"PCA\"][0], np.array(numChgs20CT[\"PCA\"][1])/numData)\n",
    "ax7.tick_params(labelleft=False)\n",
    "\n",
    "\n",
    "fig.text(-0.08, 1, \"a\", fontsize=20)\n",
    "fig.text(-0.08, 0.66, \"b\", fontsize=20)\n",
    "\n",
    "fig.text(0.5, -0.02, 'Num of change points', ha='center', fontsize=13, color=\"#6D6D6D\")\n",
    "fig.text(0, 1/3, 'Percentage', va='center', rotation=\"vertical\", fontsize=13, color=\"#6D6D6D\")\n",
    "\n",
    "fig.text(-0.05, 0.45, \"wsize=10\", rotation=\"vertical\", fontsize=15)\n",
    "fig.text(-0.05, 0.16, \"wsize=20\", rotation=\"vertical\", fontsize=15)"
   ]
  },
  {
   "cell_type": "markdown",
   "metadata": {},
   "source": [
    "# Correlation with the 7 canonical networks"
   ]
  },
  {
   "cell_type": "code",
   "execution_count": 11,
   "metadata": {},
   "outputs": [],
   "source": [
    "import pandas as pd\n",
    "\n",
    "def tmpF(name):\n",
    "    splName = name.split(\"_\")\n",
    "    if len(splName) == 1:\n",
    "        return splName[0]\n",
    "    else:\n",
    "        res = splName[0] \n",
    "        for splNam in splName[1:]:\n",
    "            res = res + \" \" + splNam\n",
    "        return res \n",
    "\n",
    "fcR = pd.read_csv(\"../necessary files/AALICA.csv\")\n",
    "names = list(fcR.columns)\n",
    "names = [tmpF(name.strip()) for name in names]\n",
    "fcR = np.array(fcR)\n",
    "fcR = fcR[:90, :]\n",
    "\n",
    "RsegDMDOrg = robj.r[\"DMDOrg\"]\n",
    "RsegPCAOrg = robj.r[\"segPCAOrg\"]\n",
    "RcorF = robj.r[\"corF.fMRI\"]"
   ]
  },
  {
   "cell_type": "code",
   "execution_count": 12,
   "metadata": {},
   "outputs": [
    {
     "data": {
      "application/vnd.jupyter.widget-view+json": {
       "model_id": "3ca3480847b04de1be1276c3c12f3e64",
       "version_major": 2,
       "version_minor": 0
      },
      "text/plain": [
       "HBox(children=(IntProgress(value=0, max=243), HTML(value='')))"
      ]
     },
     "metadata": {},
     "output_type": "display_data"
    },
    {
     "name": "stdout",
     "output_type": "stream",
     "text": [
      "\n"
     ]
    }
   ],
   "source": [
    "wsize = 10\n",
    "rank = 0\n",
    "featuresW10 = ddict(list)\n",
    "corW10 = ddict(list)\n",
    "for DetObj in tqdm(TVDNres.DetObjs):\n",
    "    Ymat = DetObj.Ymat\n",
    "    d, n = Ymat.shape\n",
    "    seqw = np.arange(1, n-wsize, 4)\n",
    "    rSeqw = py2Rvec(seqw)\n",
    "    rYmat = py2Rmat(Ymat)\n",
    "    rfcR = py2Rmat(fcR)\n",
    "    \n",
    "    # Features and correlations for PCA\n",
    "    rPCAres = RsegPCAOrg(rYmat, wsize, rSeqw, rank=rank)\n",
    "    featuresW10[\"PCA\"].append(np.array(rPCAres))\n",
    "    rPCAres = RcorF(rPCAres, rfcR)\n",
    "    corW10[\"PCA\"].append(np.array(rPCAres))\n",
    "    \n",
    "    # Features and correlations for DMD\n",
    "    rDMDres = RsegDMDOrg(rYmat, wsize, rSeqw, rank=rank)\n",
    "    featuresW10[\"DMD\"].append(np.array(rDMDres))\n",
    "    rDMDres = RcorF(rDMDres, rfcR)\n",
    "    corW10[\"DMD\"].append(np.array(rDMDres))"
   ]
  },
  {
   "cell_type": "code",
   "execution_count": 13,
   "metadata": {},
   "outputs": [
    {
     "data": {
      "application/vnd.jupyter.widget-view+json": {
       "model_id": "fe76b03e7dc346daa9c598224909db5a",
       "version_major": 2,
       "version_minor": 0
      },
      "text/plain": [
       "HBox(children=(IntProgress(value=0, max=243), HTML(value='')))"
      ]
     },
     "metadata": {},
     "output_type": "display_data"
    },
    {
     "name": "stdout",
     "output_type": "stream",
     "text": [
      "\n"
     ]
    }
   ],
   "source": [
    "wsize = 20\n",
    "rank = 0\n",
    "corW20 = ddict(list)\n",
    "featuresW20 = ddict(list)\n",
    "for DetObj in tqdm(TVDNres.DetObjs):\n",
    "    Ymat = DetObj.Ymat\n",
    "    d, n = Ymat.shape\n",
    "    seqw = np.arange(1, n-wsize, 4)\n",
    "    rSeqw = py2Rvec(seqw)\n",
    "    rYmat = py2Rmat(Ymat)\n",
    "    rfcR = py2Rmat(fcR)\n",
    "    \n",
    "    # Features for PCA\n",
    "    rPCAres = RsegPCAOrg(rYmat, wsize, rSeqw, rank=rank)\n",
    "    featuresW20[\"PCA\"].append(np.array(rPCAres))\n",
    "    rPCAres = RcorF(rPCAres, rfcR)\n",
    "    corW20[\"PCA\"].append(np.array(rPCAres))\n",
    "    \n",
    "    # Features  results for DMD\n",
    "    rDMDres = RsegDMDOrg(rYmat, wsize, rSeqw, rank=rank)\n",
    "    featuresW20[\"DMD\"].append(np.array(rDMDres))\n",
    "    rDMDres = RcorF(rDMDres, rfcR)\n",
    "    corW20[\"DMD\"].append(np.array(rDMDres))"
   ]
  },
  {
   "cell_type": "code",
   "execution_count": 24,
   "metadata": {},
   "outputs": [
    {
     "data": {
      "text/plain": [
       "(17316, 7)"
      ]
     },
     "execution_count": 24,
     "metadata": {},
     "output_type": "execute_result"
    }
   ],
   "source": [
    "np.concatenate(corW10[\"DMD\"]).shape"
   ]
  },
  {
   "cell_type": "code",
   "execution_count": 25,
   "metadata": {},
   "outputs": [],
   "source": [
    "DMDw10Cors = np.concatenate(corW10[\"DMD\"])\n",
    "PCAw10Cors = np.concatenate(corW10[\"PCA\"])\n",
    "DMDw20Cors = np.concatenate(corW20[\"DMD\"])\n",
    "PCAw20Cors = np.concatenate(corW20[\"PCA\"])\n",
    "TVDNCors = np.loadtxt(saveDir/\"allCorrU.txt\")\n",
    "\n",
    "DMDw10CorM = np.max(DMDw10Cors, axis=1)\n",
    "PCAw10CorM = np.max(PCAw10Cors, axis=1)\n",
    "DMDw20CorM = np.max(DMDw20Cors, axis=1)\n",
    "PCAw20CorM = np.max(PCAw20Cors, axis=1)\n",
    "TVDNCorM = np.max(TVDNCors, axis=1)"
   ]
  },
  {
   "cell_type": "code",
   "execution_count": 26,
   "metadata": {},
   "outputs": [],
   "source": [
    "rawVs = list(TVDNCorM) + list(DMDw10CorM) + list(DMDw20CorM) + list(PCAw10CorM) + list(PCAw20CorM)\n",
    "labs = [\"TVDN\"]*len(TVDNCorM) + [\"DMD wsize=10\"]* len(DMDw10CorM) + [\"DMD wsize=20\"]* len(DMDw20CorM) + \\\n",
    "       [\"PCA wsize=10\"]*len(PCAw10CorM) +  [\"PCA wsize=20\"]*len(PCAw20CorM)"
   ]
  },
  {
   "cell_type": "code",
   "execution_count": 27,
   "metadata": {},
   "outputs": [],
   "source": [
    "maxPosIdxDMDw10 = np.argmax(DMDw10Cors, axis=1)\n",
    "maxPosIdxPCAw10 = np.argmax(PCAw10Cors, axis=1)\n",
    "maxPosIdxDMDw20 = np.argmax(DMDw20Cors, axis=1)\n",
    "maxPosIdxPCAw20 = np.argmax(PCAw20Cors, axis=1)\n",
    "maxPosIdxTVDN = np.argmax(TVDNCors, axis=1)\n",
    "\n",
    "PosPCAw10CT = Counter(maxPosIdxPCAw10)\n",
    "PosDMDw10CT = Counter(maxPosIdxDMDw10)\n",
    "PosPCAw20CT = Counter(maxPosIdxPCAw20)\n",
    "PosDMDw20CT = Counter(maxPosIdxDMDw20)\n",
    "PosTVDNCT = Counter(maxPosIdxTVDN)\n",
    "barPosPCAw10 = [PosPCAw10CT[i]/len(maxPosIdxPCAw10) for i in range(7)]\n",
    "barPosDMDw10 = [PosDMDw10CT[i]/len(maxPosIdxDMDw10) for i in range(7)]\n",
    "barPosPCAw20 = [PosPCAw20CT[i]/len(maxPosIdxPCAw20) for i in range(7)]\n",
    "barPosDMDw20 = [PosDMDw20CT[i]/len(maxPosIdxDMDw20) for i in range(7)]\n",
    "barPosTVDN = [PosTVDNCT[i]/len(maxPosIdxTVDN) for i in range(7)]"
   ]
  },
  {
   "cell_type": "code",
   "execution_count": 28,
   "metadata": {},
   "outputs": [
    {
     "data": {
      "text/plain": [
       "Text(-0.05, 0.18, 'wsize=20')"
      ]
     },
     "execution_count": 28,
     "metadata": {},
     "output_type": "execute_result"
    },
    {
     "data": {
      "image/png": "[encoded data removed]",
      "text/plain": [
       "<Figure size 1080x720 with 6 Axes>"
      ]
     },
     "metadata": {
      "needs_background": "light"
     },
     "output_type": "display_data"
    }
   ],
   "source": [
    "fig = plt.figure(figsize=(15, 10), constrained_layout=True)\n",
    "\n",
    "gs = gridspec.GridSpec(3, 2, figure=fig)\n",
    "\n",
    "ax0 = plt.subplot(gs[0, 0])\n",
    "sns.violinplot(y=rawVs, x=labs)\n",
    "_ = plt.ylabel(\"Correlation\")\n",
    "\n",
    "ax1 = plt.subplot(gs[0,1])\n",
    "ax1.bar(names, barPosTVDN)\n",
    "ax1.set_ylabel(\"Percentage\")\n",
    "ax1.set_title(\"TVDN\")\n",
    "ax1.set_xticklabels(names, rotation=45)\n",
    "\n",
    "ax2 = plt.subplot(gs[1, 0])\n",
    "ax2.bar(names, barPosDMDw10)\n",
    "ax2.set_title(\"DMD\")\n",
    "ax2.tick_params(labelbottom=False)\n",
    "\n",
    "ax3 = plt.subplot(gs[1, 1], sharex=ax2, sharey=ax2)\n",
    "ax3.bar(names, barPosPCAw10)\n",
    "ax3.set_title(\"PCA\")\n",
    "ax3.tick_params(labelbottom=False, labelleft=False)\n",
    "\n",
    "\n",
    "ax4 = plt.subplot(gs[2, 0], sharex=ax2, sharey=ax2)\n",
    "ax4.bar(names, barPosDMDw20)\n",
    "ax4.set_xticklabels(names, rotation=45)\n",
    "\n",
    "ax5 = plt.subplot(gs[2, 1], sharex=ax2, sharey=ax2)\n",
    "ax5.bar(names, barPosPCAw20)\n",
    "ax5.tick_params(labelleft=False)\n",
    "ax5.set_xticklabels(names, rotation=45)\n",
    "\n",
    "fig.text(0.50, 1, \"b\", fontsize=20)\n",
    "fig.text(-0.06, 1, \"a\", fontsize=20)\n",
    "fig.text(-0.06, 0.66, \"c\", fontsize=20)\n",
    "\n",
    "fig.text(-0.02, 0.36, 'Percentage', va='center', rotation=\"vertical\", fontsize=13, color=\"#6D6D6D\")\n",
    "\n",
    "fig.text(-0.05, 0.43, \"wsize=10\", rotation=\"vertical\", fontsize=15)\n",
    "fig.text(-0.05, 0.18, \"wsize=20\", rotation=\"vertical\", fontsize=15)"
   ]
  },
  {
   "cell_type": "markdown",
   "metadata": {},
   "source": [
    "## fMRI  61"
   ]
  },
  {
   "cell_type": "code",
   "execution_count": 6,
   "metadata": {},
   "outputs": [],
   "source": [
    "idx = 5\n",
    "DetObj = TVDNres.DetObjs[idx]"
   ]
  },
  {
   "cell_type": "markdown",
   "metadata": {},
   "source": [
    "### Results for DCOR, DMD and PCA"
   ]
  },
  {
   "cell_type": "code",
   "execution_count": 7,
   "metadata": {},
   "outputs": [
    {
     "ename": "NameError",
     "evalue": "name 'gridspec' is not defined",
     "output_type": "error",
     "traceback": [
      "\u001b[0;31m---------------------------------------------------------------------------\u001b[0m",
      "\u001b[0;31mNameError\u001b[0m                                 Traceback (most recent call last)",
      "\u001b[0;32m<ipython-input-7-990c20cf7e6f>\u001b[0m in \u001b[0;36m<module>\u001b[0;34m\u001b[0m\n\u001b[1;32m     19\u001b[0m \u001b[0;34m\u001b[0m\u001b[0m\n\u001b[1;32m     20\u001b[0m \u001b[0mfig\u001b[0m \u001b[0;34m=\u001b[0m \u001b[0mplt\u001b[0m\u001b[0;34m.\u001b[0m\u001b[0mfigure\u001b[0m\u001b[0;34m(\u001b[0m\u001b[0mfigsize\u001b[0m\u001b[0;34m=\u001b[0m\u001b[0;34m(\u001b[0m\u001b[0;36m18\u001b[0m\u001b[0;34m,\u001b[0m \u001b[0;36m12\u001b[0m\u001b[0;34m)\u001b[0m\u001b[0;34m,\u001b[0m \u001b[0mconstrained_layout\u001b[0m\u001b[0;34m=\u001b[0m\u001b[0;32mTrue\u001b[0m\u001b[0;34m)\u001b[0m\u001b[0;34m\u001b[0m\u001b[0;34m\u001b[0m\u001b[0m\n\u001b[0;32m---> 21\u001b[0;31m \u001b[0mgs\u001b[0m \u001b[0;34m=\u001b[0m \u001b[0mgridspec\u001b[0m\u001b[0;34m.\u001b[0m\u001b[0mGridSpec\u001b[0m\u001b[0;34m(\u001b[0m\u001b[0;36m20\u001b[0m\u001b[0;34m,\u001b[0m \u001b[0;36m6\u001b[0m\u001b[0;34m,\u001b[0m \u001b[0mfigure\u001b[0m\u001b[0;34m=\u001b[0m\u001b[0mfig\u001b[0m\u001b[0;34m)\u001b[0m\u001b[0;34m\u001b[0m\u001b[0;34m\u001b[0m\u001b[0m\n\u001b[0m\u001b[1;32m     22\u001b[0m \u001b[0;34m\u001b[0m\u001b[0m\n\u001b[1;32m     23\u001b[0m \u001b[0max0\u001b[0m \u001b[0;34m=\u001b[0m \u001b[0mplt\u001b[0m\u001b[0;34m.\u001b[0m\u001b[0msubplot\u001b[0m\u001b[0;34m(\u001b[0m\u001b[0mgs\u001b[0m\u001b[0;34m[\u001b[0m\u001b[0;36m0\u001b[0m\u001b[0;34m:\u001b[0m\u001b[0;36m5\u001b[0m\u001b[0;34m,\u001b[0m \u001b[0;34m:\u001b[0m\u001b[0;36m6\u001b[0m\u001b[0;34m]\u001b[0m\u001b[0;34m)\u001b[0m\u001b[0;34m\u001b[0m\u001b[0;34m\u001b[0m\u001b[0m\n",
      "\u001b[0;31mNameError\u001b[0m: name 'gridspec' is not defined"
     ]
    },
    {
     "data": {
      "text/plain": [
       "<Figure size 1296x864 with 0 Axes>"
      ]
     },
     "metadata": {},
     "output_type": "display_data"
    }
   ],
   "source": [
    "d, n = DetObj.nYmat.shape\n",
    "acTime = n / DetObj.paras.freq\n",
    "ajfct = n/acTime\n",
    "ptime = DetObj.ptime\n",
    "Ymat = DetObj.Ymat\n",
    "brainDir = Path(\"../plots/\")\n",
    "brainPlots = list(brainDir.glob(f\"fMRI{idx+1}*.jpg\"))\n",
    "brainPlots = sorted(brainPlots, key=lambda x: int(x.stem.split(\"_\")[-1]))\n",
    "\n",
    "freq = DetObj.paras.freq\n",
    "numChgCur = len(DetObj.ecpts)\n",
    "LamMs = DetObj.RecResCur.LamMs\n",
    "rAct, n = LamMs.shape\n",
    "pltIdxs = np.arange(1, rAct)[np.diff(np.abs(LamMs), axis=0).astype(np.bool).all(axis=1)] \n",
    "pltIdxs = np.concatenate([[0], pltIdxs])\n",
    "ReLamMs = freq*LamMs.real/(acTime/DetObj.paras.T)\n",
    "ImLamMs = freq*LamMs.imag/((2*np.pi)*(acTime/DetObj.paras.T))\n",
    "cols = sns.color_palette(\"Paired\", len(pltIdxs))\n",
    "\n",
    "fig = plt.figure(figsize=(18, 12), constrained_layout=True)\n",
    "gs = gridspec.GridSpec(20, 6, figure=fig)\n",
    "\n",
    "ax0 = plt.subplot(gs[0:5, :6])\n",
    "for i in range(d):\n",
    "    ax0.plot(ptime, Ymat[i, :], \"-\")\n",
    "for ecpt in DetObj.ecpts:\n",
    "    ax0.axvline(ecpt/ajfct, color=\"red\", linestyle=\"--\")\n",
    "#ax0.set_xlabel(\"Time\")\n",
    "\n",
    "#ax1 = plt.subplot(gs[0:4,   6:])\n",
    "#ax2 = plt.subplot(gs[4:8,   6:])\n",
    "#ax3 = plt.subplot(gs[8:12,  6:])\n",
    "#ax4 = plt.subplot(gs[12:16, 6:])\n",
    "#ax5 = plt.subplot(gs[16:20, 6:])\n",
    "#\n",
    "#img = plt.imread(brainPlots[0])\n",
    "#ax1.imshow(img)\n",
    "#ax1.axis(\"off\")\n",
    "#\n",
    "#img = plt.imread(brainPlots[1])\n",
    "#ax2.imshow(img)\n",
    "#ax2.axis(\"off\")\n",
    "#\n",
    "#img = plt.imread(brainPlots[2])\n",
    "#ax3.imshow(img)\n",
    "#ax3.axis(\"off\")\n",
    "#\n",
    "#img = plt.imread(brainPlots[3])\n",
    "#ax4.imshow(img)\n",
    "#ax4.axis(\"off\")\n",
    "#\n",
    "#img = plt.imread(brainPlots[4])\n",
    "#ax5.imshow(img)\n",
    "#ax5.axis(\"off\")\n",
    "\n",
    "\n",
    "ax6 = plt.subplot(gs[5:10, :3])\n",
    "for i0, i in enumerate(pltIdxs):\n",
    "    labs = f\"$\\\\lambda_{i0+1}$\"\n",
    "    ax6.plot(DetObj.ptime, np.abs(ReLamMs[i, :]), label=labs,  color=cols[i0], linewidth=2)\n",
    "ax6.set_ylabel(\"Change of growth/decay constant\")\n",
    "#ax6.set_xlabel(\"Time\")\n",
    "ax6.legend(loc=\"upper left\")\n",
    "\n",
    "ax7 = plt.subplot(gs[5:10, 3:6])\n",
    "for i0, i in enumerate(pltIdxs):\n",
    "    labs = f\"$\\\\lambda_{i0+1}$\"\n",
    "    ax7.plot(DetObj.ptime, np.abs(ImLamMs[i, :]), label=labs, \n",
    "             color=cols[i0], linewidth=2)\n",
    "ax7.set_ylabel(\"Change of frequencyy\")\n",
    "#ax7.set_xlabel(\"Time\")\n",
    "ax7.legend(loc=\"upper left\")\n",
    "\n",
    "ax8 = plt.subplot(gs[10:15,  0:2])\n",
    "ax9 = plt.subplot(gs[10:15,  2:4])\n",
    "ax10 = plt.subplot(gs[10:15, 4:6])\n",
    "ax11 = plt.subplot(gs[15:20,  0:2])\n",
    "ax12 = plt.subplot(gs[15:20,  2:4])\n",
    "ax13 = plt.subplot(gs[15:20, 4:6])\n",
    "\n",
    "for i in range(d):\n",
    "    ax8.plot(ptime, Ymat[i, :], \"-\")\n",
    "for ecpt in numChgsw10[\"DCOR\"][idx]:\n",
    "    ax8.axvline(ecpt/ajfct, color=\"black\", linestyle=\"-.\")\n",
    "ax8.set_title(\"DCOR\")\n",
    "#ax8.set_xticklabels([])\n",
    "\n",
    "for i in range(d):\n",
    "    ax9.plot(ptime, Ymat[i, :], \"-\")\n",
    "for ecpt in numChgsw10[\"DMD\"][idx]:\n",
    "    ax9.axvline(ecpt/ajfct, color=\"black\", linestyle=\"-.\")\n",
    "ax9.set_title(\"DMD\")\n",
    "#ax9.set_xticklabels([])\n",
    "#ax9.set_yticklabels([])\n",
    "\n",
    "for i in range(d):\n",
    "    ax10.plot(ptime, Ymat[i, :], \"-\")\n",
    "for ecpt in numChgsw10[\"PCA\"][idx]:\n",
    "    ax10.axvline(ecpt/ajfct, color=\"black\", linestyle=\"-.\")\n",
    "ax10.set_title(\"PCA\")\n",
    "#ax10.set_xticklabels([])\n",
    "#ax10.set_yticklabels([])\n",
    "\n",
    "for i in range(d):\n",
    "    ax11.plot(ptime, Ymat[i, :], \"-\")\n",
    "for ecpt in numChgsw20[\"DCOR\"][idx]:\n",
    "    ax11.axvline(ecpt/ajfct, color=\"black\", linestyle=\"-.\")\n",
    "\n",
    "for i in range(d):\n",
    "    ax12.plot(ptime, Ymat[i, :], \"-\")\n",
    "for ecpt in numChgsw20[\"DMD\"][idx]:\n",
    "    ax12.axvline(ecpt/ajfct, color=\"black\", linestyle=\"-.\")\n",
    "#ax12.set_yticklabels([])\n",
    "\n",
    "for i in range(d):\n",
    "    ax13.plot(ptime, Ymat[i, :], \"-\")\n",
    "for ecpt in numChgsw20[\"PCA\"][idx]:\n",
    "    ax13.axvline(ecpt/ajfct, color=\"black\", linestyle=\"-.\")\n",
    "#ax13.set_yticklabels([])\n",
    "\n",
    "fig.text(0, 0.32, \"wsize=10\", rotation=\"vertical\", fontsize=15)\n",
    "_ = fig.text(0, 0.12, \"wsize=20\", rotation=\"vertical\", fontsize=15)\n",
    "\n",
    "fig.text(-0.03, 1, \"a\", fontsize=20)\n",
    "fig.text(-0.03, 0.75, \"b\", fontsize=20)\n",
    "#fig.text(0.78, 1, \"c\", fontsize=20)\n",
    "_ = fig.text(-0.03, 0.50, \"d\", fontsize=20)"
   ]
  },
  {
   "cell_type": "code",
   "execution_count": 8,
   "metadata": {},
   "outputs": [
    {
     "ename": "NameError",
     "evalue": "name 'gridspec' is not defined",
     "output_type": "error",
     "traceback": [
      "\u001b[0;31m---------------------------------------------------------------------------\u001b[0m",
      "\u001b[0;31mNameError\u001b[0m                                 Traceback (most recent call last)",
      "\u001b[0;32m<ipython-input-8-fb7e692e43c7>\u001b[0m in \u001b[0;36m<module>\u001b[0;34m\u001b[0m\n\u001b[1;32m      1\u001b[0m \u001b[0mfig\u001b[0m \u001b[0;34m=\u001b[0m \u001b[0mplt\u001b[0m\u001b[0;34m.\u001b[0m\u001b[0mfigure\u001b[0m\u001b[0;34m(\u001b[0m\u001b[0mfigsize\u001b[0m\u001b[0;34m=\u001b[0m\u001b[0;34m(\u001b[0m\u001b[0;36m18\u001b[0m\u001b[0;34m,\u001b[0m \u001b[0;36m8\u001b[0m\u001b[0;34m)\u001b[0m\u001b[0;34m,\u001b[0m \u001b[0mconstrained_layout\u001b[0m\u001b[0;34m=\u001b[0m\u001b[0;32mTrue\u001b[0m\u001b[0;34m)\u001b[0m\u001b[0;34m\u001b[0m\u001b[0;34m\u001b[0m\u001b[0m\n\u001b[0;32m----> 2\u001b[0;31m \u001b[0mgs\u001b[0m \u001b[0;34m=\u001b[0m \u001b[0mgridspec\u001b[0m\u001b[0;34m.\u001b[0m\u001b[0mGridSpec\u001b[0m\u001b[0;34m(\u001b[0m\u001b[0;36m2\u001b[0m\u001b[0;34m,\u001b[0m \u001b[0;36m3\u001b[0m\u001b[0;34m,\u001b[0m \u001b[0mfigure\u001b[0m\u001b[0;34m=\u001b[0m\u001b[0mfig\u001b[0m\u001b[0;34m)\u001b[0m\u001b[0;34m\u001b[0m\u001b[0;34m\u001b[0m\u001b[0m\n\u001b[0m\u001b[1;32m      3\u001b[0m \u001b[0;34m\u001b[0m\u001b[0m\n\u001b[1;32m      4\u001b[0m \u001b[0;34m\u001b[0m\u001b[0m\n\u001b[1;32m      5\u001b[0m \u001b[0max1\u001b[0m \u001b[0;34m=\u001b[0m \u001b[0mplt\u001b[0m\u001b[0;34m.\u001b[0m\u001b[0msubplot\u001b[0m\u001b[0;34m(\u001b[0m\u001b[0mgs\u001b[0m\u001b[0;34m[\u001b[0m\u001b[0;36m0\u001b[0m\u001b[0;34m,\u001b[0m \u001b[0;36m0\u001b[0m\u001b[0;34m]\u001b[0m\u001b[0;34m)\u001b[0m\u001b[0;34m\u001b[0m\u001b[0;34m\u001b[0m\u001b[0m\n",
      "\u001b[0;31mNameError\u001b[0m: name 'gridspec' is not defined"
     ]
    },
    {
     "data": {
      "text/plain": [
       "<Figure size 1296x576 with 0 Axes>"
      ]
     },
     "metadata": {},
     "output_type": "display_data"
    }
   ],
   "source": [
    "fig = plt.figure(figsize=(18, 8), constrained_layout=True)\n",
    "gs = gridspec.GridSpec(2, 3, figure=fig)\n",
    "\n",
    "\n",
    "ax1 = plt.subplot(gs[0, 0])\n",
    "ax2 = plt.subplot(gs[0, 1])\n",
    "ax3 = plt.subplot(gs[0, 2])\n",
    "ax4 = plt.subplot(gs[1, 0])\n",
    "ax5 = plt.subplot(gs[1, 1])\n",
    "ax6 = plt.subplot(gs[1, 2])\n",
    "\n",
    "axs = [ax1, ax2, ax3, ax4, ax5, ax6]\n",
    "for idx, ax in enumerate(axs):\n",
    "    img = plt.imread(brainPlots[idx])\n",
    "    ax.imshow(img)\n",
    "    ax.axis(\"off\")"
   ]
  },
  {
   "cell_type": "code",
   "execution_count": null,
   "metadata": {},
   "outputs": [],
   "source": []
  }
 ],
 "metadata": {
  "kernelspec": {
   "display_name": "Python 3",
   "language": "python",
   "name": "python3"
  },
  "language_info": {
   "codemirror_mode": {
    "name": "ipython",
    "version": 3
   },
   "file_extension": ".py",
   "mimetype": "text/x-python",
   "name": "python",
   "nbconvert_exporter": "python",
   "pygments_lexer": "ipython3",
   "version": "3.7.3"
  }
 },
 "nbformat": 4,
 "nbformat_minor": 2
}
