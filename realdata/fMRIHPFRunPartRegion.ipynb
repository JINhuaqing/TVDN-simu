{
 "cells": [
  {
   "cell_type": "code",
   "execution_count": 1,
   "metadata": {},
   "outputs": [],
   "source": [
    "import sys\n",
    "sys.path.append(\"/home/huaqingj/MyResearch/TVDN\")"
   ]
  },
  {
   "cell_type": "code",
   "execution_count": 2,
   "metadata": {},
   "outputs": [],
   "source": [
    "from pyTVDN import TVDNDetect, TVDNRankTuning\n",
    "from pathlib import Path\n",
    "from scipy.io import loadmat\n",
    "from scipy.signal import detrend\n",
    "import numpy as np\n",
    "import matplotlib.pyplot as plt\n",
    "import seaborn as sns\n",
    "%matplotlib inline\n",
    "from scipy.signal import lfilter, firls, decimate\n",
    "from tqdm import tqdm_notebook as tqdm\n",
    "from easydict import EasyDict as edict\n",
    "from collections import Counter\n",
    "import pickle"
   ]
  },
  {
   "cell_type": "code",
   "execution_count": 3,
   "metadata": {},
   "outputs": [],
   "source": [
    "resDir = Path(\"../results\")\n",
    "dataDir = Path(\"../data\")\n",
    "\n",
    "filname = Path(\"fMRI_samples.mat\")\n",
    "fMRIs = loadmat(dataDir/filname)[\"clean_subjects\"]"
   ]
  },
  {
   "cell_type": "code",
   "execution_count": 4,
   "metadata": {},
   "outputs": [],
   "source": [
    "fs = 0.5 #sampling frequency\n",
    "fmin = 0.009 # \n",
    "fmax = 0.08\n",
    "hbp = firls(21, np.array([0, 0.009, 0.01, 0.08, 0.09, 0.8]), #0.8\n",
    "           desired = np.array([0, 0, 1, 1, 0, 0]))\n",
    "\n",
    "num = fMRIs.shape[-1]\n",
    "fMRIsHPF = []\n",
    "for i in range(num):\n",
    "    cfMRI = fMRIs[0, i][\"fMRI\"][:90, :]\n",
    "    # detrend\n",
    "    cfMRI = detrend(cfMRI)\n",
    "    chpffMRI = lfilter(hbp, 1, cfMRI)\n",
    "    fMRIsHPF.append(chpffMRI[:, 25:])"
   ]
  },
  {
   "cell_type": "code",
   "execution_count": 6,
   "metadata": {},
   "outputs": [
    {
     "data": {
      "text/plain": [
       "(90, 155)"
      ]
     },
     "execution_count": 6,
     "metadata": {},
     "output_type": "execute_result"
    }
   ],
   "source": [
    "Ymat = fMRIsHPF[0]\n",
    "Ymat.shape"
   ]
  },
  {
   "cell_type": "markdown",
   "metadata": {},
   "source": [
    "## Select the kappa with multiple subseqs\n",
    "\n",
    "- select the subseqs by region"
   ]
  },
  {
   "cell_type": "code",
   "execution_count": 7,
   "metadata": {},
   "outputs": [
    {
     "data": {
      "application/vnd.jupyter.widget-view+json": {
       "model_id": "ffcf48cbfe96404cb2ab0daefac4c298",
       "version_major": 2,
       "version_minor": 0
      },
      "text/plain": [
       "HBox(children=(IntProgress(value=0, max=243), HTML(value='')))"
      ]
     },
     "metadata": {},
     "output_type": "display_data"
    },
    {
     "name": "stdout",
     "output_type": "stream",
     "text": [
      "\n"
     ]
    }
   ],
   "source": [
    "saveDir = resDir/\"fMRIHPFs_partregion\"\n",
    "if not saveDir.exists():\n",
    "    saveDir.mkdir()\n",
    "\n",
    "    \n",
    "Lmin = 4\n",
    "lamb = 8e-5\n",
    "kappas = np.arange(1, 4, 0.01)\n",
    "\n",
    "numChgsAll = []\n",
    "DetObjs = []\n",
    "for ii in tqdm(range(243)):\n",
    "    Ymat = fMRIsHPF[ii]\n",
    "    DetRec = TVDNDetect(Ymat=Ymat, dataType=\"fMRI\", MaxM=20, is_detrend=False,\n",
    "                      saveDir=None, showProgress=False, Lmin=Lmin, lamb=lamb, kappa=2, r=None)\n",
    "    DetRec()\n",
    "    DetRec.TuningKappa(kappas)\n",
    "    \n",
    "    DetObjs.append(DetRec)\n",
    "    \n",
    "    numChgsSingle = []\n",
    "    for i in range(5):\n",
    "        subYmat = Ymat[i::5, :]\n",
    "        DetRec = TVDNDetect(Ymat=subYmat, dataType=\"fMRI\", MaxM=20, is_detrend=False,\n",
    "                           saveDir=None, showProgress=False, Lmin=Lmin, lamb=lamb, kappa=2, r=None)\n",
    "        DetRec()\n",
    "        DetRec.TuningKappa(kappas)\n",
    "        numChgsSingle.append(DetRec.numchgs)\n",
    "        \n",
    "    numChgsAll.append(numChgsSingle)\n",
    "    "
   ]
  },
  {
   "cell_type": "code",
   "execution_count": 22,
   "metadata": {},
   "outputs": [
    {
     "data": {
      "text/plain": [
       "[<matplotlib.lines.Line2D at 0x7f5c88581908>]"
      ]
     },
     "execution_count": 22,
     "metadata": {},
     "output_type": "execute_result"
    },
    {
     "data": {
      "image/png": "[encoded data removed]",
      "text/plain": [
       "<Figure size 432x288 with 1 Axes>"
      ]
     },
     "metadata": {
      "needs_background": "light"
     },
     "output_type": "display_data"
    }
   ],
   "source": [
    "# Find the suitable position\n",
    "numChgs = numChgsAll[1]\n",
    "numChgsArr = np.array(numChgs)\n",
    "varsAll = np.var(numChgsArr, axis=0)\n",
    "plt.plot(kappas, varsAll)"
   ]
  },
  {
   "cell_type": "code",
   "execution_count": 17,
   "metadata": {},
   "outputs": [],
   "source": [
    "def kpDet(numChgs, kappas, kpLim=[1.3, 2]):\n",
    "    numChgsArr = np.array(numChgs)\n",
    "    varsAll = np.var(numChgsArr, axis=0)\n",
    "    lowb, upb = kpLim\n",
    "    kpidxs = ((kappas >= lowb).astype(np.int) + (kappas<=upb)) == 2\n",
    "    subVarsAll = varsAll[kpidxs]\n",
    "    subKappas = kappas[kpidxs]\n",
    "    \n",
    "    optKpIdx = np.argmin(subVarsAll)\n",
    "    optKp = subKappas[optKpIdx]\n",
    "    return optKp"
   ]
  },
  {
   "cell_type": "code",
   "execution_count": 23,
   "metadata": {},
   "outputs": [],
   "source": [
    "optKps = []\n",
    "for i in range(243):\n",
    "    optKps.append(kpDet(numChgsAll[i], kappas))"
   ]
  },
  {
   "cell_type": "markdown",
   "metadata": {},
   "source": [
    "### Update the kappa"
   ]
  },
  {
   "cell_type": "code",
   "execution_count": 26,
   "metadata": {},
   "outputs": [],
   "source": [
    "for optKp, DetObj in zip(optKps, DetObjs):\n",
    "    DetObj.UpdateEcpts(DetObj.numchgs[kappas==optKp][0])"
   ]
  },
  {
   "cell_type": "code",
   "execution_count": 29,
   "metadata": {},
   "outputs": [],
   "source": [
    "results = {}\n",
    "results[\"DetObjs\"] = DetObjs\n",
    "results[\"optKps\"] = optKps\n",
    "with open(saveDir/\"fMRIResultAdapPartRegion.pkl\", \"wb\") as f:\n",
    "    pickle.dump(results, f)\n",
    "    \n",
    "with open(saveDir/\"fMRIResultAdapPartRegion.pkl\", \"rb\") as f:\n",
    "    results = pickle.load(f)\n",
    "DetObjs = results[\"DetObjs\"]"
   ]
  },
  {
   "cell_type": "markdown",
   "metadata": {},
   "source": [
    "### num of changes"
   ]
  },
  {
   "cell_type": "code",
   "execution_count": 49,
   "metadata": {},
   "outputs": [],
   "source": [
    "numChgsOpt = [len(DetObj.ecpts) for DetObj in DetObjs]\n",
    "numChgsH = numChgsOpt[:103]\n",
    "numChgsD = numChgsOpt[103:]"
   ]
  },
  {
   "cell_type": "code",
   "execution_count": 56,
   "metadata": {},
   "outputs": [
    {
     "data": {
      "text/plain": [
       "<BarContainer object of 9 artists>"
      ]
     },
     "execution_count": 56,
     "metadata": {},
     "output_type": "execute_result"
    },
    {
     "data": {
      "image/png": "[encoded data removed]",
      "text/plain": [
       "<Figure size 432x288 with 2 Axes>"
      ]
     },
     "metadata": {
      "needs_background": "light"
     },
     "output_type": "display_data"
    }
   ],
   "source": [
    "from collections import Counter\n",
    "ctH = Counter(numChgsH)\n",
    "ctD = Counter(numChgsD)\n",
    "\n",
    "Hidxs = sorted(ctH.keys())\n",
    "Hs = [ctH[i] for i in Hidxs]\n",
    "\n",
    "Didxs = sorted(ctD.keys())\n",
    "Ds = [ctD[i] for i in Didxs]\n",
    "\n",
    "\n",
    "plt.subplot(211)\n",
    "plt.bar(Hidxs, np.array(Hs)/len(numChgsH))\n",
    "plt.subplot(212)\n",
    "plt.bar(Didxs, np.array(Ds)/len(numChgsD))"
   ]
  },
  {
   "cell_type": "code",
   "execution_count": 32,
   "metadata": {},
   "outputs": [
    {
     "name": "stdout",
     "output_type": "stream",
     "text": [
      "0.5192787794729542\n"
     ]
    }
   ],
   "source": [
    "from sklearn.linear_model import LogisticRegression as LogReg\n",
    "from sklearn import metrics\n",
    "\n",
    "Ys = np.concatenate([np.ones(103), np.zeros(140)])\n",
    "numChgsOpt = np.array(numChgsOpt).reshape(-1, 1)\n",
    "clf = LogReg(solver='lbfgs').fit(numChgsOpt, Ys)\n",
    "pred_probs = clf.predict_proba(numChgsOpt)[:, 1]\n",
    "fpr, tpr, thres = metrics.roc_curve(Ys, pred_probs)\n",
    "auc = metrics.auc(fpr, tpr)\n",
    "print(auc)"
   ]
  },
  {
   "cell_type": "code",
   "execution_count": 51,
   "metadata": {},
   "outputs": [
    {
     "data": {
      "text/plain": [
       "<BarContainer object of 4 artists>"
      ]
     },
     "execution_count": 51,
     "metadata": {},
     "output_type": "execute_result"
    },
    {
     "data": {
      "image/png": "[encoded data removed]",
      "text/plain": [
       "<Figure size 432x288 with 2 Axes>"
      ]
     },
     "metadata": {
      "needs_background": "light"
     },
     "output_type": "display_data"
    }
   ],
   "source": [
    "numRks = [DetObj.paras.r for DetObj in DetObjs]\n",
    "numRkH = numRks[:103]\n",
    "numRkD = numRks[103:]\n",
    "\n",
    "ctRkH = Counter(numRkH)\n",
    "ctRkD = Counter(numRkD)\n",
    "\n",
    "HRkidxs = sorted(ctRkH.keys())\n",
    "HRks = [ctRkH[i] for i in HRkidxs]\n",
    "\n",
    "DRkidxs = sorted(ctRkD.keys())\n",
    "DRks = [ctRkD[i] for i in DRkidxs]\n",
    "\n",
    "\n",
    "plt.subplot(211)\n",
    "plt.bar(HRkidxs, HRks)\n",
    "plt.subplot(212)\n",
    "plt.bar(DRkidxs, DRks)"
   ]
  },
  {
   "cell_type": "code",
   "execution_count": 55,
   "metadata": {},
   "outputs": [
    {
     "name": "stdout",
     "output_type": "stream",
     "text": [
      "0.5244798890429958\n"
     ]
    }
   ],
   "source": [
    "Ys = np.concatenate([np.ones(103), np.zeros(140)])\n",
    "Xs = np.array([numChgsOpt, numRks]).T\n",
    "clf = LogReg(solver='lbfgs').fit(Xs, Ys)\n",
    "pred_probs = clf.predict_proba(Xs)[:, 1]\n",
    "fpr, tpr, thres = metrics.roc_curve(Ys, pred_probs)\n",
    "auc = metrics.auc(fpr, tpr)\n",
    "print(auc)"
   ]
  },
  {
   "cell_type": "markdown",
   "metadata": {},
   "source": [
    "### Save the results"
   ]
  },
  {
   "cell_type": "code",
   "execution_count": 58,
   "metadata": {},
   "outputs": [],
   "source": [
    "dics = []\n",
    "for DetObj in DetObjs:\n",
    "    cDic = {}\n",
    "    r = DetObj.paras.r\n",
    "    rUs = DetObj.midRes.eigVecs[:, :r]\n",
    "    cDic[\"eigVals\"] = DetObj.RecResCur.LamMs\n",
    "    cDic[\"Us\"] = rUs\n",
    "    dics.append(cDic) \n",
    "with open(saveDir/\"partregion_all_eigvals_vecs.pkl\", \"wb\") as f:\n",
    "    pickle.dump(dics, f)"
   ]
  },
  {
   "cell_type": "code",
   "execution_count": null,
   "metadata": {},
   "outputs": [],
   "source": []
  }
 ],
 "metadata": {
  "kernelspec": {
   "display_name": "Python 3",
   "language": "python",
   "name": "python3"
  },
  "language_info": {
   "codemirror_mode": {
    "name": "ipython",
    "version": 3
   },
   "file_extension": ".py",
   "mimetype": "text/x-python",
   "name": "python",
   "nbconvert_exporter": "python",
   "pygments_lexer": "ipython3",
   "version": "3.7.3"
  }
 },
 "nbformat": 4,
 "nbformat_minor": 2
}
