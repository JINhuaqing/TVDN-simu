{
 "cells": [
  {
   "cell_type": "code",
   "execution_count": 4,
   "metadata": {},
   "outputs": [],
   "source": [
    "import numpy as np\n",
    "from pathlib import Path\n",
    "from collections import defaultdict as ddict\n",
    "from collections import OrderedDict as odict\n",
    "from easydict import EasyDict as edict\n",
    "import pandas as pd"
   ]
  },
  {
   "cell_type": "markdown",
   "metadata": {},
   "source": [
    "### 1. transform dk data with new labels"
   ]
  },
  {
   "cell_type": "code",
   "execution_count": 3,
   "metadata": {},
   "outputs": [],
   "source": [
    "def labNew2Old(string):\n",
    "    prefix = \"ctx-\"\n",
    "    itm1, itm2 = string.split(\".\")\n",
    "    return prefix + itm1 + \"-\" + itm2"
   ]
  },
  {
   "cell_type": "code",
   "execution_count": 6,
   "metadata": {},
   "outputs": [],
   "source": [
    "filDir = Path(\"../data/brain_plot_meg/\")\n",
    "\n",
    "fcROld = pd.read_csv(filDir/'DK_dictionary_normalized.csv').set_index('Unnamed: 0')\n",
    "dkLabs = pd.read_excel(filDir/'DK_labs_list.xlsx')\n",
    "fcRarr = np.array(fcROld)\n",
    "\n",
    "oldLabs = list(fcROld.columns)\n",
    "dkLabs = list(np.array(dkLabs).reshape(-1))"
   ]
  },
  {
   "cell_type": "code",
   "execution_count": 25,
   "metadata": {},
   "outputs": [],
   "source": [
    "fcRNewDic = odict()\n",
    "\n",
    "for lab in dkLabs:\n",
    "    oldlab = labNew2Old(lab)\n",
    "    fcRNewDic[oldlab] = list(fcROld[oldlab])\n",
    "    \n",
    "fcRNew = pd.DataFrame(fcRNewDic)\n",
    "fcRNew.index = fcROld.index\n",
    "fcRNew.to_csv(filDir/\"DK_dic68.csv\")"
   ]
  },
  {
   "cell_type": "markdown",
   "metadata": {},
   "source": [
    "### 2. Obtain the U, weighted U and corresponding correlation for fMRI data"
   ]
  },
  {
   "cell_type": "code",
   "execution_count": 12,
   "metadata": {},
   "outputs": [],
   "source": [
    "import sys\n",
    "sys.path.append(\"/home/huaqingj/MyResearch/TVDN\")\n",
    "from pyTVDN.tmpUtils import *\n",
    "import pickle\n",
    "import scipy.stats as ss"
   ]
  },
  {
   "cell_type": "markdown",
   "metadata": {},
   "source": [
    "#### Get the fcR"
   ]
  },
  {
   "cell_type": "code",
   "execution_count": 5,
   "metadata": {},
   "outputs": [],
   "source": [
    "fcRDF = pd.read_csv(\"../necessary files/AALICA.csv\")\n",
    "fcR = np.array(fcRDF)[:90, :]\n",
    "names = list(fcRDF.columns)\n",
    "names = [name.strip() for name in names]\n",
    "\n",
    "fcR = np.array([minmax(fcR[:, i]) for i in range(7)])\n",
    "fcR = fcR.T"
   ]
  },
  {
   "cell_type": "markdown",
   "metadata": {},
   "source": [
    "#### U "
   ]
  },
  {
   "cell_type": "code",
   "execution_count": 14,
   "metadata": {},
   "outputs": [
    {
     "name": "stdout",
     "output_type": "stream",
     "text": [
      "../results/fMRIHPFs_fixnchg5/fMRIResultMinVar.pkl\n"
     ]
    }
   ],
   "source": [
    "datDir = Path(\"../results/fMRIHPFs_fixnchg5\")\n",
    "fil = list(datDir.glob(\"*MinVar.pkl\"))[0]\n",
    "print(fil)\n",
    "\n",
    "with open(fil, \"rb\") as f:\n",
    "    TVDNres = pickle.load(f)\n",
    "    \n",
    "Us = []\n",
    "for DetObj in TVDNres.DetObjs:\n",
    "    r = DetObj.paras.r\n",
    "    rUs = DetObj.midRes.eigVecs[:, :r]\n",
    "    kpidxs = np.where(np.diff(np.concatenate([[np.Inf], np.abs(rUs[0, :])])) != 0)[0]\n",
    "    for ix in kpidxs:\n",
    "        Us.append(rUs[:, ix])\n",
    "        \n",
    "absUs = np.array(np.abs(Us))\n",
    "absUsList =[minmax(absUs[i, :]) for i in range(absUs.shape[0])]\n",
    "absUs = np.array(absUsList)"
   ]
  },
  {
   "cell_type": "markdown",
   "metadata": {},
   "source": [
    "#### correlation"
   ]
  },
  {
   "cell_type": "code",
   "execution_count": 18,
   "metadata": {},
   "outputs": [],
   "source": [
    "corrs = ddict(list)\n",
    "for absU in absUs:\n",
    "    for j, name in enumerate(names):\n",
    "        corrs[name].append(ss.pearsonr(fcR[:, j], absU)[0])\n",
    "        \n",
    "corDF = pd.DataFrame(corrs)\n",
    "corArr = np.array(corDF)\n",
    "\n",
    "np.savetxt(datDir/\"allCorrU.txt\", corArr)"
   ]
  }
 ],
 "metadata": {
  "kernelspec": {
   "display_name": "Python 3",
   "language": "python",
   "name": "python3"
  },
  "language_info": {
   "codemirror_mode": {
    "name": "ipython",
    "version": 3
   },
   "file_extension": ".py",
   "mimetype": "text/x-python",
   "name": "python",
   "nbconvert_exporter": "python",
   "pygments_lexer": "ipython3",
   "version": "3.7.4"
  }
 },
 "nbformat": 4,
 "nbformat_minor": 2
}
