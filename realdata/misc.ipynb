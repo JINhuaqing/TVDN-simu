{
 "cells": [
  {
   "cell_type": "code",
   "execution_count": 41,
   "metadata": {},
   "outputs": [],
   "source": [
    "import numpy as np\n",
    "from pathlib import Path\n",
    "from collections import defaultdict as ddict\n",
    "from collections import OrderedDict as odict\n",
    "from easydict import EasyDict as edict\n",
    "import pandas as pd"
   ]
  },
  {
   "cell_type": "markdown",
   "metadata": {},
   "source": [
    "### 1. transform dk data with new labels"
   ]
  },
  {
   "cell_type": "code",
   "execution_count": 3,
   "metadata": {},
   "outputs": [],
   "source": [
    "def labNew2Old(string):\n",
    "    prefix = \"ctx-\"\n",
    "    itm1, itm2 = string.split(\".\")\n",
    "    return prefix + itm1 + \"-\" + itm2"
   ]
  },
  {
   "cell_type": "code",
   "execution_count": 6,
   "metadata": {},
   "outputs": [],
   "source": [
    "filDir = Path(\"../data/brain_plot_meg/\")\n",
    "\n",
    "fcROld = pd.read_csv(filDir/'DK_dictionary_normalized.csv').set_index('Unnamed: 0')\n",
    "dkLabs = pd.read_excel(filDir/'DK_labs_list.xlsx')\n",
    "fcRarr = np.array(fcROld)\n",
    "\n",
    "oldLabs = list(fcROld.columns)\n",
    "dkLabs = list(np.array(dkLabs).reshape(-1))"
   ]
  },
  {
   "cell_type": "code",
   "execution_count": 25,
   "metadata": {},
   "outputs": [],
   "source": [
    "fcRNewDic = odict()\n",
    "\n",
    "for lab in dkLabs:\n",
    "    oldlab = labNew2Old(lab)\n",
    "    fcRNewDic[oldlab] = list(fcROld[oldlab])\n",
    "    \n",
    "fcRNew = pd.DataFrame(fcRNewDic)\n",
    "fcRNew.index = fcROld.index\n",
    "fcRNew.to_csv(filDir/\"DK_dic68.csv\")"
   ]
  },
  {
   "cell_type": "code",
   "execution_count": null,
   "metadata": {},
   "outputs": [],
   "source": []
  }
 ],
 "metadata": {
  "kernelspec": {
   "display_name": "Python 3",
   "language": "python",
   "name": "python3"
  },
  "language_info": {
   "codemirror_mode": {
    "name": "ipython",
    "version": 3
   },
   "file_extension": ".py",
   "mimetype": "text/x-python",
   "name": "python",
   "nbconvert_exporter": "python",
   "pygments_lexer": "ipython3",
   "version": "3.7.4"
  }
 },
 "nbformat": 4,
 "nbformat_minor": 2
}
