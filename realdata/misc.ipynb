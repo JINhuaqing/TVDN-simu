{
 "cells": [
  {
   "cell_type": "code",
   "execution_count": 49,
   "metadata": {},
   "outputs": [],
   "source": [
    "import numpy as np\n",
    "from pathlib import Path\n",
    "from collections import defaultdict as ddict\n",
    "from collections import OrderedDict as odict\n",
    "from easydict import EasyDict as edict\n",
    "import matplotlib.pyplot as plt\n",
    "import pandas as pd\n",
    "\n",
    "%matplotlib inline"
   ]
  },
  {
   "cell_type": "markdown",
   "metadata": {},
   "source": [
    "### 1. transform dk data with new labels"
   ]
  },
  {
   "cell_type": "code",
   "execution_count": 3,
   "metadata": {},
   "outputs": [],
   "source": [
    "def labNew2Old(string):\n",
    "    prefix = \"ctx-\"\n",
    "    itm1, itm2 = string.split(\".\")\n",
    "    return prefix + itm1 + \"-\" + itm2"
   ]
  },
  {
   "cell_type": "code",
   "execution_count": 6,
   "metadata": {},
   "outputs": [],
   "source": [
    "filDir = Path(\"../data/brain_plot_meg/\")\n",
    "\n",
    "fcROld = pd.read_csv(filDir/'DK_dictionary_normalized.csv').set_index('Unnamed: 0')\n",
    "dkLabs = pd.read_excel(filDir/'DK_labs_list.xlsx')\n",
    "fcRarr = np.array(fcROld)\n",
    "\n",
    "oldLabs = list(fcROld.columns)\n",
    "dkLabs = list(np.array(dkLabs).reshape(-1))"
   ]
  },
  {
   "cell_type": "code",
   "execution_count": 25,
   "metadata": {},
   "outputs": [],
   "source": [
    "fcRNewDic = odict()\n",
    "\n",
    "for lab in dkLabs:\n",
    "    oldlab = labNew2Old(lab)\n",
    "    fcRNewDic[oldlab] = list(fcROld[oldlab])\n",
    "    \n",
    "fcRNew = pd.DataFrame(fcRNewDic)\n",
    "fcRNew.index = fcROld.index\n",
    "fcRNew.to_csv(filDir/\"DK_dic68.csv\")"
   ]
  },
  {
   "cell_type": "markdown",
   "metadata": {},
   "source": [
    "### 2. Obtain the U, weighted U and corresponding correlation for fMRI data"
   ]
  },
  {
   "cell_type": "code",
   "execution_count": 50,
   "metadata": {},
   "outputs": [],
   "source": [
    "import sys\n",
    "sys.path.append(\"/home/huaqingj/MyResearch/TVDN\")\n",
    "from pyTVDN.tmpUtils import *\n",
    "import pickle\n",
    "import scipy.stats as ss"
   ]
  },
  {
   "cell_type": "markdown",
   "metadata": {},
   "source": [
    "#### Get the fcR"
   ]
  },
  {
   "cell_type": "code",
   "execution_count": 51,
   "metadata": {},
   "outputs": [],
   "source": [
    "fcRDF = pd.read_csv(\"../necessary files/AALICA.csv\")\n",
    "fcR = np.array(fcRDF)[:90, :]\n",
    "names = list(fcRDF.columns)\n",
    "names = [name.strip() for name in names]\n",
    "\n",
    "fcR = np.array([minmax(fcR[:, i]) for i in range(7)])\n",
    "fcR = fcR.T"
   ]
  },
  {
   "cell_type": "markdown",
   "metadata": {},
   "source": [
    "#### U "
   ]
  },
  {
   "cell_type": "code",
   "execution_count": 138,
   "metadata": {},
   "outputs": [
    {
     "name": "stdout",
     "output_type": "stream",
     "text": [
      "../results/fMRIHPFs_sep/fMRIResultAdap_diseased.pkl\n"
     ]
    }
   ],
   "source": [
    "datDir = Path(\"../results/fMRIHPFs_sep\")\n",
    "fil = list(datDir.glob(\"*diseased.pkl\"))[0]\n",
    "print(fil)\n",
    "\n",
    "with open(fil, \"rb\") as f:\n",
    "    TVDNres = pickle.load(f)\n",
    "    \n",
    "Us = []\n",
    "for DetObj in TVDNres.DetObjs:\n",
    "    r = DetObj.paras.r\n",
    "    rUs = DetObj.midRes.eigVecs[:, :r]\n",
    "    kpidxs = np.where(np.diff(np.concatenate([[np.Inf], np.abs(rUs[0, :])])) != 0)[0]\n",
    "    for ix in kpidxs:\n",
    "        Us.append(rUs[:, ix])\n",
    "        \n",
    "absUs = np.array(np.abs(Us))\n",
    "absUsList =[minmax(absUs[i, :]) for i in range(absUs.shape[0])]\n",
    "absUs = np.array(absUsList)"
   ]
  },
  {
   "cell_type": "markdown",
   "metadata": {},
   "source": [
    "#### Clustering "
   ]
  },
  {
   "cell_type": "code",
   "execution_count": 81,
   "metadata": {},
   "outputs": [],
   "source": [
    "from sklearn.cluster import KMeans"
   ]
  },
  {
   "cell_type": "code",
   "execution_count": 122,
   "metadata": {},
   "outputs": [
    {
     "name": "stdout",
     "output_type": "stream",
     "text": [
      "The number of clusters is 3.\n"
     ]
    },
    {
     "data": {
      "text/html": [
       "<div>\n",
       "<style scoped>\n",
       "    .dataframe tbody tr th:only-of-type {\n",
       "        vertical-align: middle;\n",
       "    }\n",
       "\n",
       "    .dataframe tbody tr th {\n",
       "        vertical-align: top;\n",
       "    }\n",
       "\n",
       "    .dataframe thead th {\n",
       "        text-align: right;\n",
       "    }\n",
       "</style>\n",
       "<table border=\"1\" class=\"dataframe\">\n",
       "  <thead>\n",
       "    <tr style=\"text-align: right;\">\n",
       "      <th></th>\n",
       "      <th>Visual</th>\n",
       "      <th>Somatomotor</th>\n",
       "      <th>Dorsal_Attention</th>\n",
       "      <th>Ventral_Attention</th>\n",
       "      <th>Limbic</th>\n",
       "      <th>Frontoparietal</th>\n",
       "      <th>Default</th>\n",
       "    </tr>\n",
       "  </thead>\n",
       "  <tbody>\n",
       "    <tr>\n",
       "      <th>0</th>\n",
       "      <td>0.301254</td>\n",
       "      <td>-0.259081</td>\n",
       "      <td>-0.029738</td>\n",
       "      <td>-0.230730</td>\n",
       "      <td>0.125186</td>\n",
       "      <td>0.006549</td>\n",
       "      <td>-0.163898</td>\n",
       "    </tr>\n",
       "    <tr>\n",
       "      <th>1</th>\n",
       "      <td>-0.096816</td>\n",
       "      <td>-0.254794</td>\n",
       "      <td>0.048327</td>\n",
       "      <td>-0.198525</td>\n",
       "      <td>0.312243</td>\n",
       "      <td>0.293098</td>\n",
       "      <td>-0.012098</td>\n",
       "    </tr>\n",
       "    <tr>\n",
       "      <th>2</th>\n",
       "      <td>-0.007244</td>\n",
       "      <td>-0.246828</td>\n",
       "      <td>0.064087</td>\n",
       "      <td>-0.179185</td>\n",
       "      <td>0.237546</td>\n",
       "      <td>0.201875</td>\n",
       "      <td>-0.031302</td>\n",
       "    </tr>\n",
       "  </tbody>\n",
       "</table>\n",
       "</div>"
      ],
      "text/plain": [
       "     Visual  Somatomotor  Dorsal_Attention  Ventral_Attention    Limbic  \\\n",
       "0  0.301254    -0.259081         -0.029738          -0.230730  0.125186   \n",
       "1 -0.096816    -0.254794          0.048327          -0.198525  0.312243   \n",
       "2 -0.007244    -0.246828          0.064087          -0.179185  0.237546   \n",
       "\n",
       "   Frontoparietal   Default  \n",
       "0        0.006549 -0.163898  \n",
       "1        0.293098 -0.012098  \n",
       "2        0.201875 -0.031302  "
      ]
     },
     "metadata": {},
     "output_type": "display_data"
    },
    {
     "name": "stdout",
     "output_type": "stream",
     "text": [
      "The number of clusters is 4.\n"
     ]
    },
    {
     "data": {
      "text/html": [
       "<div>\n",
       "<style scoped>\n",
       "    .dataframe tbody tr th:only-of-type {\n",
       "        vertical-align: middle;\n",
       "    }\n",
       "\n",
       "    .dataframe tbody tr th {\n",
       "        vertical-align: top;\n",
       "    }\n",
       "\n",
       "    .dataframe thead th {\n",
       "        text-align: right;\n",
       "    }\n",
       "</style>\n",
       "<table border=\"1\" class=\"dataframe\">\n",
       "  <thead>\n",
       "    <tr style=\"text-align: right;\">\n",
       "      <th></th>\n",
       "      <th>Visual</th>\n",
       "      <th>Somatomotor</th>\n",
       "      <th>Dorsal_Attention</th>\n",
       "      <th>Ventral_Attention</th>\n",
       "      <th>Limbic</th>\n",
       "      <th>Frontoparietal</th>\n",
       "      <th>Default</th>\n",
       "    </tr>\n",
       "  </thead>\n",
       "  <tbody>\n",
       "    <tr>\n",
       "      <th>0</th>\n",
       "      <td>0.304547</td>\n",
       "      <td>-0.250770</td>\n",
       "      <td>-0.037467</td>\n",
       "      <td>-0.227719</td>\n",
       "      <td>0.128268</td>\n",
       "      <td>0.011242</td>\n",
       "      <td>-0.176546</td>\n",
       "    </tr>\n",
       "    <tr>\n",
       "      <th>1</th>\n",
       "      <td>-0.082388</td>\n",
       "      <td>-0.231394</td>\n",
       "      <td>0.212263</td>\n",
       "      <td>-0.109648</td>\n",
       "      <td>0.292866</td>\n",
       "      <td>0.223797</td>\n",
       "      <td>-0.001179</td>\n",
       "    </tr>\n",
       "    <tr>\n",
       "      <th>2</th>\n",
       "      <td>0.062826</td>\n",
       "      <td>-0.260457</td>\n",
       "      <td>-0.024913</td>\n",
       "      <td>-0.234304</td>\n",
       "      <td>0.194888</td>\n",
       "      <td>0.154484</td>\n",
       "      <td>-0.038319</td>\n",
       "    </tr>\n",
       "    <tr>\n",
       "      <th>3</th>\n",
       "      <td>-0.081943</td>\n",
       "      <td>-0.242214</td>\n",
       "      <td>-0.014023</td>\n",
       "      <td>-0.202892</td>\n",
       "      <td>0.284704</td>\n",
       "      <td>0.296483</td>\n",
       "      <td>-0.034422</td>\n",
       "    </tr>\n",
       "  </tbody>\n",
       "</table>\n",
       "</div>"
      ],
      "text/plain": [
       "     Visual  Somatomotor  Dorsal_Attention  Ventral_Attention    Limbic  \\\n",
       "0  0.304547    -0.250770         -0.037467          -0.227719  0.128268   \n",
       "1 -0.082388    -0.231394          0.212263          -0.109648  0.292866   \n",
       "2  0.062826    -0.260457         -0.024913          -0.234304  0.194888   \n",
       "3 -0.081943    -0.242214         -0.014023          -0.202892  0.284704   \n",
       "\n",
       "   Frontoparietal   Default  \n",
       "0        0.011242 -0.176546  \n",
       "1        0.223797 -0.001179  \n",
       "2        0.154484 -0.038319  \n",
       "3        0.296483 -0.034422  "
      ]
     },
     "metadata": {},
     "output_type": "display_data"
    },
    {
     "name": "stdout",
     "output_type": "stream",
     "text": [
      "The number of clusters is 5.\n"
     ]
    },
    {
     "data": {
      "text/html": [
       "<div>\n",
       "<style scoped>\n",
       "    .dataframe tbody tr th:only-of-type {\n",
       "        vertical-align: middle;\n",
       "    }\n",
       "\n",
       "    .dataframe tbody tr th {\n",
       "        vertical-align: top;\n",
       "    }\n",
       "\n",
       "    .dataframe thead th {\n",
       "        text-align: right;\n",
       "    }\n",
       "</style>\n",
       "<table border=\"1\" class=\"dataframe\">\n",
       "  <thead>\n",
       "    <tr style=\"text-align: right;\">\n",
       "      <th></th>\n",
       "      <th>Visual</th>\n",
       "      <th>Somatomotor</th>\n",
       "      <th>Dorsal_Attention</th>\n",
       "      <th>Ventral_Attention</th>\n",
       "      <th>Limbic</th>\n",
       "      <th>Frontoparietal</th>\n",
       "      <th>Default</th>\n",
       "    </tr>\n",
       "  </thead>\n",
       "  <tbody>\n",
       "    <tr>\n",
       "      <th>0</th>\n",
       "      <td>0.288776</td>\n",
       "      <td>-0.251956</td>\n",
       "      <td>-0.030705</td>\n",
       "      <td>-0.238263</td>\n",
       "      <td>0.136871</td>\n",
       "      <td>0.007992</td>\n",
       "      <td>-0.174477</td>\n",
       "    </tr>\n",
       "    <tr>\n",
       "      <th>1</th>\n",
       "      <td>-0.083118</td>\n",
       "      <td>-0.224559</td>\n",
       "      <td>0.229354</td>\n",
       "      <td>-0.094533</td>\n",
       "      <td>0.279143</td>\n",
       "      <td>0.214092</td>\n",
       "      <td>-0.000219</td>\n",
       "    </tr>\n",
       "    <tr>\n",
       "      <th>2</th>\n",
       "      <td>-0.085928</td>\n",
       "      <td>-0.226875</td>\n",
       "      <td>-0.004707</td>\n",
       "      <td>-0.191977</td>\n",
       "      <td>0.340608</td>\n",
       "      <td>0.308058</td>\n",
       "      <td>-0.067049</td>\n",
       "    </tr>\n",
       "    <tr>\n",
       "      <th>3</th>\n",
       "      <td>-0.031199</td>\n",
       "      <td>-0.255616</td>\n",
       "      <td>-0.054583</td>\n",
       "      <td>-0.217899</td>\n",
       "      <td>0.160720</td>\n",
       "      <td>0.196382</td>\n",
       "      <td>0.049735</td>\n",
       "    </tr>\n",
       "    <tr>\n",
       "      <th>4</th>\n",
       "      <td>0.125405</td>\n",
       "      <td>-0.251920</td>\n",
       "      <td>0.002591</td>\n",
       "      <td>-0.216896</td>\n",
       "      <td>0.197866</td>\n",
       "      <td>0.143566</td>\n",
       "      <td>-0.095861</td>\n",
       "    </tr>\n",
       "  </tbody>\n",
       "</table>\n",
       "</div>"
      ],
      "text/plain": [
       "     Visual  Somatomotor  Dorsal_Attention  Ventral_Attention    Limbic  \\\n",
       "0  0.288776    -0.251956         -0.030705          -0.238263  0.136871   \n",
       "1 -0.083118    -0.224559          0.229354          -0.094533  0.279143   \n",
       "2 -0.085928    -0.226875         -0.004707          -0.191977  0.340608   \n",
       "3 -0.031199    -0.255616         -0.054583          -0.217899  0.160720   \n",
       "4  0.125405    -0.251920          0.002591          -0.216896  0.197866   \n",
       "\n",
       "   Frontoparietal   Default  \n",
       "0        0.007992 -0.174477  \n",
       "1        0.214092 -0.000219  \n",
       "2        0.308058 -0.067049  \n",
       "3        0.196382  0.049735  \n",
       "4        0.143566 -0.095861  "
      ]
     },
     "metadata": {},
     "output_type": "display_data"
    },
    {
     "name": "stdout",
     "output_type": "stream",
     "text": [
      "The number of clusters is 6.\n"
     ]
    },
    {
     "data": {
      "text/html": [
       "<div>\n",
       "<style scoped>\n",
       "    .dataframe tbody tr th:only-of-type {\n",
       "        vertical-align: middle;\n",
       "    }\n",
       "\n",
       "    .dataframe tbody tr th {\n",
       "        vertical-align: top;\n",
       "    }\n",
       "\n",
       "    .dataframe thead th {\n",
       "        text-align: right;\n",
       "    }\n",
       "</style>\n",
       "<table border=\"1\" class=\"dataframe\">\n",
       "  <thead>\n",
       "    <tr style=\"text-align: right;\">\n",
       "      <th></th>\n",
       "      <th>Visual</th>\n",
       "      <th>Somatomotor</th>\n",
       "      <th>Dorsal_Attention</th>\n",
       "      <th>Ventral_Attention</th>\n",
       "      <th>Limbic</th>\n",
       "      <th>Frontoparietal</th>\n",
       "      <th>Default</th>\n",
       "    </tr>\n",
       "  </thead>\n",
       "  <tbody>\n",
       "    <tr>\n",
       "      <th>0</th>\n",
       "      <td>-0.046156</td>\n",
       "      <td>-0.262895</td>\n",
       "      <td>-0.101361</td>\n",
       "      <td>-0.221475</td>\n",
       "      <td>0.200055</td>\n",
       "      <td>0.221850</td>\n",
       "      <td>0.061881</td>\n",
       "    </tr>\n",
       "    <tr>\n",
       "      <th>1</th>\n",
       "      <td>-0.103505</td>\n",
       "      <td>-0.234850</td>\n",
       "      <td>-0.038975</td>\n",
       "      <td>-0.186569</td>\n",
       "      <td>0.373212</td>\n",
       "      <td>0.306392</td>\n",
       "      <td>-0.062784</td>\n",
       "    </tr>\n",
       "    <tr>\n",
       "      <th>2</th>\n",
       "      <td>0.300835</td>\n",
       "      <td>-0.251626</td>\n",
       "      <td>-0.040510</td>\n",
       "      <td>-0.228400</td>\n",
       "      <td>0.139351</td>\n",
       "      <td>-0.005637</td>\n",
       "      <td>-0.183766</td>\n",
       "    </tr>\n",
       "    <tr>\n",
       "      <th>3</th>\n",
       "      <td>0.106765</td>\n",
       "      <td>-0.240434</td>\n",
       "      <td>0.014686</td>\n",
       "      <td>-0.199527</td>\n",
       "      <td>0.182805</td>\n",
       "      <td>0.145311</td>\n",
       "      <td>-0.095344</td>\n",
       "    </tr>\n",
       "    <tr>\n",
       "      <th>4</th>\n",
       "      <td>-0.078000</td>\n",
       "      <td>-0.238564</td>\n",
       "      <td>0.199512</td>\n",
       "      <td>-0.102766</td>\n",
       "      <td>0.333720</td>\n",
       "      <td>0.199459</td>\n",
       "      <td>-0.003541</td>\n",
       "    </tr>\n",
       "    <tr>\n",
       "      <th>5</th>\n",
       "      <td>0.047439</td>\n",
       "      <td>-0.193437</td>\n",
       "      <td>0.123107</td>\n",
       "      <td>-0.201809</td>\n",
       "      <td>0.051700</td>\n",
       "      <td>0.177335</td>\n",
       "      <td>-0.022157</td>\n",
       "    </tr>\n",
       "  </tbody>\n",
       "</table>\n",
       "</div>"
      ],
      "text/plain": [
       "     Visual  Somatomotor  Dorsal_Attention  Ventral_Attention    Limbic  \\\n",
       "0 -0.046156    -0.262895         -0.101361          -0.221475  0.200055   \n",
       "1 -0.103505    -0.234850         -0.038975          -0.186569  0.373212   \n",
       "2  0.300835    -0.251626         -0.040510          -0.228400  0.139351   \n",
       "3  0.106765    -0.240434          0.014686          -0.199527  0.182805   \n",
       "4 -0.078000    -0.238564          0.199512          -0.102766  0.333720   \n",
       "5  0.047439    -0.193437          0.123107          -0.201809  0.051700   \n",
       "\n",
       "   Frontoparietal   Default  \n",
       "0        0.221850  0.061881  \n",
       "1        0.306392 -0.062784  \n",
       "2       -0.005637 -0.183766  \n",
       "3        0.145311 -0.095344  \n",
       "4        0.199459 -0.003541  \n",
       "5        0.177335 -0.022157  "
      ]
     },
     "metadata": {},
     "output_type": "display_data"
    },
    {
     "name": "stdout",
     "output_type": "stream",
     "text": [
      "The number of clusters is 7.\n"
     ]
    },
    {
     "data": {
      "text/html": [
       "<div>\n",
       "<style scoped>\n",
       "    .dataframe tbody tr th:only-of-type {\n",
       "        vertical-align: middle;\n",
       "    }\n",
       "\n",
       "    .dataframe tbody tr th {\n",
       "        vertical-align: top;\n",
       "    }\n",
       "\n",
       "    .dataframe thead th {\n",
       "        text-align: right;\n",
       "    }\n",
       "</style>\n",
       "<table border=\"1\" class=\"dataframe\">\n",
       "  <thead>\n",
       "    <tr style=\"text-align: right;\">\n",
       "      <th></th>\n",
       "      <th>Visual</th>\n",
       "      <th>Somatomotor</th>\n",
       "      <th>Dorsal_Attention</th>\n",
       "      <th>Ventral_Attention</th>\n",
       "      <th>Limbic</th>\n",
       "      <th>Frontoparietal</th>\n",
       "      <th>Default</th>\n",
       "    </tr>\n",
       "  </thead>\n",
       "  <tbody>\n",
       "    <tr>\n",
       "      <th>0</th>\n",
       "      <td>0.360678</td>\n",
       "      <td>-0.244310</td>\n",
       "      <td>0.004242</td>\n",
       "      <td>-0.191215</td>\n",
       "      <td>0.135261</td>\n",
       "      <td>0.156452</td>\n",
       "      <td>-0.149400</td>\n",
       "    </tr>\n",
       "    <tr>\n",
       "      <th>1</th>\n",
       "      <td>-0.088300</td>\n",
       "      <td>-0.242286</td>\n",
       "      <td>0.238407</td>\n",
       "      <td>-0.113685</td>\n",
       "      <td>0.307305</td>\n",
       "      <td>0.217202</td>\n",
       "      <td>-0.002165</td>\n",
       "    </tr>\n",
       "    <tr>\n",
       "      <th>2</th>\n",
       "      <td>-0.080928</td>\n",
       "      <td>-0.197644</td>\n",
       "      <td>-0.030675</td>\n",
       "      <td>-0.112711</td>\n",
       "      <td>-0.012013</td>\n",
       "      <td>0.140530</td>\n",
       "      <td>0.117049</td>\n",
       "    </tr>\n",
       "    <tr>\n",
       "      <th>3</th>\n",
       "      <td>0.245300</td>\n",
       "      <td>-0.227310</td>\n",
       "      <td>-0.023751</td>\n",
       "      <td>-0.224358</td>\n",
       "      <td>0.098975</td>\n",
       "      <td>-0.032557</td>\n",
       "      <td>-0.158381</td>\n",
       "    </tr>\n",
       "    <tr>\n",
       "      <th>4</th>\n",
       "      <td>-0.098762</td>\n",
       "      <td>-0.251712</td>\n",
       "      <td>-0.091382</td>\n",
       "      <td>-0.212760</td>\n",
       "      <td>0.441223</td>\n",
       "      <td>0.289085</td>\n",
       "      <td>-0.037200</td>\n",
       "    </tr>\n",
       "    <tr>\n",
       "      <th>5</th>\n",
       "      <td>-0.043949</td>\n",
       "      <td>-0.213764</td>\n",
       "      <td>0.021362</td>\n",
       "      <td>-0.194740</td>\n",
       "      <td>0.278759</td>\n",
       "      <td>0.295430</td>\n",
       "      <td>-0.083485</td>\n",
       "    </tr>\n",
       "    <tr>\n",
       "      <th>6</th>\n",
       "      <td>0.013456</td>\n",
       "      <td>-0.255456</td>\n",
       "      <td>0.025478</td>\n",
       "      <td>-0.246440</td>\n",
       "      <td>0.237804</td>\n",
       "      <td>0.100826</td>\n",
       "      <td>-0.069377</td>\n",
       "    </tr>\n",
       "  </tbody>\n",
       "</table>\n",
       "</div>"
      ],
      "text/plain": [
       "     Visual  Somatomotor  Dorsal_Attention  Ventral_Attention    Limbic  \\\n",
       "0  0.360678    -0.244310          0.004242          -0.191215  0.135261   \n",
       "1 -0.088300    -0.242286          0.238407          -0.113685  0.307305   \n",
       "2 -0.080928    -0.197644         -0.030675          -0.112711 -0.012013   \n",
       "3  0.245300    -0.227310         -0.023751          -0.224358  0.098975   \n",
       "4 -0.098762    -0.251712         -0.091382          -0.212760  0.441223   \n",
       "5 -0.043949    -0.213764          0.021362          -0.194740  0.278759   \n",
       "6  0.013456    -0.255456          0.025478          -0.246440  0.237804   \n",
       "\n",
       "   Frontoparietal   Default  \n",
       "0        0.156452 -0.149400  \n",
       "1        0.217202 -0.002165  \n",
       "2        0.140530  0.117049  \n",
       "3       -0.032557 -0.158381  \n",
       "4        0.289085 -0.037200  \n",
       "5        0.295430 -0.083485  \n",
       "6        0.100826 -0.069377  "
      ]
     },
     "metadata": {},
     "output_type": "display_data"
    }
   ],
   "source": [
    "for nCluster in [3, 4, 5, 6, 7]:\n",
    "    kmeans = KMeans(n_clusters=nCluster, random_state=0).fit(absUs)\n",
    "    cCorrs = ddict(list)\n",
    "    for i in range(nCluster):\n",
    "        kpIdxs = kmeans.labels_ == i\n",
    "        cUs = absUs[kpIdxs, :]\n",
    "        cMean = cUs.mean(axis=0)\n",
    "        for j, name in enumerate(names):\n",
    "            cCorrs[name].append(ss.pearsonr(fcR[:, j], cMean)[0])\n",
    "    cCorDF = pd.DataFrame(cCorrs)\n",
    "    cCorArr = np.array(cCorDF)\n",
    "    np.savetxt(datDir/f\"cluster{nCluster}_corr.txt\", cCorArr)\n",
    "    print(f\"The number of clusters is {nCluster}.\")\n",
    "    display(cCorDF)"
   ]
  },
  {
   "cell_type": "markdown",
   "metadata": {},
   "source": [
    "#### correlation"
   ]
  },
  {
   "cell_type": "code",
   "execution_count": 117,
   "metadata": {},
   "outputs": [],
   "source": [
    "corrs = ddict(list)\n",
    "for absU in absUs:\n",
    "    for j, name in enumerate(names):\n",
    "        corrs[name].append(ss.pearsonr(fcR[:, j], absU)[0])\n",
    "        \n",
    "corDF = pd.DataFrame(corrs)\n",
    "corArr = np.array(corDF)\n",
    "\n",
    "np.savetxt(datDir/\"allCorr_diseased.txt\", corArr)"
   ]
  },
  {
   "cell_type": "markdown",
   "metadata": {},
   "source": [
    "### Num of change points comparison"
   ]
  },
  {
   "cell_type": "code",
   "execution_count": 6,
   "metadata": {},
   "outputs": [],
   "source": [
    "numCpts = []\n",
    "for DetObj in TVDNres.DetObjs:\n",
    "    numCpts.append(len(DetObj.ecpts))\n",
    "    \n",
    "numCptsH = numCpts[:103]\n",
    "numCptsD = numCpts[103:]"
   ]
  },
  {
   "cell_type": "code",
   "execution_count": 26,
   "metadata": {},
   "outputs": [],
   "source": [
    "bins = np.arange(0.5, 13, 1)\n",
    "nums = np.arange(1, 13, 1)\n",
    "countsH, _ = np.histogram(numCptsH, bins=bins)\n",
    "countsD, _ = np.histogram(numCptsD, bins=bins)\n",
    "ratesH = countsH/np.sum(countsH)\n",
    "ratesD = countsD/np.sum(countsD)"
   ]
  },
  {
   "cell_type": "code",
   "execution_count": 27,
   "metadata": {},
   "outputs": [
    {
     "data": {
      "text/plain": [
       "<BarContainer object of 12 artists>"
      ]
     },
     "execution_count": 27,
     "metadata": {},
     "output_type": "execute_result"
    },
    {
     "data": {
      "image/png": "[encoded data removed]",
      "text/plain": [
       "<Figure size 432x288 with 2 Axes>"
      ]
     },
     "metadata": {
      "needs_background": "light"
     },
     "output_type": "display_data"
    }
   ],
   "source": [
    "plt.subplots_adjust(wspace =0, hspace=1)\n",
    "plt.subplot(211)\n",
    "plt.title(\"Num of switchings for diseased subjects\")\n",
    "plt.bar(nums, ratesD)\n",
    "plt.subplot(212)\n",
    "plt.title(\"Num of switchings for healthy subjects\")\n",
    "plt.bar(nums, ratesH)"
   ]
  },
  {
   "cell_type": "markdown",
   "metadata": {},
   "source": [
    "### Correlation  of demo "
   ]
  },
  {
   "cell_type": "code",
   "execution_count": 148,
   "metadata": {},
   "outputs": [],
   "source": [
    "idx = 83 # 91 \n",
    "DetObj = TVDNres.DetObjs[idx]\n",
    "r = DetObj.paras.r\n",
    "rUs = DetObj.midRes.eigVecs[:, :r]\n",
    "kpidxs = np.where(np.diff(np.concatenate([[np.Inf], np.abs(rUs[0, :])])) != 0)[0]\n",
    "Us = rUs[:, kpidxs]\n",
    "\n",
    "absUs = np.array(np.abs(Us)).T\n",
    "absUsList =[minmax(absUs[i, :]) for i in range(absUs.shape[0])]\n",
    "absUs = np.array(absUsList)\n",
    "\n",
    "\n",
    "abswUs = obtainAbswU(DetObj)\n",
    "abswUsList = [minmax(abswUs[:, i]) for i in range(abswUs.shape[1])]\n",
    "abswUs = np.array(abswUsList)\n",
    "\n",
    "abswUs2 = obtainAbswU2(DetObj)\n",
    "abswUsList2 = [minmax(abswUs2[:, i]) for i in range(abswUs2.shape[1])]\n",
    "abswUs2 = np.array(abswUsList2)"
   ]
  },
  {
   "cell_type": "markdown",
   "metadata": {},
   "source": [
    "#### Corr of U"
   ]
  },
  {
   "cell_type": "code",
   "execution_count": 149,
   "metadata": {},
   "outputs": [],
   "source": [
    "#corrs = ddict(list)\n",
    "#for absU in absUs:\n",
    "#    for j, name in enumerate(names):\n",
    "#        corrs[name].append(ss.pearsonr(fcR[:, j], absU)[0])\n",
    "#        \n",
    "#corDF = pd.DataFrame(corrs)\n",
    "#corDF"
   ]
  },
  {
   "cell_type": "markdown",
   "metadata": {},
   "source": [
    "#### Corr of wU\n",
    "\n",
    "only need this way"
   ]
  },
  {
   "cell_type": "code",
   "execution_count": 150,
   "metadata": {},
   "outputs": [
    {
     "data": {
      "text/html": [
       "<div>\n",
       "<style scoped>\n",
       "    .dataframe tbody tr th:only-of-type {\n",
       "        vertical-align: middle;\n",
       "    }\n",
       "\n",
       "    .dataframe tbody tr th {\n",
       "        vertical-align: top;\n",
       "    }\n",
       "\n",
       "    .dataframe thead th {\n",
       "        text-align: right;\n",
       "    }\n",
       "</style>\n",
       "<table border=\"1\" class=\"dataframe\">\n",
       "  <thead>\n",
       "    <tr style=\"text-align: right;\">\n",
       "      <th></th>\n",
       "      <th>Visual</th>\n",
       "      <th>Somatomotor</th>\n",
       "      <th>Dorsal_Attention</th>\n",
       "      <th>Ventral_Attention</th>\n",
       "      <th>Limbic</th>\n",
       "      <th>Frontoparietal</th>\n",
       "      <th>Default</th>\n",
       "    </tr>\n",
       "  </thead>\n",
       "  <tbody>\n",
       "    <tr>\n",
       "      <th>0</th>\n",
       "      <td>-0.237328</td>\n",
       "      <td>-0.035299</td>\n",
       "      <td>0.151418</td>\n",
       "      <td>0.195938</td>\n",
       "      <td>0.012915</td>\n",
       "      <td>-0.049335</td>\n",
       "      <td>-0.015213</td>\n",
       "    </tr>\n",
       "    <tr>\n",
       "      <th>1</th>\n",
       "      <td>-0.043710</td>\n",
       "      <td>-0.177802</td>\n",
       "      <td>0.191718</td>\n",
       "      <td>-0.121527</td>\n",
       "      <td>0.071751</td>\n",
       "      <td>0.006832</td>\n",
       "      <td>-0.039071</td>\n",
       "    </tr>\n",
       "    <tr>\n",
       "      <th>2</th>\n",
       "      <td>0.177300</td>\n",
       "      <td>-0.076371</td>\n",
       "      <td>0.237976</td>\n",
       "      <td>-0.125766</td>\n",
       "      <td>-0.090191</td>\n",
       "      <td>-0.205484</td>\n",
       "      <td>-0.162688</td>\n",
       "    </tr>\n",
       "    <tr>\n",
       "      <th>3</th>\n",
       "      <td>0.056058</td>\n",
       "      <td>-0.178190</td>\n",
       "      <td>0.116365</td>\n",
       "      <td>-0.053986</td>\n",
       "      <td>0.112265</td>\n",
       "      <td>-0.137037</td>\n",
       "      <td>-0.161805</td>\n",
       "    </tr>\n",
       "    <tr>\n",
       "      <th>4</th>\n",
       "      <td>-0.149230</td>\n",
       "      <td>0.001030</td>\n",
       "      <td>0.168267</td>\n",
       "      <td>0.005225</td>\n",
       "      <td>0.100967</td>\n",
       "      <td>-0.027634</td>\n",
       "      <td>-0.117793</td>\n",
       "    </tr>\n",
       "    <tr>\n",
       "      <th>5</th>\n",
       "      <td>0.247442</td>\n",
       "      <td>-0.163430</td>\n",
       "      <td>-0.089287</td>\n",
       "      <td>-0.166231</td>\n",
       "      <td>0.244220</td>\n",
       "      <td>-0.139172</td>\n",
       "      <td>0.021413</td>\n",
       "    </tr>\n",
       "    <tr>\n",
       "      <th>6</th>\n",
       "      <td>0.147113</td>\n",
       "      <td>0.000467</td>\n",
       "      <td>0.097390</td>\n",
       "      <td>0.023793</td>\n",
       "      <td>-0.023310</td>\n",
       "      <td>0.179100</td>\n",
       "      <td>-0.167980</td>\n",
       "    </tr>\n",
       "    <tr>\n",
       "      <th>7</th>\n",
       "      <td>0.241696</td>\n",
       "      <td>-0.114554</td>\n",
       "      <td>-0.083194</td>\n",
       "      <td>-0.116652</td>\n",
       "      <td>0.068475</td>\n",
       "      <td>-0.324563</td>\n",
       "      <td>-0.040386</td>\n",
       "    </tr>\n",
       "    <tr>\n",
       "      <th>8</th>\n",
       "      <td>-0.204911</td>\n",
       "      <td>0.028072</td>\n",
       "      <td>0.112219</td>\n",
       "      <td>0.129784</td>\n",
       "      <td>-0.153176</td>\n",
       "      <td>-0.026498</td>\n",
       "      <td>0.298860</td>\n",
       "    </tr>\n",
       "  </tbody>\n",
       "</table>\n",
       "</div>"
      ],
      "text/plain": [
       "     Visual  Somatomotor  Dorsal_Attention  Ventral_Attention    Limbic  \\\n",
       "0 -0.237328    -0.035299          0.151418           0.195938  0.012915   \n",
       "1 -0.043710    -0.177802          0.191718          -0.121527  0.071751   \n",
       "2  0.177300    -0.076371          0.237976          -0.125766 -0.090191   \n",
       "3  0.056058    -0.178190          0.116365          -0.053986  0.112265   \n",
       "4 -0.149230     0.001030          0.168267           0.005225  0.100967   \n",
       "5  0.247442    -0.163430         -0.089287          -0.166231  0.244220   \n",
       "6  0.147113     0.000467          0.097390           0.023793 -0.023310   \n",
       "7  0.241696    -0.114554         -0.083194          -0.116652  0.068475   \n",
       "8 -0.204911     0.028072          0.112219           0.129784 -0.153176   \n",
       "\n",
       "   Frontoparietal   Default  \n",
       "0       -0.049335 -0.015213  \n",
       "1        0.006832 -0.039071  \n",
       "2       -0.205484 -0.162688  \n",
       "3       -0.137037 -0.161805  \n",
       "4       -0.027634 -0.117793  \n",
       "5       -0.139172  0.021413  \n",
       "6        0.179100 -0.167980  \n",
       "7       -0.324563 -0.040386  \n",
       "8       -0.026498  0.298860  "
      ]
     },
     "execution_count": 150,
     "metadata": {},
     "output_type": "execute_result"
    }
   ],
   "source": [
    "wUcorrs = ddict(list)\n",
    "for abswU in abswUs:\n",
    "    for j, name in enumerate(names):\n",
    "        wUcorrs[name].append(ss.pearsonr(fcR[:, j], abswU)[0])\n",
    "        \n",
    "wUcorDF = pd.DataFrame(wUcorrs)\n",
    "wUcorDF.to_csv(datDir/f\"fMRI_diseased_demo_{idx}_corr1.csv\")\n",
    "wUcorDF"
   ]
  },
  {
   "cell_type": "markdown",
   "metadata": {},
   "source": [
    "#### Corr of wU via second way"
   ]
  },
  {
   "cell_type": "code",
   "execution_count": 93,
   "metadata": {},
   "outputs": [
    {
     "data": {
      "text/html": [
       "<div>\n",
       "<style scoped>\n",
       "    .dataframe tbody tr th:only-of-type {\n",
       "        vertical-align: middle;\n",
       "    }\n",
       "\n",
       "    .dataframe tbody tr th {\n",
       "        vertical-align: top;\n",
       "    }\n",
       "\n",
       "    .dataframe thead th {\n",
       "        text-align: right;\n",
       "    }\n",
       "</style>\n",
       "<table border=\"1\" class=\"dataframe\">\n",
       "  <thead>\n",
       "    <tr style=\"text-align: right;\">\n",
       "      <th></th>\n",
       "      <th>Visual</th>\n",
       "      <th>Somatomotor</th>\n",
       "      <th>Dorsal_Attention</th>\n",
       "      <th>Ventral_Attention</th>\n",
       "      <th>Limbic</th>\n",
       "      <th>Frontoparietal</th>\n",
       "      <th>Default</th>\n",
       "    </tr>\n",
       "  </thead>\n",
       "  <tbody>\n",
       "    <tr>\n",
       "      <th>0</th>\n",
       "      <td>0.020633</td>\n",
       "      <td>-0.079228</td>\n",
       "      <td>0.257431</td>\n",
       "      <td>-0.061685</td>\n",
       "      <td>0.052457</td>\n",
       "      <td>0.302326</td>\n",
       "      <td>-0.116918</td>\n",
       "    </tr>\n",
       "    <tr>\n",
       "      <th>1</th>\n",
       "      <td>0.007661</td>\n",
       "      <td>-0.085290</td>\n",
       "      <td>0.202831</td>\n",
       "      <td>-0.047691</td>\n",
       "      <td>0.038531</td>\n",
       "      <td>0.278473</td>\n",
       "      <td>-0.103414</td>\n",
       "    </tr>\n",
       "    <tr>\n",
       "      <th>2</th>\n",
       "      <td>0.035994</td>\n",
       "      <td>-0.104172</td>\n",
       "      <td>0.220435</td>\n",
       "      <td>-0.051895</td>\n",
       "      <td>0.046526</td>\n",
       "      <td>0.217209</td>\n",
       "      <td>-0.111476</td>\n",
       "    </tr>\n",
       "    <tr>\n",
       "      <th>3</th>\n",
       "      <td>0.005403</td>\n",
       "      <td>-0.093509</td>\n",
       "      <td>0.141195</td>\n",
       "      <td>-0.055939</td>\n",
       "      <td>0.029360</td>\n",
       "      <td>0.270389</td>\n",
       "      <td>-0.084756</td>\n",
       "    </tr>\n",
       "    <tr>\n",
       "      <th>4</th>\n",
       "      <td>-0.002727</td>\n",
       "      <td>-0.044580</td>\n",
       "      <td>0.299714</td>\n",
       "      <td>-0.017482</td>\n",
       "      <td>0.048518</td>\n",
       "      <td>0.278419</td>\n",
       "      <td>-0.125118</td>\n",
       "    </tr>\n",
       "    <tr>\n",
       "      <th>5</th>\n",
       "      <td>-0.003812</td>\n",
       "      <td>-0.046566</td>\n",
       "      <td>0.304097</td>\n",
       "      <td>-0.004169</td>\n",
       "      <td>0.046544</td>\n",
       "      <td>0.253256</td>\n",
       "      <td>-0.128532</td>\n",
       "    </tr>\n",
       "    <tr>\n",
       "      <th>6</th>\n",
       "      <td>0.004522</td>\n",
       "      <td>-0.063424</td>\n",
       "      <td>0.280571</td>\n",
       "      <td>-0.016351</td>\n",
       "      <td>0.045754</td>\n",
       "      <td>0.250020</td>\n",
       "      <td>-0.124669</td>\n",
       "    </tr>\n",
       "    <tr>\n",
       "      <th>7</th>\n",
       "      <td>0.002627</td>\n",
       "      <td>-0.088111</td>\n",
       "      <td>0.156095</td>\n",
       "      <td>-0.065642</td>\n",
       "      <td>0.033206</td>\n",
       "      <td>0.310300</td>\n",
       "      <td>-0.087829</td>\n",
       "    </tr>\n",
       "  </tbody>\n",
       "</table>\n",
       "</div>"
      ],
      "text/plain": [
       "     Visual  Somatomotor  Dorsal_Attention  Ventral_Attention    Limbic  \\\n",
       "0  0.020633    -0.079228          0.257431          -0.061685  0.052457   \n",
       "1  0.007661    -0.085290          0.202831          -0.047691  0.038531   \n",
       "2  0.035994    -0.104172          0.220435          -0.051895  0.046526   \n",
       "3  0.005403    -0.093509          0.141195          -0.055939  0.029360   \n",
       "4 -0.002727    -0.044580          0.299714          -0.017482  0.048518   \n",
       "5 -0.003812    -0.046566          0.304097          -0.004169  0.046544   \n",
       "6  0.004522    -0.063424          0.280571          -0.016351  0.045754   \n",
       "7  0.002627    -0.088111          0.156095          -0.065642  0.033206   \n",
       "\n",
       "   Frontoparietal   Default  \n",
       "0        0.302326 -0.116918  \n",
       "1        0.278473 -0.103414  \n",
       "2        0.217209 -0.111476  \n",
       "3        0.270389 -0.084756  \n",
       "4        0.278419 -0.125118  \n",
       "5        0.253256 -0.128532  \n",
       "6        0.250020 -0.124669  \n",
       "7        0.310300 -0.087829  "
      ]
     },
     "execution_count": 93,
     "metadata": {},
     "output_type": "execute_result"
    }
   ],
   "source": [
    "wUcorrs2 = ddict(list)\n",
    "for abswU in abswUs2:\n",
    "    for j, name in enumerate(names):\n",
    "        wUcorrs2[name].append(ss.pearsonr(fcR[:, j], abswU)[0])\n",
    "        \n",
    "wUcorDF2 = pd.DataFrame(wUcorrs2)\n",
    "wUcorDF2\n",
    "#wUcorDF2.to_csv(datDir/f\"fMRI_healthy_demo_{idx}_corr2.csv\")"
   ]
  },
  {
   "cell_type": "markdown",
   "metadata": {},
   "source": [
    "### Save the weights and U  for each subject\n",
    "\n",
    "fMRI datasets are divided into two groups healthy and diseased group"
   ]
  },
  {
   "cell_type": "code",
   "execution_count": 166,
   "metadata": {},
   "outputs": [],
   "source": [
    "resDir = Path(\"../results\")\n",
    "\n",
    "saveDir = resDir/\"fMRIHPFs_sep\"\n",
    "with open(saveDir/\"fMRIResultAdap_healthy.pkl\", \"rb\") as f:\n",
    "    resultsH = pickle.load(f)\n",
    "    \n",
    "saveDir = resDir/\"fMRIHPFs_sep\"\n",
    "with open(saveDir/\"fMRIResultAdap_diseased.pkl\", \"rb\") as f:\n",
    "    resultsD = pickle.load(f)"
   ]
  },
  {
   "cell_type": "code",
   "execution_count": 167,
   "metadata": {},
   "outputs": [],
   "source": [
    "Ddics = []\n",
    "for DetObj in resultsD.DetObjs:\n",
    "    cDic = {}\n",
    "    r = DetObj.paras.r\n",
    "    rUs = DetObj.midRes.eigVecs[:, :r]\n",
    "    cDic[\"eigVals\"] = DetObj.RecResCur.LamMs\n",
    "    cDic[\"Us\"] = rUs\n",
    "    Ddics.append(cDic) \n",
    "with open(saveDir/\"diseased_eigvals_vecs.pkl\", \"wb\") as f:\n",
    "    pickle.dump(Ddics, f)"
   ]
  },
  {
   "cell_type": "code",
   "execution_count": 168,
   "metadata": {},
   "outputs": [],
   "source": [
    "Hdics = []\n",
    "for DetObj in resultsH.DetObjs:\n",
    "    cDic = {}\n",
    "    r = DetObj.paras.r\n",
    "    rUs = DetObj.midRes.eigVecs[:, :r]\n",
    "    cDic[\"eigVals\"] = DetObj.RecResCur.LamMs\n",
    "    cDic[\"Us\"] = rUs\n",
    "    Hdics.append(cDic) \n",
    "with open(saveDir/\"healthy_eigvals_vecs.pkl\", \"wb\") as f:\n",
    "    pickle.dump(Hdics, f)"
   ]
  },
  {
   "cell_type": "markdown",
   "metadata": {},
   "source": [
    "### Save the results for all data"
   ]
  },
  {
   "cell_type": "code",
   "execution_count": 169,
   "metadata": {},
   "outputs": [],
   "source": [
    "resDir = Path(\"../results\")\n",
    "\n",
    "saveDir = resDir/\"fMRIHPFs_rankAdap\"\n",
    "with open(saveDir/\"fMRIResultAdapM8.pkl\", \"rb\") as f:\n",
    "    results = pickle.load(f)"
   ]
  },
  {
   "cell_type": "code",
   "execution_count": 170,
   "metadata": {},
   "outputs": [],
   "source": [
    "Adics = []\n",
    "for DetObj in results.DetObjs:\n",
    "    cDic = {}\n",
    "    r = DetObj.paras.r\n",
    "    rUs = DetObj.midRes.eigVecs[:, :r]\n",
    "    cDic[\"eigVals\"] = DetObj.RecResCur.LamMs\n",
    "    cDic[\"Us\"] = rUs\n",
    "    Adics.append(cDic) \n",
    "with open(saveDir/\"all_eigvals_vecs.pkl\", \"wb\") as f:\n",
    "    pickle.dump(Adics, f)"
   ]
  },
  {
   "cell_type": "markdown",
   "metadata": {},
   "source": [
    "### compare the results when seperation or not"
   ]
  },
  {
   "cell_type": "code",
   "execution_count": 172,
   "metadata": {},
   "outputs": [],
   "source": [
    "ranksAllD = []\n",
    "ranksAllH = []\n",
    "ranksSepD = []\n",
    "ranksSepH = []\n",
    "\n",
    "for i in range(103):\n",
    "    ranksSepH.append(resultsH.DetObjs[i].paras.r)\n",
    "    ranksAllH.append(results.DetObjs[i].paras.r)\n",
    "    \n",
    "for i in range(140):\n",
    "    ranksSepD.append(resultsD.DetObjs[i].paras.r)\n",
    "    ranksAllD.append(results.DetObjs[i+103].paras.r)"
   ]
  },
  {
   "cell_type": "code",
   "execution_count": 173,
   "metadata": {},
   "outputs": [
    {
     "data": {
      "text/plain": [
       "array([0, 0, 0, 0, 0, 0, 0, 0, 0, 0, 0, 0, 0, 0, 0, 0, 0, 0, 0, 0, 0, 0,\n",
       "       0, 0, 0, 0, 0, 0, 0, 0, 0, 0, 0, 0, 0, 0, 0, 0, 0, 0, 0, 0, 0, 0,\n",
       "       0, 0, 0, 0, 0, 0, 0, 0, 0, 0, 0, 0, 0, 0, 0, 0, 0, 0, 0, 0, 0, 0,\n",
       "       0, 0, 0, 0, 0, 0, 0, 0, 0, 0, 0, 0, 0, 0, 0, 0, 0, 0, 0, 0, 0, 0,\n",
       "       0, 0, 0, 0, 0, 0, 0, 0, 0, 0, 0, 0, 0, 0, 0])"
      ]
     },
     "execution_count": 173,
     "metadata": {},
     "output_type": "execute_result"
    }
   ],
   "source": [
    "np.array(ranksAllH) - np.array(ranksSepH)"
   ]
  },
  {
   "cell_type": "code",
   "execution_count": 174,
   "metadata": {},
   "outputs": [
    {
     "data": {
      "text/plain": [
       "array([0, 0, 0, 0, 0, 0, 0, 0, 0, 0, 0, 0, 0, 0, 0, 0, 0, 0, 0, 0, 0, 0,\n",
       "       0, 0, 0, 0, 0, 0, 0, 0, 0, 0, 0, 0, 0, 0, 0, 0, 0, 0, 0, 0, 0, 0,\n",
       "       0, 0, 0, 0, 0, 0, 0, 0, 0, 0, 0, 0, 0, 0, 0, 0, 0, 0, 0, 0, 0, 0,\n",
       "       0, 0, 0, 0, 0, 0, 0, 0, 0, 0, 0, 0, 0, 0, 0, 0, 0, 0, 0, 0, 0, 0,\n",
       "       0, 0, 0, 0, 0, 0, 0, 0, 0, 0, 0, 0, 0, 0, 0, 0, 0, 0, 0, 0, 0, 0,\n",
       "       0, 0, 0, 0, 0, 0, 0, 0, 0, 0, 0, 0, 0, 0, 0, 0, 0, 0, 0, 0, 0, 0,\n",
       "       0, 0, 0, 0, 0, 0, 0, 0])"
      ]
     },
     "execution_count": 174,
     "metadata": {},
     "output_type": "execute_result"
    }
   ],
   "source": [
    "np.array(ranksAllD) - np.array(ranksSepD)"
   ]
  },
  {
   "cell_type": "code",
   "execution_count": 182,
   "metadata": {},
   "outputs": [],
   "source": [
    "ranksAllD2 = []\n",
    "ranksAllH2 = []\n",
    "ranksSepD2 = []\n",
    "ranksSepH2 = []\n",
    "for i in range(103):\n",
    "    ranksSepH2.append(Hdics[i][\"Us\"].shape[1])\n",
    "    ranksAllH2.append(Adics[i][\"Us\"].shape[1])\n",
    "    \n",
    "for i in range(140):\n",
    "    ranksSepD2.append(Ddics[i][\"Us\"].shape[1])\n",
    "    ranksAllD2.append(Adics[i+103][\"Us\"].shape[1])"
   ]
  },
  {
   "cell_type": "code",
   "execution_count": 183,
   "metadata": {},
   "outputs": [
    {
     "data": {
      "text/plain": [
       "array([0, 0, 0, 0, 0, 0, 0, 0, 0, 0, 0, 0, 0, 0, 0, 0, 0, 0, 0, 0, 0, 0,\n",
       "       0, 0, 0, 0, 0, 0, 0, 0, 0, 0, 0, 0, 0, 0, 0, 0, 0, 0, 0, 0, 0, 0,\n",
       "       0, 0, 0, 0, 0, 0, 0, 0, 0, 0, 0, 0, 0, 0, 0, 0, 0, 0, 0, 0, 0, 0,\n",
       "       0, 0, 0, 0, 0, 0, 0, 0, 0, 0, 0, 0, 0, 0, 0, 0, 0, 0, 0, 0, 0, 0,\n",
       "       0, 0, 0, 0, 0, 0, 0, 0, 0, 0, 0, 0, 0, 0, 0])"
      ]
     },
     "execution_count": 183,
     "metadata": {},
     "output_type": "execute_result"
    }
   ],
   "source": [
    "np.array(ranksAllH2) - np.array(ranksSepH2)"
   ]
  },
  {
   "cell_type": "code",
   "execution_count": 184,
   "metadata": {},
   "outputs": [
    {
     "data": {
      "text/plain": [
       "array([0, 0, 0, 0, 0, 0, 0, 0, 0, 0, 0, 0, 0, 0, 0, 0, 0, 0, 0, 0, 0, 0,\n",
       "       0, 0, 0, 0, 0, 0, 0, 0, 0, 0, 0, 0, 0, 0, 0, 0, 0, 0, 0, 0, 0, 0,\n",
       "       0, 0, 0, 0, 0, 0, 0, 0, 0, 0, 0, 0, 0, 0, 0, 0, 0, 0, 0, 0, 0, 0,\n",
       "       0, 0, 0, 0, 0, 0, 0, 0, 0, 0, 0, 0, 0, 0, 0, 0, 0, 0, 0, 0, 0, 0,\n",
       "       0, 0, 0, 0, 0, 0, 0, 0, 0, 0, 0, 0, 0, 0, 0, 0, 0, 0, 0, 0, 0, 0,\n",
       "       0, 0, 0, 0, 0, 0, 0, 0, 0, 0, 0, 0, 0, 0, 0, 0, 0, 0, 0, 0, 0, 0,\n",
       "       0, 0, 0, 0, 0, 0, 0, 0])"
      ]
     },
     "execution_count": 184,
     "metadata": {},
     "output_type": "execute_result"
    }
   ],
   "source": [
    "np.array(ranksAllD2) - np.array(ranksSepD2)"
   ]
  },
  {
   "cell_type": "code",
   "execution_count": null,
   "metadata": {},
   "outputs": [],
   "source": []
  }
 ],
 "metadata": {
  "kernelspec": {
   "display_name": "Python 3",
   "language": "python",
   "name": "python3"
  },
  "language_info": {
   "codemirror_mode": {
    "name": "ipython",
    "version": 3
   },
   "file_extension": ".py",
   "mimetype": "text/x-python",
   "name": "python",
   "nbconvert_exporter": "python",
   "pygments_lexer": "ipython3",
   "version": "3.7.3"
  }
 },
 "nbformat": 4,
 "nbformat_minor": 2
}
