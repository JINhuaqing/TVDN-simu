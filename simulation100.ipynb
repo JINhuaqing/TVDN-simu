{
 "cells": [
  {
   "cell_type": "code",
   "execution_count": 1,
   "metadata": {},
   "outputs": [],
   "source": [
    "import numpy as np\n",
    "import numpy.random as npr\n",
    "import matplotlib.pyplot as plt\n",
    "import rpy2.robjects as robj\n",
    "import pyreadr\n",
    "%matplotlib inline\n",
    "from easydict import EasyDict as edict\n",
    "from tqdm import tqdm_notebook as tqdm\n",
    "import sys\n",
    "import time as Time\n",
    "import pickle"
   ]
  },
  {
   "cell_type": "code",
   "execution_count": 2,
   "metadata": {},
   "outputs": [],
   "source": [
    "sys.path.append(\"/home/huaqingj/MyResearch/dynamicR2py\")\n",
    "from utils import *"
   ]
  },
  {
   "cell_type": "code",
   "execution_count": 3,
   "metadata": {},
   "outputs": [
    {
     "data": {
      "text/html": [
       "\n",
       "        <span>StrVector with 4 elements.</span>\n",
       "        <table>\n",
       "        <tbody>\n",
       "          <tr>\n",
       "          \n",
       "            <td>\n",
       "            'datamatrix'\n",
       "            </td>\n",
       "          \n",
       "            <td>\n",
       "            'truematrix'\n",
       "            </td>\n",
       "          \n",
       "            <td>\n",
       "            'candlist0'\n",
       "            </td>\n",
       "          \n",
       "            <td>\n",
       "            'trueU'\n",
       "            </td>\n",
       "          \n",
       "          </tr>\n",
       "        </tbody>\n",
       "        </table>\n",
       "        "
      ],
      "text/plain": [
       "R object with classes: ('character',) mapped to:\n",
       "['datamatrix', 'truematrix', 'candlist0', 'trueU']"
      ]
     },
     "execution_count": 3,
     "metadata": {},
     "output_type": "execute_result"
    }
   ],
   "source": [
    "robj.r[\"load\"](\"/home/huaqingj/MyResearch/dynamicR2py/data/datamatrix3chg6rank.Rdata\")"
   ]
  },
  {
   "cell_type": "code",
   "execution_count": 4,
   "metadata": {},
   "outputs": [],
   "source": [
    "kappa = 1.53\n",
    "r = 6 \n",
    "Lmin = 4"
   ]
  },
  {
   "cell_type": "code",
   "execution_count": 10,
   "metadata": {},
   "outputs": [],
   "source": [
    "results = []"
   ]
  },
  {
   "cell_type": "code",
   "execution_count": 11,
   "metadata": {},
   "outputs": [
    {
     "name": "stdout",
     "output_type": "stream",
     "text": [
      "1/100th\n"
     ]
    },
    {
     "name": "stderr",
     "output_type": "stream",
     "text": [
      "Main Loop: 100%|██████████| 180/180 [00:03<00:00, 47.02it/s]\n"
     ]
    },
    {
     "name": "stdout",
     "output_type": "stream",
     "text": [
      "The average time is 4.24s. The detected result is [ 27  99 144]\n",
      "2/100th\n"
     ]
    },
    {
     "name": "stderr",
     "output_type": "stream",
     "text": [
      "Main Loop: 100%|██████████| 180/180 [00:04<00:00, 44.67it/s]\n"
     ]
    },
    {
     "name": "stdout",
     "output_type": "stream",
     "text": [
      "The average time is 4.31s. The detected result is [ 49  97 143]\n",
      "3/100th\n"
     ]
    },
    {
     "name": "stderr",
     "output_type": "stream",
     "text": [
      "Main Loop: 100%|██████████| 180/180 [00:03<00:00, 46.41it/s]\n"
     ]
    },
    {
     "name": "stdout",
     "output_type": "stream",
     "text": [
      "The average time is 4.28s. The detected result is [ 46 100 144]\n",
      "4/100th\n"
     ]
    },
    {
     "name": "stderr",
     "output_type": "stream",
     "text": [
      "Main Loop: 100%|██████████| 180/180 [00:03<00:00, 49.01it/s]\n"
     ]
    },
    {
     "name": "stdout",
     "output_type": "stream",
     "text": [
      "The average time is 4.22s. The detected result is [ 49  98 130 144]\n",
      "5/100th\n"
     ]
    },
    {
     "name": "stderr",
     "output_type": "stream",
     "text": [
      "Main Loop: 100%|██████████| 180/180 [00:03<00:00, 47.71it/s]\n"
     ]
    },
    {
     "name": "stdout",
     "output_type": "stream",
     "text": [
      "The average time is 4.20s. The detected result is [ 51 100 143]\n",
      "6/100th\n"
     ]
    },
    {
     "name": "stderr",
     "output_type": "stream",
     "text": [
      "Main Loop: 100%|██████████| 180/180 [00:03<00:00, 47.76it/s]\n"
     ]
    },
    {
     "name": "stdout",
     "output_type": "stream",
     "text": [
      "The average time is 4.20s. The detected result is [ 50  98 143]\n",
      "7/100th\n"
     ]
    },
    {
     "name": "stderr",
     "output_type": "stream",
     "text": [
      "Main Loop: 100%|██████████| 180/180 [00:03<00:00, 47.41it/s]\n"
     ]
    },
    {
     "name": "stdout",
     "output_type": "stream",
     "text": [
      "The average time is 4.19s. The detected result is [ 45  99 140]\n",
      "8/100th\n"
     ]
    },
    {
     "name": "stderr",
     "output_type": "stream",
     "text": [
      "Main Loop: 100%|██████████| 180/180 [00:03<00:00, 47.72it/s]\n"
     ]
    },
    {
     "name": "stdout",
     "output_type": "stream",
     "text": [
      "The average time is 4.18s. The detected result is [ 49 100 144]\n",
      "9/100th\n"
     ]
    },
    {
     "name": "stderr",
     "output_type": "stream",
     "text": [
      "Main Loop: 100%|██████████| 180/180 [00:03<00:00, 47.49it/s]\n"
     ]
    },
    {
     "name": "stdout",
     "output_type": "stream",
     "text": [
      "The average time is 4.18s. The detected result is [ 48  99 142 166]\n",
      "10/100th\n"
     ]
    },
    {
     "name": "stderr",
     "output_type": "stream",
     "text": [
      "Main Loop: 100%|██████████| 180/180 [00:03<00:00, 47.52it/s]\n"
     ]
    },
    {
     "name": "stdout",
     "output_type": "stream",
     "text": [
      "The average time is 4.18s. The detected result is [ 47  97 120 144]\n",
      "11/100th\n"
     ]
    },
    {
     "name": "stderr",
     "output_type": "stream",
     "text": [
      "Main Loop: 100%|██████████| 180/180 [00:03<00:00, 100.81it/s]\n"
     ]
    },
    {
     "name": "stdout",
     "output_type": "stream",
     "text": [
      "The average time is 4.17s. The detected result is [ 49  99 141 148]\n",
      "12/100th\n"
     ]
    },
    {
     "name": "stderr",
     "output_type": "stream",
     "text": [
      "Main Loop: 100%|██████████| 180/180 [00:03<00:00, 47.91it/s]\n"
     ]
    },
    {
     "name": "stdout",
     "output_type": "stream",
     "text": [
      "The average time is 4.16s. The detected result is [ 48  98 144]\n",
      "13/100th\n"
     ]
    },
    {
     "name": "stderr",
     "output_type": "stream",
     "text": [
      "Main Loop: 100%|██████████| 180/180 [00:03<00:00, 45.15it/s]\n"
     ]
    },
    {
     "name": "stdout",
     "output_type": "stream",
     "text": [
      "The average time is 4.18s. The detected result is [ 49  99 143]\n",
      "14/100th\n"
     ]
    },
    {
     "name": "stderr",
     "output_type": "stream",
     "text": [
      "Main Loop: 100%|██████████| 180/180 [00:04<00:00, 43.07it/s]\n"
     ]
    },
    {
     "name": "stdout",
     "output_type": "stream",
     "text": [
      "The average time is 4.20s. The detected result is [ 42  99 143]\n",
      "15/100th\n"
     ]
    },
    {
     "name": "stderr",
     "output_type": "stream",
     "text": [
      "Main Loop: 100%|██████████| 180/180 [00:04<00:00, 42.80it/s]\n"
     ]
    },
    {
     "name": "stdout",
     "output_type": "stream",
     "text": [
      "The average time is 4.23s. The detected result is [ 98 144]\n",
      "16/100th\n"
     ]
    },
    {
     "name": "stderr",
     "output_type": "stream",
     "text": [
      "Main Loop: 100%|██████████| 180/180 [00:04<00:00, 43.61it/s]\n"
     ]
    },
    {
     "name": "stdout",
     "output_type": "stream",
     "text": [
      "The average time is 4.24s. The detected result is [ 48  98 146]\n",
      "17/100th\n"
     ]
    },
    {
     "name": "stderr",
     "output_type": "stream",
     "text": [
      "Main Loop: 100%|██████████| 180/180 [00:03<00:00, 47.99it/s]\n"
     ]
    },
    {
     "name": "stdout",
     "output_type": "stream",
     "text": [
      "The average time is 4.23s. The detected result is [ 50  98 139]\n",
      "18/100th\n"
     ]
    },
    {
     "name": "stderr",
     "output_type": "stream",
     "text": [
      "Main Loop: 100%|██████████| 180/180 [00:03<00:00, 48.48it/s]\n"
     ]
    },
    {
     "name": "stdout",
     "output_type": "stream",
     "text": [
      "The average time is 4.23s. The detected result is [ 46  96 145]\n",
      "19/100th\n"
     ]
    },
    {
     "name": "stderr",
     "output_type": "stream",
     "text": [
      "Main Loop: 100%|██████████| 180/180 [00:03<00:00, 47.91it/s]\n"
     ]
    },
    {
     "name": "stdout",
     "output_type": "stream",
     "text": [
      "The average time is 4.22s. The detected result is [ 31 101 144]\n",
      "20/100th\n"
     ]
    },
    {
     "name": "stderr",
     "output_type": "stream",
     "text": [
      "Main Loop: 100%|██████████| 180/180 [00:03<00:00, 48.20it/s]\n"
     ]
    },
    {
     "name": "stdout",
     "output_type": "stream",
     "text": [
      "The average time is 4.21s. The detected result is [ 48  98 145 154]\n",
      "21/100th\n"
     ]
    },
    {
     "name": "stderr",
     "output_type": "stream",
     "text": [
      "Main Loop: 100%|██████████| 180/180 [00:03<00:00, 48.09it/s]\n"
     ]
    },
    {
     "name": "stdout",
     "output_type": "stream",
     "text": [
      "The average time is 4.21s. The detected result is [ 30  97 141]\n",
      "22/100th\n"
     ]
    },
    {
     "name": "stderr",
     "output_type": "stream",
     "text": [
      "Main Loop: 100%|██████████| 180/180 [00:03<00:00, 48.14it/s]\n"
     ]
    },
    {
     "name": "stdout",
     "output_type": "stream",
     "text": [
      "The average time is 4.20s. The detected result is [ 13  99 142 166]\n",
      "23/100th\n"
     ]
    },
    {
     "name": "stderr",
     "output_type": "stream",
     "text": [
      "Main Loop: 100%|██████████| 180/180 [00:03<00:00, 46.30it/s]\n"
     ]
    },
    {
     "name": "stdout",
     "output_type": "stream",
     "text": [
      "The average time is 4.21s. The detected result is [ 49  97 144]\n",
      "24/100th\n"
     ]
    },
    {
     "name": "stderr",
     "output_type": "stream",
     "text": [
      "Main Loop: 100%|██████████| 180/180 [00:03<00:00, 48.50it/s]\n"
     ]
    },
    {
     "name": "stdout",
     "output_type": "stream",
     "text": [
      "The average time is 4.20s. The detected result is [ 49  95 145]\n",
      "25/100th\n"
     ]
    },
    {
     "name": "stderr",
     "output_type": "stream",
     "text": [
      "Main Loop: 100%|██████████| 180/180 [00:03<00:00, 45.38it/s]\n"
     ]
    },
    {
     "name": "stdout",
     "output_type": "stream",
     "text": [
      "The average time is 4.21s. The detected result is [ 45  93 144]\n",
      "26/100th\n"
     ]
    },
    {
     "name": "stderr",
     "output_type": "stream",
     "text": [
      "Main Loop: 100%|██████████| 180/180 [00:03<00:00, 48.09it/s]\n"
     ]
    },
    {
     "name": "stdout",
     "output_type": "stream",
     "text": [
      "The average time is 4.20s. The detected result is [ 49  97 145]\n",
      "27/100th\n"
     ]
    },
    {
     "name": "stderr",
     "output_type": "stream",
     "text": [
      "Main Loop: 100%|██████████| 180/180 [00:03<00:00, 47.89it/s]\n"
     ]
    },
    {
     "name": "stdout",
     "output_type": "stream",
     "text": [
      "The average time is 4.20s. The detected result is [ 51  96 143]\n",
      "28/100th\n"
     ]
    },
    {
     "name": "stderr",
     "output_type": "stream",
     "text": [
      "Main Loop: 100%|██████████| 180/180 [00:03<00:00, 45.48it/s]\n"
     ]
    },
    {
     "name": "stdout",
     "output_type": "stream",
     "text": [
      "The average time is 4.20s. The detected result is [ 49  97 143]\n",
      "29/100th\n"
     ]
    },
    {
     "name": "stderr",
     "output_type": "stream",
     "text": [
      "Main Loop: 100%|██████████| 180/180 [00:03<00:00, 45.55it/s]\n"
     ]
    },
    {
     "name": "stdout",
     "output_type": "stream",
     "text": [
      "The average time is 4.21s. The detected result is [ 45  97 145]\n",
      "30/100th\n"
     ]
    },
    {
     "name": "stderr",
     "output_type": "stream",
     "text": [
      "Main Loop: 100%|██████████| 180/180 [00:03<00:00, 45.71it/s]\n"
     ]
    },
    {
     "name": "stdout",
     "output_type": "stream",
     "text": [
      "The average time is 4.21s. The detected result is [ 21  98 144]\n",
      "31/100th\n"
     ]
    },
    {
     "name": "stderr",
     "output_type": "stream",
     "text": [
      "Main Loop: 100%|██████████| 180/180 [00:03<00:00, 46.24it/s]\n"
     ]
    },
    {
     "name": "stdout",
     "output_type": "stream",
     "text": [
      "The average time is 4.21s. The detected result is [ 51  99 144]\n",
      "32/100th\n"
     ]
    },
    {
     "name": "stderr",
     "output_type": "stream",
     "text": [
      "Main Loop: 100%|██████████| 180/180 [00:03<00:00, 48.72it/s]\n"
     ]
    },
    {
     "name": "stdout",
     "output_type": "stream",
     "text": [
      "The average time is 4.21s. The detected result is [ 89 128 146]\n",
      "33/100th\n"
     ]
    },
    {
     "name": "stderr",
     "output_type": "stream",
     "text": [
      "Main Loop: 100%|██████████| 180/180 [00:03<00:00, 47.96it/s]\n"
     ]
    },
    {
     "name": "stdout",
     "output_type": "stream",
     "text": [
      "The average time is 4.20s. The detected result is [ 45 100 143 162]\n",
      "34/100th\n"
     ]
    },
    {
     "name": "stderr",
     "output_type": "stream",
     "text": [
      "Main Loop: 100%|██████████| 180/180 [00:03<00:00, 48.23it/s]\n"
     ]
    },
    {
     "name": "stdout",
     "output_type": "stream",
     "text": [
      "The average time is 4.20s. The detected result is [ 47 101 145]\n",
      "35/100th\n"
     ]
    },
    {
     "name": "stderr",
     "output_type": "stream",
     "text": [
      "Main Loop: 100%|██████████| 180/180 [00:03<00:00, 47.97it/s]\n"
     ]
    },
    {
     "name": "stdout",
     "output_type": "stream",
     "text": [
      "The average time is 4.20s. The detected result is [ 98 143]\n",
      "36/100th\n"
     ]
    },
    {
     "name": "stderr",
     "output_type": "stream",
     "text": [
      "Main Loop: 100%|██████████| 180/180 [00:03<00:00, 48.10it/s] \n"
     ]
    },
    {
     "name": "stdout",
     "output_type": "stream",
     "text": [
      "The average time is 4.19s. The detected result is [ 44  98 142 168]\n",
      "37/100th\n"
     ]
    },
    {
     "name": "stderr",
     "output_type": "stream",
     "text": [
      "Main Loop: 100%|██████████| 180/180 [00:03<00:00, 48.11it/s]\n"
     ]
    },
    {
     "name": "stdout",
     "output_type": "stream",
     "text": [
      "The average time is 4.19s. The detected result is [ 48  99 146]\n",
      "38/100th\n"
     ]
    },
    {
     "name": "stderr",
     "output_type": "stream",
     "text": [
      "Main Loop: 100%|██████████| 180/180 [00:03<00:00, 47.86it/s]\n"
     ]
    },
    {
     "name": "stdout",
     "output_type": "stream",
     "text": [
      "The average time is 4.19s. The detected result is [ 49  98 141]\n",
      "39/100th\n"
     ]
    },
    {
     "name": "stderr",
     "output_type": "stream",
     "text": [
      "Main Loop: 100%|██████████| 180/180 [00:03<00:00, 47.58it/s]\n"
     ]
    },
    {
     "name": "stdout",
     "output_type": "stream",
     "text": [
      "The average time is 4.19s. The detected result is [ 49  99 145]\n",
      "40/100th\n"
     ]
    },
    {
     "name": "stderr",
     "output_type": "stream",
     "text": [
      "Main Loop: 100%|██████████| 180/180 [00:03<00:00, 47.83it/s]\n"
     ]
    },
    {
     "name": "stdout",
     "output_type": "stream",
     "text": [
      "The average time is 4.19s. The detected result is [ 49  99 143]\n",
      "41/100th\n"
     ]
    },
    {
     "name": "stderr",
     "output_type": "stream",
     "text": [
      "Main Loop: 100%|██████████| 180/180 [00:03<00:00, 48.22it/s]\n"
     ]
    },
    {
     "name": "stdout",
     "output_type": "stream",
     "text": [
      "The average time is 4.18s. The detected result is [ 20  52 100 145]\n",
      "42/100th\n"
     ]
    },
    {
     "name": "stderr",
     "output_type": "stream",
     "text": [
      "Main Loop: 100%|██████████| 180/180 [00:03<00:00, 48.89it/s]\n"
     ]
    },
    {
     "name": "stdout",
     "output_type": "stream",
     "text": [
      "The average time is 4.18s. The detected result is [ 49 100 142]\n",
      "43/100th\n"
     ]
    },
    {
     "name": "stderr",
     "output_type": "stream",
     "text": [
      "Main Loop: 100%|██████████| 180/180 [00:03<00:00, 48.05it/s]\n"
     ]
    },
    {
     "name": "stdout",
     "output_type": "stream",
     "text": [
      "The average time is 4.18s. The detected result is [ 46  98 142]\n",
      "44/100th\n"
     ]
    },
    {
     "name": "stderr",
     "output_type": "stream",
     "text": [
      "Main Loop: 100%|██████████| 180/180 [00:03<00:00, 47.64it/s]\n"
     ]
    },
    {
     "name": "stdout",
     "output_type": "stream",
     "text": [
      "The average time is 4.18s. The detected result is [ 50  98 142]\n",
      "45/100th\n"
     ]
    },
    {
     "name": "stderr",
     "output_type": "stream",
     "text": [
      "Main Loop: 100%|██████████| 180/180 [00:03<00:00, 47.77it/s]\n"
     ]
    },
    {
     "name": "stdout",
     "output_type": "stream",
     "text": [
      "The average time is 4.18s. The detected result is [ 47 100 144]\n",
      "46/100th\n"
     ]
    },
    {
     "name": "stderr",
     "output_type": "stream",
     "text": [
      "Main Loop: 100%|██████████| 180/180 [00:03<00:00, 48.05it/s]\n"
     ]
    },
    {
     "name": "stdout",
     "output_type": "stream",
     "text": [
      "The average time is 4.18s. The detected result is [ 47  97 144]\n",
      "47/100th\n"
     ]
    },
    {
     "name": "stderr",
     "output_type": "stream",
     "text": [
      "Main Loop: 100%|██████████| 180/180 [00:03<00:00, 48.35it/s]\n"
     ]
    },
    {
     "name": "stdout",
     "output_type": "stream",
     "text": [
      "The average time is 4.17s. The detected result is [ 26  99 145]\n",
      "48/100th\n"
     ]
    },
    {
     "name": "stderr",
     "output_type": "stream",
     "text": [
      "Main Loop: 100%|██████████| 180/180 [00:03<00:00, 47.86it/s]\n"
     ]
    },
    {
     "name": "stdout",
     "output_type": "stream",
     "text": [
      "The average time is 4.17s. The detected result is [ 50  97 145]\n",
      "49/100th\n"
     ]
    },
    {
     "name": "stderr",
     "output_type": "stream",
     "text": [
      "Main Loop: 100%|██████████| 180/180 [00:03<00:00, 47.73it/s]\n"
     ]
    },
    {
     "name": "stdout",
     "output_type": "stream",
     "text": [
      "The average time is 4.17s. The detected result is [100 132 144]\n",
      "50/100th\n"
     ]
    },
    {
     "name": "stderr",
     "output_type": "stream",
     "text": [
      "Main Loop: 100%|██████████| 180/180 [00:03<00:00, 48.30it/s]\n"
     ]
    },
    {
     "name": "stdout",
     "output_type": "stream",
     "text": [
      "The average time is 4.17s. The detected result is [ 49 100 143]\n",
      "51/100th\n"
     ]
    },
    {
     "name": "stderr",
     "output_type": "stream",
     "text": [
      "Main Loop: 100%|██████████| 180/180 [00:03<00:00, 47.68it/s]\n"
     ]
    },
    {
     "name": "stdout",
     "output_type": "stream",
     "text": [
      "The average time is 4.17s. The detected result is [ 49  99 141]\n",
      "52/100th\n"
     ]
    },
    {
     "name": "stderr",
     "output_type": "stream",
     "text": [
      "Main Loop: 100%|██████████| 180/180 [00:03<00:00, 47.53it/s]\n"
     ]
    },
    {
     "name": "stdout",
     "output_type": "stream",
     "text": [
      "The average time is 4.17s. The detected result is [ 46  97 142]\n",
      "53/100th\n"
     ]
    },
    {
     "name": "stderr",
     "output_type": "stream",
     "text": [
      "Main Loop: 100%|██████████| 180/180 [00:03<00:00, 47.51it/s]\n"
     ]
    },
    {
     "name": "stdout",
     "output_type": "stream",
     "text": [
      "The average time is 4.17s. The detected result is [ 50  97 135 144]\n",
      "54/100th\n"
     ]
    },
    {
     "name": "stderr",
     "output_type": "stream",
     "text": [
      "Main Loop: 100%|██████████| 180/180 [00:03<00:00, 47.42it/s]\n"
     ]
    },
    {
     "name": "stdout",
     "output_type": "stream",
     "text": [
      "The average time is 4.17s. The detected result is [ 15  48  98 143]\n",
      "55/100th\n"
     ]
    },
    {
     "name": "stderr",
     "output_type": "stream",
     "text": [
      "Main Loop: 100%|██████████| 180/180 [00:03<00:00, 47.55it/s]\n"
     ]
    },
    {
     "name": "stdout",
     "output_type": "stream",
     "text": [
      "The average time is 4.17s. The detected result is [ 47  96 144]\n",
      "56/100th\n"
     ]
    },
    {
     "name": "stderr",
     "output_type": "stream",
     "text": [
      "Main Loop: 100%|██████████| 180/180 [00:03<00:00, 47.55it/s]\n"
     ]
    },
    {
     "name": "stdout",
     "output_type": "stream",
     "text": [
      "The average time is 4.17s. The detected result is [ 47  99 144]\n",
      "57/100th\n"
     ]
    },
    {
     "name": "stderr",
     "output_type": "stream",
     "text": [
      "Main Loop: 100%|██████████| 180/180 [00:03<00:00, 47.91it/s]\n"
     ]
    },
    {
     "name": "stdout",
     "output_type": "stream",
     "text": [
      "The average time is 4.16s. The detected result is [ 42 100 144]\n",
      "58/100th\n"
     ]
    },
    {
     "name": "stderr",
     "output_type": "stream",
     "text": [
      "Main Loop: 100%|██████████| 180/180 [00:03<00:00, 47.62it/s]\n"
     ]
    },
    {
     "name": "stdout",
     "output_type": "stream",
     "text": [
      "The average time is 4.16s. The detected result is [ 52  97 145]\n",
      "59/100th\n"
     ]
    },
    {
     "name": "stderr",
     "output_type": "stream",
     "text": [
      "Main Loop: 100%|██████████| 180/180 [00:03<00:00, 48.02it/s]\n"
     ]
    },
    {
     "name": "stdout",
     "output_type": "stream",
     "text": [
      "The average time is 4.16s. The detected result is [ 29  99 145]\n",
      "60/100th\n"
     ]
    },
    {
     "name": "stderr",
     "output_type": "stream",
     "text": [
      "Main Loop: 100%|██████████| 180/180 [00:03<00:00, 47.80it/s]\n"
     ]
    },
    {
     "name": "stdout",
     "output_type": "stream",
     "text": [
      "The average time is 4.16s. The detected result is [ 51  95 144]\n",
      "61/100th\n"
     ]
    },
    {
     "name": "stderr",
     "output_type": "stream",
     "text": [
      "Main Loop: 100%|██████████| 180/180 [00:03<00:00, 47.86it/s]\n"
     ]
    },
    {
     "name": "stdout",
     "output_type": "stream",
     "text": [
      "The average time is 4.16s. The detected result is [ 50  97 142 168]\n",
      "62/100th\n"
     ]
    },
    {
     "name": "stderr",
     "output_type": "stream",
     "text": [
      "Main Loop: 100%|██████████| 180/180 [00:03<00:00, 48.63it/s]\n"
     ]
    },
    {
     "name": "stdout",
     "output_type": "stream",
     "text": [
      "The average time is 4.16s. The detected result is [ 50  99 116 145]\n",
      "63/100th\n"
     ]
    },
    {
     "name": "stderr",
     "output_type": "stream",
     "text": [
      "Main Loop: 100%|██████████| 180/180 [00:03<00:00, 47.80it/s]\n"
     ]
    },
    {
     "name": "stdout",
     "output_type": "stream",
     "text": [
      "The average time is 4.16s. The detected result is [ 47 100 142]\n",
      "64/100th\n"
     ]
    },
    {
     "name": "stderr",
     "output_type": "stream",
     "text": [
      "Main Loop: 100%|██████████| 180/180 [00:03<00:00, 47.82it/s]\n"
     ]
    },
    {
     "name": "stdout",
     "output_type": "stream",
     "text": [
      "The average time is 4.16s. The detected result is [ 49  98 139]\n",
      "65/100th\n"
     ]
    },
    {
     "name": "stderr",
     "output_type": "stream",
     "text": [
      "Main Loop: 100%|██████████| 180/180 [00:03<00:00, 47.54it/s]\n"
     ]
    },
    {
     "name": "stdout",
     "output_type": "stream",
     "text": [
      "The average time is 4.16s. The detected result is [ 30  99 139 146]\n",
      "66/100th\n"
     ]
    },
    {
     "name": "stderr",
     "output_type": "stream",
     "text": [
      "Main Loop: 100%|██████████| 180/180 [00:04<00:00, 43.82it/s]\n"
     ]
    },
    {
     "name": "stdout",
     "output_type": "stream",
     "text": [
      "The average time is 4.16s. The detected result is [ 48  99 138 146]\n",
      "67/100th\n"
     ]
    },
    {
     "name": "stderr",
     "output_type": "stream",
     "text": [
      "Main Loop: 100%|██████████| 180/180 [00:03<00:00, 48.01it/s]\n"
     ]
    },
    {
     "name": "stdout",
     "output_type": "stream",
     "text": [
      "The average time is 4.16s. The detected result is [ 48  99 144]\n",
      "68/100th\n"
     ]
    },
    {
     "name": "stderr",
     "output_type": "stream",
     "text": [
      "Main Loop: 100%|██████████| 180/180 [00:03<00:00, 45.50it/s]\n"
     ]
    },
    {
     "name": "stdout",
     "output_type": "stream",
     "text": [
      "The average time is 4.16s. The detected result is [ 45  99 145]\n",
      "69/100th\n"
     ]
    },
    {
     "name": "stderr",
     "output_type": "stream",
     "text": [
      "Main Loop: 100%|██████████| 180/180 [00:03<00:00, 47.95it/s]\n"
     ]
    },
    {
     "name": "stdout",
     "output_type": "stream",
     "text": [
      "The average time is 4.16s. The detected result is [ 99 144]\n",
      "70/100th\n"
     ]
    },
    {
     "name": "stderr",
     "output_type": "stream",
     "text": [
      "Main Loop: 100%|██████████| 180/180 [00:03<00:00, 47.60it/s]\n"
     ]
    },
    {
     "name": "stdout",
     "output_type": "stream",
     "text": [
      "The average time is 4.16s. The detected result is [ 50  98 125 144]\n",
      "71/100th\n"
     ]
    },
    {
     "name": "stderr",
     "output_type": "stream",
     "text": [
      "Main Loop: 100%|██████████| 180/180 [00:03<00:00, 47.44it/s]\n"
     ]
    },
    {
     "name": "stdout",
     "output_type": "stream",
     "text": [
      "The average time is 4.16s. The detected result is [ 49  98 145]\n",
      "72/100th\n"
     ]
    },
    {
     "name": "stderr",
     "output_type": "stream",
     "text": [
      "Main Loop: 100%|██████████| 180/180 [00:03<00:00, 47.91it/s]\n"
     ]
    },
    {
     "name": "stdout",
     "output_type": "stream",
     "text": [
      "The average time is 4.16s. The detected result is [ 25  98 145]\n",
      "73/100th\n"
     ]
    },
    {
     "name": "stderr",
     "output_type": "stream",
     "text": [
      "Main Loop: 100%|██████████| 180/180 [00:03<00:00, 47.32it/s]\n"
     ]
    },
    {
     "name": "stdout",
     "output_type": "stream",
     "text": [
      "The average time is 4.16s. The detected result is [ 49  99 145]\n",
      "74/100th\n"
     ]
    },
    {
     "name": "stderr",
     "output_type": "stream",
     "text": [
      "Main Loop: 100%|██████████| 180/180 [00:03<00:00, 48.33it/s]\n"
     ]
    },
    {
     "name": "stdout",
     "output_type": "stream",
     "text": [
      "The average time is 4.16s. The detected result is [ 48  97 144]\n",
      "75/100th\n"
     ]
    },
    {
     "name": "stderr",
     "output_type": "stream",
     "text": [
      "Main Loop: 100%|██████████| 180/180 [00:03<00:00, 47.32it/s]\n"
     ]
    },
    {
     "name": "stdout",
     "output_type": "stream",
     "text": [
      "The average time is 4.16s. The detected result is [ 49  99 144]\n",
      "76/100th\n"
     ]
    },
    {
     "name": "stderr",
     "output_type": "stream",
     "text": [
      "Main Loop: 100%|██████████| 180/180 [00:03<00:00, 48.94it/s]\n"
     ]
    },
    {
     "name": "stdout",
     "output_type": "stream",
     "text": [
      "The average time is 4.16s. The detected result is [ 48  98 145]\n",
      "77/100th\n"
     ]
    },
    {
     "name": "stderr",
     "output_type": "stream",
     "text": [
      "Main Loop: 100%|██████████| 180/180 [00:03<00:00, 47.55it/s]\n"
     ]
    },
    {
     "name": "stdout",
     "output_type": "stream",
     "text": [
      "The average time is 4.16s. The detected result is [ 48  98 141 173]\n",
      "78/100th\n"
     ]
    },
    {
     "name": "stderr",
     "output_type": "stream",
     "text": [
      "Main Loop: 100%|██████████| 180/180 [00:04<00:00, 43.89it/s]\n"
     ]
    },
    {
     "name": "stdout",
     "output_type": "stream",
     "text": [
      "The average time is 4.16s. The detected result is [ 50  99 142 171]\n",
      "79/100th\n"
     ]
    },
    {
     "name": "stderr",
     "output_type": "stream",
     "text": [
      "Main Loop: 100%|██████████| 180/180 [00:03<00:00, 47.81it/s]\n"
     ]
    },
    {
     "name": "stdout",
     "output_type": "stream",
     "text": [
      "The average time is 4.16s. The detected result is [ 48  99 145]\n",
      "80/100th\n"
     ]
    },
    {
     "name": "stderr",
     "output_type": "stream",
     "text": [
      "Main Loop: 100%|██████████| 180/180 [00:03<00:00, 47.21it/s]\n"
     ]
    },
    {
     "name": "stdout",
     "output_type": "stream",
     "text": [
      "The average time is 4.16s. The detected result is [ 47  96 144]\n",
      "81/100th\n"
     ]
    },
    {
     "name": "stderr",
     "output_type": "stream",
     "text": [
      "Main Loop: 100%|██████████| 180/180 [00:03<00:00, 48.02it/s]\n"
     ]
    },
    {
     "name": "stdout",
     "output_type": "stream",
     "text": [
      "The average time is 4.16s. The detected result is [ 46  99 144]\n",
      "82/100th\n"
     ]
    },
    {
     "name": "stderr",
     "output_type": "stream",
     "text": [
      "Main Loop: 100%|██████████| 180/180 [00:03<00:00, 47.68it/s]\n"
     ]
    },
    {
     "name": "stdout",
     "output_type": "stream",
     "text": [
      "The average time is 4.16s. The detected result is [ 46  97 144]\n",
      "83/100th\n"
     ]
    },
    {
     "name": "stderr",
     "output_type": "stream",
     "text": [
      "Main Loop: 100%|██████████| 180/180 [00:03<00:00, 47.63it/s]\n"
     ]
    },
    {
     "name": "stdout",
     "output_type": "stream",
     "text": [
      "The average time is 4.16s. The detected result is [ 50  99 144]\n",
      "84/100th\n"
     ]
    },
    {
     "name": "stderr",
     "output_type": "stream",
     "text": [
      "Main Loop: 100%|██████████| 180/180 [00:03<00:00, 47.59it/s]\n"
     ]
    },
    {
     "name": "stdout",
     "output_type": "stream",
     "text": [
      "The average time is 4.16s. The detected result is [ 44  99 143 170]\n",
      "85/100th\n"
     ]
    },
    {
     "name": "stderr",
     "output_type": "stream",
     "text": [
      "Main Loop: 100%|██████████| 180/180 [00:03<00:00, 47.81it/s]\n"
     ]
    },
    {
     "name": "stdout",
     "output_type": "stream",
     "text": [
      "The average time is 4.16s. The detected result is [ 48  99 145]\n",
      "86/100th\n"
     ]
    },
    {
     "name": "stderr",
     "output_type": "stream",
     "text": [
      "Main Loop: 100%|██████████| 180/180 [00:03<00:00, 47.85it/s]\n"
     ]
    },
    {
     "name": "stdout",
     "output_type": "stream",
     "text": [
      "The average time is 4.16s. The detected result is [ 47  97 144]\n",
      "87/100th\n"
     ]
    },
    {
     "name": "stderr",
     "output_type": "stream",
     "text": [
      "Main Loop: 100%|██████████| 180/180 [00:03<00:00, 48.34it/s]\n"
     ]
    },
    {
     "name": "stdout",
     "output_type": "stream",
     "text": [
      "The average time is 4.16s. The detected result is [ 50  95 144]\n",
      "88/100th\n"
     ]
    },
    {
     "name": "stderr",
     "output_type": "stream",
     "text": [
      "Main Loop: 100%|██████████| 180/180 [00:03<00:00, 47.48it/s]\n"
     ]
    },
    {
     "name": "stdout",
     "output_type": "stream",
     "text": [
      "The average time is 4.16s. The detected result is [ 49 100 144]\n",
      "89/100th\n"
     ]
    },
    {
     "name": "stderr",
     "output_type": "stream",
     "text": [
      "Main Loop: 100%|██████████| 180/180 [00:03<00:00, 48.37it/s]\n"
     ]
    },
    {
     "name": "stdout",
     "output_type": "stream",
     "text": [
      "The average time is 4.16s. The detected result is [ 31  99 145]\n",
      "90/100th\n"
     ]
    },
    {
     "name": "stderr",
     "output_type": "stream",
     "text": [
      "Main Loop: 100%|██████████| 180/180 [00:03<00:00, 47.94it/s]\n"
     ]
    },
    {
     "name": "stdout",
     "output_type": "stream",
     "text": [
      "The average time is 4.16s. The detected result is [ 49  98 142 168]\n",
      "91/100th\n"
     ]
    },
    {
     "name": "stderr",
     "output_type": "stream",
     "text": [
      "Main Loop: 100%|██████████| 180/180 [00:03<00:00, 47.63it/s]\n"
     ]
    },
    {
     "name": "stdout",
     "output_type": "stream",
     "text": [
      "The average time is 4.16s. The detected result is [100 142 172]\n",
      "92/100th\n"
     ]
    },
    {
     "name": "stderr",
     "output_type": "stream",
     "text": [
      "Main Loop: 100%|██████████| 180/180 [00:03<00:00, 47.88it/s]\n"
     ]
    },
    {
     "name": "stdout",
     "output_type": "stream",
     "text": [
      "The average time is 4.16s. The detected result is [ 13  51  99 144]\n",
      "93/100th\n"
     ]
    },
    {
     "name": "stderr",
     "output_type": "stream",
     "text": [
      "Main Loop: 100%|██████████| 180/180 [00:03<00:00, 47.43it/s]\n"
     ]
    },
    {
     "name": "stdout",
     "output_type": "stream",
     "text": [
      "The average time is 4.16s. The detected result is [ 48  98 145]\n",
      "94/100th\n"
     ]
    },
    {
     "name": "stderr",
     "output_type": "stream",
     "text": [
      "Main Loop: 100%|██████████| 180/180 [00:03<00:00, 48.02it/s]\n"
     ]
    },
    {
     "name": "stdout",
     "output_type": "stream",
     "text": [
      "The average time is 4.16s. The detected result is [ 48  99 137]\n",
      "95/100th\n"
     ]
    },
    {
     "name": "stderr",
     "output_type": "stream",
     "text": [
      "Main Loop: 100%|██████████| 180/180 [00:03<00:00, 48.14it/s]\n"
     ]
    },
    {
     "name": "stdout",
     "output_type": "stream",
     "text": [
      "The average time is 4.16s. The detected result is [ 49  98 144]\n",
      "96/100th\n"
     ]
    },
    {
     "name": "stderr",
     "output_type": "stream",
     "text": [
      "Main Loop: 100%|██████████| 180/180 [00:03<00:00, 47.96it/s]\n"
     ]
    },
    {
     "name": "stdout",
     "output_type": "stream",
     "text": [
      "The average time is 4.16s. The detected result is [ 46  97 145]\n",
      "97/100th\n"
     ]
    },
    {
     "name": "stderr",
     "output_type": "stream",
     "text": [
      "Main Loop: 100%|██████████| 180/180 [00:03<00:00, 47.54it/s]\n"
     ]
    },
    {
     "name": "stdout",
     "output_type": "stream",
     "text": [
      "The average time is 4.16s. The detected result is [ 50  98 142]\n",
      "98/100th\n"
     ]
    },
    {
     "name": "stderr",
     "output_type": "stream",
     "text": [
      "Main Loop: 100%|██████████| 180/180 [00:03<00:00, 47.38it/s]\n"
     ]
    },
    {
     "name": "stdout",
     "output_type": "stream",
     "text": [
      "The average time is 4.16s. The detected result is [ 92 144]\n",
      "99/100th\n"
     ]
    },
    {
     "name": "stderr",
     "output_type": "stream",
     "text": [
      "Main Loop: 100%|██████████| 180/180 [00:03<00:00, 48.54it/s]\n"
     ]
    },
    {
     "name": "stdout",
     "output_type": "stream",
     "text": [
      "The average time is 4.16s. The detected result is [ 49  94 142 162]\n",
      "100/100th\n"
     ]
    },
    {
     "name": "stderr",
     "output_type": "stream",
     "text": [
      "Main Loop: 100%|██████████| 180/180 [00:03<00:00, 48.20it/s]"
     ]
    },
    {
     "name": "stdout",
     "output_type": "stream",
     "text": [
      "The average time is 4.15s. The detected result is [ 49  96 119 144]\n"
     ]
    },
    {
     "name": "stderr",
     "output_type": "stream",
     "text": [
      "\n"
     ]
    }
   ],
   "source": [
    "t0 = Time()\n",
    "for i in range(100):\n",
    "    print(f\"{i+1}/{100}th\")\n",
    "    Ymat = np.array(robj.r[\"datamatrix\"][i])\n",
    "    TrueXmat = np.array(robj.r[\"truematrix\"][i])\n",
    "    d, n = Ymat.shape\n",
    "    time = np.linspace(0, 2, n)\n",
    "    dXmat, Xmat = GetBsplienEst(Ymat, time)\n",
    "    Amat = GetAmat(dXmat, Xmat, time, 4)\n",
    "    midRes = GetNewEst(dXmat, Xmat, Amat, r=r, is_full=True)\n",
    "    ndXmat, nXmat = midRes.ndXmat, midRes.nXmat\n",
    "    finalRes = EGenDy(ndXmat, nXmat, kappa=kappa, Lmin=Lmin, MaxM=10, diag=True)\n",
    "    tc = Time()\n",
    "    print(f\"The average time is {(tc-t0)/(i+1):.2f}s. The detected result is {finalRes.mbic_ecpts}\")\n",
    "    \n",
    "    # Save the result\n",
    "    result = edict()\n",
    "    result.midRes = midRes\n",
    "    result.finalRes = finalRes\n",
    "    result.Amat = Amat\n",
    "    result.Ymat = Ymat\n",
    "    result.TrueXmat = TrueXmat \n",
    "    result.paras = {\"kappa\":kappa, \"r\":r, \"Lmin\":Lmin}\n",
    "    results.append(result)"
   ]
  },
  {
   "cell_type": "code",
   "execution_count": 12,
   "metadata": {},
   "outputs": [],
   "source": [
    "with open(f\"./results/simu100.pkl\", \"wb\") as f:\n",
    "    pickle.dump(results, f)"
   ]
  },
  {
   "cell_type": "code",
   "execution_count": 13,
   "metadata": {},
   "outputs": [],
   "source": [
    "with open(f\"./results/simu100.pkl\", \"rb\") as f:\n",
    "    results = pickle.load(f)"
   ]
  },
  {
   "cell_type": "markdown",
   "metadata": {},
   "source": [
    "### Plot the change points and the MBIC"
   ]
  },
  {
   "cell_type": "code",
   "execution_count": 56,
   "metadata": {},
   "outputs": [],
   "source": [
    "# obtain the change points for 100 simulations\n",
    "chgptss = [result.finalRes.mbic_ecpts for result in results]\n",
    "#chgptss = [result.finalRes.chgMat[2, :3] for result in results]"
   ]
  },
  {
   "cell_type": "code",
   "execution_count": 57,
   "metadata": {},
   "outputs": [
    {
     "data": {
      "text/plain": [
       "<matplotlib.lines.Line2D at 0x7fc16713a240>"
      ]
     },
     "execution_count": 57,
     "metadata": {},
     "output_type": "execute_result"
    },
    {
     "data": {
      "image/png": "[encoded data removed]",
      "text/plain": [
       "<Figure size 432x288 with 1 Axes>"
      ]
     },
     "metadata": {
      "needs_background": "light"
     },
     "output_type": "display_data"
    }
   ],
   "source": [
    "simuIdx = []\n",
    "pos = []\n",
    "for idx, chgpts in enumerate(chgptss):\n",
    "    pos += list(chgpts)\n",
    "    simuIdx += ([idx+1]*len(chgpts))\n",
    "plt.plot(pos, simuIdx, \".\", color=\"red\")\n",
    "plt.xlim([0, 180])\n",
    "plt.xticks([50, 99, 144], [50, 99, 144])\n",
    "plt.axvline([50], color=\"black\")\n",
    "plt.axvline([99], color=\"black\")\n",
    "plt.axvline([144], color=\"black\")"
   ]
  },
  {
   "cell_type": "code",
   "execution_count": 49,
   "metadata": {},
   "outputs": [
    {
     "data": {
      "image/png": "[encoded data removed]",
      "text/plain": [
       "<Figure size 432x288 with 1 Axes>"
      ]
     },
     "metadata": {
      "needs_background": "light"
     },
     "output_type": "display_data"
    }
   ],
   "source": [
    "mbicss = [result.finalRes.U for result in results]\n",
    "mbicss = np.array(mbicss)\n",
    "plt.boxplot(mbicss)\n",
    "plt.xlabel(\"num of change points\")\n",
    "_ = plt.xticks(list(range(1, 12)), list(range(11)))"
   ]
  },
  {
   "cell_type": "code",
   "execution_count": 50,
   "metadata": {},
   "outputs": [
    {
     "data": {
      "text/plain": [
       "[array([ 27,  99, 144]),\n",
       " array([ 49,  97, 143]),\n",
       " array([ 46, 100, 144]),\n",
       " array([ 49,  98, 130, 144]),\n",
       " array([ 51, 100, 143]),\n",
       " array([ 50,  98, 143]),\n",
       " array([ 45,  99, 140]),\n",
       " array([ 49, 100, 144]),\n",
       " array([ 48,  99, 142, 166]),\n",
       " array([ 47,  97, 120, 144]),\n",
       " array([ 49,  99, 141, 148]),\n",
       " array([ 48,  98, 144]),\n",
       " array([ 49,  99, 143]),\n",
       " array([ 42,  99, 143]),\n",
       " array([ 98, 144]),\n",
       " array([ 48,  98, 146]),\n",
       " array([ 50,  98, 139]),\n",
       " array([ 46,  96, 145]),\n",
       " array([ 31, 101, 144]),\n",
       " array([ 48,  98, 145, 154]),\n",
       " array([ 30,  97, 141]),\n",
       " array([ 13,  99, 142, 166]),\n",
       " array([ 49,  97, 144]),\n",
       " array([ 49,  95, 145]),\n",
       " array([ 45,  93, 144]),\n",
       " array([ 49,  97, 145]),\n",
       " array([ 51,  96, 143]),\n",
       " array([ 49,  97, 143]),\n",
       " array([ 45,  97, 145]),\n",
       " array([ 21,  98, 144]),\n",
       " array([ 51,  99, 144]),\n",
       " array([ 89, 128, 146]),\n",
       " array([ 45, 100, 143, 162]),\n",
       " array([ 47, 101, 145]),\n",
       " array([ 98, 143]),\n",
       " array([ 44,  98, 142, 168]),\n",
       " array([ 48,  99, 146]),\n",
       " array([ 49,  98, 141]),\n",
       " array([ 49,  99, 145]),\n",
       " array([ 49,  99, 143]),\n",
       " array([ 20,  52, 100, 145]),\n",
       " array([ 49, 100, 142]),\n",
       " array([ 46,  98, 142]),\n",
       " array([ 50,  98, 142]),\n",
       " array([ 47, 100, 144]),\n",
       " array([ 47,  97, 144]),\n",
       " array([ 26,  99, 145]),\n",
       " array([ 50,  97, 145]),\n",
       " array([100, 132, 144]),\n",
       " array([ 49, 100, 143]),\n",
       " array([ 49,  99, 141]),\n",
       " array([ 46,  97, 142]),\n",
       " array([ 50,  97, 135, 144]),\n",
       " array([ 15,  48,  98, 143]),\n",
       " array([ 47,  96, 144]),\n",
       " array([ 47,  99, 144]),\n",
       " array([ 42, 100, 144]),\n",
       " array([ 52,  97, 145]),\n",
       " array([ 29,  99, 145]),\n",
       " array([ 51,  95, 144]),\n",
       " array([ 50,  97, 142, 168]),\n",
       " array([ 50,  99, 116, 145]),\n",
       " array([ 47, 100, 142]),\n",
       " array([ 49,  98, 139]),\n",
       " array([ 30,  99, 139, 146]),\n",
       " array([ 48,  99, 138, 146]),\n",
       " array([ 48,  99, 144]),\n",
       " array([ 45,  99, 145]),\n",
       " array([ 99, 144]),\n",
       " array([ 50,  98, 125, 144]),\n",
       " array([ 49,  98, 145]),\n",
       " array([ 25,  98, 145]),\n",
       " array([ 49,  99, 145]),\n",
       " array([ 48,  97, 144]),\n",
       " array([ 49,  99, 144]),\n",
       " array([ 48,  98, 145]),\n",
       " array([ 48,  98, 141, 173]),\n",
       " array([ 50,  99, 142, 171]),\n",
       " array([ 48,  99, 145]),\n",
       " array([ 47,  96, 144]),\n",
       " array([ 46,  99, 144]),\n",
       " array([ 46,  97, 144]),\n",
       " array([ 50,  99, 144]),\n",
       " array([ 44,  99, 143, 170]),\n",
       " array([ 48,  99, 145]),\n",
       " array([ 47,  97, 144]),\n",
       " array([ 50,  95, 144]),\n",
       " array([ 49, 100, 144]),\n",
       " array([ 31,  99, 145]),\n",
       " array([ 49,  98, 142, 168]),\n",
       " array([100, 142, 172]),\n",
       " array([ 13,  51,  99, 144]),\n",
       " array([ 48,  98, 145]),\n",
       " array([ 48,  99, 137]),\n",
       " array([ 49,  98, 144]),\n",
       " array([ 46,  97, 145]),\n",
       " array([ 50,  98, 142]),\n",
       " array([ 92, 144]),\n",
       " array([ 49,  94, 142, 162]),\n",
       " array([ 49,  96, 119, 144])]"
      ]
     },
     "execution_count": 50,
     "metadata": {},
     "output_type": "execute_result"
    }
   ],
   "source": [
    "chgptss"
   ]
  },
  {
   "cell_type": "code",
   "execution_count": null,
   "metadata": {},
   "outputs": [],
   "source": []
  }
 ],
 "metadata": {
  "kernelspec": {
   "display_name": "Python 3",
   "language": "python",
   "name": "python3"
  },
  "language_info": {
   "codemirror_mode": {
    "name": "ipython",
    "version": 3
   },
   "file_extension": ".py",
   "mimetype": "text/x-python",
   "name": "python",
   "nbconvert_exporter": "python",
   "pygments_lexer": "ipython3",
   "version": "3.7.3"
  }
 },
 "nbformat": 4,
 "nbformat_minor": 2
}
