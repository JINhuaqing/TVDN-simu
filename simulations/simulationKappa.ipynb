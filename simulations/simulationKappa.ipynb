{
 "cells": [
  {
   "cell_type": "code",
   "execution_count": 1,
   "metadata": {},
   "outputs": [],
   "source": [
    "import numpy as np\n",
    "import numpy.random as npr\n",
    "import matplotlib.pyplot as plt\n",
    "import rpy2.robjects as robj\n",
    "import pyreadr\n",
    "%matplotlib inline\n",
    "from easydict import EasyDict as edict\n",
    "from tqdm import tqdm_notebook as tqdm\n",
    "import sys\n",
    "import time as Time\n",
    "import pickle\n",
    "from scipy.signal import detrend"
   ]
  },
  {
   "cell_type": "code",
   "execution_count": 2,
   "metadata": {},
   "outputs": [],
   "source": [
    "sys.path.append(\"/home/huaqingj/MyResearch/TVDN\")\n",
    "from pyTVDN.TVDNutils import *\n",
    "from pyTVDN import TVDNDetect"
   ]
  },
  {
   "cell_type": "code",
   "execution_count": 3,
   "metadata": {},
   "outputs": [
    {
     "data": {
      "text/html": [
       "\n",
       "        <span>StrVector with 4 elements.</span>\n",
       "        <table>\n",
       "        <tbody>\n",
       "          <tr>\n",
       "          \n",
       "            <td>\n",
       "            'datamatrix'\n",
       "            </td>\n",
       "          \n",
       "            <td>\n",
       "            'truematrix'\n",
       "            </td>\n",
       "          \n",
       "            <td>\n",
       "            'candlist0'\n",
       "            </td>\n",
       "          \n",
       "            <td>\n",
       "            'trueU'\n",
       "            </td>\n",
       "          \n",
       "          </tr>\n",
       "        </tbody>\n",
       "        </table>\n",
       "        "
      ],
      "text/plain": [
       "R object with classes: ('character',) mapped to:\n",
       "['datamatrix', 'truematrix', 'candlist0', 'trueU']"
      ]
     },
     "execution_count": 3,
     "metadata": {},
     "output_type": "execute_result"
    }
   ],
   "source": [
    "robj.r[\"load\"](\"/home/huaqingj/MyResearch/TVDN/data/datamatrix3chg6rank.Rdata\")"
   ]
  },
  {
   "cell_type": "code",
   "execution_count": 4,
   "metadata": {},
   "outputs": [],
   "source": [
    "from pprint import pprint\n",
    "import pickle\n",
    "from easydict import EasyDict as edict\n",
    "import warnings\n",
    "from pyTVDN.TVDNutils import *\n",
    "from pyTVDN.utils import in_notebook\n",
    "if in_notebook():\n",
    "    from tqdm import tqdm_notebook as tqdm\n",
    "else:\n",
    "    from tqdm import tqdm\n",
    "\n",
    "class TVDNDetect1(TVDNDetect):\n",
    "    def TuningKappaNew(self, kappas):\n",
    "        assert self.finalRes is not None, \"Run main function first!\"\n",
    "        \n",
    "        MaxM = self.paras.MaxM\n",
    "        U0 = self.finalRes.U0 \n",
    "        rAct, n = self.midRes.nXmat.shape\n",
    "        r = self.paras.r\n",
    "        Us = []\n",
    "        for kappac in kappas:\n",
    "            Us.append(U0 + 2*r*np.log(n)**kappac* (np.arange(1, MaxM+2)))\n",
    "        Us = np.array(Us)\n",
    "        numchgs = Us.argmin(axis=1)\n",
    "        self.numchgs = numchgs\n",
    "        argIdx = np.argmin(np.diff(numchgs)/np.diff(kappas))\n",
    "        \n",
    "        self.Us = Us\n",
    "        mUs = Us.min(axis=1)\n",
    "        argmU = np.argmin(mUs)\n",
    "        \n",
    "        chgsKappas = []\n",
    "        for numchg in numchgs:\n",
    "            chgsKappas.append(self.finalRes.chgMat[numchg-1, :numchg])\n",
    "        \n",
    "        res = edict()\n",
    "        res.kp1 = kappas[argIdx+1]\n",
    "        res.numChgs1 = numchgs[argIdx+1]\n",
    "        res.cpts1 = self.finalRes.chgMat[res.numChgs1-1, :res.numChgs1] \n",
    "        res.kp2 = kappas[argmU]\n",
    "        res.numChgs2 = numchgs[argmU]\n",
    "        res.cpts2 = self.finalRes.chgMat[res.numChgs2-1, :res.numChgs2] \n",
    "        res.chgsKappas = chgsKappas\n",
    "        \n",
    "        return res"
   ]
  },
  {
   "cell_type": "code",
   "execution_count": 5,
   "metadata": {},
   "outputs": [],
   "source": [
    "kappa = 1.53\n",
    "lamb = 1e-6\n",
    "r = 6 \n",
    "Lmin = 4"
   ]
  },
  {
   "cell_type": "code",
   "execution_count": 6,
   "metadata": {},
   "outputs": [],
   "source": [
    "Ymat = np.array(robj.r[\"datamatrix\"][0])"
   ]
  },
  {
   "cell_type": "code",
   "execution_count": 8,
   "metadata": {},
   "outputs": [
    {
     "name": "stdout",
     "output_type": "stream",
     "text": [
      "The parameters for detection are:\n",
      "{'Lmin': 4,\n",
      " 'MaxM': 20,\n",
      " 'T': 2,\n",
      " 'decimateRate': None,\n",
      " 'downRate': 4,\n",
      " 'fName': 'fMRI_HPF',\n",
      " 'fct': 1,\n",
      " 'freq': 0.5,\n",
      " 'is_detrend': True,\n",
      " 'kappa': 1.53,\n",
      " 'lamb': 1e-06,\n",
      " 'nbasis': 10,\n",
      " 'r': 6}\n"
     ]
    },
    {
     "data": {
      "application/vnd.jupyter.widget-view+json": {
       "model_id": "dd9f3c141dc04fa4af39a04b07c0111b",
       "version_major": 2,
       "version_minor": 0
      },
      "text/plain": [
       "HBox(children=(IntProgress(value=0, description='Dynamic Programming', max=180, style=ProgressStyle(descriptio…"
      ]
     },
     "metadata": {},
     "output_type": "display_data"
    },
    {
     "name": "stdout",
     "output_type": "stream",
     "text": [
      "\n"
     ]
    }
   ],
   "source": [
    "simuDet = TVDNDetect1(Ymat=Ymat,  saveDir=None, dataType=\"fMRI\", Lmin=Lmin, downRate=4, fct=1, T=2, MaxM=20, \n",
    "                        fName=\"fMRI_HPF\", r=r, kappa=kappa, freq=0.5, lamb=lamb,\n",
    "                          decimateRate=None, is_detrend=True)\n",
    "simuDet()\n",
    "kappas = np.arange(0.68, 4, 0.01)\n",
    "res = simuDet.TuningKappaNew(kappas)"
   ]
  },
  {
   "cell_type": "code",
   "execution_count": 9,
   "metadata": {},
   "outputs": [
    {
     "data": {
      "text/plain": [
       "array([ 27.,  77., 143.])"
      ]
     },
     "execution_count": 9,
     "metadata": {},
     "output_type": "execute_result"
    }
   ],
   "source": [
    "simuDet.finalRes.chgMat[2, :3]"
   ]
  },
  {
   "cell_type": "markdown",
   "metadata": {},
   "source": [
    "### Simulation for first two methods\n",
    "\n",
    "1. Method 1, maximize the $\\frac{y_i - y_{i-1}}{\\kappa_i - \\kappa_{i-1}}$.\n",
    "\n",
    "2. Method 2, minimize the MBIC. \n",
    "\n",
    "In fact, Method 2, is meaningless. Because fixed $\\kappa$, the MBIC has smallest value at maximal number of change points.\n",
    "And fixing the num of change points, the MBIC has smallest value at minimal $\\kappa$. So Method 2 also yields maximal num of change points and minimal $\\kappa$ (in my code, (20, 0.68))."
   ]
  },
  {
   "cell_type": "code",
   "execution_count": 43,
   "metadata": {},
   "outputs": [
    {
     "data": {
      "application/vnd.jupyter.widget-view+json": {
       "model_id": "6bd22a6dee364a33bcefc287187486f2",
       "version_major": 2,
       "version_minor": 0
      },
      "text/plain": [
       "HBox(children=(IntProgress(value=0), HTML(value='')))"
      ]
     },
     "metadata": {},
     "output_type": "display_data"
    },
    {
     "name": "stdout",
     "output_type": "stream",
     "text": [
      "\n"
     ]
    }
   ],
   "source": [
    "results1 = []\n",
    "results2 = []\n",
    "kappas = np.arange(0.68, 4, 0.01)\n",
    "for i in tqdm(range(100)):\n",
    "    Ymat = np.array(robj.r[\"datamatrix\"][i])\n",
    "    simuDet = TVDNDetect1(Ymat=Ymat,  saveDir=None, dataType=\"fMRI\", Lmin=Lmin, downRate=4, fct=0.5, T=2, MaxM=20, \n",
    "                        fName=\"fMRI_HPF\", r=r, kappa=kappa, freq=0.5, lamb=1e-8, showProgress=False, \n",
    "                          decimateRate=None, is_detrend=True)\n",
    "    simuDet()\n",
    "    res = simuDet.TuningKappaNew(kappas)\n",
    "    results1.append(res.cpts1)\n",
    "    results2.append(res.cpts2)"
   ]
  },
  {
   "cell_type": "markdown",
   "metadata": {},
   "source": [
    "### Plot the change points and the MBIC for first two methods"
   ]
  },
  {
   "cell_type": "code",
   "execution_count": 48,
   "metadata": {},
   "outputs": [
    {
     "data": {
      "image/png": "[encoded data removed]",
      "text/plain": [
       "<Figure size 720x720 with 4 Axes>"
      ]
     },
     "metadata": {
      "needs_background": "light"
     },
     "output_type": "display_data"
    }
   ],
   "source": [
    "plt.figure(figsize=[10, 10])\n",
    "\n",
    "plt.subplot(221)\n",
    "simuIdx = []\n",
    "pos = []\n",
    "for idx, chgpts in enumerate(results1):\n",
    "    pos += list(chgpts)\n",
    "    simuIdx += ([idx+1]*len(chgpts))\n",
    "plt.plot(pos, simuIdx, \".\", color=\"red\")\n",
    "plt.xlim([0, 180])\n",
    "plt.xticks([50, 99, 144], [50, 99, 144])\n",
    "plt.axvline([50], color=\"black\")\n",
    "plt.axvline([99], color=\"black\")\n",
    "plt.axvline([144], color=\"black\")\n",
    "\n",
    "plt.subplot(222)\n",
    "numchgs1 = [len(result) for result in results1]\n",
    "plt.hist(numchgs1)\n",
    "\n",
    "plt.subplot(223)\n",
    "simuIdx = []\n",
    "pos = []\n",
    "for idx, chgpts in enumerate(results2):\n",
    "    pos += list(chgpts)\n",
    "    simuIdx += ([idx+1]*len(chgpts))\n",
    "plt.plot(pos, simuIdx, \".\", color=\"red\")\n",
    "plt.xlim([0, 180])\n",
    "plt.xticks([50, 99, 144], [50, 99, 144])\n",
    "plt.axvline([50], color=\"black\")\n",
    "plt.axvline([99], color=\"black\")\n",
    "plt.axvline([144], color=\"black\")\n",
    "\n",
    "plt.subplot(224)\n",
    "numchgs2 = [len(result) for result in results2]\n",
    "_ = plt.hist(numchgs2)"
   ]
  },
  {
   "cell_type": "markdown",
   "metadata": {},
   "source": [
    "### Method 3\n",
    "\n",
    "1. Subsample from Ymat for 10 times\n",
    "2. Detection and get the estimated change point set\n",
    "3. For each $\\kappa$, obtain the hausdorff distance pairwise.\n",
    "4. Find the mean and variance of h-distances for each $\\kappa$."
   ]
  },
  {
   "cell_type": "code",
   "execution_count": 9,
   "metadata": {},
   "outputs": [],
   "source": [
    "kappas = np.arange(0.68, 4, 0.01)\n",
    "Ymat = np.array(robj.r[\"datamatrix\"][11])"
   ]
  },
  {
   "cell_type": "code",
   "execution_count": 10,
   "metadata": {},
   "outputs": [
    {
     "data": {
      "application/vnd.jupyter.widget-view+json": {
       "model_id": "df2620fc1ad94fb19222f7b384ae39d8",
       "version_major": 2,
       "version_minor": 0
      },
      "text/plain": [
       "HBox(children=(IntProgress(value=0, max=10), HTML(value='')))"
      ]
     },
     "metadata": {},
     "output_type": "display_data"
    },
    {
     "name": "stdout",
     "output_type": "stream",
     "text": [
      "\n"
     ]
    }
   ],
   "source": [
    "result = []\n",
    "for cvId in tqdm(range(10)):\n",
    "    delIdx = np.arange(0, 180, 10) + cvId\n",
    "    YmatNew = np.delete(Ymat, delIdx, axis=1)\n",
    "    simuDet = TVDNDetect1(Ymat=YmatNew,  saveDir=None, dataType=\"fMRI\", Lmin=Lmin, downRate=4, fct=0.5, T=2, MaxM=20, \n",
    "                        fName=\"fMRI_HPF\", r=r, kappa=kappa, freq=0.5, lamb=1e-8, showProgress=False, \n",
    "                          decimateRate=None, is_detrend=True)\n",
    "    simuDet()\n",
    "    res = simuDet.TuningKappaNew(kappas)\n",
    "    adjChgsKps = [(chgsKappa*10/9).astype(np.int) for chgsKappa in res.chgsKappas]\n",
    "    result.append(adjChgsKps)"
   ]
  },
  {
   "cell_type": "code",
   "execution_count": 11,
   "metadata": {},
   "outputs": [],
   "source": [
    "def dHdist(set1, set2, n=160):\n",
    "    set1 = np.array(set1)\n",
    "    set2 = np.array(set2)\n",
    "    if len(set2) == 0:\n",
    "        return 0\n",
    "    if len(set1) == 0:\n",
    "        return n\n",
    "    else:\n",
    "        absDiff = np.abs(set1.reshape(-1, 1) - set2.reshape(1, -1))\n",
    "        return absDiff.min(axis=0).max()"
   ]
  },
  {
   "cell_type": "code",
   "execution_count": 12,
   "metadata": {},
   "outputs": [],
   "source": [
    "def Hdist(set1, set2, n=160):\n",
    "    d1 = dHdist(set1, set2, n=n)\n",
    "    d2 = dHdist(set2, set1, n=n)\n",
    "    return np.max((d1, d2))"
   ]
  },
  {
   "cell_type": "code",
   "execution_count": 13,
   "metadata": {},
   "outputs": [],
   "source": [
    "hdistss = []\n",
    "for i in range(len(result[0])):\n",
    "    hdists = []\n",
    "    for j in range(10):\n",
    "        for k in range(j+1, 10):\n",
    "            hdists.append(Hdist(result[j][i], result[k][i]))\n",
    "    hdistss.append(hdists)"
   ]
  },
  {
   "cell_type": "code",
   "execution_count": 14,
   "metadata": {},
   "outputs": [],
   "source": [
    "hdistss = np.array(hdistss)"
   ]
  },
  {
   "cell_type": "code",
   "execution_count": 15,
   "metadata": {},
   "outputs": [],
   "source": [
    "mhdists = hdistss.mean(axis=1)\n",
    "vhdists = hdistss.var(axis=1)"
   ]
  },
  {
   "cell_type": "markdown",
   "metadata": {},
   "source": [
    "Method 3 can't obtain meaningful results. Because, the H-distance has minimal mean and variance at maximal penalty, i.e. when the num of change point is $0$ at each subsample of Ymat."
   ]
  },
  {
   "cell_type": "code",
   "execution_count": 16,
   "metadata": {},
   "outputs": [
    {
     "data": {
      "text/plain": [
       "Text(0, 0.5, 'Variance of hausdorff distances')"
      ]
     },
     "execution_count": 16,
     "metadata": {},
     "output_type": "execute_result"
    },
    {
     "data": {
      "image/png": "[encoded data removed]",
      "text/plain": [
       "<Figure size 720x360 with 2 Axes>"
      ]
     },
     "metadata": {
      "needs_background": "light"
     },
     "output_type": "display_data"
    }
   ],
   "source": [
    "plt.figure(figsize=[10, 5])\n",
    "\n",
    "plt.subplot(121)\n",
    "plt.plot(kappas, mhdists)\n",
    "plt.xlabel(r\"$\\kappa$\")\n",
    "plt.ylabel(\"Mean of hausdorff distances\")\n",
    "\n",
    "plt.subplot(122)\n",
    "plt.plot(kappas, vhdists)\n",
    "plt.xlabel(r\"$\\kappa$\")\n",
    "plt.ylabel(\"Variance of hausdorff distances\")"
   ]
  },
  {
   "cell_type": "code",
   "execution_count": null,
   "metadata": {},
   "outputs": [],
   "source": []
  }
 ],
 "metadata": {
  "kernelspec": {
   "display_name": "Python 3",
   "language": "python",
   "name": "python3"
  },
  "language_info": {
   "codemirror_mode": {
    "name": "ipython",
    "version": 3
   },
   "file_extension": ".py",
   "mimetype": "text/x-python",
   "name": "python",
   "nbconvert_exporter": "python",
   "pygments_lexer": "ipython3",
   "version": "3.7.3"
  }
 },
 "nbformat": 4,
 "nbformat_minor": 2
}
