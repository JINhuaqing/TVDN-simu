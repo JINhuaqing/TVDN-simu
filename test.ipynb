{
 "cells": [
  {
   "cell_type": "code",
   "execution_count": 1,
   "metadata": {},
   "outputs": [],
   "source": [
    "import numpy as np\n",
    "import numpy.random as npr\n",
    "import matplotlib.pyplot as plt\n",
    "import rpy2.robjects as robj\n",
    "import pyreadr\n",
    "from easydict import EasyDict as edict\n",
    "from tqdm import tqdm_notebook as tqdm\n",
    "import sys\n",
    "import time as Time\n",
    "import pickle\n",
    "from scipy.io import loadmat\n",
    "from scipy.signal import decimate, detrend\n",
    "import seaborn as sns\n",
    "%matplotlib inline"
   ]
  },
  {
   "cell_type": "code",
   "execution_count": 2,
   "metadata": {},
   "outputs": [],
   "source": [
    "sys.path.append(\"/home/huaqingj/MyResearch/dynamicR2py\")\n",
    "from utils import *"
   ]
  },
  {
   "cell_type": "code",
   "execution_count": 3,
   "metadata": {},
   "outputs": [],
   "source": [
    "MEG = loadmat(\"./data/subj2.mat\")[\"DK_timecourse\"]"
   ]
  },
  {
   "cell_type": "code",
   "execution_count": 4,
   "metadata": {},
   "outputs": [],
   "source": [
    "q = 10"
   ]
  },
  {
   "cell_type": "code",
   "execution_count": 5,
   "metadata": {},
   "outputs": [
    {
     "name": "stderr",
     "output_type": "stream",
     "text": [
      "R[write to console]: \n",
      "Attaching package: ‘signal’\n",
      "\n",
      "\n",
      "R[write to console]: The following objects are masked from ‘package:stats’:\n",
      "\n",
      "    filter, poly\n",
      "\n",
      "\n"
     ]
    }
   ],
   "source": [
    "MEGlist = []\n",
    "for i in range(MEG.shape[0]):\n",
    "    MEGlist.append(decimate_R(MEG[i, :], q))"
   ]
  },
  {
   "cell_type": "code",
   "execution_count": 6,
   "metadata": {},
   "outputs": [],
   "source": [
    "MEGarr = np.array(MEGlist)"
   ]
  },
  {
   "cell_type": "code",
   "execution_count": 8,
   "metadata": {},
   "outputs": [
    {
     "data": {
      "text/plain": [
       "array([[ -1011.71153893,  -2069.24763873,  -1891.61620176],\n",
       "       [ -5465.3075002 , -10931.59863181,  -9831.38733932],\n",
       "       [   483.90798049,   1056.44483281,    971.50477391]])"
      ]
     },
     "execution_count": 8,
     "metadata": {},
     "output_type": "execute_result"
    }
   ],
   "source": [
    "MEGarr[:3, :3]"
   ]
  },
  {
   "cell_type": "code",
   "execution_count": 15,
   "metadata": {},
   "outputs": [],
   "source": [
    "\n",
    "d, n = MEG.shape\n",
    "time = np.linspace(0, 2, n)"
   ]
  },
  {
   "cell_type": "code",
   "execution_count": 19,
   "metadata": {},
   "outputs": [],
   "source": [
    "dXmat, Xmat = GetBsplienEst(MEG, time, 1e-4)"
   ]
  },
  {
   "cell_type": "code",
   "execution_count": 21,
   "metadata": {},
   "outputs": [
    {
     "data": {
      "text/plain": [
       "array([[-1868.11691628, -1872.43086233, -1876.74474389],\n",
       "       [-9294.84883011, -9411.67463566, -9528.49844922],\n",
       "       [  980.22313476,   990.28081154,  1000.3383923 ]])"
      ]
     },
     "execution_count": 21,
     "metadata": {},
     "output_type": "execute_result"
    }
   ],
   "source": [
    "Xmat[:3, :3]"
   ]
  },
  {
   "cell_type": "code",
   "execution_count": 22,
   "metadata": {
    "tags": []
   },
   "outputs": [],
   "source": [
    "Amat = GetAmat(dXmat, Xmat, time, 20, fct=0.5)"
   ]
  },
  {
   "cell_type": "code",
   "execution_count": 23,
   "metadata": {},
   "outputs": [
    {
     "data": {
      "text/plain": [
       "array([[   8.79347264,   32.81815481,  -16.12558216],\n",
       "       [  74.53534255,  190.76560784, -101.57178903],\n",
       "       [  -6.34976214,   -7.93651025,    6.84432231]])"
      ]
     },
     "execution_count": 23,
     "metadata": {},
     "output_type": "execute_result"
    }
   ],
   "source": [
    "Amat[:3, :3]"
   ]
  },
  {
   "cell_type": "code",
   "execution_count": 27,
   "metadata": {
    "tags": []
   },
   "outputs": [],
   "source": [
    "Res = GetNewEst(dXmat, Xmat, Amat, r=8, is_full=True)\n",
    "ndXmat, nXmat = Res.ndXmat, Res.nXmat"
   ]
  },
  {
   "cell_type": "code",
   "execution_count": 31,
   "metadata": {},
   "outputs": [
    {
     "data": {
      "text/plain": [
       "array([[ 1.51289946e+05,  1.51294191e+05],\n",
       "       [ 1.87838545e+05,  1.87836760e+05],\n",
       "       [-3.90607548e+05, -3.90608227e+05],\n",
       "       [-1.07847556e+05, -1.07823116e+05],\n",
       "       [-3.60409157e+04, -3.60387509e+04],\n",
       "       [-1.05591356e+05, -1.05589349e+05],\n",
       "       [-1.26721274e+04, -1.26704279e+04],\n",
       "       [ 4.27743820e-10,  4.27729470e-10],\n",
       "       [ 7.79373510e+04,  7.79159854e+04],\n",
       "       [-2.02846785e-09, -2.02843273e-09]])"
      ]
     },
     "execution_count": 31,
     "metadata": {},
     "output_type": "execute_result"
    }
   ],
   "source": [
    "ndXmat[:, :2]"
   ]
  },
  {
   "cell_type": "code",
   "execution_count": 46,
   "metadata": {
    "tags": []
   },
   "outputs": [
    {
     "name": "stderr",
     "output_type": "stream",
     "text": [
      "Main Loop: 100%|██████████| 180/180 [00:02<00:00, 61.57it/s]\n"
     ]
    }
   ],
   "source": [
    "res = EGenDy(ndXmat, nXmat, kappa=1.2, Lmin=18, MaxM=15, diag=True)"
   ]
  },
  {
   "cell_type": "code",
   "execution_count": 47,
   "metadata": {},
   "outputs": [],
   "source": [
    "chg3 = res.chgMat[2, :]\n",
    "chg3 = chg3[chg3!=np.inf]\n",
    "tStep = np.diff(time)[0]"
   ]
  },
  {
   "cell_type": "code",
   "execution_count": 48,
   "metadata": {
    "tags": []
   },
   "outputs": [],
   "source": [
    "EstXmat = ReconXmat(chg3, ndXmat, nXmat, Res.kpidxs, Res.eigVecs, TrueXmat, tStep)"
   ]
  },
  {
   "cell_type": "code",
   "execution_count": 49,
   "metadata": {},
   "outputs": [
    {
     "data": {
      "text/plain": [
       "array([[ 0.00092553,  0.00094414,  0.00097186],\n",
       "       [-0.00296006, -0.00301639, -0.00306042],\n",
       "       [ 0.00107859,  0.00109312,  0.00113217]])"
      ]
     },
     "execution_count": 49,
     "metadata": {},
     "output_type": "execute_result"
    }
   ],
   "source": [
    "EstXmat[:3, :3]"
   ]
  },
  {
   "cell_type": "code",
   "execution_count": 4,
   "metadata": {},
   "outputs": [],
   "source": [
    "x = np.arange(10)"
   ]
  },
  {
   "cell_type": "code",
   "execution_count": 8,
   "metadata": {},
   "outputs": [
    {
     "data": {
      "text/plain": [
       "array([4, 5, 6, 7, 8])"
      ]
     },
     "execution_count": 8,
     "metadata": {},
     "output_type": "execute_result"
    }
   ],
   "source": [
    "np.where(x>4)[0]-1"
   ]
  }
 ],
 "metadata": {
  "kernelspec": {
   "display_name": "Python myStan",
   "language": "python",
   "name": "mystan"
  },
  "language_info": {
   "codemirror_mode": {
    "name": "ipython",
    "version": 3
   },
   "file_extension": ".py",
   "mimetype": "text/x-python",
   "name": "python",
   "nbconvert_exporter": "python",
   "pygments_lexer": "ipython3",
   "version": "3.7.3"
  }
 },
 "nbformat": 4,
 "nbformat_minor": 2
}
