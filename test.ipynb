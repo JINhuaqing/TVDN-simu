{
 "cells": [
  {
   "cell_type": "code",
   "execution_count": 1,
   "metadata": {},
   "outputs": [],
   "source": [
    "import numpy as np\n",
    "import numpy.random as npr\n",
    "import matplotlib.pyplot as plt\n",
    "import rpy2.robjects as robj\n",
    "import pyreadr\n",
    "%matplotlib inline\n",
    "from easydict import EasyDict as edict\n",
    "from tqdm import tqdm_notebook as tqdm\n",
    "import sys\n",
    "import time as Time"
   ]
  },
  {
   "cell_type": "code",
   "execution_count": 2,
   "metadata": {},
   "outputs": [],
   "source": [
    "sys.path.append(\"/home/huaqingj/MyResearch/dynamicR2py\")\n",
    "from utils import *"
   ]
  },
  {
   "cell_type": "code",
   "execution_count": 41,
   "metadata": {},
   "outputs": [],
   "source": [
    "robj.r[\"load\"](\"/home/huaqingj/MyResearch/dynamicR2py/datamatrix3chg6rank.Rdata\")\n",
    "Ymat = np.array(robj.r[\"datamatrix\"][0])\n",
    "TrueXmat = np.array(robj.r[\"truematrix\"][0])"
   ]
  },
  {
   "cell_type": "code",
   "execution_count": 42,
   "metadata": {},
   "outputs": [],
   "source": [
    "d, n = Ymat.shape\n",
    "time = np.linspace(0, 2, n)"
   ]
  },
  {
   "cell_type": "code",
   "execution_count": 43,
   "metadata": {},
   "outputs": [],
   "source": [
    "dXmat, Xmat = GetBsplienEst(Ymat, time)"
   ]
  },
  {
   "cell_type": "code",
   "execution_count": 44,
   "metadata": {
    "tags": []
   },
   "outputs": [],
   "source": [
    "Amat = GetAmat(dXmat, Xmat, time, 1)"
   ]
  },
  {
   "cell_type": "code",
   "execution_count": 45,
   "metadata": {
    "tags": []
   },
   "outputs": [],
   "source": [
    "Res = GetNewEst(dXmat, Xmat, Amat, r=4, is_full=True)\n",
    "ndXmat, nXmat = Res.ndXmat, Res.nXmat"
   ]
  },
  {
   "cell_type": "code",
   "execution_count": 46,
   "metadata": {
    "tags": []
   },
   "outputs": [
    {
     "name": "stderr",
     "output_type": "stream",
     "text": [
      "Main Loop: 100%|██████████| 180/180 [00:02<00:00, 61.57it/s]\n"
     ]
    }
   ],
   "source": [
    "res = EGenDy(ndXmat, nXmat, kappa=1.2, Lmin=18, MaxM=15, diag=True)"
   ]
  },
  {
   "cell_type": "code",
   "execution_count": 47,
   "metadata": {},
   "outputs": [],
   "source": [
    "chg3 = res.chgMat[2, :]\n",
    "chg3 = chg3[chg3!=np.inf]\n",
    "tStep = np.diff(time)[0]"
   ]
  },
  {
   "cell_type": "code",
   "execution_count": 48,
   "metadata": {
    "tags": []
   },
   "outputs": [],
   "source": [
    "EstXmat = ReconXmat(chg3, ndXmat, nXmat, Res.kpidxs, Res.eigVecs, TrueXmat, tStep)"
   ]
  },
  {
   "cell_type": "code",
   "execution_count": 49,
   "metadata": {},
   "outputs": [
    {
     "data": {
      "text/plain": [
       "array([[ 0.00092553,  0.00094414,  0.00097186],\n",
       "       [-0.00296006, -0.00301639, -0.00306042],\n",
       "       [ 0.00107859,  0.00109312,  0.00113217]])"
      ]
     },
     "execution_count": 49,
     "metadata": {},
     "output_type": "execute_result"
    }
   ],
   "source": [
    "EstXmat[:3, :3]"
   ]
  },
  {
   "cell_type": "code",
   "execution_count": 4,
   "metadata": {},
   "outputs": [],
   "source": [
    "x = np.arange(10)"
   ]
  },
  {
   "cell_type": "code",
   "execution_count": 8,
   "metadata": {},
   "outputs": [
    {
     "data": {
      "text/plain": [
       "array([4, 5, 6, 7, 8])"
      ]
     },
     "execution_count": 8,
     "metadata": {},
     "output_type": "execute_result"
    }
   ],
   "source": [
    "np.where(x>4)[0]-1"
   ]
  },
  {
   "cell_type": "code",
   "execution_count": null,
   "metadata": {},
   "outputs": [],
   "source": []
  }
 ],
 "metadata": {
  "kernelspec": {
   "display_name": "Python myStan",
   "language": "python",
   "name": "mystan"
  },
  "language_info": {
   "codemirror_mode": {
    "name": "ipython",
    "version": 3
   },
   "file_extension": ".py",
   "mimetype": "text/x-python",
   "name": "python",
   "nbconvert_exporter": "python",
   "pygments_lexer": "ipython3",
   "version": "3.7.3"
  }
 },
 "nbformat": 4,
 "nbformat_minor": 2
}
